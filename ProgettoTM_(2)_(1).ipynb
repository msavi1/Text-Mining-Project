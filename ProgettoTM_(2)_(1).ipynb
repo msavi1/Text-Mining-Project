{
  "nbformat": 4,
  "nbformat_minor": 0,
  "metadata": {
    "colab": {
      "name": "ProgettoTM_(2) (1).ipynb",
      "provenance": [],
      "collapsed_sections": []
    },
    "kernelspec": {
      "name": "python3",
      "display_name": "Python 3"
    }
  },
  "cells": [
    {
      "cell_type": "markdown",
      "metadata": {
        "id": "3bidszXiQr-R",
        "colab_type": "text"
      },
      "source": [
        "# **TEXT MINING PROJECT**: 20 NEWS GROUP CLASSIFICATION  \n",
        "\n",
        "Antonella Zaccaria  \n",
        "Marco Savino"
      ]
    },
    {
      "cell_type": "markdown",
      "metadata": {
        "id": "BVnYN3ToCi4q",
        "colab_type": "text"
      },
      "source": [
        "**Pipeline**"
      ]
    },
    {
      "cell_type": "markdown",
      "metadata": {
        "id": "sCifhInoBqZM",
        "colab_type": "text"
      },
      "source": [
        "![picture](https://drive.google.com/uc?id=1nAJkGnNtoIbfOo7XdpTtSdep1bfyAavD)"
      ]
    },
    {
      "cell_type": "markdown",
      "metadata": {
        "id": "TId_UYMrRGN6",
        "colab_type": "text"
      },
      "source": [
        "Librerie utilizzate"
      ]
    },
    {
      "cell_type": "code",
      "metadata": {
        "id": "g7koe47O9Jl6",
        "colab_type": "code",
        "outputId": "24cefc25-7877-4851-f49d-b2262f8eb53a",
        "colab": {
          "base_uri": "https://localhost:8080/",
          "height": 136
        }
      },
      "source": [
        "import nltk\n",
        "nltk.download('wordnet')\n",
        "nltk.download('punkt') #serve per la tokenizzazione\n",
        "nltk.download('stopwords')"
      ],
      "execution_count": 0,
      "outputs": [
        {
          "output_type": "stream",
          "text": [
            "[nltk_data] Downloading package wordnet to /root/nltk_data...\n",
            "[nltk_data]   Package wordnet is already up-to-date!\n",
            "[nltk_data] Downloading package punkt to /root/nltk_data...\n",
            "[nltk_data]   Package punkt is already up-to-date!\n",
            "[nltk_data] Downloading package stopwords to /root/nltk_data...\n",
            "[nltk_data]   Package stopwords is already up-to-date!\n"
          ],
          "name": "stdout"
        },
        {
          "output_type": "execute_result",
          "data": {
            "text/plain": [
              "True"
            ]
          },
          "metadata": {
            "tags": []
          },
          "execution_count": 1
        }
      ]
    },
    {
      "cell_type": "code",
      "metadata": {
        "id": "LQ7srOrPRI4A",
        "colab_type": "code",
        "colab": {}
      },
      "source": [
        "from sklearn.datasets import fetch_20newsgroups\n",
        "\n",
        "import pandas as pd\n",
        "import re\n",
        "import seaborn as sns\n",
        "import matplotlib.pyplot as plt\n",
        "import sklearn\n",
        "\n",
        "from nltk.tokenize import sent_tokenize, word_tokenize\n",
        "from nltk.corpus import stopwords\n",
        "from nltk.stem import WordNetLemmatizer, PorterStemmer\n",
        "\n",
        "from sklearn import model_selection, preprocessing\n",
        "from sklearn.feature_extraction.text import TfidfVectorizer, CountVectorizer\n",
        "\n",
        "from sklearn.metrics import classification_report, confusion_matrix\n",
        "from sklearn.metrics import precision_score, recall_score, f1_score \n",
        "\n",
        "from sklearn.model_selection import cross_val_score\n",
        "\n",
        "from sklearn.naive_bayes import MultinomialNB\n",
        "from sklearn import svm\n",
        "from sklearn.ensemble import RandomForestClassifier\n",
        "import xgboost as xgb"
      ],
      "execution_count": 0,
      "outputs": []
    },
    {
      "cell_type": "markdown",
      "metadata": {
        "id": "MIpvKh96Q89D",
        "colab_type": "text"
      },
      "source": [
        "Carichiamo il dataset 20 News Group direttamente dal **sklearn** e lo salviamo in formato csv"
      ]
    },
    {
      "cell_type": "code",
      "metadata": {
        "id": "5I6ayR_aREZV",
        "colab_type": "code",
        "colab": {}
      },
      "source": [
        "def twenty_newsgroup_to_csv():\n",
        "    newsgroups = fetch_20newsgroups(subset = 'all', shuffle=True)\n",
        "\n",
        "    df = pd.DataFrame([newsgroups.data, newsgroups.target.tolist()]).T\n",
        "    df.columns = ['text', 'target']\n",
        "    targets = pd.DataFrame(newsgroups.target_names)\n",
        "    targets.columns=['title']\n",
        "\n",
        "    out = pd.merge(df, targets, left_on='target', right_index=True)\n",
        "    out.to_csv('20_news.csv')\n",
        "    \n",
        "  \n",
        "twenty_newsgroup_to_csv()"
      ],
      "execution_count": 0,
      "outputs": []
    },
    {
      "cell_type": "code",
      "metadata": {
        "id": "aTvus83jRkmp",
        "colab_type": "code",
        "colab": {}
      },
      "source": [
        "df = pd.read_csv('20_news.csv')"
      ],
      "execution_count": 0,
      "outputs": []
    },
    {
      "cell_type": "markdown",
      "metadata": {
        "id": "L7hieBcNSFtd",
        "colab_type": "text"
      },
      "source": [
        "Visualizziamo le prime righe del dataset"
      ]
    },
    {
      "cell_type": "code",
      "metadata": {
        "id": "EVfsbWJKRsoh",
        "colab_type": "code",
        "outputId": "74ebff06-81fb-4f98-840c-990b07c9c695",
        "colab": {
          "base_uri": "https://localhost:8080/",
          "height": 204
        }
      },
      "source": [
        "df.head()"
      ],
      "execution_count": 0,
      "outputs": [
        {
          "output_type": "execute_result",
          "data": {
            "text/html": [
              "<div>\n",
              "<style scoped>\n",
              "    .dataframe tbody tr th:only-of-type {\n",
              "        vertical-align: middle;\n",
              "    }\n",
              "\n",
              "    .dataframe tbody tr th {\n",
              "        vertical-align: top;\n",
              "    }\n",
              "\n",
              "    .dataframe thead th {\n",
              "        text-align: right;\n",
              "    }\n",
              "</style>\n",
              "<table border=\"1\" class=\"dataframe\">\n",
              "  <thead>\n",
              "    <tr style=\"text-align: right;\">\n",
              "      <th></th>\n",
              "      <th>Unnamed: 0</th>\n",
              "      <th>text</th>\n",
              "      <th>target</th>\n",
              "      <th>title</th>\n",
              "    </tr>\n",
              "  </thead>\n",
              "  <tbody>\n",
              "    <tr>\n",
              "      <th>0</th>\n",
              "      <td>0</td>\n",
              "      <td>From: Mamatha Devineni Ratnam &lt;mr47+@andrew.cm...</td>\n",
              "      <td>10</td>\n",
              "      <td>rec.sport.hockey</td>\n",
              "    </tr>\n",
              "    <tr>\n",
              "      <th>1</th>\n",
              "      <td>7</td>\n",
              "      <td>From: dchhabra@stpl.ists.ca (Deepak Chhabra)\\n...</td>\n",
              "      <td>10</td>\n",
              "      <td>rec.sport.hockey</td>\n",
              "    </tr>\n",
              "    <tr>\n",
              "      <th>2</th>\n",
              "      <td>8</td>\n",
              "      <td>From: dchhabra@stpl.ists.ca (Deepak Chhabra)\\n...</td>\n",
              "      <td>10</td>\n",
              "      <td>rec.sport.hockey</td>\n",
              "    </tr>\n",
              "    <tr>\n",
              "      <th>3</th>\n",
              "      <td>24</td>\n",
              "      <td>From: cs902043@ariel.yorku.ca (SHAWN LUDDINGTO...</td>\n",
              "      <td>10</td>\n",
              "      <td>rec.sport.hockey</td>\n",
              "    </tr>\n",
              "    <tr>\n",
              "      <th>4</th>\n",
              "      <td>44</td>\n",
              "      <td>From: gritter@cs.purdue.edu (Carl Gritter)\\nSu...</td>\n",
              "      <td>10</td>\n",
              "      <td>rec.sport.hockey</td>\n",
              "    </tr>\n",
              "  </tbody>\n",
              "</table>\n",
              "</div>"
            ],
            "text/plain": [
              "   Unnamed: 0  ...             title\n",
              "0           0  ...  rec.sport.hockey\n",
              "1           7  ...  rec.sport.hockey\n",
              "2           8  ...  rec.sport.hockey\n",
              "3          24  ...  rec.sport.hockey\n",
              "4          44  ...  rec.sport.hockey\n",
              "\n",
              "[5 rows x 4 columns]"
            ]
          },
          "metadata": {
            "tags": []
          },
          "execution_count": 5
        }
      ]
    },
    {
      "cell_type": "markdown",
      "metadata": {
        "id": "wDXIm1cBXgC7",
        "colab_type": "text"
      },
      "source": [
        "Eliminiamo la colonna **Unnamed: 0**"
      ]
    },
    {
      "cell_type": "code",
      "metadata": {
        "id": "edpchUbFXoBQ",
        "colab_type": "code",
        "colab": {}
      },
      "source": [
        "df = df.drop('Unnamed: 0', 1)"
      ],
      "execution_count": 0,
      "outputs": []
    },
    {
      "cell_type": "code",
      "metadata": {
        "id": "JcLhkoLyX0mP",
        "colab_type": "code",
        "outputId": "367a4b01-f3f1-45a9-cda7-3f7d0c42dbde",
        "colab": {
          "base_uri": "https://localhost:8080/",
          "height": 204
        }
      },
      "source": [
        "df.head()"
      ],
      "execution_count": 0,
      "outputs": [
        {
          "output_type": "execute_result",
          "data": {
            "text/html": [
              "<div>\n",
              "<style scoped>\n",
              "    .dataframe tbody tr th:only-of-type {\n",
              "        vertical-align: middle;\n",
              "    }\n",
              "\n",
              "    .dataframe tbody tr th {\n",
              "        vertical-align: top;\n",
              "    }\n",
              "\n",
              "    .dataframe thead th {\n",
              "        text-align: right;\n",
              "    }\n",
              "</style>\n",
              "<table border=\"1\" class=\"dataframe\">\n",
              "  <thead>\n",
              "    <tr style=\"text-align: right;\">\n",
              "      <th></th>\n",
              "      <th>text</th>\n",
              "      <th>target</th>\n",
              "      <th>title</th>\n",
              "    </tr>\n",
              "  </thead>\n",
              "  <tbody>\n",
              "    <tr>\n",
              "      <th>0</th>\n",
              "      <td>From: Mamatha Devineni Ratnam &lt;mr47+@andrew.cm...</td>\n",
              "      <td>10</td>\n",
              "      <td>rec.sport.hockey</td>\n",
              "    </tr>\n",
              "    <tr>\n",
              "      <th>1</th>\n",
              "      <td>From: dchhabra@stpl.ists.ca (Deepak Chhabra)\\n...</td>\n",
              "      <td>10</td>\n",
              "      <td>rec.sport.hockey</td>\n",
              "    </tr>\n",
              "    <tr>\n",
              "      <th>2</th>\n",
              "      <td>From: dchhabra@stpl.ists.ca (Deepak Chhabra)\\n...</td>\n",
              "      <td>10</td>\n",
              "      <td>rec.sport.hockey</td>\n",
              "    </tr>\n",
              "    <tr>\n",
              "      <th>3</th>\n",
              "      <td>From: cs902043@ariel.yorku.ca (SHAWN LUDDINGTO...</td>\n",
              "      <td>10</td>\n",
              "      <td>rec.sport.hockey</td>\n",
              "    </tr>\n",
              "    <tr>\n",
              "      <th>4</th>\n",
              "      <td>From: gritter@cs.purdue.edu (Carl Gritter)\\nSu...</td>\n",
              "      <td>10</td>\n",
              "      <td>rec.sport.hockey</td>\n",
              "    </tr>\n",
              "  </tbody>\n",
              "</table>\n",
              "</div>"
            ],
            "text/plain": [
              "                                                text  target             title\n",
              "0  From: Mamatha Devineni Ratnam <mr47+@andrew.cm...      10  rec.sport.hockey\n",
              "1  From: dchhabra@stpl.ists.ca (Deepak Chhabra)\\n...      10  rec.sport.hockey\n",
              "2  From: dchhabra@stpl.ists.ca (Deepak Chhabra)\\n...      10  rec.sport.hockey\n",
              "3  From: cs902043@ariel.yorku.ca (SHAWN LUDDINGTO...      10  rec.sport.hockey\n",
              "4  From: gritter@cs.purdue.edu (Carl Gritter)\\nSu...      10  rec.sport.hockey"
            ]
          },
          "metadata": {
            "tags": []
          },
          "execution_count": 7
        }
      ]
    },
    {
      "cell_type": "markdown",
      "metadata": {
        "id": "7dZlxCN9YFzj",
        "colab_type": "text"
      },
      "source": [
        "## **Data esploration**"
      ]
    },
    {
      "cell_type": "markdown",
      "metadata": {
        "id": "Zl0uci1bSLER",
        "colab_type": "text"
      },
      "source": [
        "Dimensione del dataset"
      ]
    },
    {
      "cell_type": "code",
      "metadata": {
        "id": "b5jSb5Y8SEzR",
        "colab_type": "code",
        "outputId": "48cc653a-470f-4d44-bfec-3a27bc9f03bd",
        "colab": {
          "base_uri": "https://localhost:8080/",
          "height": 34
        }
      },
      "source": [
        "df.shape"
      ],
      "execution_count": 0,
      "outputs": [
        {
          "output_type": "execute_result",
          "data": {
            "text/plain": [
              "(18846, 3)"
            ]
          },
          "metadata": {
            "tags": []
          },
          "execution_count": 8
        }
      ]
    },
    {
      "cell_type": "markdown",
      "metadata": {
        "id": "hwobk83tTInS",
        "colab_type": "text"
      },
      "source": [
        "Controlliamo se sono presenti **na**"
      ]
    },
    {
      "cell_type": "code",
      "metadata": {
        "id": "MH0lGOdVTIE0",
        "colab_type": "code",
        "outputId": "0aa8cdc2-dbf3-409a-faba-46e8441b622b",
        "colab": {
          "base_uri": "https://localhost:8080/",
          "height": 85
        }
      },
      "source": [
        "df.isnull().sum()"
      ],
      "execution_count": 0,
      "outputs": [
        {
          "output_type": "execute_result",
          "data": {
            "text/plain": [
              "text      0\n",
              "target    0\n",
              "title     0\n",
              "dtype: int64"
            ]
          },
          "metadata": {
            "tags": []
          },
          "execution_count": 9
        }
      ]
    },
    {
      "cell_type": "markdown",
      "metadata": {
        "id": "QdT7bYDVYmXQ",
        "colab_type": "text"
      },
      "source": [
        "Lista target"
      ]
    },
    {
      "cell_type": "code",
      "metadata": {
        "id": "zffHAtemYoKk",
        "colab_type": "code",
        "outputId": "c8792095-b7d9-40b9-e1be-47c9999ffa6a",
        "colab": {
          "base_uri": "https://localhost:8080/",
          "height": 119
        }
      },
      "source": [
        "print(df.title.unique())"
      ],
      "execution_count": 0,
      "outputs": [
        {
          "output_type": "stream",
          "text": [
            "['rec.sport.hockey' 'comp.sys.ibm.pc.hardware' 'talk.politics.mideast'\n",
            " 'comp.sys.mac.hardware' 'sci.electronics' 'talk.religion.misc'\n",
            " 'sci.crypt' 'sci.med' 'alt.atheism' 'rec.motorcycles' 'rec.autos'\n",
            " 'comp.windows.x' 'comp.graphics' 'sci.space' 'talk.politics.guns'\n",
            " 'misc.forsale' 'rec.sport.baseball' 'talk.politics.misc'\n",
            " 'comp.os.ms-windows.misc' 'soc.religion.christian']\n"
          ],
          "name": "stdout"
        }
      ]
    },
    {
      "cell_type": "code",
      "metadata": {
        "id": "8F-Plq9XZbov",
        "colab_type": "code",
        "outputId": "cf36b0e6-d108-4751-8b1b-015d6f9a09c6",
        "colab": {
          "base_uri": "https://localhost:8080/",
          "height": 34
        }
      },
      "source": [
        "print(df.target.unique())"
      ],
      "execution_count": 0,
      "outputs": [
        {
          "output_type": "stream",
          "text": [
            "[10  3 17  4 12 19 11 13  0  8  7  5  1 14 16  6  9 18  2 15]\n"
          ],
          "name": "stdout"
        }
      ]
    },
    {
      "cell_type": "markdown",
      "metadata": {
        "id": "aX2KisJmUx2W",
        "colab_type": "text"
      },
      "source": [
        "Controlliamo se le categorie (target) sono bilanciate"
      ]
    },
    {
      "cell_type": "code",
      "metadata": {
        "id": "JbWqmHmSU2_T",
        "colab_type": "code",
        "outputId": "f216d898-e013-4fb5-964e-0635afeffae5",
        "colab": {
          "base_uri": "https://localhost:8080/",
          "height": 337
        }
      },
      "source": [
        "count_target = df['target'].value_counts()\n",
        "\n",
        "plt.figure(figsize=(9,5))\n",
        "sns.barplot(count_target.index, count_target.values, alpha=0.8)\n",
        "plt.ylabel('Number of Occurrences', fontsize=12)\n",
        "plt.xlabel('Target', fontsize=12);"
      ],
      "execution_count": 0,
      "outputs": [
        {
          "output_type": "display_data",
          "data": {
            "image/png": "[encoded data removed]",
            "text/plain": [
              "<Figure size 648x360 with 1 Axes>"
            ]
          },
          "metadata": {
            "tags": []
          }
        }
      ]
    },
    {
      "cell_type": "markdown",
      "metadata": {
        "id": "aOuZ_xrfZkny",
        "colab_type": "text"
      },
      "source": [
        "## **Preprocessing**"
      ]
    },
    {
      "cell_type": "markdown",
      "metadata": {
        "id": "D7AZoSjmaHYI",
        "colab_type": "text"
      },
      "source": [
        "Per le operazioni di preprocessing creiamo una nuova colonna del DataFrame df chiamata **text_processed**, mantenendo la colonna del testo originale"
      ]
    },
    {
      "cell_type": "markdown",
      "metadata": {
        "id": "xb-2n4MJZ-O3",
        "colab_type": "text"
      },
      "source": [
        "**1.** Conversione del testo in minuscolo"
      ]
    },
    {
      "cell_type": "code",
      "metadata": {
        "id": "UUp6ln_MaqQ6",
        "colab_type": "code",
        "colab": {}
      },
      "source": [
        "df['text_processed'] = df['text'].map(lambda x: x.lower())"
      ],
      "execution_count": 0,
      "outputs": []
    },
    {
      "cell_type": "markdown",
      "metadata": {
        "id": "ZGR2HIuea9Xw",
        "colab_type": "text"
      },
      "source": [
        "**2.** Eliminazione indirizzi mail"
      ]
    },
    {
      "cell_type": "code",
      "metadata": {
        "id": "jbfqNcouawih",
        "colab_type": "code",
        "colab": {}
      },
      "source": [
        "df['text_processed'] = df['text_processed'].map(lambda x: re.sub('\\S*@\\S*\\s?',' ', x))"
      ],
      "execution_count": 0,
      "outputs": []
    },
    {
      "cell_type": "markdown",
      "metadata": {
        "id": "UI_FjJzVbMiT",
        "colab_type": "text"
      },
      "source": [
        "**3.** Eliminazione numeri"
      ]
    },
    {
      "cell_type": "code",
      "metadata": {
        "id": "vQH_WDP_bSmN",
        "colab_type": "code",
        "colab": {}
      },
      "source": [
        "df['text_processed'] = df['text_processed'].map(lambda x: re.sub('\\d+',' ', x))"
      ],
      "execution_count": 0,
      "outputs": []
    },
    {
      "cell_type": "markdown",
      "metadata": {
        "id": "yEBNozx6bb1F",
        "colab_type": "text"
      },
      "source": [
        "**4.** Eliminazione caratteri di punteggiatura"
      ]
    },
    {
      "cell_type": "code",
      "metadata": {
        "id": "iyI5Zq27ba5m",
        "colab_type": "code",
        "colab": {}
      },
      "source": [
        "df['text_processed'] = df['text_processed'].map(lambda x: re.sub(r'[^\\w]', ' ', x))"
      ],
      "execution_count": 0,
      "outputs": []
    },
    {
      "cell_type": "markdown",
      "metadata": {
        "id": "Em3KYCkLbpU5",
        "colab_type": "text"
      },
      "source": [
        "**5.** Rimozione parole composta da 1 e due lettere"
      ]
    },
    {
      "cell_type": "code",
      "metadata": {
        "id": "A5cSvJ3ebvt6",
        "colab_type": "code",
        "colab": {}
      },
      "source": [
        "df['text_processed'] = df['text_processed'].astype(str).map(lambda x: re.sub(r'\\b\\w{1,2}\\b', '', x))"
      ],
      "execution_count": 0,
      "outputs": []
    },
    {
      "cell_type": "markdown",
      "metadata": {
        "id": "k1yB1zfBb8cG",
        "colab_type": "text"
      },
      "source": [
        "**6.** Sistemazione degli spazi che si sono creati con le precedenti operazioni"
      ]
    },
    {
      "cell_type": "code",
      "metadata": {
        "id": "p30vPrw9cEXN",
        "colab_type": "code",
        "colab": {}
      },
      "source": [
        "df['text_processed'] = df['text_processed'].map(lambda x: re.sub(' +', ' ', x))"
      ],
      "execution_count": 0,
      "outputs": []
    },
    {
      "cell_type": "code",
      "metadata": {
        "id": "oiu4AiEGcKwt",
        "colab_type": "code",
        "colab": {}
      },
      "source": [
        "df['text_processed'] = df['text_processed'].map(lambda x: x.lstrip()) #rimozione spazi di inizio riga"
      ],
      "execution_count": 0,
      "outputs": []
    },
    {
      "cell_type": "code",
      "metadata": {
        "id": "WeeHSU7rcO43",
        "colab_type": "code",
        "colab": {}
      },
      "source": [
        "df['text_processed'] = df['text_processed'].map(lambda x: x.rstrip()) #rimozione spazi di fine riga"
      ],
      "execution_count": 0,
      "outputs": []
    },
    {
      "cell_type": "markdown",
      "metadata": {
        "id": "f00osYvhcZMg",
        "colab_type": "text"
      },
      "source": [
        "**7.** Tokenizzazione"
      ]
    },
    {
      "cell_type": "code",
      "metadata": {
        "id": "A6lbOMj5ch92",
        "colab_type": "code",
        "colab": {}
      },
      "source": [
        "df['text_processed'] = df['text_processed'].apply(lambda x: nltk.word_tokenize(x))"
      ],
      "execution_count": 0,
      "outputs": []
    },
    {
      "cell_type": "markdown",
      "metadata": {
        "id": "Pw_2TvPcc1p9",
        "colab_type": "text"
      },
      "source": [
        "**8.** Rimozione Stopwords"
      ]
    },
    {
      "cell_type": "code",
      "metadata": {
        "id": "RIlnrDNVdCWn",
        "colab_type": "code",
        "colab": {}
      },
      "source": [
        "#lista stop_words\n",
        "en_stopwords = stopwords.words ('english')"
      ],
      "execution_count": 0,
      "outputs": []
    },
    {
      "cell_type": "code",
      "metadata": {
        "id": "L2u7OEH7dJzD",
        "colab_type": "code",
        "outputId": "6f2c1f78-2cd1-4e6a-b993-47148fc2b7a2",
        "colab": {
          "base_uri": "https://localhost:8080/",
          "height": 34
        }
      },
      "source": [
        "#numero di stopwords\n",
        "len(en_stopwords)"
      ],
      "execution_count": 0,
      "outputs": [
        {
          "output_type": "execute_result",
          "data": {
            "text/plain": [
              "179"
            ]
          },
          "metadata": {
            "tags": []
          },
          "execution_count": 23
        }
      ]
    },
    {
      "cell_type": "code",
      "metadata": {
        "id": "gUSOnLYfdVTj",
        "colab_type": "code",
        "colab": {}
      },
      "source": [
        "df['text_processed'] = df['text_processed'].apply(lambda x: [item for item in x if item not in en_stopwords])"
      ],
      "execution_count": 0,
      "outputs": []
    },
    {
      "cell_type": "markdown",
      "metadata": {
        "id": "zhLrtgKfdu7S",
        "colab_type": "text"
      },
      "source": [
        "Per effettuare le operazioni di lemmatizzazione e stemming verranno create quattro nuove colonne (rispettivamente **text_processed_lem**,  **text_processed_stem_porter**, **text_processed_stem_snowball** e **text_processed_stem_lancaster**) in modo da tenere separate le operazioni di lem e stem"
      ]
    },
    {
      "cell_type": "markdown",
      "metadata": {
        "id": "CUev6KF-dnmM",
        "colab_type": "text"
      },
      "source": [
        "**9.** Lemmatizzazione  "
      ]
    },
    {
      "cell_type": "code",
      "metadata": {
        "id": "2PsJ91UReNuP",
        "colab_type": "code",
        "colab": {}
      },
      "source": [
        "lemmatizer = WordNetLemmatizer()"
      ],
      "execution_count": 0,
      "outputs": []
    },
    {
      "cell_type": "code",
      "metadata": {
        "id": "8Jt7HUFseb5H",
        "colab_type": "code",
        "colab": {}
      },
      "source": [
        "df['text_processed_lem'] = df['text_processed'].apply(lambda x: [lemmatizer.lemmatize(y) for y in x])"
      ],
      "execution_count": 0,
      "outputs": []
    },
    {
      "cell_type": "markdown",
      "metadata": {
        "id": "pnUiVEbTeouY",
        "colab_type": "text"
      },
      "source": [
        "**10.** Stemming"
      ]
    },
    {
      "cell_type": "markdown",
      "metadata": {
        "id": "z4bIAHp7-QHb",
        "colab_type": "text"
      },
      "source": [
        "**10.1** Porter Stemmer"
      ]
    },
    {
      "cell_type": "code",
      "metadata": {
        "id": "IrqO3_jqerN1",
        "colab_type": "code",
        "colab": {}
      },
      "source": [
        "ps = PorterStemmer()"
      ],
      "execution_count": 0,
      "outputs": []
    },
    {
      "cell_type": "code",
      "metadata": {
        "id": "C86b9ag-e188",
        "colab_type": "code",
        "colab": {}
      },
      "source": [
        "df['text_processed_stem_porter'] = df['text_processed'].apply(lambda x: [ps.stem(y) for y in x])"
      ],
      "execution_count": 0,
      "outputs": []
    },
    {
      "cell_type": "markdown",
      "metadata": {
        "id": "mNfWPcvi-ddR",
        "colab_type": "text"
      },
      "source": [
        "**10.2** Snowball Stemmer"
      ]
    },
    {
      "cell_type": "code",
      "metadata": {
        "id": "dbvSOKac-0LS",
        "colab_type": "code",
        "colab": {}
      },
      "source": [
        "from nltk.stem.snowball import SnowballStemmer"
      ],
      "execution_count": 0,
      "outputs": []
    },
    {
      "cell_type": "code",
      "metadata": {
        "id": "SVYrxLiV-6A_",
        "colab_type": "code",
        "colab": {}
      },
      "source": [
        "ss = SnowballStemmer(\"english\")"
      ],
      "execution_count": 0,
      "outputs": []
    },
    {
      "cell_type": "code",
      "metadata": {
        "id": "uc001Kg__CfU",
        "colab_type": "code",
        "colab": {}
      },
      "source": [
        "df['text_processed_stem_snowball'] = df['text_processed'].apply(lambda x: [ss.stem(y) for y in x])"
      ],
      "execution_count": 0,
      "outputs": []
    },
    {
      "cell_type": "markdown",
      "metadata": {
        "id": "2DG4IOud_IV_",
        "colab_type": "text"
      },
      "source": [
        "**10.3** Lancaster Stemmer"
      ]
    },
    {
      "cell_type": "code",
      "metadata": {
        "id": "OK3o_nwQ_ZZ7",
        "colab_type": "code",
        "colab": {}
      },
      "source": [
        "from nltk.stem import LancasterStemmer"
      ],
      "execution_count": 0,
      "outputs": []
    },
    {
      "cell_type": "code",
      "metadata": {
        "id": "-cwTgYBl_Zhk",
        "colab_type": "code",
        "colab": {}
      },
      "source": [
        "ls = LancasterStemmer()"
      ],
      "execution_count": 0,
      "outputs": []
    },
    {
      "cell_type": "code",
      "metadata": {
        "id": "LDXxLWzY_m9p",
        "colab_type": "code",
        "colab": {}
      },
      "source": [
        "df['text_processed_stem_lancaster'] = df['text_processed'].apply(lambda x: [ls.stem(y) for y in x])"
      ],
      "execution_count": 0,
      "outputs": []
    },
    {
      "cell_type": "markdown",
      "metadata": {
        "id": "aaCnIuOChty9",
        "colab_type": "text"
      },
      "source": [
        "Teminata la fase di preprocessing del testo suddividiamo il Dataset in **train set (70%)** e **test set (30%)** in modo da poter addestrare e testare il classificatore  \n",
        "\n",
        "**train_lem_x**: train set  di text_processed_lem  \n",
        "**train_lem_y**: target train set di text_processed_lem  \n",
        "**test_lem_x**: test set di text_processed_lem   \n",
        "**test_lem_y**: target test di text_processed_lem \n",
        "\n",
        "**train_stem_porter_x**: train set  di text_processed_stem_porter  \n",
        "**train_stem_porter_y**: target train set di text_processed_stem_porter    \n",
        "**test_stem_porter_x**: test set di text_processed_stem_porter     \n",
        "**test_stem_porter_y**: target test di text_processed_stem_porter  \n",
        "\n",
        "**train_stem_snowball_x**: train set  di text_processed_stem_snowball  \n",
        "**train_stem_porter_snowball_y**: target train set di text_processed_stem_snowball      \n",
        "**test_stem_porter_snowball_x**: test set di text_processed_stem_snowball       \n",
        "**test_stem_porter_snowball_y**: target test di text_processed_stem_snowball  \n",
        "\n",
        "**train_stem_lancaster_x**: train set  di text_processed_stem_lancaster    \n",
        "**train_stem_porter_lancaster_y**: target train set di text_processed_stem_lancaster        \n",
        "**test_stem_porter_lancaster_x**: test set di text_processed_stem_lancaster         \n",
        "**test_stem_porter_lancaster_y**: target test di text_processed_stem_lancaster  \n"
      ]
    },
    {
      "cell_type": "code",
      "metadata": {
        "id": "ZglTUv1XiGn4",
        "colab_type": "code",
        "colab": {}
      },
      "source": [
        "train_lem_x, test_lem_x, train_lem_y, test_lem_y = model_selection.train_test_split(df['text_processed_lem'], df['target'], \n",
        "                                                                                    train_size= 0.7, test_size= 0.3, \n",
        "                                                                                    random_state = 123, shuffle = True)"
      ],
      "execution_count": 0,
      "outputs": []
    },
    {
      "cell_type": "code",
      "metadata": {
        "id": "Tqg5PAUctHin",
        "colab_type": "code",
        "colab": {}
      },
      "source": [
        "train_stem_porter_x, test_stem_porter_x, train_stem_porter_y, test_stem_porter_y = model_selection.train_test_split(df['text_processed_stem_porter'], df['target'], \n",
        "                                                                                    train_size= 0.7, test_size= 0.3, \n",
        "                                                                                    random_state = 123, shuffle = True)"
      ],
      "execution_count": 0,
      "outputs": []
    },
    {
      "cell_type": "code",
      "metadata": {
        "id": "kc7nbs55BUt5",
        "colab_type": "code",
        "colab": {}
      },
      "source": [
        "train_stem_snowball_x, test_stem_snowball_x, train_stem_snowball_y, test_stem_snowball_y = model_selection.train_test_split(df['text_processed_stem_snowball'], df['target'], \n",
        "                                                                                    train_size= 0.7, test_size= 0.3, \n",
        "                                                                                    random_state = 123, shuffle = True)"
      ],
      "execution_count": 0,
      "outputs": []
    },
    {
      "cell_type": "code",
      "metadata": {
        "id": "cKCTzpoQC_Ub",
        "colab_type": "code",
        "colab": {}
      },
      "source": [
        "train_stem_lancaster_x, test_stem_lancaster_x, train_stem_lancaster_y, test_stem_lancaster_y = model_selection.train_test_split(df['text_processed_stem_lancaster'], df['target'], \n",
        "                                                                                    train_size= 0.7, test_size= 0.3, \n",
        "                                                                                    random_state = 123, shuffle = True)"
      ],
      "execution_count": 0,
      "outputs": []
    },
    {
      "cell_type": "code",
      "metadata": {
        "id": "JFb9Hyxsti38",
        "colab_type": "code",
        "outputId": "cdbcb5d7-d2b3-427b-d11f-8e6c90b94e05",
        "colab": {
          "base_uri": "https://localhost:8080/",
          "height": 153
        }
      },
      "source": [
        "print('La dimensione del train set dei dati \"lemmatizzati\" (train_lem_x) è', len(train_lem_x))\n",
        "print('La dimensione del test set dei dati \"lemmatizzati\" (test_lem_x) è', len(test_lem_x))\n",
        "\n",
        "print('La dimensione del train set dei dati \"stemmatizzati (Porter)\" (train_stem_porter_x) è', len(train_stem_porter_x))\n",
        "print('La dimensione del test set dei dati \"stemmatizzati (Porter)\" (test_stem_porter_x) è', len(test_stem_porter_x))\n",
        "\n",
        "print('La dimensione del train set dei dati \"stemmatizzati (Snowball)\" (train_stem_snowball_x) è', len(train_stem_snowball_x))\n",
        "print('La dimensione del test set dei dati \"stemmatizzati (Snowball)\" (test_stem_snowball_x) è', len(test_stem_snowball_x))\n",
        "\n",
        "print('La dimensione del train set dei dati \"stemmatizzati (Lancaster)\" (train_stem_lancaster_x) è', len(train_stem_lancaster_x))\n",
        "print('La dimensione del test set dei dati \"stemmatizzati (Lancaster)\" (test_stem_lancaster_x) è', len(test_stem_lancaster_x))\n"
      ],
      "execution_count": 0,
      "outputs": [
        {
          "output_type": "stream",
          "text": [
            "La dimensione del train set dei dati \"lemmatizzati\" (train_lem_x) è 13192\n",
            "La dimensione del test set dei dati \"lemmatizzati\" (test_lem_x) è 5654\n",
            "La dimensione del train set dei dati \"stemmatizzati (Porter)\" (train_stem_porter_x) è 13192\n",
            "La dimensione del test set dei dati \"stemmatizzati (Porter)\" (test_stem_porter_x) è 5654\n",
            "La dimensione del train set dei dati \"stemmatizzati (Snowball)\" (train_stem_snowball_x) è 13192\n",
            "La dimensione del test set dei dati \"stemmatizzati (Snowball)\" (test_stem_snowball_x) è 5654\n",
            "La dimensione del train set dei dati \"stemmatizzati (Lancaster)\" (train_stem_lancaster_x) è 13192\n",
            "La dimensione del test set dei dati \"stemmatizzati (Lancaster)\" (test_stem_lancaster_x) è 5654\n"
          ],
          "name": "stdout"
        }
      ]
    },
    {
      "cell_type": "markdown",
      "metadata": {
        "id": "ncelmtD_gDhU",
        "colab_type": "text"
      },
      "source": [
        "## **Feature Engineering**  \n",
        "In questa fase creiamo le strutture **tf** e **tf-idf** che saranno poi utilizzate dagli algoritmi di Machine Learning per effettuare la classificazione"
      ]
    },
    {
      "cell_type": "markdown",
      "metadata": {
        "id": "wLjzuUowg7XW",
        "colab_type": "text"
      },
      "source": [
        "**Term Frequency**"
      ]
    },
    {
      "cell_type": "code",
      "metadata": {
        "id": "6AXGWIAYg_v9",
        "colab_type": "code",
        "colab": {}
      },
      "source": [
        "count_vect = CountVectorizer(analyzer='word')"
      ],
      "execution_count": 0,
      "outputs": []
    },
    {
      "cell_type": "markdown",
      "metadata": {
        "id": "-l6btAoiwJEO",
        "colab_type": "text"
      },
      "source": [
        "I successivi otto passaggi servono per adeguare il formato alla funzione di creazione delle matrici tf e tf-idf"
      ]
    },
    {
      "cell_type": "code",
      "metadata": {
        "id": "Op8z8ZdRuxS2",
        "colab_type": "code",
        "colab": {}
      },
      "source": [
        "a = train_lem_x.astype(str)"
      ],
      "execution_count": 0,
      "outputs": []
    },
    {
      "cell_type": "code",
      "metadata": {
        "id": "py7TIwyLvTYz",
        "colab_type": "code",
        "colab": {}
      },
      "source": [
        "b = test_lem_x.astype(str)"
      ],
      "execution_count": 0,
      "outputs": []
    },
    {
      "cell_type": "code",
      "metadata": {
        "id": "4Okq5cZhvXuG",
        "colab_type": "code",
        "colab": {}
      },
      "source": [
        "c = train_stem_porter_x.astype(str)"
      ],
      "execution_count": 0,
      "outputs": []
    },
    {
      "cell_type": "code",
      "metadata": {
        "id": "puYf23k9vbhC",
        "colab_type": "code",
        "colab": {}
      },
      "source": [
        "d = test_stem_porter_x.astype(str)"
      ],
      "execution_count": 0,
      "outputs": []
    },
    {
      "cell_type": "code",
      "metadata": {
        "id": "lt-eFuGFG5eO",
        "colab_type": "code",
        "colab": {}
      },
      "source": [
        "e = train_stem_snowball_x.astype(str)"
      ],
      "execution_count": 0,
      "outputs": []
    },
    {
      "cell_type": "code",
      "metadata": {
        "id": "rhLyooZ4G99j",
        "colab_type": "code",
        "colab": {}
      },
      "source": [
        "f = test_stem_snowball_x.astype(str)"
      ],
      "execution_count": 0,
      "outputs": []
    },
    {
      "cell_type": "code",
      "metadata": {
        "id": "nA1awuUsHEzP",
        "colab_type": "code",
        "colab": {}
      },
      "source": [
        "g = train_stem_lancaster_x.astype(str)"
      ],
      "execution_count": 0,
      "outputs": []
    },
    {
      "cell_type": "code",
      "metadata": {
        "id": "2Oj4Sj5rHIOl",
        "colab_type": "code",
        "colab": {}
      },
      "source": [
        "h = test_stem_lancaster_x.astype(str)"
      ],
      "execution_count": 0,
      "outputs": []
    },
    {
      "cell_type": "markdown",
      "metadata": {
        "id": "XvCcnDqGw1Yq",
        "colab_type": "text"
      },
      "source": [
        "Creazione matrice tf per train_lem_x"
      ]
    },
    {
      "cell_type": "code",
      "metadata": {
        "id": "GrKRj-e7vfAS",
        "colab_type": "code",
        "outputId": "91ea942e-4099-4c38-8e82-52c1e013cc8e",
        "colab": {
          "base_uri": "https://localhost:8080/",
          "height": 51
        }
      },
      "source": [
        "tf_train_lem_x = count_vect.fit_transform(a)\n",
        "tf_train_lem_x"
      ],
      "execution_count": 0,
      "outputs": [
        {
          "output_type": "execute_result",
          "data": {
            "text/plain": [
              "<13192x78462 sparse matrix of type '<class 'numpy.int64'>'\n",
              "\twith 1315155 stored elements in Compressed Sparse Row format>"
            ]
          },
          "metadata": {
            "tags": []
          },
          "execution_count": 49
        }
      ]
    },
    {
      "cell_type": "markdown",
      "metadata": {
        "id": "WfvmneR5w9VP",
        "colab_type": "text"
      },
      "source": [
        "Creazione matrice tf per test_lem_x"
      ]
    },
    {
      "cell_type": "code",
      "metadata": {
        "id": "SGfYGZBVxCvJ",
        "colab_type": "code",
        "outputId": "ebc1227f-5eb0-4556-c9a9-e9b79a1e33af",
        "colab": {
          "base_uri": "https://localhost:8080/",
          "height": 51
        }
      },
      "source": [
        "tf_test_lem_x = count_vect.transform(b)\n",
        "tf_test_lem_x"
      ],
      "execution_count": 0,
      "outputs": [
        {
          "output_type": "execute_result",
          "data": {
            "text/plain": [
              "<5654x78462 sparse matrix of type '<class 'numpy.int64'>'\n",
              "\twith 549716 stored elements in Compressed Sparse Row format>"
            ]
          },
          "metadata": {
            "tags": []
          },
          "execution_count": 50
        }
      ]
    },
    {
      "cell_type": "markdown",
      "metadata": {
        "id": "S22HWHnexTwg",
        "colab_type": "text"
      },
      "source": [
        "Creazione matrice tf per train_stem_porter_x"
      ]
    },
    {
      "cell_type": "code",
      "metadata": {
        "id": "utYfIH8KxZLh",
        "colab_type": "code",
        "outputId": "f82b86d8-0822-4606-c3fd-450a51e48e19",
        "colab": {
          "base_uri": "https://localhost:8080/",
          "height": 51
        }
      },
      "source": [
        "tf_train_stem_porter_x = count_vect.fit_transform(c)\n",
        "tf_train_stem_porter_x"
      ],
      "execution_count": 0,
      "outputs": [
        {
          "output_type": "execute_result",
          "data": {
            "text/plain": [
              "<13192x64774 sparse matrix of type '<class 'numpy.int64'>'\n",
              "\twith 1271165 stored elements in Compressed Sparse Row format>"
            ]
          },
          "metadata": {
            "tags": []
          },
          "execution_count": 51
        }
      ]
    },
    {
      "cell_type": "markdown",
      "metadata": {
        "id": "j8umpKe5xsfC",
        "colab_type": "text"
      },
      "source": [
        "Creazione matrice tf per test_stem_porter_x"
      ]
    },
    {
      "cell_type": "code",
      "metadata": {
        "id": "ofb_R-AOxxvr",
        "colab_type": "code",
        "outputId": "bc0a781d-ebd0-4d17-b654-b87d87181305",
        "colab": {
          "base_uri": "https://localhost:8080/",
          "height": 51
        }
      },
      "source": [
        "tf_test_stem_porter_x = count_vect.transform(d)\n",
        "tf_test_stem_porter_x"
      ],
      "execution_count": 0,
      "outputs": [
        {
          "output_type": "execute_result",
          "data": {
            "text/plain": [
              "<5654x64774 sparse matrix of type '<class 'numpy.int64'>'\n",
              "\twith 534196 stored elements in Compressed Sparse Row format>"
            ]
          },
          "metadata": {
            "tags": []
          },
          "execution_count": 52
        }
      ]
    },
    {
      "cell_type": "markdown",
      "metadata": {
        "id": "qrGifPWDHsGB",
        "colab_type": "text"
      },
      "source": [
        "Creazione matrice tf per train_stem_snowball_x"
      ]
    },
    {
      "cell_type": "code",
      "metadata": {
        "id": "24NFRA6oH1ra",
        "colab_type": "code",
        "outputId": "7c370454-b58d-4c9f-fbc8-cfc2248bacb2",
        "colab": {
          "base_uri": "https://localhost:8080/",
          "height": 51
        }
      },
      "source": [
        "tf_train_stem_snowball_x = count_vect.fit_transform(e)\n",
        "tf_train_stem_snowball_x"
      ],
      "execution_count": 0,
      "outputs": [
        {
          "output_type": "execute_result",
          "data": {
            "text/plain": [
              "<13192x64592 sparse matrix of type '<class 'numpy.int64'>'\n",
              "\twith 1270062 stored elements in Compressed Sparse Row format>"
            ]
          },
          "metadata": {
            "tags": []
          },
          "execution_count": 53
        }
      ]
    },
    {
      "cell_type": "markdown",
      "metadata": {
        "id": "4xvygJcLH-0X",
        "colab_type": "text"
      },
      "source": [
        "Creazione matrice tf per test_stem_snowball_x"
      ]
    },
    {
      "cell_type": "code",
      "metadata": {
        "id": "8FlmtlJeIFDq",
        "colab_type": "code",
        "outputId": "429a5a98-5172-4ca8-8688-6338ee08e573",
        "colab": {
          "base_uri": "https://localhost:8080/",
          "height": 51
        }
      },
      "source": [
        "tf_test_stem_snowball_x = count_vect.transform(f)\n",
        "tf_test_stem_snowball_x"
      ],
      "execution_count": 0,
      "outputs": [
        {
          "output_type": "execute_result",
          "data": {
            "text/plain": [
              "<5654x64592 sparse matrix of type '<class 'numpy.int64'>'\n",
              "\twith 533743 stored elements in Compressed Sparse Row format>"
            ]
          },
          "metadata": {
            "tags": []
          },
          "execution_count": 54
        }
      ]
    },
    {
      "cell_type": "markdown",
      "metadata": {
        "id": "BwXOm-SQIREH",
        "colab_type": "text"
      },
      "source": [
        "Creazione matrice tf per train_stem_lancaster_x"
      ]
    },
    {
      "cell_type": "code",
      "metadata": {
        "id": "NGZKTZqKIWxw",
        "colab_type": "code",
        "outputId": "4ecd1b8c-2427-40c7-ece7-498dad4e607e",
        "colab": {
          "base_uri": "https://localhost:8080/",
          "height": 51
        }
      },
      "source": [
        "tf_train_stem_lancaster_x = count_vect.fit_transform(g)\n",
        "tf_train_stem_lancaster_x"
      ],
      "execution_count": 0,
      "outputs": [
        {
          "output_type": "execute_result",
          "data": {
            "text/plain": [
              "<13192x55921 sparse matrix of type '<class 'numpy.int64'>'\n",
              "\twith 1246743 stored elements in Compressed Sparse Row format>"
            ]
          },
          "metadata": {
            "tags": []
          },
          "execution_count": 55
        }
      ]
    },
    {
      "cell_type": "markdown",
      "metadata": {
        "id": "rxpJwl3lIeCP",
        "colab_type": "text"
      },
      "source": [
        "Creazione matrice tf per test_stem_lancaster_x"
      ]
    },
    {
      "cell_type": "code",
      "metadata": {
        "id": "DSbbY8cPIkCz",
        "colab_type": "code",
        "outputId": "e2503268-77cc-4a5e-9486-b954695fe57a",
        "colab": {
          "base_uri": "https://localhost:8080/",
          "height": 51
        }
      },
      "source": [
        "tf_test_stem_lancaster_x = count_vect.transform(h)\n",
        "tf_test_stem_lancaster_x"
      ],
      "execution_count": 0,
      "outputs": [
        {
          "output_type": "execute_result",
          "data": {
            "text/plain": [
              "<5654x55921 sparse matrix of type '<class 'numpy.int64'>'\n",
              "\twith 526015 stored elements in Compressed Sparse Row format>"
            ]
          },
          "metadata": {
            "tags": []
          },
          "execution_count": 56
        }
      ]
    },
    {
      "cell_type": "markdown",
      "metadata": {
        "id": "2Lm7RW5uyI6s",
        "colab_type": "text"
      },
      "source": [
        "**TF-IDF unigram** "
      ]
    },
    {
      "cell_type": "code",
      "metadata": {
        "id": "5yOE9RRnypS8",
        "colab_type": "code",
        "colab": {}
      },
      "source": [
        "tfidf = TfidfVectorizer(max_features=20000, analyzer='word', ngram_range=(1,1))"
      ],
      "execution_count": 0,
      "outputs": []
    },
    {
      "cell_type": "markdown",
      "metadata": {
        "id": "b0D8WNKv1tBw",
        "colab_type": "text"
      },
      "source": [
        "Creazione matrice tf-idf per train_lem_x"
      ]
    },
    {
      "cell_type": "code",
      "metadata": {
        "id": "LfoYnGiJ12L8",
        "colab_type": "code",
        "colab": {}
      },
      "source": [
        "tfidf.fit(a)\n",
        "tfidf_train_lem_x =  tfidf.transform(a)"
      ],
      "execution_count": 0,
      "outputs": []
    },
    {
      "cell_type": "code",
      "metadata": {
        "id": "jWYFybMB2cT2",
        "colab_type": "code",
        "outputId": "635554b4-bfd5-4f20-b90f-d2ac69c7ba60",
        "colab": {
          "base_uri": "https://localhost:8080/",
          "height": 51
        }
      },
      "source": [
        "tfidf_train_lem_x"
      ],
      "execution_count": 0,
      "outputs": [
        {
          "output_type": "execute_result",
          "data": {
            "text/plain": [
              "<13192x20000 sparse matrix of type '<class 'numpy.float64'>'\n",
              "\twith 1218276 stored elements in Compressed Sparse Row format>"
            ]
          },
          "metadata": {
            "tags": []
          },
          "execution_count": 59
        }
      ]
    },
    {
      "cell_type": "markdown",
      "metadata": {
        "id": "MbIHeCf-12Xm",
        "colab_type": "text"
      },
      "source": [
        "Creazione matrice tf-idf per test_lem_x"
      ]
    },
    {
      "cell_type": "code",
      "metadata": {
        "id": "ybbFxmJx16G3",
        "colab_type": "code",
        "colab": {}
      },
      "source": [
        "tfidf_test_lem_x =  tfidf.transform(b)"
      ],
      "execution_count": 0,
      "outputs": []
    },
    {
      "cell_type": "code",
      "metadata": {
        "id": "zbFexcuk2s4_",
        "colab_type": "code",
        "outputId": "81181981-596d-4b0f-bdc3-aa0442f610ef",
        "colab": {
          "base_uri": "https://localhost:8080/",
          "height": 51
        }
      },
      "source": [
        "tfidf_test_lem_x"
      ],
      "execution_count": 0,
      "outputs": [
        {
          "output_type": "execute_result",
          "data": {
            "text/plain": [
              "<5654x20000 sparse matrix of type '<class 'numpy.float64'>'\n",
              "\twith 518723 stored elements in Compressed Sparse Row format>"
            ]
          },
          "metadata": {
            "tags": []
          },
          "execution_count": 61
        }
      ]
    },
    {
      "cell_type": "markdown",
      "metadata": {
        "id": "97B6Bju316O0",
        "colab_type": "text"
      },
      "source": [
        "Creazione matrice tf-idf per train_stem_porter_x"
      ]
    },
    {
      "cell_type": "code",
      "metadata": {
        "id": "gp9Gry0P18WY",
        "colab_type": "code",
        "colab": {}
      },
      "source": [
        "tfidf.fit(c)\n",
        "tfidf_train_stem_porter_x =  tfidf.transform(c)"
      ],
      "execution_count": 0,
      "outputs": []
    },
    {
      "cell_type": "code",
      "metadata": {
        "id": "jpO7yOHc22JF",
        "colab_type": "code",
        "outputId": "c5b9a2cb-efad-4f2f-8d23-1ff7f0bf86b0",
        "colab": {
          "base_uri": "https://localhost:8080/",
          "height": 51
        }
      },
      "source": [
        "tfidf_train_stem_porter_x"
      ],
      "execution_count": 0,
      "outputs": [
        {
          "output_type": "execute_result",
          "data": {
            "text/plain": [
              "<13192x20000 sparse matrix of type '<class 'numpy.float64'>'\n",
              "\twith 1207309 stored elements in Compressed Sparse Row format>"
            ]
          },
          "metadata": {
            "tags": []
          },
          "execution_count": 63
        }
      ]
    },
    {
      "cell_type": "markdown",
      "metadata": {
        "id": "eU-vGvbg18ew",
        "colab_type": "text"
      },
      "source": [
        "Creazione matrice tf-idf per test_stem_porter_x"
      ]
    },
    {
      "cell_type": "code",
      "metadata": {
        "id": "PWfT8Lpt25Wn",
        "colab_type": "code",
        "colab": {}
      },
      "source": [
        "tfidf_test_stem_porter_x =  tfidf.transform(d)"
      ],
      "execution_count": 0,
      "outputs": []
    },
    {
      "cell_type": "code",
      "metadata": {
        "id": "BYrE8THx3D23",
        "colab_type": "code",
        "outputId": "56f875f3-da0d-4f75-d954-0767fd437929",
        "colab": {
          "base_uri": "https://localhost:8080/",
          "height": 51
        }
      },
      "source": [
        "tfidf_test_stem_porter_x"
      ],
      "execution_count": 0,
      "outputs": [
        {
          "output_type": "execute_result",
          "data": {
            "text/plain": [
              "<5654x20000 sparse matrix of type '<class 'numpy.float64'>'\n",
              "\twith 514858 stored elements in Compressed Sparse Row format>"
            ]
          },
          "metadata": {
            "tags": []
          },
          "execution_count": 65
        }
      ]
    },
    {
      "cell_type": "markdown",
      "metadata": {
        "id": "DCKfj9gjOtCe",
        "colab_type": "text"
      },
      "source": [
        "Creazione matrice tf-idf per train_stem_snowball_x"
      ]
    },
    {
      "cell_type": "code",
      "metadata": {
        "id": "W1jpdm-PO1Pz",
        "colab_type": "code",
        "colab": {}
      },
      "source": [
        "tfidf.fit(e)\n",
        "tfidf_train_stem_snowball_x =  tfidf.transform(e)"
      ],
      "execution_count": 0,
      "outputs": []
    },
    {
      "cell_type": "code",
      "metadata": {
        "id": "ruKTvZT3O1ZT",
        "colab_type": "code",
        "outputId": "54d3f2eb-eed0-4924-85d9-3c203af98d65",
        "colab": {
          "base_uri": "https://localhost:8080/",
          "height": 51
        }
      },
      "source": [
        "tfidf_train_stem_snowball_x"
      ],
      "execution_count": 0,
      "outputs": [
        {
          "output_type": "execute_result",
          "data": {
            "text/plain": [
              "<13192x20000 sparse matrix of type '<class 'numpy.float64'>'\n",
              "\twith 1206779 stored elements in Compressed Sparse Row format>"
            ]
          },
          "metadata": {
            "tags": []
          },
          "execution_count": 67
        }
      ]
    },
    {
      "cell_type": "markdown",
      "metadata": {
        "id": "xHzIvL3GPBHk",
        "colab_type": "text"
      },
      "source": [
        "Creazione matrice tf-idf per test_stem_snowball_x"
      ]
    },
    {
      "cell_type": "code",
      "metadata": {
        "id": "Z5FPovcUPD0R",
        "colab_type": "code",
        "colab": {}
      },
      "source": [
        "tfidf_test_stem_snowball_x =  tfidf.transform(f)"
      ],
      "execution_count": 0,
      "outputs": []
    },
    {
      "cell_type": "code",
      "metadata": {
        "id": "hJLBUuXJPD9f",
        "colab_type": "code",
        "outputId": "5036574f-6db3-402e-91b5-f4eadc6bf2b2",
        "colab": {
          "base_uri": "https://localhost:8080/",
          "height": 51
        }
      },
      "source": [
        "tfidf_test_stem_snowball_x"
      ],
      "execution_count": 0,
      "outputs": [
        {
          "output_type": "execute_result",
          "data": {
            "text/plain": [
              "<5654x20000 sparse matrix of type '<class 'numpy.float64'>'\n",
              "\twith 514716 stored elements in Compressed Sparse Row format>"
            ]
          },
          "metadata": {
            "tags": []
          },
          "execution_count": 69
        }
      ]
    },
    {
      "cell_type": "markdown",
      "metadata": {
        "id": "btMhemjNPKdM",
        "colab_type": "text"
      },
      "source": [
        "Creazione matrice tf-idf per train_stem_lancaster_x"
      ]
    },
    {
      "cell_type": "code",
      "metadata": {
        "id": "0P6MpJnXPQbo",
        "colab_type": "code",
        "colab": {}
      },
      "source": [
        "tfidf.fit(g)\n",
        "tfidf_train_stem_lancaster_x =  tfidf.transform(g)"
      ],
      "execution_count": 0,
      "outputs": []
    },
    {
      "cell_type": "code",
      "metadata": {
        "id": "HVm5kzRFPYzj",
        "colab_type": "code",
        "outputId": "d3e7c2e5-7580-4e76-f2c0-0cf905f1ea8f",
        "colab": {
          "base_uri": "https://localhost:8080/",
          "height": 51
        }
      },
      "source": [
        "tfidf_train_stem_lancaster_x"
      ],
      "execution_count": 0,
      "outputs": [
        {
          "output_type": "execute_result",
          "data": {
            "text/plain": [
              "<13192x20000 sparse matrix of type '<class 'numpy.float64'>'\n",
              "\twith 1200364 stored elements in Compressed Sparse Row format>"
            ]
          },
          "metadata": {
            "tags": []
          },
          "execution_count": 71
        }
      ]
    },
    {
      "cell_type": "markdown",
      "metadata": {
        "id": "kXkw6cu-PX-u",
        "colab_type": "text"
      },
      "source": [
        "Creazione matrice tf-idf per test_stem_lancaster_x"
      ]
    },
    {
      "cell_type": "code",
      "metadata": {
        "id": "Oy6PltR6PjaK",
        "colab_type": "code",
        "colab": {}
      },
      "source": [
        "tfidf_test_stem_lancaster_x =  tfidf.transform(h)"
      ],
      "execution_count": 0,
      "outputs": []
    },
    {
      "cell_type": "code",
      "metadata": {
        "id": "8uMkEbOpPm4a",
        "colab_type": "code",
        "outputId": "0e2b2f14-d1f7-4f77-b882-0e7d8df5d038",
        "colab": {
          "base_uri": "https://localhost:8080/",
          "height": 51
        }
      },
      "source": [
        "tfidf_test_stem_lancaster_x"
      ],
      "execution_count": 0,
      "outputs": [
        {
          "output_type": "execute_result",
          "data": {
            "text/plain": [
              "<5654x20000 sparse matrix of type '<class 'numpy.float64'>'\n",
              "\twith 512618 stored elements in Compressed Sparse Row format>"
            ]
          },
          "metadata": {
            "tags": []
          },
          "execution_count": 73
        }
      ]
    },
    {
      "cell_type": "markdown",
      "metadata": {
        "id": "wSZlxJYh3KUS",
        "colab_type": "text"
      },
      "source": [
        "**TF-IDF unigram + bigram** "
      ]
    },
    {
      "cell_type": "code",
      "metadata": {
        "id": "i9Rj0-md3J1A",
        "colab_type": "code",
        "colab": {}
      },
      "source": [
        "bi_tfidf = TfidfVectorizer(max_features=20000, analyzer='word',ngram_range=(1,2))"
      ],
      "execution_count": 0,
      "outputs": []
    },
    {
      "cell_type": "markdown",
      "metadata": {
        "id": "Dz9Tkt8m3UqZ",
        "colab_type": "text"
      },
      "source": [
        "Creazione matrice tf-idf bigram per train_lem_x"
      ]
    },
    {
      "cell_type": "code",
      "metadata": {
        "id": "Os5dQ2J33Xoz",
        "colab_type": "code",
        "colab": {}
      },
      "source": [
        "bi_tfidf.fit(a)\n",
        "bi_train_lem_x =  bi_tfidf.transform(a)"
      ],
      "execution_count": 0,
      "outputs": []
    },
    {
      "cell_type": "code",
      "metadata": {
        "id": "3xpN7Jss3tdI",
        "colab_type": "code",
        "outputId": "2cc86874-566b-4741-fba2-67713b484743",
        "colab": {
          "base_uri": "https://localhost:8080/",
          "height": 51
        }
      },
      "source": [
        "bi_train_lem_x"
      ],
      "execution_count": 0,
      "outputs": [
        {
          "output_type": "execute_result",
          "data": {
            "text/plain": [
              "<13192x20000 sparse matrix of type '<class 'numpy.float64'>'\n",
              "\twith 1412473 stored elements in Compressed Sparse Row format>"
            ]
          },
          "metadata": {
            "tags": []
          },
          "execution_count": 76
        }
      ]
    },
    {
      "cell_type": "markdown",
      "metadata": {
        "id": "7QvWkXqZ3X8Z",
        "colab_type": "text"
      },
      "source": [
        "Creazione matrice tf-idf bigram per test_lem_x"
      ]
    },
    {
      "cell_type": "code",
      "metadata": {
        "id": "Xp3be2ZK3bNV",
        "colab_type": "code",
        "colab": {}
      },
      "source": [
        "bi_test_lem_x =  bi_tfidf.transform(b)"
      ],
      "execution_count": 0,
      "outputs": []
    },
    {
      "cell_type": "code",
      "metadata": {
        "id": "AJoc4ZoO4Lk2",
        "colab_type": "code",
        "outputId": "30331cc9-5103-4572-cb11-f25e2bd5bbcb",
        "colab": {
          "base_uri": "https://localhost:8080/",
          "height": 51
        }
      },
      "source": [
        "bi_test_lem_x"
      ],
      "execution_count": 0,
      "outputs": [
        {
          "output_type": "execute_result",
          "data": {
            "text/plain": [
              "<5654x20000 sparse matrix of type '<class 'numpy.float64'>'\n",
              "\twith 599015 stored elements in Compressed Sparse Row format>"
            ]
          },
          "metadata": {
            "tags": []
          },
          "execution_count": 78
        }
      ]
    },
    {
      "cell_type": "markdown",
      "metadata": {
        "id": "EZQhlKY63bXy",
        "colab_type": "text"
      },
      "source": [
        "Creazione matrice tf-idf bigram per train_stem_porter_x"
      ]
    },
    {
      "cell_type": "code",
      "metadata": {
        "id": "0vNkKHKS3ddJ",
        "colab_type": "code",
        "colab": {}
      },
      "source": [
        "bi_tfidf.fit(c)\n",
        "bi_train_stem_porter_x =  bi_tfidf.transform(c)"
      ],
      "execution_count": 0,
      "outputs": []
    },
    {
      "cell_type": "code",
      "metadata": {
        "id": "futUIlUH4ce_",
        "colab_type": "code",
        "outputId": "05d858ba-4ace-45e6-8d05-6d40114ba7a9",
        "colab": {
          "base_uri": "https://localhost:8080/",
          "height": 51
        }
      },
      "source": [
        "bi_train_stem_porter_x"
      ],
      "execution_count": 0,
      "outputs": [
        {
          "output_type": "execute_result",
          "data": {
            "text/plain": [
              "<13192x20000 sparse matrix of type '<class 'numpy.float64'>'\n",
              "\twith 1436664 stored elements in Compressed Sparse Row format>"
            ]
          },
          "metadata": {
            "tags": []
          },
          "execution_count": 80
        }
      ]
    },
    {
      "cell_type": "markdown",
      "metadata": {
        "id": "rkF8GxZX3dsT",
        "colab_type": "text"
      },
      "source": [
        "Creazione matrice tf-idf bigram per test_stem_porter_x"
      ]
    },
    {
      "cell_type": "code",
      "metadata": {
        "id": "leiDfo2J4jj9",
        "colab_type": "code",
        "colab": {}
      },
      "source": [
        "bi_test_stem_porter_x =  bi_tfidf.transform(d)"
      ],
      "execution_count": 0,
      "outputs": []
    },
    {
      "cell_type": "code",
      "metadata": {
        "id": "NyvyV4iC4vqW",
        "colab_type": "code",
        "outputId": "ce25aff8-8fba-43c6-bd09-aca70c571c55",
        "colab": {
          "base_uri": "https://localhost:8080/",
          "height": 51
        }
      },
      "source": [
        "bi_test_stem_porter_x"
      ],
      "execution_count": 0,
      "outputs": [
        {
          "output_type": "execute_result",
          "data": {
            "text/plain": [
              "<5654x20000 sparse matrix of type '<class 'numpy.float64'>'\n",
              "\twith 609766 stored elements in Compressed Sparse Row format>"
            ]
          },
          "metadata": {
            "tags": []
          },
          "execution_count": 82
        }
      ]
    },
    {
      "cell_type": "markdown",
      "metadata": {
        "id": "DNRR9opRQXgg",
        "colab_type": "text"
      },
      "source": [
        "Creazione matrice tf-idf bigram per train_stem_snowball_x"
      ]
    },
    {
      "cell_type": "code",
      "metadata": {
        "id": "kpybKwpSQcx8",
        "colab_type": "code",
        "colab": {}
      },
      "source": [
        "bi_tfidf.fit(e)\n",
        "bi_train_stem_snowball_x =  bi_tfidf.transform(e)"
      ],
      "execution_count": 0,
      "outputs": []
    },
    {
      "cell_type": "code",
      "metadata": {
        "id": "aOw9ooBkQc7J",
        "colab_type": "code",
        "outputId": "cb0c804c-7264-4906-80b3-5ce82a550610",
        "colab": {
          "base_uri": "https://localhost:8080/",
          "height": 51
        }
      },
      "source": [
        "bi_train_stem_snowball_x"
      ],
      "execution_count": 0,
      "outputs": [
        {
          "output_type": "execute_result",
          "data": {
            "text/plain": [
              "<13192x20000 sparse matrix of type '<class 'numpy.float64'>'\n",
              "\twith 1437166 stored elements in Compressed Sparse Row format>"
            ]
          },
          "metadata": {
            "tags": []
          },
          "execution_count": 84
        }
      ]
    },
    {
      "cell_type": "markdown",
      "metadata": {
        "id": "SbPsegKWQjth",
        "colab_type": "text"
      },
      "source": [
        "Creazione matrice tf-idf bigram per test_stem_snowball_x"
      ]
    },
    {
      "cell_type": "code",
      "metadata": {
        "id": "-p_eiU0LQnjL",
        "colab_type": "code",
        "colab": {}
      },
      "source": [
        "bi_test_stem_snowball_x =  bi_tfidf.transform(f)"
      ],
      "execution_count": 0,
      "outputs": []
    },
    {
      "cell_type": "code",
      "metadata": {
        "id": "89W5Mz2XQtEF",
        "colab_type": "code",
        "outputId": "63f4c297-02c7-4bee-f679-db69526d7431",
        "colab": {
          "base_uri": "https://localhost:8080/",
          "height": 51
        }
      },
      "source": [
        "bi_test_stem_snowball_x"
      ],
      "execution_count": 0,
      "outputs": [
        {
          "output_type": "execute_result",
          "data": {
            "text/plain": [
              "<5654x20000 sparse matrix of type '<class 'numpy.float64'>'\n",
              "\twith 610066 stored elements in Compressed Sparse Row format>"
            ]
          },
          "metadata": {
            "tags": []
          },
          "execution_count": 86
        }
      ]
    },
    {
      "cell_type": "markdown",
      "metadata": {
        "id": "jHyfqNM0QuZz",
        "colab_type": "text"
      },
      "source": [
        "Creazione matrice tf-idf bigram per train_stem_lancaster_x"
      ]
    },
    {
      "cell_type": "code",
      "metadata": {
        "id": "uON1bSxRQ1oF",
        "colab_type": "code",
        "colab": {}
      },
      "source": [
        "bi_tfidf.fit(g)\n",
        "bi_train_stem_lancaster_x = bi_tfidf.transform(g)"
      ],
      "execution_count": 0,
      "outputs": []
    },
    {
      "cell_type": "code",
      "metadata": {
        "id": "rhQ2Jd2sRFgi",
        "colab_type": "code",
        "outputId": "0df13329-0a18-4cee-ee61-b98c278375e7",
        "colab": {
          "base_uri": "https://localhost:8080/",
          "height": 51
        }
      },
      "source": [
        "bi_train_stem_lancaster_x"
      ],
      "execution_count": 0,
      "outputs": [
        {
          "output_type": "execute_result",
          "data": {
            "text/plain": [
              "<13192x20000 sparse matrix of type '<class 'numpy.float64'>'\n",
              "\twith 1456649 stored elements in Compressed Sparse Row format>"
            ]
          },
          "metadata": {
            "tags": []
          },
          "execution_count": 88
        }
      ]
    },
    {
      "cell_type": "markdown",
      "metadata": {
        "id": "2Vrd8XsTQ61M",
        "colab_type": "text"
      },
      "source": [
        "Creazione matrice tf-idf bigram per test_stem_lancaster_x"
      ]
    },
    {
      "cell_type": "code",
      "metadata": {
        "id": "tCBWqfEfQ-Bf",
        "colab_type": "code",
        "colab": {}
      },
      "source": [
        "bi_test_stem_lancaster_x = bi_tfidf.transform(h)"
      ],
      "execution_count": 0,
      "outputs": []
    },
    {
      "cell_type": "code",
      "metadata": {
        "id": "BNUJi27uREvP",
        "colab_type": "code",
        "outputId": "09c068a1-1138-4595-aec5-e091e7e68e32",
        "colab": {
          "base_uri": "https://localhost:8080/",
          "height": 51
        }
      },
      "source": [
        "bi_test_stem_lancaster_x"
      ],
      "execution_count": 0,
      "outputs": [
        {
          "output_type": "execute_result",
          "data": {
            "text/plain": [
              "<5654x20000 sparse matrix of type '<class 'numpy.float64'>'\n",
              "\twith 618408 stored elements in Compressed Sparse Row format>"
            ]
          },
          "metadata": {
            "tags": []
          },
          "execution_count": 90
        }
      ]
    },
    {
      "cell_type": "markdown",
      "metadata": {
        "id": "0msdYBmW5KpZ",
        "colab_type": "text"
      },
      "source": [
        "## **Classification**"
      ]
    },
    {
      "cell_type": "markdown",
      "metadata": {
        "id": "V6ytn9mj5jaz",
        "colab_type": "text"
      },
      "source": [
        "### **1. Naive Bayes**"
      ]
    },
    {
      "cell_type": "code",
      "metadata": {
        "id": "o5QRGps-7ifo",
        "colab_type": "code",
        "colab": {}
      },
      "source": [
        "clf = MultinomialNB()"
      ],
      "execution_count": 0,
      "outputs": []
    },
    {
      "cell_type": "markdown",
      "metadata": {
        "id": "jaK2GSD2V5al",
        "colab_type": "text"
      },
      "source": [
        "**1.1 Naive Bayes con TF + Lemmatization**"
      ]
    },
    {
      "cell_type": "markdown",
      "metadata": {
        "id": "6_edf3ytyrH9",
        "colab_type": "text"
      },
      "source": [
        "Cross Validation (train set)"
      ]
    },
    {
      "cell_type": "code",
      "metadata": {
        "id": "kFXPNsHuuvYz",
        "colab_type": "code",
        "outputId": "7c172096-1371-4171-d32f-0a6403c79365",
        "colab": {
          "base_uri": "https://localhost:8080/",
          "height": 51
        }
      },
      "source": [
        "%%time\n",
        "score = cross_val_score(clf, tf_train_lem_x, train_lem_y, cv=5)"
      ],
      "execution_count": 0,
      "outputs": [
        {
          "output_type": "stream",
          "text": [
            "CPU times: user 477 ms, sys: 3 ms, total: 481 ms\n",
            "Wall time: 481 ms\n"
          ],
          "name": "stdout"
        }
      ]
    },
    {
      "cell_type": "code",
      "metadata": {
        "id": "1tWQ8SOTvAsS",
        "colab_type": "code",
        "outputId": "bba2476c-eed4-4c12-9e80-cafd655aa179",
        "colab": {
          "base_uri": "https://localhost:8080/",
          "height": 51
        }
      },
      "source": [
        "print(score)\n",
        "print(score.mean())"
      ],
      "execution_count": 0,
      "outputs": [
        {
          "output_type": "stream",
          "text": [
            "[0.86547935 0.86358469 0.86770281 0.86732373 0.87452616]\n",
            "0.867723346168354\n"
          ],
          "name": "stdout"
        }
      ]
    },
    {
      "cell_type": "markdown",
      "metadata": {
        "id": "U1ExAgsfyvhp",
        "colab_type": "text"
      },
      "source": [
        "Previsione su dati mai visti (test set)"
      ]
    },
    {
      "cell_type": "code",
      "metadata": {
        "id": "vkxeJckRQXXa",
        "colab_type": "code",
        "outputId": "5203bc31-c851-469f-f708-0907a68aa84d",
        "colab": {
          "base_uri": "https://localhost:8080/",
          "height": 510
        }
      },
      "source": [
        "%%time\n",
        "clf.fit(tf_train_lem_x, train_lem_y)\n",
        "predicted = clf.predict(tf_test_lem_x)\n",
        "print(classification_report(test_lem_y, predicted))"
      ],
      "execution_count": 0,
      "outputs": [
        {
          "output_type": "stream",
          "text": [
            "              precision    recall  f1-score   support\n",
            "\n",
            "           0       0.87      0.89      0.88       267\n",
            "           1       0.70      0.90      0.79       269\n",
            "           2       0.93      0.65      0.77       294\n",
            "           3       0.76      0.82      0.78       299\n",
            "           4       0.83      0.92      0.87       267\n",
            "           5       0.83      0.86      0.85       309\n",
            "           6       0.91      0.82      0.86       275\n",
            "           7       0.91      0.91      0.91       299\n",
            "           8       0.95      0.95      0.95       293\n",
            "           9       0.98      0.96      0.97       313\n",
            "          10       0.96      0.96      0.96       295\n",
            "          11       0.92      0.95      0.94       301\n",
            "          12       0.90      0.81      0.85       302\n",
            "          13       0.96      0.95      0.95       288\n",
            "          14       0.96      0.95      0.96       300\n",
            "          15       0.86      0.92      0.89       302\n",
            "          16       0.80      0.94      0.87       282\n",
            "          17       0.97      0.95      0.96       310\n",
            "          18       0.79      0.86      0.82       196\n",
            "          19       0.90      0.54      0.68       193\n",
            "\n",
            "    accuracy                           0.88      5654\n",
            "   macro avg       0.88      0.88      0.88      5654\n",
            "weighted avg       0.89      0.88      0.88      5654\n",
            "\n",
            "CPU times: user 127 ms, sys: 0 ns, total: 127 ms\n",
            "Wall time: 130 ms\n"
          ],
          "name": "stdout"
        }
      ]
    },
    {
      "cell_type": "markdown",
      "metadata": {
        "id": "YfHyxW4hWAwB",
        "colab_type": "text"
      },
      "source": [
        "**1.2 Naive Bayes con TF + Stemming (Porter)**"
      ]
    },
    {
      "cell_type": "markdown",
      "metadata": {
        "id": "Se5XXOHPx_4Q",
        "colab_type": "text"
      },
      "source": [
        "Cross Validation (train set)"
      ]
    },
    {
      "cell_type": "code",
      "metadata": {
        "id": "UmqYaqXcyCTz",
        "colab_type": "code",
        "outputId": "166b5be6-d3a9-45e0-9dab-aacef607e8c9",
        "colab": {
          "base_uri": "https://localhost:8080/",
          "height": 51
        }
      },
      "source": [
        "%%time\n",
        "score = cross_val_score(clf, tf_train_stem_porter_x, train_stem_porter_y, cv=5)"
      ],
      "execution_count": 0,
      "outputs": [
        {
          "output_type": "stream",
          "text": [
            "CPU times: user 401 ms, sys: 4.99 ms, total: 406 ms\n",
            "Wall time: 408 ms\n"
          ],
          "name": "stdout"
        }
      ]
    },
    {
      "cell_type": "code",
      "metadata": {
        "id": "-t9igaryyCdy",
        "colab_type": "code",
        "outputId": "57293a07-96b9-4390-ff21-9d3541ed93f3",
        "colab": {
          "base_uri": "https://localhost:8080/",
          "height": 51
        }
      },
      "source": [
        "print(score)\n",
        "print(score.mean())"
      ],
      "execution_count": 0,
      "outputs": [
        {
          "output_type": "stream",
          "text": [
            "[0.86282683 0.85790072 0.86125853 0.85898408 0.86429113]\n",
            "0.8610522571987632\n"
          ],
          "name": "stdout"
        }
      ]
    },
    {
      "cell_type": "markdown",
      "metadata": {
        "id": "RbbCrHQCyDtd",
        "colab_type": "text"
      },
      "source": [
        "Previsione su dati mai visti (test set)"
      ]
    },
    {
      "cell_type": "code",
      "metadata": {
        "id": "PgcWfKPuWPrf",
        "colab_type": "code",
        "outputId": "28f26283-769f-4244-c194-72e4d478001a",
        "colab": {
          "base_uri": "https://localhost:8080/",
          "height": 510
        }
      },
      "source": [
        "%%time\n",
        "clf.fit(tf_train_stem_porter_x, train_stem_porter_y)\n",
        "predicted = clf.predict(tf_test_stem_porter_x)\n",
        "print(classification_report(test_stem_porter_y, predicted))"
      ],
      "execution_count": 0,
      "outputs": [
        {
          "output_type": "stream",
          "text": [
            "              precision    recall  f1-score   support\n",
            "\n",
            "           0       0.87      0.90      0.88       267\n",
            "           1       0.69      0.87      0.77       269\n",
            "           2       0.92      0.61      0.73       294\n",
            "           3       0.73      0.81      0.77       299\n",
            "           4       0.82      0.93      0.87       267\n",
            "           5       0.83      0.84      0.84       309\n",
            "           6       0.90      0.78      0.83       275\n",
            "           7       0.91      0.90      0.90       299\n",
            "           8       0.94      0.94      0.94       293\n",
            "           9       0.97      0.96      0.96       313\n",
            "          10       0.96      0.96      0.96       295\n",
            "          11       0.90      0.95      0.93       301\n",
            "          12       0.86      0.80      0.83       302\n",
            "          13       0.97      0.96      0.96       288\n",
            "          14       0.96      0.95      0.95       300\n",
            "          15       0.86      0.92      0.89       302\n",
            "          16       0.80      0.93      0.86       282\n",
            "          17       0.96      0.95      0.96       310\n",
            "          18       0.76      0.83      0.80       196\n",
            "          19       0.93      0.54      0.68       193\n",
            "\n",
            "    accuracy                           0.87      5654\n",
            "   macro avg       0.88      0.87      0.87      5654\n",
            "weighted avg       0.88      0.87      0.87      5654\n",
            "\n",
            "CPU times: user 107 ms, sys: 992 µs, total: 108 ms\n",
            "Wall time: 112 ms\n"
          ],
          "name": "stdout"
        }
      ]
    },
    {
      "cell_type": "markdown",
      "metadata": {
        "id": "F6VjZsqjTJYs",
        "colab_type": "text"
      },
      "source": [
        "**1.3 Naive Bayes con TF + Stemming (Snowball)**"
      ]
    },
    {
      "cell_type": "markdown",
      "metadata": {
        "id": "tLr8eelbTPC2",
        "colab_type": "text"
      },
      "source": [
        "Cross Validation (train set)"
      ]
    },
    {
      "cell_type": "code",
      "metadata": {
        "id": "9P_DvEPfTTwk",
        "colab_type": "code",
        "outputId": "1004655e-a464-4361-a82f-708c65a4bf7e",
        "colab": {
          "base_uri": "https://localhost:8080/",
          "height": 51
        }
      },
      "source": [
        "%%time\n",
        "score = cross_val_score(clf, tf_train_stem_snowball_x, train_stem_snowball_y, cv=5)"
      ],
      "execution_count": 0,
      "outputs": [
        {
          "output_type": "stream",
          "text": [
            "CPU times: user 407 ms, sys: 6 ms, total: 413 ms\n",
            "Wall time: 416 ms\n"
          ],
          "name": "stdout"
        }
      ]
    },
    {
      "cell_type": "code",
      "metadata": {
        "id": "U3bKeTH5TbX5",
        "colab_type": "code",
        "outputId": "b9e09d2e-6dfe-4afd-e770-2e53e60cb236",
        "colab": {
          "base_uri": "https://localhost:8080/",
          "height": 51
        }
      },
      "source": [
        "print(score)\n",
        "print(score.mean())"
      ],
      "execution_count": 0,
      "outputs": [
        {
          "output_type": "stream",
          "text": [
            "[0.86434255 0.85827965 0.86050038 0.85936315 0.86542835]\n",
            "0.8615828186349217\n"
          ],
          "name": "stdout"
        }
      ]
    },
    {
      "cell_type": "markdown",
      "metadata": {
        "id": "JCD6YMP_Td8h",
        "colab_type": "text"
      },
      "source": [
        "Previsione su dati mai visti (test set)"
      ]
    },
    {
      "cell_type": "code",
      "metadata": {
        "id": "bwdYICeQTj_L",
        "colab_type": "code",
        "outputId": "677f7e87-1e2e-4a74-cec9-52b7e79caf25",
        "colab": {
          "base_uri": "https://localhost:8080/",
          "height": 510
        }
      },
      "source": [
        "%%time\n",
        "clf.fit(tf_train_stem_snowball_x, train_stem_snowball_y)\n",
        "predicted = clf.predict(tf_test_stem_snowball_x)\n",
        "print(classification_report(test_stem_snowball_y, predicted))"
      ],
      "execution_count": 0,
      "outputs": [
        {
          "output_type": "stream",
          "text": [
            "              precision    recall  f1-score   support\n",
            "\n",
            "           0       0.87      0.90      0.88       267\n",
            "           1       0.68      0.88      0.77       269\n",
            "           2       0.92      0.60      0.73       294\n",
            "           3       0.74      0.82      0.77       299\n",
            "           4       0.81      0.93      0.87       267\n",
            "           5       0.84      0.84      0.84       309\n",
            "           6       0.90      0.79      0.84       275\n",
            "           7       0.91      0.90      0.91       299\n",
            "           8       0.94      0.94      0.94       293\n",
            "           9       0.97      0.95      0.96       313\n",
            "          10       0.96      0.96      0.96       295\n",
            "          11       0.90      0.95      0.93       301\n",
            "          12       0.86      0.80      0.83       302\n",
            "          13       0.97      0.96      0.97       288\n",
            "          14       0.96      0.95      0.95       300\n",
            "          15       0.86      0.92      0.89       302\n",
            "          16       0.80      0.94      0.87       282\n",
            "          17       0.96      0.95      0.96       310\n",
            "          18       0.77      0.83      0.80       196\n",
            "          19       0.93      0.53      0.67       193\n",
            "\n",
            "    accuracy                           0.87      5654\n",
            "   macro avg       0.88      0.87      0.87      5654\n",
            "weighted avg       0.88      0.87      0.87      5654\n",
            "\n",
            "CPU times: user 104 ms, sys: 2.01 ms, total: 106 ms\n",
            "Wall time: 109 ms\n"
          ],
          "name": "stdout"
        }
      ]
    },
    {
      "cell_type": "markdown",
      "metadata": {
        "id": "xRvGizjeTr19",
        "colab_type": "text"
      },
      "source": [
        "**1.4 Naive Bayes con TF + Stemming (Lancaster)**"
      ]
    },
    {
      "cell_type": "markdown",
      "metadata": {
        "id": "zq9L0qNHUE7g",
        "colab_type": "text"
      },
      "source": [
        "Cross Validation (train set)"
      ]
    },
    {
      "cell_type": "code",
      "metadata": {
        "id": "yqMcwoQ1UNkw",
        "colab_type": "code",
        "outputId": "c07ac89d-5951-4c1a-938d-62bba4a1e629",
        "colab": {
          "base_uri": "https://localhost:8080/",
          "height": 51
        }
      },
      "source": [
        "%%time\n",
        "score = cross_val_score(clf, tf_train_stem_lancaster_x, train_stem_lancaster_y, cv=5)"
      ],
      "execution_count": 0,
      "outputs": [
        {
          "output_type": "stream",
          "text": [
            "CPU times: user 363 ms, sys: 5.97 ms, total: 369 ms\n",
            "Wall time: 372 ms\n"
          ],
          "name": "stdout"
        }
      ]
    },
    {
      "cell_type": "code",
      "metadata": {
        "id": "QAt6DIb2UTSE",
        "colab_type": "code",
        "outputId": "9472171b-25da-415b-9faa-af8dd0fa2333",
        "colab": {
          "base_uri": "https://localhost:8080/",
          "height": 51
        }
      },
      "source": [
        "print(score)\n",
        "print(score.mean())"
      ],
      "execution_count": 0,
      "outputs": [
        {
          "output_type": "stream",
          "text": [
            "[0.85373247 0.84994316 0.85026535 0.85178165 0.85595148]\n",
            "0.852334823681978\n"
          ],
          "name": "stdout"
        }
      ]
    },
    {
      "cell_type": "markdown",
      "metadata": {
        "id": "ridpQvbeUVXE",
        "colab_type": "text"
      },
      "source": [
        "Previsione su dati mai visti (test set)"
      ]
    },
    {
      "cell_type": "code",
      "metadata": {
        "id": "10IN_QG_UZbS",
        "colab_type": "code",
        "outputId": "89c5c0b7-d5c6-4f9f-be84-5862b3e13b97",
        "colab": {
          "base_uri": "https://localhost:8080/",
          "height": 510
        }
      },
      "source": [
        "%%time\n",
        "clf.fit(tf_train_stem_lancaster_x, train_stem_lancaster_y)\n",
        "predicted = clf.predict(tf_test_stem_lancaster_x)\n",
        "print(classification_report(test_stem_lancaster_y, predicted))"
      ],
      "execution_count": 0,
      "outputs": [
        {
          "output_type": "stream",
          "text": [
            "              precision    recall  f1-score   support\n",
            "\n",
            "           0       0.87      0.89      0.88       267\n",
            "           1       0.67      0.87      0.76       269\n",
            "           2       0.93      0.57      0.71       294\n",
            "           3       0.72      0.82      0.76       299\n",
            "           4       0.82      0.91      0.86       267\n",
            "           5       0.84      0.84      0.84       309\n",
            "           6       0.89      0.76      0.82       275\n",
            "           7       0.91      0.89      0.90       299\n",
            "           8       0.94      0.94      0.94       293\n",
            "           9       0.97      0.95      0.96       313\n",
            "          10       0.96      0.96      0.96       295\n",
            "          11       0.91      0.94      0.92       301\n",
            "          12       0.85      0.79      0.82       302\n",
            "          13       0.96      0.96      0.96       288\n",
            "          14       0.95      0.94      0.94       300\n",
            "          15       0.85      0.92      0.89       302\n",
            "          16       0.79      0.93      0.85       282\n",
            "          17       0.96      0.95      0.95       310\n",
            "          18       0.72      0.83      0.77       196\n",
            "          19       0.91      0.50      0.64       193\n",
            "\n",
            "    accuracy                           0.87      5654\n",
            "   macro avg       0.87      0.86      0.86      5654\n",
            "weighted avg       0.87      0.87      0.86      5654\n",
            "\n",
            "CPU times: user 102 ms, sys: 0 ns, total: 102 ms\n",
            "Wall time: 103 ms\n"
          ],
          "name": "stdout"
        }
      ]
    },
    {
      "cell_type": "markdown",
      "metadata": {
        "id": "v-bWSrlckIIm",
        "colab_type": "text"
      },
      "source": [
        "**1.5 Naive Bayes con TF-IDF + Lemmatization**"
      ]
    },
    {
      "cell_type": "markdown",
      "metadata": {
        "id": "rgQptOjjy488",
        "colab_type": "text"
      },
      "source": [
        "Cross Validation (train set)"
      ]
    },
    {
      "cell_type": "code",
      "metadata": {
        "id": "e4cCouTgy5J1",
        "colab_type": "code",
        "outputId": "d4a1c495-af12-4591-957f-eeb80087f810",
        "colab": {
          "base_uri": "https://localhost:8080/",
          "height": 51
        }
      },
      "source": [
        "%%time\n",
        "score = cross_val_score(clf, tfidf_train_lem_x, train_lem_y, cv=5)"
      ],
      "execution_count": 0,
      "outputs": [
        {
          "output_type": "stream",
          "text": [
            "CPU times: user 276 ms, sys: 6.98 ms, total: 283 ms\n",
            "Wall time: 302 ms\n"
          ],
          "name": "stdout"
        }
      ]
    },
    {
      "cell_type": "code",
      "metadata": {
        "id": "KdXUslDUy5R2",
        "colab_type": "code",
        "outputId": "2f602e4d-dacb-4a20-9ec2-90e7c37f5db4",
        "colab": {
          "base_uri": "https://localhost:8080/",
          "height": 51
        }
      },
      "source": [
        "print(score)\n",
        "print(score.mean())"
      ],
      "execution_count": 0,
      "outputs": [
        {
          "output_type": "stream",
          "text": [
            "[0.86206897 0.86282683 0.87073541 0.8661865  0.8631539 ]\n",
            "0.8649943217745367\n"
          ],
          "name": "stdout"
        }
      ]
    },
    {
      "cell_type": "markdown",
      "metadata": {
        "id": "miXcxsNLy5bV",
        "colab_type": "text"
      },
      "source": [
        "Previsione su dati mai visti (test set)"
      ]
    },
    {
      "cell_type": "code",
      "metadata": {
        "id": "EPElkeKQkS_W",
        "colab_type": "code",
        "outputId": "ca88aa5a-c282-4178-87ed-bfaae257161e",
        "colab": {
          "base_uri": "https://localhost:8080/",
          "height": 510
        }
      },
      "source": [
        "%%time\n",
        "clf.fit(tfidf_train_lem_x, train_lem_y)\n",
        "predicted = clf.predict(tfidf_test_lem_x)\n",
        "print(classification_report(test_lem_y, predicted))"
      ],
      "execution_count": 0,
      "outputs": [
        {
          "output_type": "stream",
          "text": [
            "              precision    recall  f1-score   support\n",
            "\n",
            "           0       0.89      0.78      0.83       267\n",
            "           1       0.76      0.87      0.81       269\n",
            "           2       0.84      0.83      0.83       294\n",
            "           3       0.78      0.82      0.80       299\n",
            "           4       0.84      0.91      0.87       267\n",
            "           5       0.91      0.86      0.88       309\n",
            "           6       0.88      0.85      0.87       275\n",
            "           7       0.92      0.90      0.91       299\n",
            "           8       0.95      0.97      0.96       293\n",
            "           9       0.97      0.95      0.96       313\n",
            "          10       0.96      0.97      0.97       295\n",
            "          11       0.91      0.96      0.94       301\n",
            "          12       0.91      0.82      0.86       302\n",
            "          13       0.95      0.95      0.95       288\n",
            "          14       0.96      0.95      0.96       300\n",
            "          15       0.70      0.95      0.80       302\n",
            "          16       0.78      0.98      0.87       282\n",
            "          17       0.95      0.96      0.96       310\n",
            "          18       0.96      0.77      0.85       196\n",
            "          19       0.95      0.27      0.42       193\n",
            "\n",
            "    accuracy                           0.88      5654\n",
            "   macro avg       0.89      0.87      0.87      5654\n",
            "weighted avg       0.89      0.88      0.87      5654\n",
            "\n",
            "CPU times: user 86.4 ms, sys: 0 ns, total: 86.4 ms\n",
            "Wall time: 90.8 ms\n"
          ],
          "name": "stdout"
        }
      ]
    },
    {
      "cell_type": "markdown",
      "metadata": {
        "id": "4p2yJBFsl5Vu",
        "colab_type": "text"
      },
      "source": [
        "**1.6 Naive Bayes con TF-IDF + Stemming (Porter)**"
      ]
    },
    {
      "cell_type": "markdown",
      "metadata": {
        "id": "KSJPtSOSzUaC",
        "colab_type": "text"
      },
      "source": [
        "Cross Validation (train set)"
      ]
    },
    {
      "cell_type": "code",
      "metadata": {
        "id": "md8MTVAOzUtF",
        "colab_type": "code",
        "outputId": "87dc5085-dcf9-44ab-b61a-ada81d288901",
        "colab": {
          "base_uri": "https://localhost:8080/",
          "height": 51
        }
      },
      "source": [
        "%%time\n",
        "score = cross_val_score(clf, tfidf_train_stem_porter_x, train_stem_porter_y, cv=5)"
      ],
      "execution_count": 0,
      "outputs": [
        {
          "output_type": "stream",
          "text": [
            "CPU times: user 290 ms, sys: 3 ms, total: 293 ms\n",
            "Wall time: 295 ms\n"
          ],
          "name": "stdout"
        }
      ]
    },
    {
      "cell_type": "code",
      "metadata": {
        "id": "GTPxRnHVzU0X",
        "colab_type": "code",
        "outputId": "791965e8-1175-4dd5-bfca-fe8c513d6db0",
        "colab": {
          "base_uri": "https://localhost:8080/",
          "height": 51
        }
      },
      "source": [
        "print(score)\n",
        "print(score.mean())"
      ],
      "execution_count": 0,
      "outputs": [
        {
          "output_type": "stream",
          "text": [
            "[0.85752179 0.85752179 0.86846096 0.85784685 0.86277483]\n",
            "0.8608252430949876\n"
          ],
          "name": "stdout"
        }
      ]
    },
    {
      "cell_type": "markdown",
      "metadata": {
        "id": "Q4ysaYCdzU_8",
        "colab_type": "text"
      },
      "source": [
        "Previsione su dati mai visti (test set)"
      ]
    },
    {
      "cell_type": "code",
      "metadata": {
        "id": "JWP4QBuHmAJC",
        "colab_type": "code",
        "outputId": "0c0d3715-8dc0-4cb3-d92b-43f5d5be124a",
        "colab": {
          "base_uri": "https://localhost:8080/",
          "height": 510
        }
      },
      "source": [
        "%%time\n",
        "clf.fit(tfidf_train_stem_porter_x, train_stem_porter_y)\n",
        "predicted = clf.predict(tfidf_test_stem_porter_x)\n",
        "print(classification_report(test_stem_porter_y, predicted))"
      ],
      "execution_count": 0,
      "outputs": [
        {
          "output_type": "stream",
          "text": [
            "              precision    recall  f1-score   support\n",
            "\n",
            "           0       0.89      0.76      0.82       267\n",
            "           1       0.74      0.85      0.79       269\n",
            "           2       0.84      0.83      0.83       294\n",
            "           3       0.78      0.81      0.80       299\n",
            "           4       0.85      0.91      0.88       267\n",
            "           5       0.92      0.85      0.88       309\n",
            "           6       0.88      0.84      0.86       275\n",
            "           7       0.93      0.90      0.92       299\n",
            "           8       0.94      0.97      0.95       293\n",
            "           9       0.97      0.95      0.96       313\n",
            "          10       0.96      0.98      0.97       295\n",
            "          11       0.88      0.97      0.92       301\n",
            "          12       0.90      0.80      0.85       302\n",
            "          13       0.95      0.94      0.95       288\n",
            "          14       0.96      0.95      0.96       300\n",
            "          15       0.68      0.95      0.79       302\n",
            "          16       0.75      0.97      0.85       282\n",
            "          17       0.95      0.96      0.96       310\n",
            "          18       0.97      0.73      0.83       196\n",
            "          19       0.96      0.23      0.38       193\n",
            "\n",
            "    accuracy                           0.87      5654\n",
            "   macro avg       0.89      0.86      0.86      5654\n",
            "weighted avg       0.88      0.87      0.87      5654\n",
            "\n",
            "CPU times: user 91 ms, sys: 10 µs, total: 91 ms\n",
            "Wall time: 95.4 ms\n"
          ],
          "name": "stdout"
        }
      ]
    },
    {
      "cell_type": "markdown",
      "metadata": {
        "id": "v9OxkEzjU3U7",
        "colab_type": "text"
      },
      "source": [
        "**1.7 Naive Bayes con TF-IDF + Stemming (Snowball)**"
      ]
    },
    {
      "cell_type": "markdown",
      "metadata": {
        "id": "nO_DNZysU9L4",
        "colab_type": "text"
      },
      "source": [
        "Cross Validation (train set)"
      ]
    },
    {
      "cell_type": "code",
      "metadata": {
        "id": "CHiIzWCcU8aE",
        "colab_type": "code",
        "outputId": "bdc0ddc3-4cd9-4ee2-ef53-a81cb94c7c12",
        "colab": {
          "base_uri": "https://localhost:8080/",
          "height": 51
        }
      },
      "source": [
        "%%time\n",
        "score = cross_val_score(clf, tfidf_train_stem_snowball_x, train_stem_snowball_y, cv=5)"
      ],
      "execution_count": 0,
      "outputs": [
        {
          "output_type": "stream",
          "text": [
            "CPU times: user 274 ms, sys: 3.99 ms, total: 278 ms\n",
            "Wall time: 279 ms\n"
          ],
          "name": "stdout"
        }
      ]
    },
    {
      "cell_type": "code",
      "metadata": {
        "id": "fGnkjrcQU8jy",
        "colab_type": "code",
        "outputId": "49e9802e-9fb8-406f-98cc-e5ff51c07543",
        "colab": {
          "base_uri": "https://localhost:8080/",
          "height": 51
        }
      },
      "source": [
        "print(score)\n",
        "print(score.mean())"
      ],
      "execution_count": 0,
      "outputs": [
        {
          "output_type": "stream",
          "text": [
            "[0.85865858 0.85752179 0.86808188 0.8570887  0.86201668]\n",
            "0.8606735268861749\n"
          ],
          "name": "stdout"
        }
      ]
    },
    {
      "cell_type": "markdown",
      "metadata": {
        "id": "FNbzOSOTVIKi",
        "colab_type": "text"
      },
      "source": [
        "Previsione su dati mai visti (test set)"
      ]
    },
    {
      "cell_type": "code",
      "metadata": {
        "id": "6g7E-XQEVLUG",
        "colab_type": "code",
        "outputId": "77a18490-c0e5-4b20-a308-18c6bf2e715a",
        "colab": {
          "base_uri": "https://localhost:8080/",
          "height": 510
        }
      },
      "source": [
        "%%time\n",
        "clf.fit(tfidf_train_stem_snowball_x, train_stem_snowball_y)\n",
        "predicted = clf.predict(tfidf_test_stem_snowball_x)\n",
        "print(classification_report(test_stem_snowball_y, predicted))"
      ],
      "execution_count": 0,
      "outputs": [
        {
          "output_type": "stream",
          "text": [
            "              precision    recall  f1-score   support\n",
            "\n",
            "           0       0.89      0.76      0.82       267\n",
            "           1       0.75      0.85      0.79       269\n",
            "           2       0.85      0.83      0.84       294\n",
            "           3       0.78      0.81      0.80       299\n",
            "           4       0.85      0.91      0.88       267\n",
            "           5       0.92      0.85      0.88       309\n",
            "           6       0.88      0.84      0.86       275\n",
            "           7       0.93      0.90      0.91       299\n",
            "           8       0.94      0.97      0.95       293\n",
            "           9       0.97      0.96      0.96       313\n",
            "          10       0.97      0.98      0.97       295\n",
            "          11       0.88      0.97      0.92       301\n",
            "          12       0.90      0.80      0.84       302\n",
            "          13       0.95      0.95      0.95       288\n",
            "          14       0.95      0.95      0.95       300\n",
            "          15       0.67      0.95      0.79       302\n",
            "          16       0.76      0.98      0.85       282\n",
            "          17       0.95      0.96      0.95       310\n",
            "          18       0.97      0.73      0.83       196\n",
            "          19       0.96      0.23      0.38       193\n",
            "\n",
            "    accuracy                           0.87      5654\n",
            "   macro avg       0.88      0.86      0.86      5654\n",
            "weighted avg       0.88      0.87      0.87      5654\n",
            "\n",
            "CPU times: user 81.2 ms, sys: 975 µs, total: 82.2 ms\n",
            "Wall time: 83.9 ms\n"
          ],
          "name": "stdout"
        }
      ]
    },
    {
      "cell_type": "markdown",
      "metadata": {
        "id": "cABbGg0fVZbe",
        "colab_type": "text"
      },
      "source": [
        "**1.8 Naive Bayes con TF-IDF + Stemming (Lancaster)**"
      ]
    },
    {
      "cell_type": "markdown",
      "metadata": {
        "id": "0AKQrXWZVetK",
        "colab_type": "text"
      },
      "source": [
        "Cross Validation (train set)"
      ]
    },
    {
      "cell_type": "code",
      "metadata": {
        "id": "mTn0VN8KVe8l",
        "colab_type": "code",
        "outputId": "7e3e01bc-4242-4036-e590-0eb4a711d31f",
        "colab": {
          "base_uri": "https://localhost:8080/",
          "height": 51
        }
      },
      "source": [
        "%%time\n",
        "score = cross_val_score(clf, tfidf_train_stem_lancaster_x, train_stem_lancaster_y, cv=5)"
      ],
      "execution_count": 0,
      "outputs": [
        {
          "output_type": "stream",
          "text": [
            "CPU times: user 253 ms, sys: 3.99 ms, total: 257 ms\n",
            "Wall time: 257 ms\n"
          ],
          "name": "stdout"
        }
      ]
    },
    {
      "cell_type": "code",
      "metadata": {
        "id": "9L8brL9zVfFh",
        "colab_type": "code",
        "outputId": "fb3d17da-8e08-46e8-faf3-7be879dda258",
        "colab": {
          "base_uri": "https://localhost:8080/",
          "height": 51
        }
      },
      "source": [
        "print(score)\n",
        "print(score.mean())"
      ],
      "execution_count": 0,
      "outputs": [
        {
          "output_type": "stream",
          "text": [
            "[0.85411141 0.8491853  0.85974223 0.85367703 0.85519333]\n",
            "0.8543818577177182\n"
          ],
          "name": "stdout"
        }
      ]
    },
    {
      "cell_type": "markdown",
      "metadata": {
        "id": "UP84JUYdVfdn",
        "colab_type": "text"
      },
      "source": [
        "Previsione su dati mai visti (test set)"
      ]
    },
    {
      "cell_type": "code",
      "metadata": {
        "id": "dxPj6T0aVfrQ",
        "colab_type": "code",
        "outputId": "508f1ec7-2589-42da-86e5-0f33c38021ee",
        "colab": {
          "base_uri": "https://localhost:8080/",
          "height": 510
        }
      },
      "source": [
        "%%time\n",
        "clf.fit(tfidf_train_stem_lancaster_x, train_stem_lancaster_y)\n",
        "predicted = clf.predict(tfidf_test_stem_lancaster_x)\n",
        "print(classification_report(test_stem_lancaster_y, predicted))"
      ],
      "execution_count": 0,
      "outputs": [
        {
          "output_type": "stream",
          "text": [
            "              precision    recall  f1-score   support\n",
            "\n",
            "           0       0.89      0.72      0.80       267\n",
            "           1       0.75      0.84      0.79       269\n",
            "           2       0.84      0.81      0.82       294\n",
            "           3       0.74      0.81      0.78       299\n",
            "           4       0.85      0.91      0.88       267\n",
            "           5       0.93      0.83      0.88       309\n",
            "           6       0.89      0.85      0.87       275\n",
            "           7       0.92      0.89      0.91       299\n",
            "           8       0.94      0.97      0.95       293\n",
            "           9       0.97      0.96      0.96       313\n",
            "          10       0.97      0.98      0.98       295\n",
            "          11       0.88      0.97      0.92       301\n",
            "          12       0.88      0.78      0.83       302\n",
            "          13       0.95      0.93      0.94       288\n",
            "          14       0.94      0.96      0.95       300\n",
            "          15       0.65      0.95      0.78       302\n",
            "          16       0.74      0.98      0.84       282\n",
            "          17       0.95      0.96      0.96       310\n",
            "          18       0.95      0.73      0.82       196\n",
            "          19       0.95      0.22      0.35       193\n",
            "\n",
            "    accuracy                           0.87      5654\n",
            "   macro avg       0.88      0.85      0.85      5654\n",
            "weighted avg       0.88      0.87      0.86      5654\n",
            "\n",
            "CPU times: user 77.6 ms, sys: 0 ns, total: 77.6 ms\n",
            "Wall time: 79 ms\n"
          ],
          "name": "stdout"
        }
      ]
    },
    {
      "cell_type": "markdown",
      "metadata": {
        "id": "hM-VOgu4mhtQ",
        "colab_type": "text"
      },
      "source": [
        "**1.9 Naive Bayes con Bigram + Lemmatization**"
      ]
    },
    {
      "cell_type": "markdown",
      "metadata": {
        "id": "wM2TwaQyzzph",
        "colab_type": "text"
      },
      "source": [
        "Cross Validation (train set)"
      ]
    },
    {
      "cell_type": "code",
      "metadata": {
        "id": "tL365bo2zz3m",
        "colab_type": "code",
        "outputId": "f8d7580d-6faf-4611-d934-478b92e7abd8",
        "colab": {
          "base_uri": "https://localhost:8080/",
          "height": 51
        }
      },
      "source": [
        "%%time\n",
        "score = cross_val_score(clf, bi_train_lem_x, train_lem_y, cv=5)"
      ],
      "execution_count": 0,
      "outputs": [
        {
          "output_type": "stream",
          "text": [
            "CPU times: user 298 ms, sys: 3.99 ms, total: 302 ms\n",
            "Wall time: 303 ms\n"
          ],
          "name": "stdout"
        }
      ]
    },
    {
      "cell_type": "code",
      "metadata": {
        "id": "lOWVxbaOz0AH",
        "colab_type": "code",
        "outputId": "926cf8f8-8d9a-4c1e-b694-4b01c6187219",
        "colab": {
          "base_uri": "https://localhost:8080/",
          "height": 51
        }
      },
      "source": [
        "print(score)\n",
        "print(score.mean())"
      ],
      "execution_count": 0,
      "outputs": [
        {
          "output_type": "stream",
          "text": [
            "[0.87305798 0.86358469 0.87187263 0.87149356 0.86504928]\n",
            "0.8690116267878942\n"
          ],
          "name": "stdout"
        }
      ]
    },
    {
      "cell_type": "markdown",
      "metadata": {
        "id": "Y1ooAqshz0Jy",
        "colab_type": "text"
      },
      "source": [
        "Previsione su dati mai visti (test set)"
      ]
    },
    {
      "cell_type": "code",
      "metadata": {
        "id": "KnxYAQapmhQS",
        "colab_type": "code",
        "outputId": "020a4289-4bd1-44d8-a0ec-6514216afce8",
        "colab": {
          "base_uri": "https://localhost:8080/",
          "height": 510
        }
      },
      "source": [
        "%%time\n",
        "clf.fit(bi_train_lem_x, train_lem_y)\n",
        "predicted = clf.predict(bi_test_lem_x)\n",
        "print(classification_report(test_lem_y, predicted))"
      ],
      "execution_count": 0,
      "outputs": [
        {
          "output_type": "stream",
          "text": [
            "              precision    recall  f1-score   support\n",
            "\n",
            "           0       0.89      0.81      0.84       267\n",
            "           1       0.73      0.88      0.80       269\n",
            "           2       0.84      0.83      0.83       294\n",
            "           3       0.78      0.79      0.79       299\n",
            "           4       0.83      0.89      0.86       267\n",
            "           5       0.91      0.87      0.89       309\n",
            "           6       0.82      0.88      0.85       275\n",
            "           7       0.91      0.90      0.90       299\n",
            "           8       0.93      0.95      0.94       293\n",
            "           9       0.95      0.94      0.94       313\n",
            "          10       0.95      0.97      0.96       295\n",
            "          11       0.96      0.95      0.95       301\n",
            "          12       0.90      0.80      0.85       302\n",
            "          13       0.93      0.94      0.94       288\n",
            "          14       0.94      0.94      0.94       300\n",
            "          15       0.73      0.94      0.82       302\n",
            "          16       0.80      0.95      0.87       282\n",
            "          17       0.96      0.95      0.96       310\n",
            "          18       0.94      0.73      0.82       196\n",
            "          19       0.93      0.33      0.49       193\n",
            "\n",
            "    accuracy                           0.87      5654\n",
            "   macro avg       0.88      0.86      0.86      5654\n",
            "weighted avg       0.88      0.87      0.87      5654\n",
            "\n",
            "CPU times: user 84.6 ms, sys: 2 ms, total: 86.6 ms\n",
            "Wall time: 88.2 ms\n"
          ],
          "name": "stdout"
        }
      ]
    },
    {
      "cell_type": "markdown",
      "metadata": {
        "id": "VjeiuqUbnKFU",
        "colab_type": "text"
      },
      "source": [
        "**1.10 Naive Bayes con Bigram + Stemming (Porter)**"
      ]
    },
    {
      "cell_type": "markdown",
      "metadata": {
        "id": "NR6KOBms0lr-",
        "colab_type": "text"
      },
      "source": [
        "Cross Validation (train set)"
      ]
    },
    {
      "cell_type": "code",
      "metadata": {
        "id": "hq1Wpz5m0l3y",
        "colab_type": "code",
        "outputId": "39a2a507-bc45-41e0-bc80-eb9c87a71e5c",
        "colab": {
          "base_uri": "https://localhost:8080/",
          "height": 51
        }
      },
      "source": [
        "%%time\n",
        "score = cross_val_score(clf, bi_train_stem_porter_x, train_stem_porter_y, cv=5)"
      ],
      "execution_count": 0,
      "outputs": [
        {
          "output_type": "stream",
          "text": [
            "CPU times: user 280 ms, sys: 5 ms, total: 285 ms\n",
            "Wall time: 286 ms\n"
          ],
          "name": "stdout"
        }
      ]
    },
    {
      "cell_type": "code",
      "metadata": {
        "id": "lmexNgxm0l-k",
        "colab_type": "code",
        "outputId": "096c880b-663c-408c-dd95-5899998b09ab",
        "colab": {
          "base_uri": "https://localhost:8080/",
          "height": 51
        }
      },
      "source": [
        "print(score)\n",
        "print(score.mean())"
      ],
      "execution_count": 0,
      "outputs": [
        {
          "output_type": "stream",
          "text": [
            "[0.87078439 0.86623721 0.87566338 0.86770281 0.86429113]\n",
            "0.8689357830478326\n"
          ],
          "name": "stdout"
        }
      ]
    },
    {
      "cell_type": "markdown",
      "metadata": {
        "id": "eBHEaG9C0mRL",
        "colab_type": "text"
      },
      "source": [
        "Previsione su dati mai visti (test set)"
      ]
    },
    {
      "cell_type": "code",
      "metadata": {
        "id": "9PVT8eyEnMz6",
        "colab_type": "code",
        "outputId": "d792be14-f282-4d4a-a1b4-62f50c4783d8",
        "colab": {
          "base_uri": "https://localhost:8080/",
          "height": 510
        }
      },
      "source": [
        "%%time\n",
        "clf.fit(bi_train_stem_porter_x, train_stem_porter_y)\n",
        "predicted = clf.predict(bi_test_stem_porter_x)\n",
        "print(classification_report(test_stem_porter_y, predicted))"
      ],
      "execution_count": 0,
      "outputs": [
        {
          "output_type": "stream",
          "text": [
            "              precision    recall  f1-score   support\n",
            "\n",
            "           0       0.89      0.79      0.84       267\n",
            "           1       0.73      0.86      0.79       269\n",
            "           2       0.84      0.82      0.83       294\n",
            "           3       0.77      0.79      0.78       299\n",
            "           4       0.84      0.90      0.87       267\n",
            "           5       0.90      0.88      0.89       309\n",
            "           6       0.83      0.87      0.85       275\n",
            "           7       0.92      0.91      0.92       299\n",
            "           8       0.94      0.94      0.94       293\n",
            "           9       0.95      0.94      0.94       313\n",
            "          10       0.95      0.98      0.96       295\n",
            "          11       0.95      0.95      0.95       301\n",
            "          12       0.89      0.79      0.84       302\n",
            "          13       0.94      0.94      0.94       288\n",
            "          14       0.95      0.94      0.94       300\n",
            "          15       0.72      0.95      0.82       302\n",
            "          16       0.79      0.95      0.86       282\n",
            "          17       0.97      0.96      0.97       310\n",
            "          18       0.94      0.74      0.83       196\n",
            "          19       0.92      0.32      0.47       193\n",
            "\n",
            "    accuracy                           0.87      5654\n",
            "   macro avg       0.88      0.86      0.86      5654\n",
            "weighted avg       0.88      0.87      0.87      5654\n",
            "\n",
            "CPU times: user 88.4 ms, sys: 985 µs, total: 89.4 ms\n",
            "Wall time: 91.4 ms\n"
          ],
          "name": "stdout"
        }
      ]
    },
    {
      "cell_type": "markdown",
      "metadata": {
        "id": "D0OjcV6fWirF",
        "colab_type": "text"
      },
      "source": [
        "**1.11 Naive Bayes con Bigram + Stemming (Snowball)**"
      ]
    },
    {
      "cell_type": "markdown",
      "metadata": {
        "id": "TX8U3tzvWsv6",
        "colab_type": "text"
      },
      "source": [
        "Cross Validation (train set)"
      ]
    },
    {
      "cell_type": "code",
      "metadata": {
        "id": "1ATEd2PfWvbq",
        "colab_type": "code",
        "outputId": "6b86a5ea-d1f2-4de0-d57c-81441315dc3d",
        "colab": {
          "base_uri": "https://localhost:8080/",
          "height": 51
        }
      },
      "source": [
        "%%time\n",
        "score = cross_val_score(clf, bi_train_stem_snowball_x, train_stem_snowball_y, cv=5)"
      ],
      "execution_count": 0,
      "outputs": [
        {
          "output_type": "stream",
          "text": [
            "CPU times: user 301 ms, sys: 1 ms, total: 302 ms\n",
            "Wall time: 303 ms\n"
          ],
          "name": "stdout"
        }
      ]
    },
    {
      "cell_type": "code",
      "metadata": {
        "id": "Dsh-qwr4W1V1",
        "colab_type": "code",
        "outputId": "00ef6fea-c0c2-4174-867c-7212c19ca957",
        "colab": {
          "base_uri": "https://localhost:8080/",
          "height": 51
        }
      },
      "source": [
        "print(score)\n",
        "print(score.mean())"
      ],
      "execution_count": 0,
      "outputs": [
        {
          "output_type": "stream",
          "text": [
            "[0.87078439 0.86510042 0.87680061 0.86808188 0.86391205]\n",
            "0.8689358692339006\n"
          ],
          "name": "stdout"
        }
      ]
    },
    {
      "cell_type": "markdown",
      "metadata": {
        "id": "deXEI8IvW4GT",
        "colab_type": "text"
      },
      "source": [
        "Previsione su dati mai visti (test set)"
      ]
    },
    {
      "cell_type": "code",
      "metadata": {
        "id": "AK7lSYMTW8CQ",
        "colab_type": "code",
        "outputId": "2c91c430-215e-4b7e-b279-4b57f9219e4a",
        "colab": {
          "base_uri": "https://localhost:8080/",
          "height": 510
        }
      },
      "source": [
        "%%time\n",
        "clf.fit(bi_train_stem_snowball_x, train_stem_snowball_y)\n",
        "predicted = clf.predict(bi_test_stem_snowball_x)\n",
        "print(classification_report(test_stem_snowball_y, predicted))"
      ],
      "execution_count": 0,
      "outputs": [
        {
          "output_type": "stream",
          "text": [
            "              precision    recall  f1-score   support\n",
            "\n",
            "           0       0.89      0.79      0.84       267\n",
            "           1       0.73      0.86      0.79       269\n",
            "           2       0.84      0.82      0.83       294\n",
            "           3       0.77      0.79      0.78       299\n",
            "           4       0.84      0.89      0.87       267\n",
            "           5       0.90      0.87      0.89       309\n",
            "           6       0.84      0.87      0.85       275\n",
            "           7       0.92      0.91      0.92       299\n",
            "           8       0.94      0.95      0.95       293\n",
            "           9       0.95      0.94      0.94       313\n",
            "          10       0.95      0.98      0.96       295\n",
            "          11       0.94      0.95      0.95       301\n",
            "          12       0.89      0.80      0.84       302\n",
            "          13       0.94      0.94      0.94       288\n",
            "          14       0.95      0.94      0.94       300\n",
            "          15       0.72      0.95      0.82       302\n",
            "          16       0.79      0.95      0.86       282\n",
            "          17       0.97      0.96      0.97       310\n",
            "          18       0.93      0.74      0.83       196\n",
            "          19       0.92      0.31      0.47       193\n",
            "\n",
            "    accuracy                           0.87      5654\n",
            "   macro avg       0.88      0.86      0.86      5654\n",
            "weighted avg       0.88      0.87      0.87      5654\n",
            "\n",
            "CPU times: user 86 ms, sys: 1e+03 µs, total: 87 ms\n",
            "Wall time: 88.5 ms\n"
          ],
          "name": "stdout"
        }
      ]
    },
    {
      "cell_type": "markdown",
      "metadata": {
        "id": "vo0eaXmrXCKR",
        "colab_type": "text"
      },
      "source": [
        "**1.12 Naive Bayes con Bigram + Stemming (Lancaster)**"
      ]
    },
    {
      "cell_type": "markdown",
      "metadata": {
        "id": "J_SD8_0wXIl6",
        "colab_type": "text"
      },
      "source": [
        "Cross Validation (train set)"
      ]
    },
    {
      "cell_type": "code",
      "metadata": {
        "id": "n0RbSo6nXML8",
        "colab_type": "code",
        "outputId": "15d4e504-d696-4237-ab08-348f918b2aca",
        "colab": {
          "base_uri": "https://localhost:8080/",
          "height": 51
        }
      },
      "source": [
        "%%time\n",
        "score = cross_val_score(clf, bi_train_stem_lancaster_x, train_stem_lancaster_y, cv=5)"
      ],
      "execution_count": 0,
      "outputs": [
        {
          "output_type": "stream",
          "text": [
            "CPU times: user 299 ms, sys: 2.97 ms, total: 302 ms\n",
            "Wall time: 306 ms\n"
          ],
          "name": "stdout"
        }
      ]
    },
    {
      "cell_type": "code",
      "metadata": {
        "id": "HmH8JUGjXMVM",
        "colab_type": "code",
        "outputId": "7511281f-f115-4974-f309-cba06913d0c6",
        "colab": {
          "base_uri": "https://localhost:8080/",
          "height": 51
        }
      },
      "source": [
        "print(score)\n",
        "print(score.mean())"
      ],
      "execution_count": 0,
      "outputs": [
        {
          "output_type": "stream",
          "text": [
            "[0.8624479  0.86623721 0.87035633 0.86125853 0.85633055]\n",
            "0.8633261042374529\n"
          ],
          "name": "stdout"
        }
      ]
    },
    {
      "cell_type": "markdown",
      "metadata": {
        "id": "He7GYNTJXS77",
        "colab_type": "text"
      },
      "source": [
        "Previsione su dati mai visti (test set)"
      ]
    },
    {
      "cell_type": "code",
      "metadata": {
        "id": "OnDkPMk7XV-U",
        "colab_type": "code",
        "outputId": "78ec01bb-2f21-48d2-aa6b-f3ca4647192f",
        "colab": {
          "base_uri": "https://localhost:8080/",
          "height": 510
        }
      },
      "source": [
        "%%time\n",
        "clf.fit(bi_train_stem_lancaster_x, train_stem_lancaster_y)\n",
        "predicted = clf.predict(bi_test_stem_lancaster_x)\n",
        "print(classification_report(test_stem_lancaster_y, predicted))"
      ],
      "execution_count": 0,
      "outputs": [
        {
          "output_type": "stream",
          "text": [
            "              precision    recall  f1-score   support\n",
            "\n",
            "           0       0.88      0.78      0.83       267\n",
            "           1       0.72      0.85      0.78       269\n",
            "           2       0.85      0.81      0.83       294\n",
            "           3       0.76      0.79      0.77       299\n",
            "           4       0.83      0.88      0.86       267\n",
            "           5       0.91      0.87      0.89       309\n",
            "           6       0.84      0.87      0.85       275\n",
            "           7       0.91      0.91      0.91       299\n",
            "           8       0.95      0.95      0.95       293\n",
            "           9       0.95      0.94      0.95       313\n",
            "          10       0.96      0.98      0.97       295\n",
            "          11       0.95      0.95      0.95       301\n",
            "          12       0.88      0.81      0.84       302\n",
            "          13       0.92      0.93      0.93       288\n",
            "          14       0.94      0.94      0.94       300\n",
            "          15       0.71      0.95      0.81       302\n",
            "          16       0.80      0.96      0.87       282\n",
            "          17       0.96      0.96      0.96       310\n",
            "          18       0.93      0.77      0.84       196\n",
            "          19       0.93      0.28      0.44       193\n",
            "\n",
            "    accuracy                           0.87      5654\n",
            "   macro avg       0.88      0.86      0.86      5654\n",
            "weighted avg       0.88      0.87      0.87      5654\n",
            "\n",
            "CPU times: user 88.9 ms, sys: 1.01 ms, total: 89.9 ms\n",
            "Wall time: 90.7 ms\n"
          ],
          "name": "stdout"
        }
      ]
    },
    {
      "cell_type": "markdown",
      "metadata": {
        "id": "rrgumkbZnl2I",
        "colab_type": "text"
      },
      "source": [
        "### **2. Support Vector Machine (SVM)**"
      ]
    },
    {
      "cell_type": "code",
      "metadata": {
        "id": "cnYmKgLSoQBh",
        "colab_type": "code",
        "colab": {}
      },
      "source": [
        "clf = svm.SVC()"
      ],
      "execution_count": 0,
      "outputs": []
    },
    {
      "cell_type": "markdown",
      "metadata": {
        "id": "cL2hmOAZoVmJ",
        "colab_type": "text"
      },
      "source": [
        "**2.1 SVM con TF + Lemmatization**"
      ]
    },
    {
      "cell_type": "markdown",
      "metadata": {
        "id": "ccvYxT761VcN",
        "colab_type": "text"
      },
      "source": [
        "Cross Validation (train set)"
      ]
    },
    {
      "cell_type": "code",
      "metadata": {
        "id": "DqPdqOoz1Von",
        "colab_type": "code",
        "colab": {}
      },
      "source": [
        "%%time\n",
        "score = cross_val_score(clf, tf_train_lem_x, train_lem_y, cv=5)"
      ],
      "execution_count": 0,
      "outputs": []
    },
    {
      "cell_type": "code",
      "metadata": {
        "id": "oSpDqyoS1Vwi",
        "colab_type": "code",
        "colab": {}
      },
      "source": [
        "print(score)\n",
        "print(score.mean())"
      ],
      "execution_count": 0,
      "outputs": []
    },
    {
      "cell_type": "markdown",
      "metadata": {
        "id": "Ir3EiTM71V53",
        "colab_type": "text"
      },
      "source": [
        "Previsione su dati mai visti (test set)"
      ]
    },
    {
      "cell_type": "code",
      "metadata": {
        "id": "LFUP3QSJoTc5",
        "colab_type": "code",
        "colab": {}
      },
      "source": [
        "%%time\n",
        "clf.fit(tf_train_lem_x, train_lem_y)\n",
        "predicted = clf.predict(tf_test_lem_x)\n",
        "print(classification_report(test_lem_y, predicted))"
      ],
      "execution_count": 0,
      "outputs": []
    },
    {
      "cell_type": "markdown",
      "metadata": {
        "id": "Cnq1aiweptbg",
        "colab_type": "text"
      },
      "source": [
        "**2.2 SVM con TF + Stemming (Porter)**"
      ]
    },
    {
      "cell_type": "markdown",
      "metadata": {
        "id": "j4WLr-1k1lUy",
        "colab_type": "text"
      },
      "source": [
        "Cross validation (train set)"
      ]
    },
    {
      "cell_type": "code",
      "metadata": {
        "id": "jaTor8x11lfK",
        "colab_type": "code",
        "colab": {}
      },
      "source": [
        "%%time\n",
        "score = cross_val_score(clf, tf_train_stem_porter_x, train_stem_porter_y, cv=5)"
      ],
      "execution_count": 0,
      "outputs": []
    },
    {
      "cell_type": "code",
      "metadata": {
        "id": "AYRM4ov31lnP",
        "colab_type": "code",
        "colab": {}
      },
      "source": [
        "print(score)\n",
        "print(score.mean())"
      ],
      "execution_count": 0,
      "outputs": []
    },
    {
      "cell_type": "markdown",
      "metadata": {
        "id": "w_JnQi_y1l0t",
        "colab_type": "text"
      },
      "source": [
        "Previsione su dati mai visti (test set)"
      ]
    },
    {
      "cell_type": "code",
      "metadata": {
        "id": "6Y-nbRgqpyz4",
        "colab_type": "code",
        "colab": {}
      },
      "source": [
        "%%time\n",
        "clf.fit(tf_train_stem_porter_x, train_stem_porter_y)\n",
        "predicted = clf.predict(tf_test_stem_porter_x)\n",
        "print(classification_report(test_stem_porter_y, predicted))"
      ],
      "execution_count": 0,
      "outputs": []
    },
    {
      "cell_type": "markdown",
      "metadata": {
        "id": "vcjiovg2dmWZ",
        "colab_type": "text"
      },
      "source": [
        "**2.3 SVM con TF + Stemming (Snowball)**"
      ]
    },
    {
      "cell_type": "markdown",
      "metadata": {
        "id": "9Juu-e2adtCQ",
        "colab_type": "text"
      },
      "source": [
        "Cross Validation (train set)"
      ]
    },
    {
      "cell_type": "code",
      "metadata": {
        "id": "YSqv4a5rdwxh",
        "colab_type": "code",
        "colab": {}
      },
      "source": [
        "%%time\n",
        "score = cross_val_score(clf, tf_train_stem_snowball_x, train_stem_snowball_y, cv=5)"
      ],
      "execution_count": 0,
      "outputs": []
    },
    {
      "cell_type": "code",
      "metadata": {
        "id": "a4BJEZQwd2ni",
        "colab_type": "code",
        "colab": {}
      },
      "source": [
        "print(score)\n",
        "print(score.mean())"
      ],
      "execution_count": 0,
      "outputs": []
    },
    {
      "cell_type": "markdown",
      "metadata": {
        "id": "Njaem2zbd4Z9",
        "colab_type": "text"
      },
      "source": [
        "Previsione su dati mai visti (test set)"
      ]
    },
    {
      "cell_type": "code",
      "metadata": {
        "id": "Ut5OIUyseAyc",
        "colab_type": "code",
        "colab": {}
      },
      "source": [
        "%%time\n",
        "clf.fit(tf_train_stem_snowball_x, train_stem_snowball_y)\n",
        "predicted = clf.predict(tf_test_stem_snowball_x)\n",
        "print(classification_report(test_stem_snowball_y, predicted))"
      ],
      "execution_count": 0,
      "outputs": []
    },
    {
      "cell_type": "markdown",
      "metadata": {
        "id": "tczE3PtMeGu8",
        "colab_type": "text"
      },
      "source": [
        "**2.4 SVM con TF + Stemming (Lancaster)**"
      ]
    },
    {
      "cell_type": "markdown",
      "metadata": {
        "id": "Q0NgIFc9eMsp",
        "colab_type": "text"
      },
      "source": [
        "Cross Validation (train set)"
      ]
    },
    {
      "cell_type": "code",
      "metadata": {
        "id": "etMaZjV3ePE_",
        "colab_type": "code",
        "colab": {}
      },
      "source": [
        "%%time\n",
        "score = cross_val_score(clf, tf_train_stem_lancaster_x, train_stem_lancaster_y, cv=5)"
      ],
      "execution_count": 0,
      "outputs": []
    },
    {
      "cell_type": "code",
      "metadata": {
        "id": "jtpKDhdaePMs",
        "colab_type": "code",
        "colab": {}
      },
      "source": [
        "print(score)\n",
        "print(score.mean())"
      ],
      "execution_count": 0,
      "outputs": []
    },
    {
      "cell_type": "markdown",
      "metadata": {
        "id": "_P4_qpImeb6W",
        "colab_type": "text"
      },
      "source": [
        "Previsione su dati mai visti (test set)"
      ]
    },
    {
      "cell_type": "code",
      "metadata": {
        "id": "fZCp98CaefTW",
        "colab_type": "code",
        "colab": {}
      },
      "source": [
        "%%time\n",
        "clf.fit(tf_train_stem_lancaster_x, train_stem_lancaster_y)\n",
        "predicted = clf.predict(tf_test_stem_lancaster_x)\n",
        "print(classification_report(test_stem_lancaster_y, predicted))"
      ],
      "execution_count": 0,
      "outputs": []
    },
    {
      "cell_type": "markdown",
      "metadata": {
        "id": "aWNXDLOMqgge",
        "colab_type": "text"
      },
      "source": [
        "**2.5 SVM con TF-IDF + Lemmatization**"
      ]
    },
    {
      "cell_type": "markdown",
      "metadata": {
        "id": "BIL-Wll62XXG",
        "colab_type": "text"
      },
      "source": [
        "Cross Validation (train set)"
      ]
    },
    {
      "cell_type": "code",
      "metadata": {
        "id": "9LfEPgRe2Xjw",
        "colab_type": "code",
        "colab": {}
      },
      "source": [
        "%%time\n",
        "score = cross_val_score(clf, tfidf_train_lem_x, train_lem_y, cv=5)"
      ],
      "execution_count": 0,
      "outputs": []
    },
    {
      "cell_type": "code",
      "metadata": {
        "id": "OVst9d1Y2XsG",
        "colab_type": "code",
        "colab": {}
      },
      "source": [
        "print(score)\n",
        "print(score.mean())"
      ],
      "execution_count": 0,
      "outputs": []
    },
    {
      "cell_type": "markdown",
      "metadata": {
        "id": "lO6SvFQe2Xzd",
        "colab_type": "text"
      },
      "source": [
        "Previsione su dati mai visti (test set)"
      ]
    },
    {
      "cell_type": "code",
      "metadata": {
        "id": "vCinJ7BGqkHl",
        "colab_type": "code",
        "colab": {}
      },
      "source": [
        "%%time\n",
        "clf.fit(tfidf_train_lem_x, train_lem_y)\n",
        "predicted = clf.predict(tfidf_test_lem_x)\n",
        "print(classification_report(test_lem_y, predicted))"
      ],
      "execution_count": 0,
      "outputs": []
    },
    {
      "cell_type": "markdown",
      "metadata": {
        "id": "7pGv3eM8tpiY",
        "colab_type": "text"
      },
      "source": [
        "**2.6 SVM con TF-IDF + Stemming (Porter)**"
      ]
    },
    {
      "cell_type": "markdown",
      "metadata": {
        "id": "O9msg31N2rRN",
        "colab_type": "text"
      },
      "source": [
        "Cross Validation (train set)"
      ]
    },
    {
      "cell_type": "code",
      "metadata": {
        "id": "i3UAyK7e2r-J",
        "colab_type": "code",
        "colab": {}
      },
      "source": [
        "%%time\n",
        "score = cross_val_score(clf, tfidf_train_stem_porter_x, train_stem_porter_y, cv=5)"
      ],
      "execution_count": 0,
      "outputs": []
    },
    {
      "cell_type": "code",
      "metadata": {
        "id": "VVa-B3vb2sH5",
        "colab_type": "code",
        "colab": {}
      },
      "source": [
        "print(score)\n",
        "print(score.mean())"
      ],
      "execution_count": 0,
      "outputs": []
    },
    {
      "cell_type": "markdown",
      "metadata": {
        "id": "AxnGT8k82sXG",
        "colab_type": "text"
      },
      "source": [
        "Previsione su dati mai visti (test set)"
      ]
    },
    {
      "cell_type": "code",
      "metadata": {
        "id": "sKuYqfbytwJw",
        "colab_type": "code",
        "colab": {}
      },
      "source": [
        "%%time\n",
        "clf.fit(tfidf_train_stem_porter_x, train_stem_porter_y)\n",
        "predicted = clf.predict(tfidf_test_stem_porter_x)\n",
        "print(classification_report(test_stem_porter_y, predicted))"
      ],
      "execution_count": 0,
      "outputs": []
    },
    {
      "cell_type": "markdown",
      "metadata": {
        "id": "1AnY1TK7e98T",
        "colab_type": "text"
      },
      "source": [
        "**2.7 SVM con TF-IDF + Stemming (Snowball)**"
      ]
    },
    {
      "cell_type": "markdown",
      "metadata": {
        "id": "bRz8I0FxfEUe",
        "colab_type": "text"
      },
      "source": [
        "Cross Validation (train set)"
      ]
    },
    {
      "cell_type": "code",
      "metadata": {
        "id": "IAW_alaEfDQg",
        "colab_type": "code",
        "colab": {}
      },
      "source": [
        "%%time\n",
        "score = cross_val_score(clf, tfidf_train_stem_snowball_x, train_stem_snowball_y, cv=5)"
      ],
      "execution_count": 0,
      "outputs": []
    },
    {
      "cell_type": "code",
      "metadata": {
        "id": "1Tk_3kvBfQMP",
        "colab_type": "code",
        "colab": {}
      },
      "source": [
        "print(score)\n",
        "print(score.mean())"
      ],
      "execution_count": 0,
      "outputs": []
    },
    {
      "cell_type": "markdown",
      "metadata": {
        "id": "tiiiXR04fRgl",
        "colab_type": "text"
      },
      "source": [
        "Previsione su dati mai visti (test set)"
      ]
    },
    {
      "cell_type": "code",
      "metadata": {
        "id": "J7g5rHYTfUB0",
        "colab_type": "code",
        "colab": {}
      },
      "source": [
        "%%time\n",
        "clf.fit(tfidf_train_stem_snowball_x, train_stem_snowball_y)\n",
        "predicted = clf.predict(tfidf_test_stem_snowball_x)\n",
        "print(classification_report(test_stem_snowball_y, predicted))"
      ],
      "execution_count": 0,
      "outputs": []
    },
    {
      "cell_type": "markdown",
      "metadata": {
        "id": "ck12piCZfay8",
        "colab_type": "text"
      },
      "source": [
        "**2.8 SVM con TF-IDF + Stemming (Lancaster)**"
      ]
    },
    {
      "cell_type": "markdown",
      "metadata": {
        "id": "-EH0Ee3AfiNI",
        "colab_type": "text"
      },
      "source": [
        "Cross Validation (train set)"
      ]
    },
    {
      "cell_type": "code",
      "metadata": {
        "id": "N5-06AGjfidn",
        "colab_type": "code",
        "colab": {}
      },
      "source": [
        "%%time\n",
        "score = cross_val_score(clf, tfidf_train_stem_lancaster_x, train_stem_lancaster_y, cv=5)"
      ],
      "execution_count": 0,
      "outputs": []
    },
    {
      "cell_type": "code",
      "metadata": {
        "id": "Tk3k7QeufimC",
        "colab_type": "code",
        "colab": {}
      },
      "source": [
        "print(score)\n",
        "print(score.mean())"
      ],
      "execution_count": 0,
      "outputs": []
    },
    {
      "cell_type": "markdown",
      "metadata": {
        "id": "xAFtF5-jfrPq",
        "colab_type": "text"
      },
      "source": [
        "Previsione su dati mai visti (test set)"
      ]
    },
    {
      "cell_type": "code",
      "metadata": {
        "id": "FBt3TWZIfuIs",
        "colab_type": "code",
        "colab": {}
      },
      "source": [
        "%%time\n",
        "clf.fit(tfidf_train_stem_lancaster_x, train_stem_lancaster_y)\n",
        "predicted = clf.predict(tfidf_test_stem_lancaster_x)\n",
        "print(classification_report(test_stem_lancaster_y, predicted))"
      ],
      "execution_count": 0,
      "outputs": []
    },
    {
      "cell_type": "markdown",
      "metadata": {
        "id": "FJkDGGub1WV3",
        "colab_type": "text"
      },
      "source": [
        "**2.9 SVM con Bigram + Lemmatization**"
      ]
    },
    {
      "cell_type": "markdown",
      "metadata": {
        "id": "jZWb_mCh2_rp",
        "colab_type": "text"
      },
      "source": [
        "Cross Validation (train set)"
      ]
    },
    {
      "cell_type": "code",
      "metadata": {
        "id": "J3UTL2yb2_0t",
        "colab_type": "code",
        "colab": {}
      },
      "source": [
        "%%time\n",
        "score = cross_val_score(clf, bi_train_lem_x, train_lem_y, cv=5)"
      ],
      "execution_count": 0,
      "outputs": []
    },
    {
      "cell_type": "code",
      "metadata": {
        "id": "wWPjvFYP2_90",
        "colab_type": "code",
        "colab": {}
      },
      "source": [
        "print(score)\n",
        "print(score.mean())"
      ],
      "execution_count": 0,
      "outputs": []
    },
    {
      "cell_type": "markdown",
      "metadata": {
        "id": "LSx-YJdl3AFP",
        "colab_type": "text"
      },
      "source": [
        "Previsione su dati mai visti (test set)"
      ]
    },
    {
      "cell_type": "code",
      "metadata": {
        "id": "EuBh1Usg1dX7",
        "colab_type": "code",
        "colab": {}
      },
      "source": [
        "%%time\n",
        "clf.fit(bi_train_lem_x, train_lem_y)\n",
        "predicted = clf.predict(bi_test_lem_x)\n",
        "print(classification_report(test_lem_y, predicted))"
      ],
      "execution_count": 0,
      "outputs": []
    },
    {
      "cell_type": "markdown",
      "metadata": {
        "id": "KD4m3AQ-1lkh",
        "colab_type": "text"
      },
      "source": [
        "**2.10 SVM con Bigram + Stemming (Porter)**"
      ]
    },
    {
      "cell_type": "markdown",
      "metadata": {
        "id": "jKZHfVvT3TeX",
        "colab_type": "text"
      },
      "source": [
        "Cross Validation (train set)"
      ]
    },
    {
      "cell_type": "code",
      "metadata": {
        "id": "uvZyZIpK3Tq2",
        "colab_type": "code",
        "colab": {}
      },
      "source": [
        "%%time\n",
        "score = cross_val_score(clf, bi_train_stem_porter_x, train_stem_porter_y, cv=5)"
      ],
      "execution_count": 0,
      "outputs": []
    },
    {
      "cell_type": "code",
      "metadata": {
        "id": "cGMYMcq13TzN",
        "colab_type": "code",
        "colab": {}
      },
      "source": [
        "print(score)\n",
        "print(score.mean())"
      ],
      "execution_count": 0,
      "outputs": []
    },
    {
      "cell_type": "markdown",
      "metadata": {
        "id": "sfdlOfsX3T9W",
        "colab_type": "text"
      },
      "source": [
        "Previsione su dati mai visti (test set)"
      ]
    },
    {
      "cell_type": "code",
      "metadata": {
        "id": "XbkWXQ0S1szE",
        "colab_type": "code",
        "colab": {}
      },
      "source": [
        "%%time\n",
        "clf.fit(bi_train_stem_porter_x, train_stem_porter_y)\n",
        "predicted = clf.predict(bi_test_stem_porter_x)\n",
        "print(classification_report(test_stem_porter_y, predicted))"
      ],
      "execution_count": 0,
      "outputs": []
    },
    {
      "cell_type": "markdown",
      "metadata": {
        "id": "U1qS3n6FgH2s",
        "colab_type": "text"
      },
      "source": [
        "**2.11 SVM con Bigram + Stemming (Snowball)**"
      ]
    },
    {
      "cell_type": "markdown",
      "metadata": {
        "id": "I7KpI_2cgNQq",
        "colab_type": "text"
      },
      "source": [
        "Cross Validation (train set)"
      ]
    },
    {
      "cell_type": "code",
      "metadata": {
        "id": "KWj0fZCcgU9d",
        "colab_type": "code",
        "colab": {}
      },
      "source": [
        "%%time\n",
        "score = cross_val_score(clf, bi_train_stem_snowball_x, train_stem_snowball_y, cv=5)"
      ],
      "execution_count": 0,
      "outputs": []
    },
    {
      "cell_type": "code",
      "metadata": {
        "id": "xdfQbP6OgZW5",
        "colab_type": "code",
        "colab": {}
      },
      "source": [
        "print(score)\n",
        "print(score.mean())"
      ],
      "execution_count": 0,
      "outputs": []
    },
    {
      "cell_type": "markdown",
      "metadata": {
        "id": "jGEev3TJgbPi",
        "colab_type": "text"
      },
      "source": [
        "Previsione su dati mai visti (test set)"
      ]
    },
    {
      "cell_type": "code",
      "metadata": {
        "id": "5A0Wz4yOgeQ_",
        "colab_type": "code",
        "colab": {}
      },
      "source": [
        "%%time\n",
        "clf.fit(bi_train_stem_snowball_x, train_stem_snowball_y)\n",
        "predicted = clf.predict(bi_test_stem_snowball_x)\n",
        "print(classification_report(test_stem_snowball_y, predicted))"
      ],
      "execution_count": 0,
      "outputs": []
    },
    {
      "cell_type": "markdown",
      "metadata": {
        "id": "RUuKzAGngmlm",
        "colab_type": "text"
      },
      "source": [
        "**2.12 SVM con Bigram + Stemming (Lancaster)**"
      ]
    },
    {
      "cell_type": "markdown",
      "metadata": {
        "id": "ZTuwiGK7gsGD",
        "colab_type": "text"
      },
      "source": [
        "Cross Validation (train set)"
      ]
    },
    {
      "cell_type": "code",
      "metadata": {
        "id": "SEHNH_ddgsaI",
        "colab_type": "code",
        "colab": {}
      },
      "source": [
        "%%time\n",
        "score = cross_val_score(clf, bi_train_stem_lancaster_x, train_stem_lancaster_y, cv=5)"
      ],
      "execution_count": 0,
      "outputs": []
    },
    {
      "cell_type": "code",
      "metadata": {
        "id": "CdpYgv_ggslJ",
        "colab_type": "code",
        "colab": {}
      },
      "source": [
        "print(score)\n",
        "print(score.mean())"
      ],
      "execution_count": 0,
      "outputs": []
    },
    {
      "cell_type": "markdown",
      "metadata": {
        "id": "eI6T-Zv1g01b",
        "colab_type": "text"
      },
      "source": [
        "Previsione su dati mai visti (test set)"
      ]
    },
    {
      "cell_type": "code",
      "metadata": {
        "id": "JAe124_6g3ya",
        "colab_type": "code",
        "colab": {}
      },
      "source": [
        "%%time\n",
        "clf.fit(bi_train_stem_lancaster_x, train_stem_lancaster_y)\n",
        "predicted = clf.predict(bi_test_stem_lancaster_x)\n",
        "print(classification_report(test_stem_lancaster_y, predicted))"
      ],
      "execution_count": 0,
      "outputs": []
    },
    {
      "cell_type": "markdown",
      "metadata": {
        "id": "xR-e8UId5Ir7",
        "colab_type": "text"
      },
      "source": [
        "###**3. Random Forest**"
      ]
    },
    {
      "cell_type": "code",
      "metadata": {
        "id": "Jt36ZvAR5oI3",
        "colab_type": "code",
        "colab": {}
      },
      "source": [
        "clf = RandomForestClassifier()"
      ],
      "execution_count": 0,
      "outputs": []
    },
    {
      "cell_type": "markdown",
      "metadata": {
        "id": "6_fWR6Cs3rBo",
        "colab_type": "text"
      },
      "source": [
        "**3.1 Random Forest con TF + Lemmatization**"
      ]
    },
    {
      "cell_type": "markdown",
      "metadata": {
        "id": "CG-t1c-U337s",
        "colab_type": "text"
      },
      "source": [
        "Cross Validation (train test)"
      ]
    },
    {
      "cell_type": "code",
      "metadata": {
        "id": "tWJjUC6d34JC",
        "colab_type": "code",
        "colab": {}
      },
      "source": [
        "%%time\n",
        "score = cross_val_score(clf, tf_train_lem_x, train_lem_y, cv=5)"
      ],
      "execution_count": 0,
      "outputs": []
    },
    {
      "cell_type": "code",
      "metadata": {
        "id": "d61vRS1334SN",
        "colab_type": "code",
        "colab": {}
      },
      "source": [
        "print(score)\n",
        "print(score.mean())"
      ],
      "execution_count": 0,
      "outputs": []
    },
    {
      "cell_type": "markdown",
      "metadata": {
        "id": "IOEH1_Rh34aR",
        "colab_type": "text"
      },
      "source": [
        "Previsione su dati mai visti (test set)"
      ]
    },
    {
      "cell_type": "code",
      "metadata": {
        "id": "pOBc_iyt5eps",
        "colab_type": "code",
        "colab": {}
      },
      "source": [
        "%%time\n",
        "clf.fit(tf_train_lem_x, train_lem_y)\n",
        "predicted = clf.predict(tf_test_lem_x)\n",
        "print(classification_report(test_lem_y, predicted))"
      ],
      "execution_count": 0,
      "outputs": []
    },
    {
      "cell_type": "markdown",
      "metadata": {
        "id": "De4hy_Xf6CeS",
        "colab_type": "text"
      },
      "source": [
        "**3.2 Random Forest con TF + Stemming (Porter)**"
      ]
    },
    {
      "cell_type": "markdown",
      "metadata": {
        "id": "8lZ8aGk74LKM",
        "colab_type": "text"
      },
      "source": [
        "Cross Validation (train set)"
      ]
    },
    {
      "cell_type": "code",
      "metadata": {
        "id": "4ddIhOOX4LT2",
        "colab_type": "code",
        "colab": {}
      },
      "source": [
        "%%time\n",
        "score = cross_val_score(clf, tf_train_stem_porter_x, train_stem_porter_y, cv=5)"
      ],
      "execution_count": 0,
      "outputs": []
    },
    {
      "cell_type": "code",
      "metadata": {
        "id": "VWbcc42f4Ldl",
        "colab_type": "code",
        "colab": {}
      },
      "source": [
        "print(score)\n",
        "print(score.mean())"
      ],
      "execution_count": 0,
      "outputs": []
    },
    {
      "cell_type": "markdown",
      "metadata": {
        "id": "_nExNIVu4Lsu",
        "colab_type": "text"
      },
      "source": [
        "Previsione su dati mai visti (test set)"
      ]
    },
    {
      "cell_type": "code",
      "metadata": {
        "id": "2-JoxlI36FW1",
        "colab_type": "code",
        "colab": {}
      },
      "source": [
        "%%time\n",
        "clf.fit(tf_train_stem_porter_x, train_stem_porter_y)\n",
        "predicted = clf.predict(tf_test_stem_porter_x)\n",
        "print(classification_report(test_stem_porter_y, predicted))"
      ],
      "execution_count": 0,
      "outputs": []
    },
    {
      "cell_type": "markdown",
      "metadata": {
        "id": "WlbofJzLhdpB",
        "colab_type": "text"
      },
      "source": [
        "**3.3 Random Forest con TF + Stemming (Snowball)**"
      ]
    },
    {
      "cell_type": "markdown",
      "metadata": {
        "id": "UNRl0D-whkpd",
        "colab_type": "text"
      },
      "source": [
        "Cross Validation (train set)"
      ]
    },
    {
      "cell_type": "code",
      "metadata": {
        "id": "ng2MiLCvhn6R",
        "colab_type": "code",
        "colab": {}
      },
      "source": [
        "%%time\n",
        "score = cross_val_score(clf, tf_train_stem_snowball_x, train_stem_snowball_y, cv=5)"
      ],
      "execution_count": 0,
      "outputs": []
    },
    {
      "cell_type": "code",
      "metadata": {
        "id": "1R_UhsANhoFw",
        "colab_type": "code",
        "colab": {}
      },
      "source": [
        "print(score)\n",
        "print(score.mean())"
      ],
      "execution_count": 0,
      "outputs": []
    },
    {
      "cell_type": "markdown",
      "metadata": {
        "id": "ht14WgXxhu44",
        "colab_type": "text"
      },
      "source": [
        "Previsione su dati mai visti (test set)"
      ]
    },
    {
      "cell_type": "code",
      "metadata": {
        "id": "biMT0794hyDi",
        "colab_type": "code",
        "colab": {}
      },
      "source": [
        "%%time\n",
        "clf.fit(tf_train_stem_snowball_x, train_stem_snowball_y)\n",
        "predicted = clf.predict(tf_test_stem_snowball_x)\n",
        "print(classification_report(test_stem_snowball_y, predicted))"
      ],
      "execution_count": 0,
      "outputs": []
    },
    {
      "cell_type": "markdown",
      "metadata": {
        "id": "fLNp35qJh59F",
        "colab_type": "text"
      },
      "source": [
        "**3.4 Random Forest con TF + Stemming (Lancaster)**"
      ]
    },
    {
      "cell_type": "markdown",
      "metadata": {
        "id": "-frjgBv5h_hG",
        "colab_type": "text"
      },
      "source": [
        "Cross Validation (train set)"
      ]
    },
    {
      "cell_type": "code",
      "metadata": {
        "id": "koIrf2Tzh_x-",
        "colab_type": "code",
        "colab": {}
      },
      "source": [
        "%%time\n",
        "score = cross_val_score(clf, tf_train_stem_lancaster_x, train_stem_lancaster_y, cv=5)"
      ],
      "execution_count": 0,
      "outputs": []
    },
    {
      "cell_type": "code",
      "metadata": {
        "id": "qo11NUo6h_8G",
        "colab_type": "code",
        "colab": {}
      },
      "source": [
        "print(score)\n",
        "print(score.mean())"
      ],
      "execution_count": 0,
      "outputs": []
    },
    {
      "cell_type": "markdown",
      "metadata": {
        "id": "xQ1rcr7wiMgf",
        "colab_type": "text"
      },
      "source": [
        "Previsione su dati mai visti (test set)"
      ]
    },
    {
      "cell_type": "code",
      "metadata": {
        "id": "XHxx7V6iiP5F",
        "colab_type": "code",
        "colab": {}
      },
      "source": [
        "%%time\n",
        "clf.fit(tf_train_stem_lancaster_x, train_stem_lancaster_y)\n",
        "predicted = clf.predict(tf_test_stem_lancaster_x)\n",
        "print(classification_report(test_stem_lancaster_y, predicted))"
      ],
      "execution_count": 0,
      "outputs": []
    },
    {
      "cell_type": "markdown",
      "metadata": {
        "id": "uTfZT0nQ6KBS",
        "colab_type": "text"
      },
      "source": [
        "**3.5 Random Forest con TF-IDF + Lemmatization**"
      ]
    },
    {
      "cell_type": "markdown",
      "metadata": {
        "id": "SvBpHE2d4a7E",
        "colab_type": "text"
      },
      "source": [
        "Cross Validation (train set)"
      ]
    },
    {
      "cell_type": "code",
      "metadata": {
        "id": "reRS9o1m4bIP",
        "colab_type": "code",
        "colab": {}
      },
      "source": [
        "%%time\n",
        "score = cross_val_score(clf, tfidf_train_lem_x, train_lem_y, cv=5)"
      ],
      "execution_count": 0,
      "outputs": []
    },
    {
      "cell_type": "code",
      "metadata": {
        "id": "Oi4uEdT_4bQ2",
        "colab_type": "code",
        "colab": {}
      },
      "source": [
        "print(score)\n",
        "print(score.mean())"
      ],
      "execution_count": 0,
      "outputs": []
    },
    {
      "cell_type": "markdown",
      "metadata": {
        "id": "N2dX4vqK4rem",
        "colab_type": "text"
      },
      "source": [
        "Previsione su dati mai visti (test set)"
      ]
    },
    {
      "cell_type": "code",
      "metadata": {
        "id": "ypxkIl2G6esV",
        "colab_type": "code",
        "colab": {}
      },
      "source": [
        "%%time\n",
        "clf.fit(tfidf_train_lem_x, train_lem_y)\n",
        "predicted = clf.predict(tfidf_test_lem_x)\n",
        "print(classification_report(test_lem_y, predicted))"
      ],
      "execution_count": 0,
      "outputs": []
    },
    {
      "cell_type": "markdown",
      "metadata": {
        "id": "q36hh0aP6hYa",
        "colab_type": "text"
      },
      "source": [
        "**3.6 Random Forest con TF-IDF + Stemming (Porter)**"
      ]
    },
    {
      "cell_type": "markdown",
      "metadata": {
        "id": "1WxANcSR415A",
        "colab_type": "text"
      },
      "source": [
        "Cross Validation (train set)"
      ]
    },
    {
      "cell_type": "code",
      "metadata": {
        "id": "HE-pL97d42Fz",
        "colab_type": "code",
        "colab": {}
      },
      "source": [
        "%%time\n",
        "score = cross_val_score(clf, tfidf_train_stem_porter_x,train_stem_porter_y, cv=5)"
      ],
      "execution_count": 0,
      "outputs": []
    },
    {
      "cell_type": "code",
      "metadata": {
        "id": "dJ4qhM5l42Ou",
        "colab_type": "code",
        "colab": {}
      },
      "source": [
        "print(score)\n",
        "print(score.mean())"
      ],
      "execution_count": 0,
      "outputs": []
    },
    {
      "cell_type": "markdown",
      "metadata": {
        "id": "OLABF7os42WH",
        "colab_type": "text"
      },
      "source": [
        "Previsione su dati mai visti (test set)"
      ]
    },
    {
      "cell_type": "code",
      "metadata": {
        "id": "qK2UgYyj6oXL",
        "colab_type": "code",
        "colab": {}
      },
      "source": [
        "%%time\n",
        "clf.fit(tfidf_train_stem_porter_x, train_stem_porter_y)\n",
        "predicted = clf.predict(tfidf_test_stem_porter_x)\n",
        "print(classification_report(test_stem_porter_y, predicted))"
      ],
      "execution_count": 0,
      "outputs": []
    },
    {
      "cell_type": "markdown",
      "metadata": {
        "id": "If5SwMeqii-4",
        "colab_type": "text"
      },
      "source": [
        "**3.7 Random Forest con TF-IDF + Stemming (Snowball)**"
      ]
    },
    {
      "cell_type": "markdown",
      "metadata": {
        "id": "C9_mm5m2ipv-",
        "colab_type": "text"
      },
      "source": [
        "Cross validation (train set)"
      ]
    },
    {
      "cell_type": "code",
      "metadata": {
        "id": "UIqqiIYgipHa",
        "colab_type": "code",
        "colab": {}
      },
      "source": [
        "%%time\n",
        "score = cross_val_score(clf, tfidf_train_stem_snowball_x,train_stem_snowball_y, cv=5)"
      ],
      "execution_count": 0,
      "outputs": []
    },
    {
      "cell_type": "code",
      "metadata": {
        "id": "o9XGDRzpizGF",
        "colab_type": "code",
        "colab": {}
      },
      "source": [
        "print(score)\n",
        "print(score.mean())"
      ],
      "execution_count": 0,
      "outputs": []
    },
    {
      "cell_type": "markdown",
      "metadata": {
        "id": "U0tysuvWi0BK",
        "colab_type": "text"
      },
      "source": [
        "Previsione su dati mai visti (test set)"
      ]
    },
    {
      "cell_type": "code",
      "metadata": {
        "id": "k0W4ePcyi34-",
        "colab_type": "code",
        "colab": {}
      },
      "source": [
        "%%time\n",
        "clf.fit(tfidf_train_stem_snowball_x, train_stem_snowball_y)\n",
        "predicted = clf.predict(tfidf_test_stem_snowball_x)\n",
        "print(classification_report(test_stem_snowball_y, predicted))"
      ],
      "execution_count": 0,
      "outputs": []
    },
    {
      "cell_type": "markdown",
      "metadata": {
        "id": "OnyiIj3wi93K",
        "colab_type": "text"
      },
      "source": [
        "**3.8 Random Forest con TF-IDF + Stemming (Lancaster)**"
      ]
    },
    {
      "cell_type": "markdown",
      "metadata": {
        "id": "4KqoK96yjC5V",
        "colab_type": "text"
      },
      "source": [
        "Cross Validation (train set)"
      ]
    },
    {
      "cell_type": "code",
      "metadata": {
        "id": "K-_AcyWTjDLA",
        "colab_type": "code",
        "colab": {}
      },
      "source": [
        "%%time\n",
        "score = cross_val_score(clf, tfidf_train_stem_lancaster_x,train_stem_lancaster_y, cv=5)"
      ],
      "execution_count": 0,
      "outputs": []
    },
    {
      "cell_type": "code",
      "metadata": {
        "id": "UqWdyEwqjDVR",
        "colab_type": "code",
        "colab": {}
      },
      "source": [
        "print(score)\n",
        "print(score.mean())"
      ],
      "execution_count": 0,
      "outputs": []
    },
    {
      "cell_type": "markdown",
      "metadata": {
        "id": "YmVt_a5QjMAm",
        "colab_type": "text"
      },
      "source": [
        "Previsione su dati mai visti (test set)"
      ]
    },
    {
      "cell_type": "code",
      "metadata": {
        "id": "7nJ-0tsMjPPU",
        "colab_type": "code",
        "colab": {}
      },
      "source": [
        "%%time\n",
        "clf.fit(tfidf_train_stem_lancaster_x, train_stem_lancaster_y)\n",
        "predicted = clf.predict(tfidf_test_stem_lancaster_x)\n",
        "print(classification_report(test_stem_lancaster_y, predicted))"
      ],
      "execution_count": 0,
      "outputs": []
    },
    {
      "cell_type": "markdown",
      "metadata": {
        "id": "hY0IYK0H6tYH",
        "colab_type": "text"
      },
      "source": [
        "**3.9 Random Forest con Bigram + Lemmatization**\n",
        "\n"
      ]
    },
    {
      "cell_type": "markdown",
      "metadata": {
        "id": "R9QDtZc_5KIK",
        "colab_type": "text"
      },
      "source": [
        "Cross Validation (train set)"
      ]
    },
    {
      "cell_type": "code",
      "metadata": {
        "id": "fapXEAfW5KRl",
        "colab_type": "code",
        "colab": {}
      },
      "source": [
        "%%time\n",
        "score = cross_val_score(clf, bi_train_lem_x, train_lem_y, cv=5)"
      ],
      "execution_count": 0,
      "outputs": []
    },
    {
      "cell_type": "code",
      "metadata": {
        "id": "6VgIbRco5KZJ",
        "colab_type": "code",
        "colab": {}
      },
      "source": [
        "print(score)\n",
        "print(score.mean())"
      ],
      "execution_count": 0,
      "outputs": []
    },
    {
      "cell_type": "markdown",
      "metadata": {
        "id": "cGVsubjI5KzH",
        "colab_type": "text"
      },
      "source": [
        "Previsione su dati mai visti (test set)"
      ]
    },
    {
      "cell_type": "code",
      "metadata": {
        "id": "ocgHC3U161so",
        "colab_type": "code",
        "colab": {}
      },
      "source": [
        "%%time\n",
        "clf.fit(bi_train_lem_x, train_lem_y)\n",
        "predicted = clf.predict(bi_test_lem_x)\n",
        "print(classification_report(test_lem_y, predicted))"
      ],
      "execution_count": 0,
      "outputs": []
    },
    {
      "cell_type": "markdown",
      "metadata": {
        "id": "_D4DSJHR68T8",
        "colab_type": "text"
      },
      "source": [
        "**3.10 Random Forest con Bigram + Stemming (Porter)**"
      ]
    },
    {
      "cell_type": "markdown",
      "metadata": {
        "id": "ALawMDL_5dPL",
        "colab_type": "text"
      },
      "source": [
        "Cross Validation (train set)"
      ]
    },
    {
      "cell_type": "code",
      "metadata": {
        "id": "YyXzlZdX5dZL",
        "colab_type": "code",
        "colab": {}
      },
      "source": [
        "%%time\n",
        "score = cross_val_score(clf, bi_train_stem_porter_x, train_stem_porter_y, cv=5)"
      ],
      "execution_count": 0,
      "outputs": []
    },
    {
      "cell_type": "code",
      "metadata": {
        "id": "D6DWxcss5djS",
        "colab_type": "code",
        "colab": {}
      },
      "source": [
        "print(score)\n",
        "print(score.mean())"
      ],
      "execution_count": 0,
      "outputs": []
    },
    {
      "cell_type": "markdown",
      "metadata": {
        "id": "R7NDAyER5eN_",
        "colab_type": "text"
      },
      "source": [
        "Previsione su dati mai visti (test set)"
      ]
    },
    {
      "cell_type": "code",
      "metadata": {
        "id": "Ee4KX44Q7I3y",
        "colab_type": "code",
        "colab": {}
      },
      "source": [
        "%%time\n",
        "clf.fit(bi_train_stem_porter_x, train_stem_porter_y)\n",
        "predicted = clf.predict(bi_test_stem_porter_x)\n",
        "print(classification_report(test_stem_porter_y, predicted))"
      ],
      "execution_count": 0,
      "outputs": []
    },
    {
      "cell_type": "markdown",
      "metadata": {
        "id": "9kW83sZcjkRk",
        "colab_type": "text"
      },
      "source": [
        "**3.11 Random Forest con Bigram + Stemming (Snowball)**"
      ]
    },
    {
      "cell_type": "markdown",
      "metadata": {
        "id": "MwNr0IgZjrap",
        "colab_type": "text"
      },
      "source": [
        "Cross Validation (train set)"
      ]
    },
    {
      "cell_type": "code",
      "metadata": {
        "id": "AvDauE0yjtn1",
        "colab_type": "code",
        "colab": {}
      },
      "source": [
        "%%time\n",
        "score = cross_val_score(clf, bi_train_stem_snowball_x, train_stem_snowball_y, cv=5)"
      ],
      "execution_count": 0,
      "outputs": []
    },
    {
      "cell_type": "code",
      "metadata": {
        "id": "dsiAitbbjyuk",
        "colab_type": "code",
        "colab": {}
      },
      "source": [
        "print(score)\n",
        "print(score.mean())"
      ],
      "execution_count": 0,
      "outputs": []
    },
    {
      "cell_type": "markdown",
      "metadata": {
        "id": "h89do3H3j1UE",
        "colab_type": "text"
      },
      "source": [
        "Previsione su dati mai visti (test set)"
      ]
    },
    {
      "cell_type": "code",
      "metadata": {
        "id": "kqY5yuN5j4vS",
        "colab_type": "code",
        "colab": {}
      },
      "source": [
        "%%time\n",
        "clf.fit(bi_train_stem_snowball_x, train_stem_snowball_y)\n",
        "predicted = clf.predict(bi_test_stem_snowball_x)\n",
        "print(classification_report(test_stem_snowball_y, predicted))"
      ],
      "execution_count": 0,
      "outputs": []
    },
    {
      "cell_type": "markdown",
      "metadata": {
        "id": "4tv787uqj_uY",
        "colab_type": "text"
      },
      "source": [
        "**3.12 Random Forest con Bigram + Stemming (Lancaster)**"
      ]
    },
    {
      "cell_type": "markdown",
      "metadata": {
        "id": "18EjJdCEkFWk",
        "colab_type": "text"
      },
      "source": [
        "Cross Validation (train set)"
      ]
    },
    {
      "cell_type": "code",
      "metadata": {
        "id": "cp7tiEFwkFp2",
        "colab_type": "code",
        "colab": {}
      },
      "source": [
        "%%time\n",
        "score = cross_val_score(clf, bi_train_stem_lancaster_x, train_stem_lancaster_y, cv=5)"
      ],
      "execution_count": 0,
      "outputs": []
    },
    {
      "cell_type": "code",
      "metadata": {
        "id": "C8xWbTLokF2d",
        "colab_type": "code",
        "colab": {}
      },
      "source": [
        "print(score)\n",
        "print(score.mean())"
      ],
      "execution_count": 0,
      "outputs": []
    },
    {
      "cell_type": "markdown",
      "metadata": {
        "id": "1t8VSmR6kPBT",
        "colab_type": "text"
      },
      "source": [
        "Previsione su dati mai visti (test set)"
      ]
    },
    {
      "cell_type": "code",
      "metadata": {
        "id": "FJSZoJ-NkTdk",
        "colab_type": "code",
        "colab": {}
      },
      "source": [
        "%%time\n",
        "clf.fit(bi_train_stem_lancaster_x, train_stem_lancaster_y)\n",
        "predicted = clf.predict(bi_test_stem_lancaster_x)\n",
        "print(classification_report(test_stem_lancaster_y, predicted))"
      ],
      "execution_count": 0,
      "outputs": []
    },
    {
      "cell_type": "markdown",
      "metadata": {
        "id": "KqPUItr37TEm",
        "colab_type": "text"
      },
      "source": [
        "**4. Xtereme Gradient Boosting (xgboost)**"
      ]
    },
    {
      "cell_type": "code",
      "metadata": {
        "id": "ZoIHzukf7sNE",
        "colab_type": "code",
        "colab": {}
      },
      "source": [
        "clf= xgb.XGBClassifier()"
      ],
      "execution_count": 0,
      "outputs": []
    },
    {
      "cell_type": "markdown",
      "metadata": {
        "id": "Do6EaKrT7yNW",
        "colab_type": "text"
      },
      "source": [
        "**4.1 XGBOOST con TF + Lemmatization**"
      ]
    },
    {
      "cell_type": "markdown",
      "metadata": {
        "id": "Y4bepBil6u1R",
        "colab_type": "text"
      },
      "source": [
        "Cross Validation (train set)"
      ]
    },
    {
      "cell_type": "code",
      "metadata": {
        "id": "lzuSu1jC6vRp",
        "colab_type": "code",
        "colab": {}
      },
      "source": [
        "%%time\n",
        "score = cross_val_score(clf, tf_train_lem_x, train_lem_y, cv=5)"
      ],
      "execution_count": 0,
      "outputs": []
    },
    {
      "cell_type": "code",
      "metadata": {
        "id": "ydBMnu2b6va9",
        "colab_type": "code",
        "colab": {}
      },
      "source": [
        "print(score)\n",
        "print(score.mean())"
      ],
      "execution_count": 0,
      "outputs": []
    },
    {
      "cell_type": "markdown",
      "metadata": {
        "id": "-tSDuGBZ6vku",
        "colab_type": "text"
      },
      "source": [
        "Previsione su dati mai visti (test set)"
      ]
    },
    {
      "cell_type": "code",
      "metadata": {
        "id": "2hJCn8Z377Dc",
        "colab_type": "code",
        "colab": {}
      },
      "source": [
        "%%time\n",
        "clf.fit(tf_train_lem_x, train_lem_y)\n",
        "predicted = clf.predict(tf_test_lem_x)\n",
        "print(classification_report(test_lem_y, predicted))"
      ],
      "execution_count": 0,
      "outputs": []
    },
    {
      "cell_type": "markdown",
      "metadata": {
        "id": "ieL484yG8sEn",
        "colab_type": "text"
      },
      "source": [
        "**4.2 XGBOOST con TF + Stemming (Porter)**"
      ]
    },
    {
      "cell_type": "markdown",
      "metadata": {
        "id": "DTufSqE97Avq",
        "colab_type": "text"
      },
      "source": [
        "Cross Validation (train set)"
      ]
    },
    {
      "cell_type": "code",
      "metadata": {
        "id": "1P1NVmq97A9L",
        "colab_type": "code",
        "colab": {}
      },
      "source": [
        "%%time\n",
        "score = cross_val_score(clf, tf_train_stem_porter_x, train_stem_porter_y, cv=5)"
      ],
      "execution_count": 0,
      "outputs": []
    },
    {
      "cell_type": "code",
      "metadata": {
        "id": "p36YMpdW7BFa",
        "colab_type": "code",
        "colab": {}
      },
      "source": [
        "print(score)\n",
        "print(score.mean())"
      ],
      "execution_count": 0,
      "outputs": []
    },
    {
      "cell_type": "markdown",
      "metadata": {
        "id": "2_LkDp5G7BM1",
        "colab_type": "text"
      },
      "source": [
        "Previsione su dati mai visti (test set)"
      ]
    },
    {
      "cell_type": "code",
      "metadata": {
        "id": "CAoyhBS78yu2",
        "colab_type": "code",
        "colab": {}
      },
      "source": [
        "%%time\n",
        "clf.fit(tf_train_stem_porter_x, train_stem_porter_y)\n",
        "predicted = clf.predict(tf_test_stem_porter_x)\n",
        "print(classification_report(test_stem_porter_y, predicted))"
      ],
      "execution_count": 0,
      "outputs": []
    },
    {
      "cell_type": "markdown",
      "metadata": {
        "id": "Ss63m7d-koGi",
        "colab_type": "text"
      },
      "source": [
        "**4.3 XGBOOST con TF + Stemming (Snowball)**"
      ]
    },
    {
      "cell_type": "markdown",
      "metadata": {
        "id": "PHWqTuiiksce",
        "colab_type": "text"
      },
      "source": [
        "Cross Validation (train set)"
      ]
    },
    {
      "cell_type": "code",
      "metadata": {
        "id": "oaIkE_KGksx4",
        "colab_type": "code",
        "colab": {}
      },
      "source": [
        "%%time\n",
        "score = cross_val_score(clf, tf_train_stem_snowball_x, train_stem_snowball_y, cv=5)"
      ],
      "execution_count": 0,
      "outputs": []
    },
    {
      "cell_type": "code",
      "metadata": {
        "id": "PvZwkG_Sks9D",
        "colab_type": "code",
        "colab": {}
      },
      "source": [
        "print(score)\n",
        "print(score.mean())"
      ],
      "execution_count": 0,
      "outputs": []
    },
    {
      "cell_type": "markdown",
      "metadata": {
        "id": "JhYkgGV1k1kk",
        "colab_type": "text"
      },
      "source": [
        "Previsione su dati mai visti (test set)"
      ]
    },
    {
      "cell_type": "code",
      "metadata": {
        "id": "U4pM8gw-k5jl",
        "colab_type": "code",
        "colab": {}
      },
      "source": [
        "%%time\n",
        "clf.fit(tf_train_stem_snowball_x, train_stem_snowball_y)\n",
        "predicted = clf.predict(tf_test_stem_snowball_x)\n",
        "print(classification_report(test_stem_snowball_y, predicted))"
      ],
      "execution_count": 0,
      "outputs": []
    },
    {
      "cell_type": "markdown",
      "metadata": {
        "id": "cBf7CnsXlBRn",
        "colab_type": "text"
      },
      "source": [
        "**4.4 XGBOOST con TF + Stemming (Lancaster)**"
      ]
    },
    {
      "cell_type": "markdown",
      "metadata": {
        "id": "6GOD7w7blFUG",
        "colab_type": "text"
      },
      "source": [
        "Cross Validation (train set)"
      ]
    },
    {
      "cell_type": "code",
      "metadata": {
        "id": "HV5eB_VQlFoP",
        "colab_type": "code",
        "colab": {}
      },
      "source": [
        "%%time\n",
        "score = cross_val_score(clf, tf_train_stem_lancaster_x, train_stem_lancaster_y, cv=5)"
      ],
      "execution_count": 0,
      "outputs": []
    },
    {
      "cell_type": "code",
      "metadata": {
        "id": "WTnslyc9lF1V",
        "colab_type": "code",
        "colab": {}
      },
      "source": [
        "print(score)\n",
        "print(score.mean())"
      ],
      "execution_count": 0,
      "outputs": []
    },
    {
      "cell_type": "markdown",
      "metadata": {
        "id": "nJaLUUcllPDb",
        "colab_type": "text"
      },
      "source": [
        "Previsione su dati mai visti (test set)"
      ]
    },
    {
      "cell_type": "code",
      "metadata": {
        "id": "0evERFiKlSX3",
        "colab_type": "code",
        "colab": {}
      },
      "source": [
        "%%time\n",
        "clf.fit(tf_train_stem_lancaster_x, train_stem_lancaster_y)\n",
        "predicted = clf.predict(tf_test_stem_lancaster_x)\n",
        "print(classification_report(test_stem_lancaster_y, predicted))"
      ],
      "execution_count": 0,
      "outputs": []
    },
    {
      "cell_type": "markdown",
      "metadata": {
        "id": "BchDflG19I_S",
        "colab_type": "text"
      },
      "source": [
        "**4.5 XGBOOST con TF-IDF + Lemmatization**"
      ]
    },
    {
      "cell_type": "markdown",
      "metadata": {
        "id": "_X529c2Y7TUo",
        "colab_type": "text"
      },
      "source": [
        "Cross Validation (train set)"
      ]
    },
    {
      "cell_type": "code",
      "metadata": {
        "id": "DS15vDEm7Tdw",
        "colab_type": "code",
        "colab": {}
      },
      "source": [
        "%%time\n",
        "score = cross_val_score(clf, tfidf_train_lem_x, train_lem_y, cv=5)"
      ],
      "execution_count": 0,
      "outputs": []
    },
    {
      "cell_type": "code",
      "metadata": {
        "id": "RhrbMv947Tl7",
        "colab_type": "code",
        "colab": {}
      },
      "source": [
        "print(score)\n",
        "print(score.mean())"
      ],
      "execution_count": 0,
      "outputs": []
    },
    {
      "cell_type": "markdown",
      "metadata": {
        "id": "w5HTXjE_7jW1",
        "colab_type": "text"
      },
      "source": [
        "Previsione su dati mai visti (test set)"
      ]
    },
    {
      "cell_type": "code",
      "metadata": {
        "id": "_LepZkse9YGq",
        "colab_type": "code",
        "colab": {}
      },
      "source": [
        "%%time\n",
        "clf.fit(tfidf_train_lem_x, train_lem_y)\n",
        "predicted = clf.predict(tfidf_test_lem_x)\n",
        "print(classification_report(test_lem_y, predicted))"
      ],
      "execution_count": 0,
      "outputs": []
    },
    {
      "cell_type": "markdown",
      "metadata": {
        "id": "s9jrkr38-mAN",
        "colab_type": "text"
      },
      "source": [
        "**4.6 XGBOOST con TF-IDF + Stemming (Porter)**"
      ]
    },
    {
      "cell_type": "markdown",
      "metadata": {
        "id": "CJvJhaeU7qtg",
        "colab_type": "text"
      },
      "source": [
        "Cross Validation (train set)"
      ]
    },
    {
      "cell_type": "code",
      "metadata": {
        "id": "-kT4TF9f7q4C",
        "colab_type": "code",
        "colab": {}
      },
      "source": [
        "%%time\n",
        "score = cross_val_score(clf, tfidf_train_stem_porter_x, train_stem_porter_y, cv=5)"
      ],
      "execution_count": 0,
      "outputs": []
    },
    {
      "cell_type": "code",
      "metadata": {
        "id": "qYJ8r63i7rAj",
        "colab_type": "code",
        "colab": {}
      },
      "source": [
        "print(score)\n",
        "print(score.mean())"
      ],
      "execution_count": 0,
      "outputs": []
    },
    {
      "cell_type": "markdown",
      "metadata": {
        "id": "mL_nGlHW7rJd",
        "colab_type": "text"
      },
      "source": [
        "Previsione su dati mai visti (test set)"
      ]
    },
    {
      "cell_type": "code",
      "metadata": {
        "id": "o6NRp4N2-tDr",
        "colab_type": "code",
        "colab": {}
      },
      "source": [
        "%%time\n",
        "clf.fit(tfidf_train_stem_porter_x, train_stem_porter_y)\n",
        "predicted = clf.predict(tfidf_test_stem_porter_x)\n",
        "print(classification_report(test_stem_porter_y, predicted))"
      ],
      "execution_count": 0,
      "outputs": []
    },
    {
      "cell_type": "markdown",
      "metadata": {
        "id": "nrp0Z9lTlmbo",
        "colab_type": "text"
      },
      "source": [
        "**4.7 XGBOOST con TF-IDF + Stemming (Snowball)**\n",
        "\n"
      ]
    },
    {
      "cell_type": "markdown",
      "metadata": {
        "id": "PDCyxoKPlrif",
        "colab_type": "text"
      },
      "source": [
        "Cross Validation (train set)"
      ]
    },
    {
      "cell_type": "code",
      "metadata": {
        "id": "p_LBNP7Ylr0Y",
        "colab_type": "code",
        "colab": {}
      },
      "source": [
        "%%time\n",
        "score = cross_val_score(clf, tfidf_train_stem_snowball_x, train_stem_snowball_y, cv=5)"
      ],
      "execution_count": 0,
      "outputs": []
    },
    {
      "cell_type": "code",
      "metadata": {
        "id": "oB2y-nRTlr9J",
        "colab_type": "code",
        "colab": {}
      },
      "source": [
        "print(score)\n",
        "print(score.mean())"
      ],
      "execution_count": 0,
      "outputs": []
    },
    {
      "cell_type": "markdown",
      "metadata": {
        "id": "D60iZKS0lz5_",
        "colab_type": "text"
      },
      "source": [
        "Previsione su dati mai visti (test set)"
      ]
    },
    {
      "cell_type": "code",
      "metadata": {
        "id": "PEku4XaOl29d",
        "colab_type": "code",
        "colab": {}
      },
      "source": [
        "%%time\n",
        "clf.fit(tfidf_train_stem_snowball_x, train_stem_snowball_y)\n",
        "predicted = clf.predict(tfidf_test_stem_snowball_x)\n",
        "print(classification_report(test_stem_snowball_y, predicted))"
      ],
      "execution_count": 0,
      "outputs": []
    },
    {
      "cell_type": "markdown",
      "metadata": {
        "id": "tCUxLp_Tl-Ds",
        "colab_type": "text"
      },
      "source": [
        "**4.8 XGBOOST con TF-IDF + Stemming (Lancaster)**"
      ]
    },
    {
      "cell_type": "markdown",
      "metadata": {
        "id": "OSFJDc7ImCLO",
        "colab_type": "text"
      },
      "source": [
        "Cross Validation (train set)"
      ]
    },
    {
      "cell_type": "code",
      "metadata": {
        "id": "fURniIFXmCby",
        "colab_type": "code",
        "colab": {}
      },
      "source": [
        "%%time\n",
        "score = cross_val_score(clf, tfidf_train_stem_lancaster_x, train_stem_lancaster_y, cv=5)"
      ],
      "execution_count": 0,
      "outputs": []
    },
    {
      "cell_type": "code",
      "metadata": {
        "id": "YDdzYypzmCod",
        "colab_type": "code",
        "colab": {}
      },
      "source": [
        "print(score)\n",
        "print(score.mean())"
      ],
      "execution_count": 0,
      "outputs": []
    },
    {
      "cell_type": "markdown",
      "metadata": {
        "id": "hoxsiIOsmOkf",
        "colab_type": "text"
      },
      "source": [
        "Previsione su dati mai visti (test set)"
      ]
    },
    {
      "cell_type": "code",
      "metadata": {
        "id": "bI7xpiQOmSHv",
        "colab_type": "code",
        "colab": {}
      },
      "source": [
        "%%time\n",
        "clf.fit(tfidf_train_stem_lancaster_x, train_stem_lancaster_y)\n",
        "predicted = clf.predict(tfidf_test_stem_lancaster_x)\n",
        "print(classification_report(test_stem_lancaster_y, predicted))"
      ],
      "execution_count": 0,
      "outputs": []
    },
    {
      "cell_type": "markdown",
      "metadata": {
        "id": "KOkvwgEr_WBN",
        "colab_type": "text"
      },
      "source": [
        "**4.9 XGBOOST con Bigram + Lemmatization**"
      ]
    },
    {
      "cell_type": "markdown",
      "metadata": {
        "id": "dQlIX3Ov79DV",
        "colab_type": "text"
      },
      "source": [
        "Cross Validation (train set)"
      ]
    },
    {
      "cell_type": "code",
      "metadata": {
        "id": "gPc--TGS79Mk",
        "colab_type": "code",
        "colab": {}
      },
      "source": [
        "%%time\n",
        "score = cross_val_score(clf, bi_train_lem_x, train_lem_y, cv=5)"
      ],
      "execution_count": 0,
      "outputs": []
    },
    {
      "cell_type": "code",
      "metadata": {
        "id": "FmdYumGc79Ve",
        "colab_type": "code",
        "colab": {}
      },
      "source": [
        "print(score)\n",
        "print(score.mean())"
      ],
      "execution_count": 0,
      "outputs": []
    },
    {
      "cell_type": "markdown",
      "metadata": {
        "id": "PebXf0sm79eG",
        "colab_type": "text"
      },
      "source": [
        "Previsione su dati mai visti (test set)"
      ]
    },
    {
      "cell_type": "code",
      "metadata": {
        "id": "yeHXDsj0_bNi",
        "colab_type": "code",
        "colab": {}
      },
      "source": [
        "%%time\n",
        "clf.fit(bi_train_lem_x, train_lem_y)\n",
        "predicted = clf.predict(bi_test_lem_x)\n",
        "print(classification_report(test_lem_y, predicted))"
      ],
      "execution_count": 0,
      "outputs": []
    },
    {
      "cell_type": "markdown",
      "metadata": {
        "id": "8FM4Bpge_pQh",
        "colab_type": "text"
      },
      "source": [
        "**4.10 XGBOOST con Bigram + Stemming (Porter)**"
      ]
    },
    {
      "cell_type": "markdown",
      "metadata": {
        "id": "5wSeFrGa8r0q",
        "colab_type": "text"
      },
      "source": [
        "Cross Validation (train set)"
      ]
    },
    {
      "cell_type": "code",
      "metadata": {
        "id": "dUNSbsuq8sB9",
        "colab_type": "code",
        "colab": {}
      },
      "source": [
        "%%time\n",
        "score = cross_val_score(clf, bi_train_stem_porter_x, train_stem_porter_y, cv=5)"
      ],
      "execution_count": 0,
      "outputs": []
    },
    {
      "cell_type": "code",
      "metadata": {
        "id": "xpj-_76N8sJ4",
        "colab_type": "code",
        "colab": {}
      },
      "source": [
        "print(score)\n",
        "print(score.mean())"
      ],
      "execution_count": 0,
      "outputs": []
    },
    {
      "cell_type": "markdown",
      "metadata": {
        "id": "EMQsiECp8sTc",
        "colab_type": "text"
      },
      "source": [
        "Previsione su dati mai visti (test set)"
      ]
    },
    {
      "cell_type": "code",
      "metadata": {
        "id": "hJqzsu3N_uwL",
        "colab_type": "code",
        "colab": {}
      },
      "source": [
        "%%time\n",
        "clf.fit(bi_train_stem_porter_x, train_stem_porter_y)\n",
        "predicted = clf.predict(bi_test_stem_porter_x)\n",
        "print(classification_report(test_stem_porter_y, predicted))"
      ],
      "execution_count": 0,
      "outputs": []
    },
    {
      "cell_type": "markdown",
      "metadata": {
        "id": "Pu2vnsUBmkOL",
        "colab_type": "text"
      },
      "source": [
        "**4.11 XGBOOST con Bigram + Stemming (Snowball)**"
      ]
    },
    {
      "cell_type": "markdown",
      "metadata": {
        "id": "XIr0T2rEmqjq",
        "colab_type": "text"
      },
      "source": [
        "Cross Validation (train set)"
      ]
    },
    {
      "cell_type": "code",
      "metadata": {
        "id": "4LaC9yp2ms9A",
        "colab_type": "code",
        "colab": {}
      },
      "source": [
        "%%time\n",
        "score = cross_val_score(clf, bi_train_stem_snowball_x, train_stem_snowball_y, cv=5)"
      ],
      "execution_count": 0,
      "outputs": []
    },
    {
      "cell_type": "code",
      "metadata": {
        "id": "-6UWALIvmxqk",
        "colab_type": "code",
        "colab": {}
      },
      "source": [
        "print(score)\n",
        "print(score.mean())"
      ],
      "execution_count": 0,
      "outputs": []
    },
    {
      "cell_type": "markdown",
      "metadata": {
        "id": "5TIMFfFImztV",
        "colab_type": "text"
      },
      "source": [
        "Previsione su dati mai visti (test set)"
      ]
    },
    {
      "cell_type": "code",
      "metadata": {
        "id": "etf0K0Sym6Zs",
        "colab_type": "code",
        "colab": {}
      },
      "source": [
        "%%time\n",
        "clf.fit(bi_train_stem_snowball_x, train_stem_snowball_y)\n",
        "predicted = clf.predict(bi_test_stem_snowball_x)\n",
        "print(classification_report(test_stem_snowball_y, predicted))"
      ],
      "execution_count": 0,
      "outputs": []
    },
    {
      "cell_type": "markdown",
      "metadata": {
        "id": "Z_7aLs6InEd0",
        "colab_type": "text"
      },
      "source": [
        "**4.12 XGBOOST con Bigram + Stemming (Lancaster)**"
      ]
    },
    {
      "cell_type": "markdown",
      "metadata": {
        "id": "Yr7DXgOMnJLQ",
        "colab_type": "text"
      },
      "source": [
        "Cross Validation (train set)"
      ]
    },
    {
      "cell_type": "code",
      "metadata": {
        "id": "jQl_VW3UnMhP",
        "colab_type": "code",
        "colab": {}
      },
      "source": [
        "%%time\n",
        "score = cross_val_score(clf, bi_train_stem_lancaster_x, train_stem_lancaster_y, cv=5)"
      ],
      "execution_count": 0,
      "outputs": []
    },
    {
      "cell_type": "code",
      "metadata": {
        "id": "PLrgSUfsnRBz",
        "colab_type": "code",
        "colab": {}
      },
      "source": [
        "print(score)\n",
        "print(score.mean())"
      ],
      "execution_count": 0,
      "outputs": []
    },
    {
      "cell_type": "markdown",
      "metadata": {
        "id": "hh4685n4nS9C",
        "colab_type": "text"
      },
      "source": [
        "Previsione su dati mai visti (test set)"
      ]
    },
    {
      "cell_type": "code",
      "metadata": {
        "id": "jKoYitgEnMs9",
        "colab_type": "code",
        "colab": {}
      },
      "source": [
        "%%time\n",
        "clf.fit(bi_train_stem_lancaster_x, train_stem_lancaster_y)\n",
        "predicted = clf.predict(bi_test_stem_lancaster_x)\n",
        "print(classification_report(test_stem_lancaster_y, predicted))"
      ],
      "execution_count": 0,
      "outputs": []
    },
    {
      "cell_type": "markdown",
      "metadata": {
        "id": "BU6sG1JuwIla",
        "colab_type": "text"
      },
      "source": [
        "# CROSS VALIDATION"
      ]
    },
    {
      "cell_type": "markdown",
      "metadata": {
        "id": "fSPBz7v-Y5eI",
        "colab_type": "text"
      },
      "source": [
        "N.B. è da fare per ogni classificazione sul rispettivo TRAIN e restituisce l'accuratezza sul TRAIN.\n",
        "Poi lo stesso train lo applico al TEST per avere l'accuratezza sul test (dati mai visti)"
      ]
    },
    {
      "cell_type": "code",
      "metadata": {
        "id": "hvRjyuui4_-t",
        "colab_type": "code",
        "colab": {}
      },
      "source": [
        "#restituisce l'accuratezza sul train: AGGIUNGERE TIPO DI SCORE\n",
        "#score = cross_val_score(clf, tfidf_train_lem_x, train_stem_y, cv=3, scoring = 'da aggiungere')\n"
      ],
      "execution_count": 0,
      "outputs": []
    },
    {
      "cell_type": "code",
      "metadata": {
        "id": "2i7ItV0TYrVY",
        "colab_type": "code",
        "colab": {}
      },
      "source": [
        "#score"
      ],
      "execution_count": 0,
      "outputs": []
    },
    {
      "cell_type": "code",
      "metadata": {
        "id": "VzMZAKPGYpZY",
        "colab_type": "code",
        "colab": {}
      },
      "source": [
        "#score.mean()"
      ],
      "execution_count": 0,
      "outputs": []
    },
    {
      "cell_type": "markdown",
      "metadata": {
        "id": "8YSzavjAZRzP",
        "colab_type": "text"
      },
      "source": [
        "## CONFUSION MATRIX"
      ]
    },
    {
      "cell_type": "markdown",
      "metadata": {
        "id": "qb2m9Cp6ZVQn",
        "colab_type": "text"
      },
      "source": [
        "# TUNING PARAMETRI"
      ]
    }
  ]
}