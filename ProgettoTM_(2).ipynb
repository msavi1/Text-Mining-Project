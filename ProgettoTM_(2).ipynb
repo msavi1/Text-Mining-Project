{
  "nbformat": 4,
  "nbformat_minor": 0,
  "metadata": {
    "colab": {
      "name": "ProgettoTM (2).ipynb",
      "provenance": [],
      "collapsed_sections": []
    },
    "kernelspec": {
      "name": "python3",
      "display_name": "Python 3"
    }
  },
  "cells": [
    {
      "cell_type": "markdown",
      "metadata": {
        "id": "3bidszXiQr-R",
        "colab_type": "text"
      },
      "source": [
        "# **TEXT MINING PROJECT**: 20 NEWS GROUP CLASSIFICATION  \n",
        "\n",
        "Antonella Zaccaria  \n",
        "Marco Savino"
      ]
    },
    {
      "cell_type": "markdown",
      "metadata": {
        "id": "TId_UYMrRGN6",
        "colab_type": "text"
      },
      "source": [
        "Librerie utilizzate"
      ]
    },
    {
      "cell_type": "code",
      "metadata": {
        "id": "g7koe47O9Jl6",
        "colab_type": "code",
        "outputId": "54b2d12b-e444-4f7e-9d3a-02397816bb22",
        "colab": {
          "base_uri": "https://localhost:8080/",
          "height": 136
        }
      },
      "source": [
        "import nltk\n",
        "nltk.download('wordnet')\n",
        "nltk.download('punkt') #serve per la tokenizzazione\n",
        "nltk.download('stopwords')"
      ],
      "execution_count": 0,
      "outputs": [
        {
          "output_type": "stream",
          "text": [
            "[nltk_data] Downloading package wordnet to /root/nltk_data...\n",
            "[nltk_data]   Unzipping corpora/wordnet.zip.\n",
            "[nltk_data] Downloading package punkt to /root/nltk_data...\n",
            "[nltk_data]   Unzipping tokenizers/punkt.zip.\n",
            "[nltk_data] Downloading package stopwords to /root/nltk_data...\n",
            "[nltk_data]   Unzipping corpora/stopwords.zip.\n"
          ],
          "name": "stdout"
        },
        {
          "output_type": "execute_result",
          "data": {
            "text/plain": [
              "True"
            ]
          },
          "metadata": {
            "tags": []
          },
          "execution_count": 1
        }
      ]
    },
    {
      "cell_type": "code",
      "metadata": {
        "id": "LQ7srOrPRI4A",
        "colab_type": "code",
        "colab": {}
      },
      "source": [
        "from sklearn.datasets import fetch_20newsgroups\n",
        "\n",
        "import pandas as pd\n",
        "import re\n",
        "import seaborn as sns\n",
        "import matplotlib.pyplot as plt\n",
        "import sklearn\n",
        "\n",
        "from nltk.tokenize import sent_tokenize, word_tokenize\n",
        "from nltk.corpus import stopwords\n",
        "from nltk.stem import WordNetLemmatizer, PorterStemmer\n",
        "\n",
        "from sklearn import model_selection, preprocessing\n",
        "from sklearn.feature_extraction.text import TfidfVectorizer, CountVectorizer\n",
        "\n",
        "from sklearn.metrics import classification_report, confusion_matrix\n",
        "from sklearn.metrics import precision_score, recall_score, f1_score \n",
        "\n",
        "from sklearn.model_selection import cross_val_score\n",
        "\n",
        "from sklearn.naive_bayes import MultinomialNB\n",
        "from sklearn import svm\n",
        "from sklearn.ensemble import RandomForestClassifier\n",
        "import xgboost as xgb"
      ],
      "execution_count": 0,
      "outputs": []
    },
    {
      "cell_type": "markdown",
      "metadata": {
        "id": "MIpvKh96Q89D",
        "colab_type": "text"
      },
      "source": [
        "Carichiamo il dataset 20 News Group direttamente dal **sklearn** e lo salviamo in formato csv"
      ]
    },
    {
      "cell_type": "code",
      "metadata": {
        "id": "5I6ayR_aREZV",
        "colab_type": "code",
        "outputId": "97477b36-1bde-4c84-bc15-8cc0caf6eef3",
        "colab": {
          "base_uri": "https://localhost:8080/",
          "height": 51
        }
      },
      "source": [
        "def twenty_newsgroup_to_csv():\n",
        "    newsgroups = fetch_20newsgroups(subset = 'all', shuffle=True)\n",
        "\n",
        "    df = pd.DataFrame([newsgroups.data, newsgroups.target.tolist()]).T\n",
        "    df.columns = ['text', 'target']\n",
        "    targets = pd.DataFrame(newsgroups.target_names)\n",
        "    targets.columns=['title']\n",
        "\n",
        "    out = pd.merge(df, targets, left_on='target', right_index=True)\n",
        "    out.to_csv('20_news.csv')\n",
        "    \n",
        "  \n",
        "twenty_newsgroup_to_csv()"
      ],
      "execution_count": 0,
      "outputs": [
        {
          "output_type": "stream",
          "text": [
            "Downloading 20news dataset. This may take a few minutes.\n",
            "Downloading dataset from https://ndownloader.figshare.com/files/5975967 (14 MB)\n"
          ],
          "name": "stderr"
        }
      ]
    },
    {
      "cell_type": "code",
      "metadata": {
        "id": "aTvus83jRkmp",
        "colab_type": "code",
        "colab": {}
      },
      "source": [
        "df = pd.read_csv('20_news.csv')"
      ],
      "execution_count": 0,
      "outputs": []
    },
    {
      "cell_type": "markdown",
      "metadata": {
        "id": "L7hieBcNSFtd",
        "colab_type": "text"
      },
      "source": [
        "Visualizziamo le prime righe del dataset"
      ]
    },
    {
      "cell_type": "code",
      "metadata": {
        "id": "EVfsbWJKRsoh",
        "colab_type": "code",
        "outputId": "399d9cb0-f676-4666-e9ad-f0aae7398e35",
        "colab": {
          "base_uri": "https://localhost:8080/",
          "height": 204
        }
      },
      "source": [
        "df.head()"
      ],
      "execution_count": 0,
      "outputs": [
        {
          "output_type": "execute_result",
          "data": {
            "text/html": [
              "<div>\n",
              "<style scoped>\n",
              "    .dataframe tbody tr th:only-of-type {\n",
              "        vertical-align: middle;\n",
              "    }\n",
              "\n",
              "    .dataframe tbody tr th {\n",
              "        vertical-align: top;\n",
              "    }\n",
              "\n",
              "    .dataframe thead th {\n",
              "        text-align: right;\n",
              "    }\n",
              "</style>\n",
              "<table border=\"1\" class=\"dataframe\">\n",
              "  <thead>\n",
              "    <tr style=\"text-align: right;\">\n",
              "      <th></th>\n",
              "      <th>Unnamed: 0</th>\n",
              "      <th>text</th>\n",
              "      <th>target</th>\n",
              "      <th>title</th>\n",
              "    </tr>\n",
              "  </thead>\n",
              "  <tbody>\n",
              "    <tr>\n",
              "      <th>0</th>\n",
              "      <td>0</td>\n",
              "      <td>From: Mamatha Devineni Ratnam &lt;mr47+@andrew.cm...</td>\n",
              "      <td>10</td>\n",
              "      <td>rec.sport.hockey</td>\n",
              "    </tr>\n",
              "    <tr>\n",
              "      <th>1</th>\n",
              "      <td>7</td>\n",
              "      <td>From: dchhabra@stpl.ists.ca (Deepak Chhabra)\\n...</td>\n",
              "      <td>10</td>\n",
              "      <td>rec.sport.hockey</td>\n",
              "    </tr>\n",
              "    <tr>\n",
              "      <th>2</th>\n",
              "      <td>8</td>\n",
              "      <td>From: dchhabra@stpl.ists.ca (Deepak Chhabra)\\n...</td>\n",
              "      <td>10</td>\n",
              "      <td>rec.sport.hockey</td>\n",
              "    </tr>\n",
              "    <tr>\n",
              "      <th>3</th>\n",
              "      <td>24</td>\n",
              "      <td>From: cs902043@ariel.yorku.ca (SHAWN LUDDINGTO...</td>\n",
              "      <td>10</td>\n",
              "      <td>rec.sport.hockey</td>\n",
              "    </tr>\n",
              "    <tr>\n",
              "      <th>4</th>\n",
              "      <td>44</td>\n",
              "      <td>From: gritter@cs.purdue.edu (Carl Gritter)\\nSu...</td>\n",
              "      <td>10</td>\n",
              "      <td>rec.sport.hockey</td>\n",
              "    </tr>\n",
              "  </tbody>\n",
              "</table>\n",
              "</div>"
            ],
            "text/plain": [
              "   Unnamed: 0  ...             title\n",
              "0           0  ...  rec.sport.hockey\n",
              "1           7  ...  rec.sport.hockey\n",
              "2           8  ...  rec.sport.hockey\n",
              "3          24  ...  rec.sport.hockey\n",
              "4          44  ...  rec.sport.hockey\n",
              "\n",
              "[5 rows x 4 columns]"
            ]
          },
          "metadata": {
            "tags": []
          },
          "execution_count": 5
        }
      ]
    },
    {
      "cell_type": "markdown",
      "metadata": {
        "id": "wDXIm1cBXgC7",
        "colab_type": "text"
      },
      "source": [
        "Eliminiamo la colonna **Unnamed: 0**"
      ]
    },
    {
      "cell_type": "code",
      "metadata": {
        "id": "edpchUbFXoBQ",
        "colab_type": "code",
        "colab": {}
      },
      "source": [
        "df = df.drop('Unnamed: 0', 1)"
      ],
      "execution_count": 0,
      "outputs": []
    },
    {
      "cell_type": "code",
      "metadata": {
        "id": "JcLhkoLyX0mP",
        "colab_type": "code",
        "outputId": "8570317e-b865-444c-85e1-61f6ebc4b02d",
        "colab": {
          "base_uri": "https://localhost:8080/",
          "height": 204
        }
      },
      "source": [
        "df.head()"
      ],
      "execution_count": 0,
      "outputs": [
        {
          "output_type": "execute_result",
          "data": {
            "text/html": [
              "<div>\n",
              "<style scoped>\n",
              "    .dataframe tbody tr th:only-of-type {\n",
              "        vertical-align: middle;\n",
              "    }\n",
              "\n",
              "    .dataframe tbody tr th {\n",
              "        vertical-align: top;\n",
              "    }\n",
              "\n",
              "    .dataframe thead th {\n",
              "        text-align: right;\n",
              "    }\n",
              "</style>\n",
              "<table border=\"1\" class=\"dataframe\">\n",
              "  <thead>\n",
              "    <tr style=\"text-align: right;\">\n",
              "      <th></th>\n",
              "      <th>text</th>\n",
              "      <th>target</th>\n",
              "      <th>title</th>\n",
              "    </tr>\n",
              "  </thead>\n",
              "  <tbody>\n",
              "    <tr>\n",
              "      <th>0</th>\n",
              "      <td>From: Mamatha Devineni Ratnam &lt;mr47+@andrew.cm...</td>\n",
              "      <td>10</td>\n",
              "      <td>rec.sport.hockey</td>\n",
              "    </tr>\n",
              "    <tr>\n",
              "      <th>1</th>\n",
              "      <td>From: dchhabra@stpl.ists.ca (Deepak Chhabra)\\n...</td>\n",
              "      <td>10</td>\n",
              "      <td>rec.sport.hockey</td>\n",
              "    </tr>\n",
              "    <tr>\n",
              "      <th>2</th>\n",
              "      <td>From: dchhabra@stpl.ists.ca (Deepak Chhabra)\\n...</td>\n",
              "      <td>10</td>\n",
              "      <td>rec.sport.hockey</td>\n",
              "    </tr>\n",
              "    <tr>\n",
              "      <th>3</th>\n",
              "      <td>From: cs902043@ariel.yorku.ca (SHAWN LUDDINGTO...</td>\n",
              "      <td>10</td>\n",
              "      <td>rec.sport.hockey</td>\n",
              "    </tr>\n",
              "    <tr>\n",
              "      <th>4</th>\n",
              "      <td>From: gritter@cs.purdue.edu (Carl Gritter)\\nSu...</td>\n",
              "      <td>10</td>\n",
              "      <td>rec.sport.hockey</td>\n",
              "    </tr>\n",
              "  </tbody>\n",
              "</table>\n",
              "</div>"
            ],
            "text/plain": [
              "                                                text  target             title\n",
              "0  From: Mamatha Devineni Ratnam <mr47+@andrew.cm...      10  rec.sport.hockey\n",
              "1  From: dchhabra@stpl.ists.ca (Deepak Chhabra)\\n...      10  rec.sport.hockey\n",
              "2  From: dchhabra@stpl.ists.ca (Deepak Chhabra)\\n...      10  rec.sport.hockey\n",
              "3  From: cs902043@ariel.yorku.ca (SHAWN LUDDINGTO...      10  rec.sport.hockey\n",
              "4  From: gritter@cs.purdue.edu (Carl Gritter)\\nSu...      10  rec.sport.hockey"
            ]
          },
          "metadata": {
            "tags": []
          },
          "execution_count": 7
        }
      ]
    },
    {
      "cell_type": "markdown",
      "metadata": {
        "id": "7dZlxCN9YFzj",
        "colab_type": "text"
      },
      "source": [
        "## **Data esploration**"
      ]
    },
    {
      "cell_type": "markdown",
      "metadata": {
        "id": "Zl0uci1bSLER",
        "colab_type": "text"
      },
      "source": [
        "Dimensione del dataset"
      ]
    },
    {
      "cell_type": "code",
      "metadata": {
        "id": "b5jSb5Y8SEzR",
        "colab_type": "code",
        "outputId": "f461e8ce-2fbd-4da6-d8c0-112fa023d1fb",
        "colab": {
          "base_uri": "https://localhost:8080/",
          "height": 34
        }
      },
      "source": [
        "df.shape"
      ],
      "execution_count": 0,
      "outputs": [
        {
          "output_type": "execute_result",
          "data": {
            "text/plain": [
              "(18846, 3)"
            ]
          },
          "metadata": {
            "tags": []
          },
          "execution_count": 8
        }
      ]
    },
    {
      "cell_type": "markdown",
      "metadata": {
        "id": "hwobk83tTInS",
        "colab_type": "text"
      },
      "source": [
        "Controlliamo se sono presenti **na**"
      ]
    },
    {
      "cell_type": "code",
      "metadata": {
        "id": "MH0lGOdVTIE0",
        "colab_type": "code",
        "outputId": "61753e1b-0bbb-4e6c-8a3f-938641e0bdac",
        "colab": {
          "base_uri": "https://localhost:8080/",
          "height": 85
        }
      },
      "source": [
        "df.isnull().sum()"
      ],
      "execution_count": 0,
      "outputs": [
        {
          "output_type": "execute_result",
          "data": {
            "text/plain": [
              "text      0\n",
              "target    0\n",
              "title     0\n",
              "dtype: int64"
            ]
          },
          "metadata": {
            "tags": []
          },
          "execution_count": 9
        }
      ]
    },
    {
      "cell_type": "markdown",
      "metadata": {
        "id": "QdT7bYDVYmXQ",
        "colab_type": "text"
      },
      "source": [
        "Lista target"
      ]
    },
    {
      "cell_type": "code",
      "metadata": {
        "id": "zffHAtemYoKk",
        "colab_type": "code",
        "outputId": "92064603-07f0-4027-f7ad-b94015aad347",
        "colab": {
          "base_uri": "https://localhost:8080/",
          "height": 119
        }
      },
      "source": [
        "print(df.title.unique())"
      ],
      "execution_count": 0,
      "outputs": [
        {
          "output_type": "stream",
          "text": [
            "['rec.sport.hockey' 'comp.sys.ibm.pc.hardware' 'talk.politics.mideast'\n",
            " 'comp.sys.mac.hardware' 'sci.electronics' 'talk.religion.misc'\n",
            " 'sci.crypt' 'sci.med' 'alt.atheism' 'rec.motorcycles' 'rec.autos'\n",
            " 'comp.windows.x' 'comp.graphics' 'sci.space' 'talk.politics.guns'\n",
            " 'misc.forsale' 'rec.sport.baseball' 'talk.politics.misc'\n",
            " 'comp.os.ms-windows.misc' 'soc.religion.christian']\n"
          ],
          "name": "stdout"
        }
      ]
    },
    {
      "cell_type": "code",
      "metadata": {
        "id": "8F-Plq9XZbov",
        "colab_type": "code",
        "outputId": "9a89214d-6b5c-4877-9545-cc4a326474f0",
        "colab": {
          "base_uri": "https://localhost:8080/",
          "height": 34
        }
      },
      "source": [
        "print(df.target.unique())"
      ],
      "execution_count": 0,
      "outputs": [
        {
          "output_type": "stream",
          "text": [
            "[10  3 17  4 12 19 11 13  0  8  7  5  1 14 16  6  9 18  2 15]\n"
          ],
          "name": "stdout"
        }
      ]
    },
    {
      "cell_type": "markdown",
      "metadata": {
        "id": "aX2KisJmUx2W",
        "colab_type": "text"
      },
      "source": [
        "Controlliamo se le categorie (target) sono bilanciate"
      ]
    },
    {
      "cell_type": "code",
      "metadata": {
        "id": "JbWqmHmSU2_T",
        "colab_type": "code",
        "outputId": "51497177-6652-4bcc-eb20-3fcc8133b277",
        "colab": {
          "base_uri": "https://localhost:8080/",
          "height": 337
        }
      },
      "source": [
        "count_target = df['target'].value_counts()\n",
        "\n",
        "plt.figure(figsize=(9,5))\n",
        "sns.barplot(count_target.index, count_target.values, alpha=0.8)\n",
        "plt.ylabel('Number of Occurrences', fontsize=12)\n",
        "plt.xlabel('Target', fontsize=12);"
      ],
      "execution_count": 0,
      "outputs": [
        {
          "output_type": "display_data",
          "data": {
            "image/png": "[encoded data removed]",
            "text/plain": [
              "<Figure size 648x360 with 1 Axes>"
            ]
          },
          "metadata": {
            "tags": []
          }
        }
      ]
    },
    {
      "cell_type": "markdown",
      "metadata": {
        "id": "aOuZ_xrfZkny",
        "colab_type": "text"
      },
      "source": [
        "## **Preprocessing**"
      ]
    },
    {
      "cell_type": "markdown",
      "metadata": {
        "id": "D7AZoSjmaHYI",
        "colab_type": "text"
      },
      "source": [
        "Per le operazioni di preprocessing creiamo una nuova colonna del DataFrame df chiamata **text_processed**, mantenendo la colonna del testo originale"
      ]
    },
    {
      "cell_type": "markdown",
      "metadata": {
        "id": "xb-2n4MJZ-O3",
        "colab_type": "text"
      },
      "source": [
        "**1.** Conversione del testo in minuscolo"
      ]
    },
    {
      "cell_type": "code",
      "metadata": {
        "id": "UUp6ln_MaqQ6",
        "colab_type": "code",
        "colab": {}
      },
      "source": [
        "df['text_processed'] = df['text'].map(lambda x: x.lower())"
      ],
      "execution_count": 0,
      "outputs": []
    },
    {
      "cell_type": "markdown",
      "metadata": {
        "id": "ZGR2HIuea9Xw",
        "colab_type": "text"
      },
      "source": [
        "**2.** Eliminazione indirizzi mail"
      ]
    },
    {
      "cell_type": "code",
      "metadata": {
        "id": "jbfqNcouawih",
        "colab_type": "code",
        "colab": {}
      },
      "source": [
        "df['text_processed'] = df['text_processed'].map(lambda x: re.sub('\\S*@\\S*\\s?',' ', x))"
      ],
      "execution_count": 0,
      "outputs": []
    },
    {
      "cell_type": "markdown",
      "metadata": {
        "id": "UI_FjJzVbMiT",
        "colab_type": "text"
      },
      "source": [
        "**3.** Eliminazione numeri"
      ]
    },
    {
      "cell_type": "code",
      "metadata": {
        "id": "vQH_WDP_bSmN",
        "colab_type": "code",
        "colab": {}
      },
      "source": [
        "df['text_processed'] = df['text_processed'].map(lambda x: re.sub('\\d+',' ', x))"
      ],
      "execution_count": 0,
      "outputs": []
    },
    {
      "cell_type": "markdown",
      "metadata": {
        "id": "yEBNozx6bb1F",
        "colab_type": "text"
      },
      "source": [
        "**4.** Eliminazione caratteri di punteggiatura"
      ]
    },
    {
      "cell_type": "code",
      "metadata": {
        "id": "iyI5Zq27ba5m",
        "colab_type": "code",
        "colab": {}
      },
      "source": [
        "df['text_processed'] = df['text_processed'].map(lambda x: re.sub(r'[^\\w]', ' ', x))"
      ],
      "execution_count": 0,
      "outputs": []
    },
    {
      "cell_type": "markdown",
      "metadata": {
        "id": "Em3KYCkLbpU5",
        "colab_type": "text"
      },
      "source": [
        "**5.** Rimozione parole composta da 1 e due lettere"
      ]
    },
    {
      "cell_type": "code",
      "metadata": {
        "id": "A5cSvJ3ebvt6",
        "colab_type": "code",
        "colab": {}
      },
      "source": [
        "df['text_processed'] = df['text_processed'].astype(str).map(lambda x: re.sub(r'\\b\\w{1,2}\\b', '', x))"
      ],
      "execution_count": 0,
      "outputs": []
    },
    {
      "cell_type": "markdown",
      "metadata": {
        "id": "k1yB1zfBb8cG",
        "colab_type": "text"
      },
      "source": [
        "**6.** Sistemazione degli spazi che si sono creati con le precedenti operazioni"
      ]
    },
    {
      "cell_type": "code",
      "metadata": {
        "id": "p30vPrw9cEXN",
        "colab_type": "code",
        "colab": {}
      },
      "source": [
        "df['text_processed'] = df['text_processed'].map(lambda x: re.sub(' +', ' ', x))"
      ],
      "execution_count": 0,
      "outputs": []
    },
    {
      "cell_type": "code",
      "metadata": {
        "id": "oiu4AiEGcKwt",
        "colab_type": "code",
        "colab": {}
      },
      "source": [
        "df['text_processed'] = df['text_processed'].map(lambda x: x.lstrip()) #rimozione spazi di inizio riga"
      ],
      "execution_count": 0,
      "outputs": []
    },
    {
      "cell_type": "code",
      "metadata": {
        "id": "WeeHSU7rcO43",
        "colab_type": "code",
        "colab": {}
      },
      "source": [
        "df['text_processed'] = df['text_processed'].map(lambda x: x.rstrip()) #rimozione spazi di fine riga"
      ],
      "execution_count": 0,
      "outputs": []
    },
    {
      "cell_type": "markdown",
      "metadata": {
        "id": "f00osYvhcZMg",
        "colab_type": "text"
      },
      "source": [
        "**7.** Tokenizzazione"
      ]
    },
    {
      "cell_type": "code",
      "metadata": {
        "id": "A6lbOMj5ch92",
        "colab_type": "code",
        "colab": {}
      },
      "source": [
        "df['text_processed'] = df['text_processed'].apply(lambda x: nltk.word_tokenize(x))"
      ],
      "execution_count": 0,
      "outputs": []
    },
    {
      "cell_type": "markdown",
      "metadata": {
        "id": "Pw_2TvPcc1p9",
        "colab_type": "text"
      },
      "source": [
        "**8.** Rimozione Stopwords"
      ]
    },
    {
      "cell_type": "code",
      "metadata": {
        "id": "RIlnrDNVdCWn",
        "colab_type": "code",
        "colab": {}
      },
      "source": [
        "#lista stop_words\n",
        "en_stopwords = stopwords.words ('english')"
      ],
      "execution_count": 0,
      "outputs": []
    },
    {
      "cell_type": "code",
      "metadata": {
        "id": "L2u7OEH7dJzD",
        "colab_type": "code",
        "outputId": "cbb846d3-1879-4a35-e153-5966fb319a4e",
        "colab": {
          "base_uri": "https://localhost:8080/",
          "height": 34
        }
      },
      "source": [
        "#numero di stopwords\n",
        "len(en_stopwords)"
      ],
      "execution_count": 0,
      "outputs": [
        {
          "output_type": "execute_result",
          "data": {
            "text/plain": [
              "179"
            ]
          },
          "metadata": {
            "tags": []
          },
          "execution_count": 23
        }
      ]
    },
    {
      "cell_type": "code",
      "metadata": {
        "id": "gUSOnLYfdVTj",
        "colab_type": "code",
        "colab": {}
      },
      "source": [
        "df['text_processed'] = df['text_processed'].apply(lambda x: [item for item in x if item not in en_stopwords])"
      ],
      "execution_count": 0,
      "outputs": []
    },
    {
      "cell_type": "markdown",
      "metadata": {
        "id": "zhLrtgKfdu7S",
        "colab_type": "text"
      },
      "source": [
        "Per effettuare le operazioni di lemmatizzazione e stemming verranno create due nuove colonne (rispettivamente **text_processed_lem** e **text_processed_stem**) in modo da separare le due operazioni"
      ]
    },
    {
      "cell_type": "markdown",
      "metadata": {
        "id": "CUev6KF-dnmM",
        "colab_type": "text"
      },
      "source": [
        "**9.** Lemmatizzazione  "
      ]
    },
    {
      "cell_type": "code",
      "metadata": {
        "id": "2PsJ91UReNuP",
        "colab_type": "code",
        "colab": {}
      },
      "source": [
        "lemmatizer = WordNetLemmatizer()"
      ],
      "execution_count": 0,
      "outputs": []
    },
    {
      "cell_type": "code",
      "metadata": {
        "id": "8Jt7HUFseb5H",
        "colab_type": "code",
        "colab": {}
      },
      "source": [
        "df['text_processed_lem'] = df['text_processed'].apply(lambda x: [lemmatizer.lemmatize(y) for y in x])"
      ],
      "execution_count": 0,
      "outputs": []
    },
    {
      "cell_type": "markdown",
      "metadata": {
        "id": "pnUiVEbTeouY",
        "colab_type": "text"
      },
      "source": [
        "**10.** Stemming"
      ]
    },
    {
      "cell_type": "code",
      "metadata": {
        "id": "IrqO3_jqerN1",
        "colab_type": "code",
        "colab": {}
      },
      "source": [
        "ps = PorterStemmer()"
      ],
      "execution_count": 0,
      "outputs": []
    },
    {
      "cell_type": "code",
      "metadata": {
        "id": "C86b9ag-e188",
        "colab_type": "code",
        "colab": {}
      },
      "source": [
        "df['text_processed_stem'] = df['text_processed'].apply(lambda x: [ps.stem(y) for y in x])"
      ],
      "execution_count": 0,
      "outputs": []
    },
    {
      "cell_type": "markdown",
      "metadata": {
        "id": "aaCnIuOChty9",
        "colab_type": "text"
      },
      "source": [
        "Teminata la fase di preprocessing del testo suddividiamo il Dataset in **train set (60%)** e **test set (40%)** in modo da poter addestrare e testare il classificatore  \n",
        "\n",
        "**train_lem_x**: train set  di text_processed_lem  \n",
        "**train_lem_y**: target train set di text_processed_lem  \n",
        "**test_lem_x**: test set di text_processed_lem   \n",
        "**test_lem_y**: target test di text_processed_lem \n",
        "\n",
        "**train_stem_x**: train set  di text_processed_stem  \n",
        "**train_stem_y**: target train set di text_processed_stem  \n",
        "**test_stem_x**: test set di text_processed_stem   \n",
        "**test_stem_y**: target test di text_processed_stem \n",
        "\n"
      ]
    },
    {
      "cell_type": "code",
      "metadata": {
        "id": "ZglTUv1XiGn4",
        "colab_type": "code",
        "colab": {}
      },
      "source": [
        "train_lem_x, test_lem_x, train_lem_y, test_lem_y = model_selection.train_test_split(df['text_processed_lem'], df['target'], \n",
        "                                                                                    train_size= 0.6, test_size= 0.4, \n",
        "                                                                                    random_state = 123, shuffle = True)"
      ],
      "execution_count": 0,
      "outputs": []
    },
    {
      "cell_type": "code",
      "metadata": {
        "id": "Tqg5PAUctHin",
        "colab_type": "code",
        "colab": {}
      },
      "source": [
        "train_stem_x, test_stem_x, train_stem_y, test_stem_y = model_selection.train_test_split(df['text_processed_stem'], df['target'], \n",
        "                                                                                    train_size= 0.6, test_size= 0.4, \n",
        "                                                                                    random_state = 123, shuffle = True)"
      ],
      "execution_count": 0,
      "outputs": []
    },
    {
      "cell_type": "code",
      "metadata": {
        "id": "JFb9Hyxsti38",
        "colab_type": "code",
        "outputId": "15bf4259-49f0-402e-e8bd-bab86a3453a8",
        "colab": {
          "base_uri": "https://localhost:8080/",
          "height": 85
        }
      },
      "source": [
        "print('La dimensione del train set dei dati \"lemmatizzati\" (train_lem_x) è', len(train_lem_x))\n",
        "print('La dimensione del test set dei dati \"lemmatizzati\" (test_lem_x) è', len(test_lem_x))\n",
        "\n",
        "print('La dimensione del train set dei dati \"stemmatizzati\" (train_stem_x) è', len(train_stem_x))\n",
        "print('La dimensione del test set dei dati \"stemmatizzati\" (test_stem_x) è', len(test_stem_x))\n"
      ],
      "execution_count": 0,
      "outputs": [
        {
          "output_type": "stream",
          "text": [
            "La dimensione del train set dei dati \"lemmatizzati\" (train_lem_x) è 11307\n",
            "La dimensione del test set dei dati \"lemmatizzati\" (test_lem_x) è 7539\n",
            "La dimensione del train set dei dati \"stemmatizzati\" (train_stem_x) è 11307\n",
            "La dimensione del test set dei dati \"stemmatizzati\" (test_stem_x) è 7539\n"
          ],
          "name": "stdout"
        }
      ]
    },
    {
      "cell_type": "markdown",
      "metadata": {
        "id": "ncelmtD_gDhU",
        "colab_type": "text"
      },
      "source": [
        "## **Feature Engineering**  \n",
        "In questa fase creiamo le strutture **tf** e **tf-idf** che saranno poi utilizzate dagli algoritmi di Machine Learning per effettuare la classificazione"
      ]
    },
    {
      "cell_type": "markdown",
      "metadata": {
        "id": "wLjzuUowg7XW",
        "colab_type": "text"
      },
      "source": [
        "**Term Frequency**"
      ]
    },
    {
      "cell_type": "code",
      "metadata": {
        "id": "6AXGWIAYg_v9",
        "colab_type": "code",
        "colab": {}
      },
      "source": [
        "count_vect = CountVectorizer(analyzer='word')"
      ],
      "execution_count": 0,
      "outputs": []
    },
    {
      "cell_type": "markdown",
      "metadata": {
        "id": "-l6btAoiwJEO",
        "colab_type": "text"
      },
      "source": [
        "I quattro passaggi successivi servono per adeguare il formato alla funzione di creazione delle matrici tf e tf-idf"
      ]
    },
    {
      "cell_type": "code",
      "metadata": {
        "id": "Op8z8ZdRuxS2",
        "colab_type": "code",
        "colab": {}
      },
      "source": [
        "a = train_lem_x.astype(str)"
      ],
      "execution_count": 0,
      "outputs": []
    },
    {
      "cell_type": "code",
      "metadata": {
        "id": "py7TIwyLvTYz",
        "colab_type": "code",
        "colab": {}
      },
      "source": [
        "b = test_lem_x.astype(str)"
      ],
      "execution_count": 0,
      "outputs": []
    },
    {
      "cell_type": "code",
      "metadata": {
        "id": "4Okq5cZhvXuG",
        "colab_type": "code",
        "colab": {}
      },
      "source": [
        "c = train_stem_x.astype(str)"
      ],
      "execution_count": 0,
      "outputs": []
    },
    {
      "cell_type": "code",
      "metadata": {
        "id": "puYf23k9vbhC",
        "colab_type": "code",
        "colab": {}
      },
      "source": [
        "d = test_stem_x.astype(str)"
      ],
      "execution_count": 0,
      "outputs": []
    },
    {
      "cell_type": "markdown",
      "metadata": {
        "id": "XvCcnDqGw1Yq",
        "colab_type": "text"
      },
      "source": [
        "Creazione matrice tf per train_lem_x"
      ]
    },
    {
      "cell_type": "code",
      "metadata": {
        "id": "GrKRj-e7vfAS",
        "colab_type": "code",
        "outputId": "fd0b0374-0570-443e-9ac1-b699458d4c83",
        "colab": {
          "base_uri": "https://localhost:8080/",
          "height": 51
        }
      },
      "source": [
        "tf_train_lem_x = count_vect.fit_transform(a)\n",
        "tf_train_lem_x"
      ],
      "execution_count": 0,
      "outputs": [
        {
          "output_type": "execute_result",
          "data": {
            "text/plain": [
              "<11307x73262 sparse matrix of type '<class 'numpy.int64'>'\n",
              "\twith 1128756 stored elements in Compressed Sparse Row format>"
            ]
          },
          "metadata": {
            "tags": []
          },
          "execution_count": 37
        }
      ]
    },
    {
      "cell_type": "markdown",
      "metadata": {
        "id": "WfvmneR5w9VP",
        "colab_type": "text"
      },
      "source": [
        "Creazione matrice tf per test_lem_x"
      ]
    },
    {
      "cell_type": "code",
      "metadata": {
        "id": "SGfYGZBVxCvJ",
        "colab_type": "code",
        "outputId": "3647440e-e74e-4e64-f41f-2fa48dac9c0c",
        "colab": {
          "base_uri": "https://localhost:8080/",
          "height": 51
        }
      },
      "source": [
        "tf_test_lem_x = count_vect.transform(b)\n",
        "tf_test_lem_x"
      ],
      "execution_count": 0,
      "outputs": [
        {
          "output_type": "execute_result",
          "data": {
            "text/plain": [
              "<7539x73262 sparse matrix of type '<class 'numpy.int64'>'\n",
              "\twith 729374 stored elements in Compressed Sparse Row format>"
            ]
          },
          "metadata": {
            "tags": []
          },
          "execution_count": 38
        }
      ]
    },
    {
      "cell_type": "markdown",
      "metadata": {
        "id": "S22HWHnexTwg",
        "colab_type": "text"
      },
      "source": [
        "Creazione matrice tf per train_stem_x"
      ]
    },
    {
      "cell_type": "code",
      "metadata": {
        "id": "utYfIH8KxZLh",
        "colab_type": "code",
        "outputId": "f6f783cd-4bd8-4600-c6e2-55c1a7ef30a4",
        "colab": {
          "base_uri": "https://localhost:8080/",
          "height": 51
        }
      },
      "source": [
        "tf_train_stem_x = count_vect.fit_transform(c)\n",
        "tf_train_stem_x"
      ],
      "execution_count": 0,
      "outputs": [
        {
          "output_type": "execute_result",
          "data": {
            "text/plain": [
              "<11307x60398 sparse matrix of type '<class 'numpy.int64'>'\n",
              "\twith 1091121 stored elements in Compressed Sparse Row format>"
            ]
          },
          "metadata": {
            "tags": []
          },
          "execution_count": 39
        }
      ]
    },
    {
      "cell_type": "markdown",
      "metadata": {
        "id": "j8umpKe5xsfC",
        "colab_type": "text"
      },
      "source": [
        "Creazione matrice tf per test_stem_x"
      ]
    },
    {
      "cell_type": "code",
      "metadata": {
        "id": "ofb_R-AOxxvr",
        "colab_type": "code",
        "outputId": "258372ef-ba79-4159-8d9a-b5216f519f2b",
        "colab": {
          "base_uri": "https://localhost:8080/",
          "height": 51
        }
      },
      "source": [
        "tf_test_stem_x = count_vect.transform(d)\n",
        "tf_test_stem_x"
      ],
      "execution_count": 0,
      "outputs": [
        {
          "output_type": "execute_result",
          "data": {
            "text/plain": [
              "<7539x60398 sparse matrix of type '<class 'numpy.int64'>'\n",
              "\twith 708632 stored elements in Compressed Sparse Row format>"
            ]
          },
          "metadata": {
            "tags": []
          },
          "execution_count": 40
        }
      ]
    },
    {
      "cell_type": "markdown",
      "metadata": {
        "id": "2Lm7RW5uyI6s",
        "colab_type": "text"
      },
      "source": [
        "**TF-IDF unigram** "
      ]
    },
    {
      "cell_type": "code",
      "metadata": {
        "id": "5yOE9RRnypS8",
        "colab_type": "code",
        "colab": {}
      },
      "source": [
        "tfidf = TfidfVectorizer(max_features=20000, analyzer='word',ngram_range=(1,1))"
      ],
      "execution_count": 0,
      "outputs": []
    },
    {
      "cell_type": "markdown",
      "metadata": {
        "id": "b0D8WNKv1tBw",
        "colab_type": "text"
      },
      "source": [
        "Creazione matrice tf-idf per train_lem_x"
      ]
    },
    {
      "cell_type": "code",
      "metadata": {
        "id": "LfoYnGiJ12L8",
        "colab_type": "code",
        "colab": {}
      },
      "source": [
        "tfidf.fit(a)\n",
        "tfidf_train_lem_x =  tfidf.transform(a)"
      ],
      "execution_count": 0,
      "outputs": []
    },
    {
      "cell_type": "code",
      "metadata": {
        "id": "jWYFybMB2cT2",
        "colab_type": "code",
        "outputId": "0e9f8719-8e6b-4f18-8533-e02d20aa0231",
        "colab": {
          "base_uri": "https://localhost:8080/",
          "height": 51
        }
      },
      "source": [
        "tfidf_train_lem_x"
      ],
      "execution_count": 0,
      "outputs": [
        {
          "output_type": "execute_result",
          "data": {
            "text/plain": [
              "<11307x20000 sparse matrix of type '<class 'numpy.float64'>'\n",
              "\twith 1046216 stored elements in Compressed Sparse Row format>"
            ]
          },
          "metadata": {
            "tags": []
          },
          "execution_count": 43
        }
      ]
    },
    {
      "cell_type": "markdown",
      "metadata": {
        "id": "MbIHeCf-12Xm",
        "colab_type": "text"
      },
      "source": [
        "Creazione matrice tf-idf per test_lem_x"
      ]
    },
    {
      "cell_type": "code",
      "metadata": {
        "id": "ybbFxmJx16G3",
        "colab_type": "code",
        "colab": {}
      },
      "source": [
        "tfidf_test_lem_x =  tfidf.transform(b)"
      ],
      "execution_count": 0,
      "outputs": []
    },
    {
      "cell_type": "code",
      "metadata": {
        "id": "zbFexcuk2s4_",
        "colab_type": "code",
        "outputId": "7d00aef9-2bee-4b85-b5cc-775c053bab50",
        "colab": {
          "base_uri": "https://localhost:8080/",
          "height": 51
        }
      },
      "source": [
        "tfidf_test_lem_x"
      ],
      "execution_count": 0,
      "outputs": [
        {
          "output_type": "execute_result",
          "data": {
            "text/plain": [
              "<7539x20000 sparse matrix of type '<class 'numpy.float64'>'\n",
              "\twith 689416 stored elements in Compressed Sparse Row format>"
            ]
          },
          "metadata": {
            "tags": []
          },
          "execution_count": 45
        }
      ]
    },
    {
      "cell_type": "markdown",
      "metadata": {
        "id": "97B6Bju316O0",
        "colab_type": "text"
      },
      "source": [
        "Creazione matrice tf-idf per train_stem_x"
      ]
    },
    {
      "cell_type": "code",
      "metadata": {
        "id": "gp9Gry0P18WY",
        "colab_type": "code",
        "colab": {}
      },
      "source": [
        "tfidf.fit(c)\n",
        "tfidf_train_stem_x =  tfidf.transform(c)"
      ],
      "execution_count": 0,
      "outputs": []
    },
    {
      "cell_type": "code",
      "metadata": {
        "id": "jpO7yOHc22JF",
        "colab_type": "code",
        "outputId": "e87dff40-5144-4952-e731-4bd5f996f66e",
        "colab": {
          "base_uri": "https://localhost:8080/",
          "height": 51
        }
      },
      "source": [
        "tfidf_train_stem_x"
      ],
      "execution_count": 0,
      "outputs": [
        {
          "output_type": "execute_result",
          "data": {
            "text/plain": [
              "<11307x20000 sparse matrix of type '<class 'numpy.float64'>'\n",
              "\twith 1036595 stored elements in Compressed Sparse Row format>"
            ]
          },
          "metadata": {
            "tags": []
          },
          "execution_count": 47
        }
      ]
    },
    {
      "cell_type": "markdown",
      "metadata": {
        "id": "eU-vGvbg18ew",
        "colab_type": "text"
      },
      "source": [
        "Creazione matrice tf-idf per test_stem_x"
      ]
    },
    {
      "cell_type": "code",
      "metadata": {
        "id": "PWfT8Lpt25Wn",
        "colab_type": "code",
        "colab": {}
      },
      "source": [
        "tfidf_test_stem_x =  tfidf.transform(d)"
      ],
      "execution_count": 0,
      "outputs": []
    },
    {
      "cell_type": "code",
      "metadata": {
        "id": "BYrE8THx3D23",
        "colab_type": "code",
        "outputId": "94c46b25-f228-4ed6-c51c-36e265fc347d",
        "colab": {
          "base_uri": "https://localhost:8080/",
          "height": 51
        }
      },
      "source": [
        "tfidf_test_stem_x"
      ],
      "execution_count": 0,
      "outputs": [
        {
          "output_type": "execute_result",
          "data": {
            "text/plain": [
              "<7539x20000 sparse matrix of type '<class 'numpy.float64'>'\n",
              "\twith 683884 stored elements in Compressed Sparse Row format>"
            ]
          },
          "metadata": {
            "tags": []
          },
          "execution_count": 49
        }
      ]
    },
    {
      "cell_type": "markdown",
      "metadata": {
        "id": "wSZlxJYh3KUS",
        "colab_type": "text"
      },
      "source": [
        "**TF-IDF unigram + bigram** "
      ]
    },
    {
      "cell_type": "code",
      "metadata": {
        "id": "i9Rj0-md3J1A",
        "colab_type": "code",
        "colab": {}
      },
      "source": [
        "bi_tfidf = TfidfVectorizer(max_features=20000, analyzer='word',ngram_range=(1,2))"
      ],
      "execution_count": 0,
      "outputs": []
    },
    {
      "cell_type": "markdown",
      "metadata": {
        "id": "Dz9Tkt8m3UqZ",
        "colab_type": "text"
      },
      "source": [
        "Creazione matrice tf-idf bigram per train_lem_x"
      ]
    },
    {
      "cell_type": "code",
      "metadata": {
        "id": "Os5dQ2J33Xoz",
        "colab_type": "code",
        "colab": {}
      },
      "source": [
        "bi_tfidf.fit(a)\n",
        "bi_train_lem_x =  bi_tfidf.transform(a)"
      ],
      "execution_count": 0,
      "outputs": []
    },
    {
      "cell_type": "code",
      "metadata": {
        "id": "3xpN7Jss3tdI",
        "colab_type": "code",
        "outputId": "d18785cf-6610-408d-e576-c66f8cd1d10f",
        "colab": {
          "base_uri": "https://localhost:8080/",
          "height": 51
        }
      },
      "source": [
        "bi_train_lem_x"
      ],
      "execution_count": 0,
      "outputs": [
        {
          "output_type": "execute_result",
          "data": {
            "text/plain": [
              "<11307x20000 sparse matrix of type '<class 'numpy.float64'>'\n",
              "\twith 1212679 stored elements in Compressed Sparse Row format>"
            ]
          },
          "metadata": {
            "tags": []
          },
          "execution_count": 52
        }
      ]
    },
    {
      "cell_type": "markdown",
      "metadata": {
        "id": "7QvWkXqZ3X8Z",
        "colab_type": "text"
      },
      "source": [
        "Creazione matrice tf-idf bigram per test_lem_x"
      ]
    },
    {
      "cell_type": "code",
      "metadata": {
        "id": "Xp3be2ZK3bNV",
        "colab_type": "code",
        "colab": {}
      },
      "source": [
        "bi_test_lem_x =  bi_tfidf.transform(b)"
      ],
      "execution_count": 0,
      "outputs": []
    },
    {
      "cell_type": "code",
      "metadata": {
        "id": "AJoc4ZoO4Lk2",
        "colab_type": "code",
        "outputId": "5684ad1b-8a76-4dd7-fb0b-e435a686c035",
        "colab": {
          "base_uri": "https://localhost:8080/",
          "height": 51
        }
      },
      "source": [
        "bi_test_lem_x"
      ],
      "execution_count": 0,
      "outputs": [
        {
          "output_type": "execute_result",
          "data": {
            "text/plain": [
              "<7539x20000 sparse matrix of type '<class 'numpy.float64'>'\n",
              "\twith 795904 stored elements in Compressed Sparse Row format>"
            ]
          },
          "metadata": {
            "tags": []
          },
          "execution_count": 54
        }
      ]
    },
    {
      "cell_type": "markdown",
      "metadata": {
        "id": "EZQhlKY63bXy",
        "colab_type": "text"
      },
      "source": [
        "Creazione matrice tf-idf bigram per train_stem_x"
      ]
    },
    {
      "cell_type": "code",
      "metadata": {
        "id": "0vNkKHKS3ddJ",
        "colab_type": "code",
        "colab": {}
      },
      "source": [
        "bi_tfidf.fit(c)\n",
        "bi_train_stem_x =  bi_tfidf.transform(c)"
      ],
      "execution_count": 0,
      "outputs": []
    },
    {
      "cell_type": "code",
      "metadata": {
        "id": "futUIlUH4ce_",
        "colab_type": "code",
        "outputId": "97584354-efbe-47d7-f12d-2d64cd6a7a55",
        "colab": {
          "base_uri": "https://localhost:8080/",
          "height": 51
        }
      },
      "source": [
        "bi_train_stem_x"
      ],
      "execution_count": 0,
      "outputs": [
        {
          "output_type": "execute_result",
          "data": {
            "text/plain": [
              "<11307x20000 sparse matrix of type '<class 'numpy.float64'>'\n",
              "\twith 1233687 stored elements in Compressed Sparse Row format>"
            ]
          },
          "metadata": {
            "tags": []
          },
          "execution_count": 56
        }
      ]
    },
    {
      "cell_type": "markdown",
      "metadata": {
        "id": "rkF8GxZX3dsT",
        "colab_type": "text"
      },
      "source": [
        "Creazione matrice tf-idf bigram per test_stem_x"
      ]
    },
    {
      "cell_type": "code",
      "metadata": {
        "id": "leiDfo2J4jj9",
        "colab_type": "code",
        "colab": {}
      },
      "source": [
        "bi_test_stem_x =  bi_tfidf.transform(d)"
      ],
      "execution_count": 0,
      "outputs": []
    },
    {
      "cell_type": "code",
      "metadata": {
        "id": "NyvyV4iC4vqW",
        "colab_type": "code",
        "outputId": "6e92cf2d-0037-4b8b-b0cc-201aa8d23df1",
        "colab": {
          "base_uri": "https://localhost:8080/",
          "height": 51
        }
      },
      "source": [
        "bi_test_stem_x"
      ],
      "execution_count": 0,
      "outputs": [
        {
          "output_type": "execute_result",
          "data": {
            "text/plain": [
              "<7539x20000 sparse matrix of type '<class 'numpy.float64'>'\n",
              "\twith 809503 stored elements in Compressed Sparse Row format>"
            ]
          },
          "metadata": {
            "tags": []
          },
          "execution_count": 58
        }
      ]
    },
    {
      "cell_type": "markdown",
      "metadata": {
        "id": "0msdYBmW5KpZ",
        "colab_type": "text"
      },
      "source": [
        "## **Classification**"
      ]
    },
    {
      "cell_type": "markdown",
      "metadata": {
        "id": "V6ytn9mj5jaz",
        "colab_type": "text"
      },
      "source": [
        "### **1. Naive Bayes**"
      ]
    },
    {
      "cell_type": "code",
      "metadata": {
        "id": "o5QRGps-7ifo",
        "colab_type": "code",
        "colab": {}
      },
      "source": [
        "clf = MultinomialNB()"
      ],
      "execution_count": 0,
      "outputs": []
    },
    {
      "cell_type": "markdown",
      "metadata": {
        "id": "jaK2GSD2V5al",
        "colab_type": "text"
      },
      "source": [
        "**1.1 Naive Bayes con TF + Lemmatization**"
      ]
    },
    {
      "cell_type": "markdown",
      "metadata": {
        "id": "6_edf3ytyrH9",
        "colab_type": "text"
      },
      "source": [
        "Cross Validation (train set)"
      ]
    },
    {
      "cell_type": "code",
      "metadata": {
        "id": "kFXPNsHuuvYz",
        "colab_type": "code",
        "outputId": "8a16b27d-e2ca-4b65-df66-c75aededfd3e",
        "colab": {
          "base_uri": "https://localhost:8080/",
          "height": 51
        }
      },
      "source": [
        "%%time\n",
        "score = cross_val_score(clf, tf_train_lem_x, train_lem_y, cv=5)"
      ],
      "execution_count": 0,
      "outputs": [
        {
          "output_type": "stream",
          "text": [
            "CPU times: user 448 ms, sys: 9.01 ms, total: 457 ms\n",
            "Wall time: 459 ms\n"
          ],
          "name": "stdout"
        }
      ]
    },
    {
      "cell_type": "code",
      "metadata": {
        "id": "1tWQ8SOTvAsS",
        "colab_type": "code",
        "outputId": "2add8ec8-f3b2-405b-a18d-c1d056aa214a",
        "colab": {
          "base_uri": "https://localhost:8080/",
          "height": 51
        }
      },
      "source": [
        "print(score)\n",
        "print(score.mean())"
      ],
      "execution_count": 0,
      "outputs": [
        {
          "output_type": "stream",
          "text": [
            "[0.85720601 0.86295314 0.86687307 0.85935427 0.86333481]\n",
            "0.8619442583678731\n"
          ],
          "name": "stdout"
        }
      ]
    },
    {
      "cell_type": "markdown",
      "metadata": {
        "id": "U1ExAgsfyvhp",
        "colab_type": "text"
      },
      "source": [
        "Previsione su dati mai visti (test set)"
      ]
    },
    {
      "cell_type": "code",
      "metadata": {
        "id": "vkxeJckRQXXa",
        "colab_type": "code",
        "outputId": "0f358b61-ed87-4318-e82a-fae31ce366e9",
        "colab": {
          "base_uri": "https://localhost:8080/",
          "height": 510
        }
      },
      "source": [
        "%%time\n",
        "clf.fit(tf_train_lem_x, train_lem_y)\n",
        "predicted = clf.predict(tf_test_lem_x)\n",
        "print(classification_report(test_lem_y, predicted))"
      ],
      "execution_count": 0,
      "outputs": [
        {
          "output_type": "stream",
          "text": [
            "              precision    recall  f1-score   support\n",
            "\n",
            "           0       0.85      0.88      0.86       340\n",
            "           1       0.70      0.88      0.78       374\n",
            "           2       0.94      0.64      0.76       400\n",
            "           3       0.74      0.80      0.77       393\n",
            "           4       0.80      0.90      0.85       358\n",
            "           5       0.81      0.88      0.84       416\n",
            "           6       0.90      0.74      0.82       386\n",
            "           7       0.89      0.92      0.90       396\n",
            "           8       0.96      0.93      0.95       393\n",
            "           9       0.97      0.94      0.96       405\n",
            "          10       0.95      0.97      0.96       386\n",
            "          11       0.90      0.96      0.93       400\n",
            "          12       0.89      0.79      0.84       406\n",
            "          13       0.95      0.95      0.95       380\n",
            "          14       0.96      0.94      0.95       403\n",
            "          15       0.86      0.94      0.89       391\n",
            "          16       0.82      0.93      0.87       380\n",
            "          17       0.96      0.96      0.96       399\n",
            "          18       0.78      0.87      0.82       285\n",
            "          19       0.93      0.50      0.65       248\n",
            "\n",
            "    accuracy                           0.87      7539\n",
            "   macro avg       0.88      0.87      0.86      7539\n",
            "weighted avg       0.88      0.87      0.87      7539\n",
            "\n",
            "CPU times: user 139 ms, sys: 2.95 ms, total: 142 ms\n",
            "Wall time: 145 ms\n"
          ],
          "name": "stdout"
        }
      ]
    },
    {
      "cell_type": "markdown",
      "metadata": {
        "id": "YfHyxW4hWAwB",
        "colab_type": "text"
      },
      "source": [
        "**1.2 Naive Bayes con TF + Stemming**"
      ]
    },
    {
      "cell_type": "markdown",
      "metadata": {
        "id": "Se5XXOHPx_4Q",
        "colab_type": "text"
      },
      "source": [
        "Cross Validation (train set)"
      ]
    },
    {
      "cell_type": "code",
      "metadata": {
        "id": "UmqYaqXcyCTz",
        "colab_type": "code",
        "outputId": "8196a3f7-3aee-458e-e673-81ea4a2ed419",
        "colab": {
          "base_uri": "https://localhost:8080/",
          "height": 51
        }
      },
      "source": [
        "%%time\n",
        "score = cross_val_score(clf, tf_train_stem_x, train_stem_y, cv=5)"
      ],
      "execution_count": 0,
      "outputs": [
        {
          "output_type": "stream",
          "text": [
            "CPU times: user 392 ms, sys: 12 ms, total: 404 ms\n",
            "Wall time: 408 ms\n"
          ],
          "name": "stdout"
        }
      ]
    },
    {
      "cell_type": "code",
      "metadata": {
        "id": "-t9igaryyCdy",
        "colab_type": "code",
        "outputId": "e8fd5843-8f73-4eca-f350-925943544f92",
        "colab": {
          "base_uri": "https://localhost:8080/",
          "height": 51
        }
      },
      "source": [
        "print(score)\n",
        "print(score.mean())"
      ],
      "execution_count": 0,
      "outputs": [
        {
          "output_type": "stream",
          "text": [
            "[0.85234306 0.85632184 0.86200796 0.84564352 0.85537373]\n",
            "0.854338021680821\n"
          ],
          "name": "stdout"
        }
      ]
    },
    {
      "cell_type": "markdown",
      "metadata": {
        "id": "RbbCrHQCyDtd",
        "colab_type": "text"
      },
      "source": [
        "Previsione su dati mai visti (test set)"
      ]
    },
    {
      "cell_type": "code",
      "metadata": {
        "id": "PgcWfKPuWPrf",
        "colab_type": "code",
        "outputId": "2041739c-8da1-470c-f0e2-2760d22192e5",
        "colab": {
          "base_uri": "https://localhost:8080/",
          "height": 510
        }
      },
      "source": [
        "%%time\n",
        "clf.fit(tf_train_stem_x, train_stem_y)\n",
        "predicted = clf.predict(tf_test_stem_x)\n",
        "print(classification_report(test_stem_y, predicted))"
      ],
      "execution_count": 0,
      "outputs": [
        {
          "output_type": "stream",
          "text": [
            "              precision    recall  f1-score   support\n",
            "\n",
            "           0       0.84      0.87      0.86       340\n",
            "           1       0.70      0.87      0.77       374\n",
            "           2       0.94      0.60      0.73       400\n",
            "           3       0.72      0.79      0.75       393\n",
            "           4       0.77      0.90      0.83       358\n",
            "           5       0.83      0.87      0.85       416\n",
            "           6       0.88      0.72      0.79       386\n",
            "           7       0.89      0.92      0.90       396\n",
            "           8       0.96      0.93      0.94       393\n",
            "           9       0.97      0.95      0.96       405\n",
            "          10       0.95      0.97      0.96       386\n",
            "          11       0.87      0.96      0.91       400\n",
            "          12       0.86      0.76      0.80       406\n",
            "          13       0.95      0.94      0.95       380\n",
            "          14       0.95      0.94      0.94       403\n",
            "          15       0.85      0.94      0.89       391\n",
            "          16       0.81      0.93      0.87       380\n",
            "          17       0.95      0.95      0.95       399\n",
            "          18       0.77      0.86      0.81       285\n",
            "          19       0.93      0.49      0.64       248\n",
            "\n",
            "    accuracy                           0.86      7539\n",
            "   macro avg       0.87      0.86      0.86      7539\n",
            "weighted avg       0.87      0.86      0.86      7539\n",
            "\n",
            "CPU times: user 123 ms, sys: 1.97 ms, total: 125 ms\n",
            "Wall time: 127 ms\n"
          ],
          "name": "stdout"
        }
      ]
    },
    {
      "cell_type": "markdown",
      "metadata": {
        "id": "v-bWSrlckIIm",
        "colab_type": "text"
      },
      "source": [
        "**1.3 Naive Bayes con TF-IDF + Lemmatization**"
      ]
    },
    {
      "cell_type": "markdown",
      "metadata": {
        "id": "rgQptOjjy488",
        "colab_type": "text"
      },
      "source": [
        "Cross Validation (train set)"
      ]
    },
    {
      "cell_type": "code",
      "metadata": {
        "id": "e4cCouTgy5J1",
        "colab_type": "code",
        "outputId": "8fa62148-f318-4eba-cec5-de5646e4d77f",
        "colab": {
          "base_uri": "https://localhost:8080/",
          "height": 51
        }
      },
      "source": [
        "%%time\n",
        "score = cross_val_score(clf, tfidf_train_lem_x, train_lem_y, cv=5)"
      ],
      "execution_count": 0,
      "outputs": [
        {
          "output_type": "stream",
          "text": [
            "CPU times: user 270 ms, sys: 3.98 ms, total: 274 ms\n",
            "Wall time: 278 ms\n"
          ],
          "name": "stdout"
        }
      ]
    },
    {
      "cell_type": "code",
      "metadata": {
        "id": "KdXUslDUy5R2",
        "colab_type": "code",
        "outputId": "8e69331b-92d3-4375-c0c8-b0092f1b906e",
        "colab": {
          "base_uri": "https://localhost:8080/",
          "height": 51
        }
      },
      "source": [
        "print(score)\n",
        "print(score.mean())"
      ],
      "execution_count": 0,
      "outputs": [
        {
          "output_type": "stream",
          "text": [
            "[0.84880637 0.86030062 0.86377709 0.85448916 0.8584697 ]\n",
            "0.8571685885019932\n"
          ],
          "name": "stdout"
        }
      ]
    },
    {
      "cell_type": "markdown",
      "metadata": {
        "id": "miXcxsNLy5bV",
        "colab_type": "text"
      },
      "source": [
        "Previsione su dati mai visti (test set)"
      ]
    },
    {
      "cell_type": "code",
      "metadata": {
        "id": "EPElkeKQkS_W",
        "colab_type": "code",
        "outputId": "14efba1e-3b3a-43cc-9ff6-1957105ed640",
        "colab": {
          "base_uri": "https://localhost:8080/",
          "height": 510
        }
      },
      "source": [
        "%%time\n",
        "clf.fit(tfidf_train_lem_x, train_lem_y)\n",
        "predicted = clf.predict(tfidf_test_lem_x)\n",
        "print(classification_report(test_lem_y, predicted))"
      ],
      "execution_count": 0,
      "outputs": [
        {
          "output_type": "stream",
          "text": [
            "              precision    recall  f1-score   support\n",
            "\n",
            "           0       0.86      0.75      0.80       340\n",
            "           1       0.76      0.86      0.81       374\n",
            "           2       0.84      0.82      0.83       400\n",
            "           3       0.75      0.80      0.77       393\n",
            "           4       0.80      0.91      0.85       358\n",
            "           5       0.92      0.86      0.89       416\n",
            "           6       0.88      0.80      0.84       386\n",
            "           7       0.90      0.92      0.91       396\n",
            "           8       0.94      0.96      0.95       393\n",
            "           9       0.96      0.95      0.96       405\n",
            "          10       0.95      0.98      0.96       386\n",
            "          11       0.88      0.97      0.92       400\n",
            "          12       0.90      0.77      0.83       406\n",
            "          13       0.94      0.93      0.93       380\n",
            "          14       0.95      0.93      0.94       403\n",
            "          15       0.67      0.96      0.79       391\n",
            "          16       0.79      0.96      0.86       380\n",
            "          17       0.95      0.96      0.96       399\n",
            "          18       0.97      0.75      0.85       285\n",
            "          19       0.95      0.24      0.39       248\n",
            "\n",
            "    accuracy                           0.87      7539\n",
            "   macro avg       0.88      0.85      0.85      7539\n",
            "weighted avg       0.88      0.87      0.86      7539\n",
            "\n",
            "CPU times: user 90.9 ms, sys: 3 ms, total: 93.9 ms\n",
            "Wall time: 95.2 ms\n"
          ],
          "name": "stdout"
        }
      ]
    },
    {
      "cell_type": "markdown",
      "metadata": {
        "id": "4p2yJBFsl5Vu",
        "colab_type": "text"
      },
      "source": [
        "**1.4 Naive Bayes con TF-IDF + Stemming**"
      ]
    },
    {
      "cell_type": "markdown",
      "metadata": {
        "id": "KSJPtSOSzUaC",
        "colab_type": "text"
      },
      "source": [
        "Cross Validation (train set)"
      ]
    },
    {
      "cell_type": "code",
      "metadata": {
        "id": "md8MTVAOzUtF",
        "colab_type": "code",
        "outputId": "44d8ef45-f621-40b1-c53c-e80c270ee438",
        "colab": {
          "base_uri": "https://localhost:8080/",
          "height": 51
        }
      },
      "source": [
        "%%time\n",
        "score = cross_val_score(clf, tfidf_train_stem_x, train_stem_y, cv=5)"
      ],
      "execution_count": 0,
      "outputs": [
        {
          "output_type": "stream",
          "text": [
            "CPU times: user 261 ms, sys: 9.96 ms, total: 271 ms\n",
            "Wall time: 273 ms\n"
          ],
          "name": "stdout"
        }
      ]
    },
    {
      "cell_type": "code",
      "metadata": {
        "id": "GTPxRnHVzU0X",
        "colab_type": "code",
        "outputId": "69724aaa-7c43-43ba-922d-de753a40fbef",
        "colab": {
          "base_uri": "https://localhost:8080/",
          "height": 51
        }
      },
      "source": [
        "print(score)\n",
        "print(score.mean())"
      ],
      "execution_count": 0,
      "outputs": [
        {
          "output_type": "stream",
          "text": [
            "[0.84305924 0.85853227 0.85758514 0.84918178 0.85670057]\n",
            "0.8530118008392804\n"
          ],
          "name": "stdout"
        }
      ]
    },
    {
      "cell_type": "markdown",
      "metadata": {
        "id": "Q4ysaYCdzU_8",
        "colab_type": "text"
      },
      "source": [
        "Previsione su dati mai visti (test set)"
      ]
    },
    {
      "cell_type": "code",
      "metadata": {
        "id": "JWP4QBuHmAJC",
        "colab_type": "code",
        "outputId": "bb3a87fe-325c-4b35-f2a4-e477f1b3a5e7",
        "colab": {
          "base_uri": "https://localhost:8080/",
          "height": 510
        }
      },
      "source": [
        "%%time\n",
        "clf.fit(tfidf_train_stem_x, train_stem_y)\n",
        "predicted = clf.predict(tfidf_test_stem_x)\n",
        "print(classification_report(test_stem_y, predicted))"
      ],
      "execution_count": 0,
      "outputs": [
        {
          "output_type": "stream",
          "text": [
            "              precision    recall  f1-score   support\n",
            "\n",
            "           0       0.87      0.73      0.79       340\n",
            "           1       0.76      0.86      0.81       374\n",
            "           2       0.84      0.81      0.83       400\n",
            "           3       0.75      0.80      0.77       393\n",
            "           4       0.80      0.90      0.85       358\n",
            "           5       0.93      0.85      0.89       416\n",
            "           6       0.88      0.78      0.83       386\n",
            "           7       0.90      0.92      0.91       396\n",
            "           8       0.95      0.96      0.96       393\n",
            "           9       0.96      0.94      0.95       405\n",
            "          10       0.95      0.98      0.97       386\n",
            "          11       0.84      0.97      0.90       400\n",
            "          12       0.89      0.75      0.81       406\n",
            "          13       0.94      0.93      0.94       380\n",
            "          14       0.94      0.93      0.94       403\n",
            "          15       0.66      0.96      0.78       391\n",
            "          16       0.77      0.96      0.86       380\n",
            "          17       0.95      0.96      0.96       399\n",
            "          18       0.97      0.72      0.83       285\n",
            "          19       0.95      0.21      0.35       248\n",
            "\n",
            "    accuracy                           0.86      7539\n",
            "   macro avg       0.87      0.85      0.85      7539\n",
            "weighted avg       0.87      0.86      0.86      7539\n",
            "\n",
            "CPU times: user 94.7 ms, sys: 0 ns, total: 94.7 ms\n",
            "Wall time: 96.1 ms\n"
          ],
          "name": "stdout"
        }
      ]
    },
    {
      "cell_type": "markdown",
      "metadata": {
        "id": "hM-VOgu4mhtQ",
        "colab_type": "text"
      },
      "source": [
        "**1.5 Naive Bayes con Bigram + Lemmatization**"
      ]
    },
    {
      "cell_type": "markdown",
      "metadata": {
        "id": "wM2TwaQyzzph",
        "colab_type": "text"
      },
      "source": [
        "Cross Validation (train set)"
      ]
    },
    {
      "cell_type": "code",
      "metadata": {
        "id": "tL365bo2zz3m",
        "colab_type": "code",
        "outputId": "8b02f92a-4a59-4a8d-f3f1-a3b5301d4ac4",
        "colab": {
          "base_uri": "https://localhost:8080/",
          "height": 51
        }
      },
      "source": [
        "%%time\n",
        "score = cross_val_score(clf, bi_train_lem_x, train_lem_y, cv=5)"
      ],
      "execution_count": 0,
      "outputs": [
        {
          "output_type": "stream",
          "text": [
            "CPU times: user 290 ms, sys: 7.98 ms, total: 298 ms\n",
            "Wall time: 300 ms\n"
          ],
          "name": "stdout"
        }
      ]
    },
    {
      "cell_type": "code",
      "metadata": {
        "id": "lOWVxbaOz0AH",
        "colab_type": "code",
        "outputId": "3be25d7b-79bf-4109-d251-ff9b23282cb0",
        "colab": {
          "base_uri": "https://localhost:8080/",
          "height": 51
        }
      },
      "source": [
        "print(score)\n",
        "print(score.mean())"
      ],
      "execution_count": 0,
      "outputs": [
        {
          "output_type": "stream",
          "text": [
            "[0.85809019 0.86339523 0.86687307 0.85802742 0.8611234 ]\n",
            "0.8615018588756177\n"
          ],
          "name": "stdout"
        }
      ]
    },
    {
      "cell_type": "markdown",
      "metadata": {
        "id": "Y1ooAqshz0Jy",
        "colab_type": "text"
      },
      "source": [
        "Previsione su dati mai visti (test set)"
      ]
    },
    {
      "cell_type": "code",
      "metadata": {
        "id": "KnxYAQapmhQS",
        "colab_type": "code",
        "outputId": "2f45ca9a-6590-4f0e-bb7a-72052ae1856f",
        "colab": {
          "base_uri": "https://localhost:8080/",
          "height": 510
        }
      },
      "source": [
        "%%time\n",
        "clf.fit(bi_train_lem_x, train_lem_y)\n",
        "predicted = clf.predict(bi_test_lem_x)\n",
        "print(classification_report(test_lem_y, predicted))"
      ],
      "execution_count": 0,
      "outputs": [
        {
          "output_type": "stream",
          "text": [
            "              precision    recall  f1-score   support\n",
            "\n",
            "           0       0.88      0.79      0.83       340\n",
            "           1       0.74      0.87      0.80       374\n",
            "           2       0.84      0.81      0.83       400\n",
            "           3       0.76      0.79      0.77       393\n",
            "           4       0.78      0.89      0.83       358\n",
            "           5       0.91      0.87      0.89       416\n",
            "           6       0.84      0.84      0.84       386\n",
            "           7       0.90      0.90      0.90       396\n",
            "           8       0.95      0.95      0.95       393\n",
            "           9       0.96      0.93      0.95       405\n",
            "          10       0.93      0.98      0.95       386\n",
            "          11       0.94      0.95      0.95       400\n",
            "          12       0.89      0.77      0.83       406\n",
            "          13       0.93      0.93      0.93       380\n",
            "          14       0.95      0.92      0.93       403\n",
            "          15       0.71      0.95      0.81       391\n",
            "          16       0.81      0.95      0.88       380\n",
            "          17       0.95      0.96      0.96       399\n",
            "          18       0.96      0.76      0.85       285\n",
            "          19       0.93      0.33      0.48       248\n",
            "\n",
            "    accuracy                           0.87      7539\n",
            "   macro avg       0.88      0.86      0.86      7539\n",
            "weighted avg       0.88      0.87      0.87      7539\n",
            "\n",
            "CPU times: user 105 ms, sys: 2 ms, total: 107 ms\n",
            "Wall time: 108 ms\n"
          ],
          "name": "stdout"
        }
      ]
    },
    {
      "cell_type": "markdown",
      "metadata": {
        "id": "VjeiuqUbnKFU",
        "colab_type": "text"
      },
      "source": [
        "**1.6 Naive Bayes con Bigram + Stemming**"
      ]
    },
    {
      "cell_type": "markdown",
      "metadata": {
        "id": "NR6KOBms0lr-",
        "colab_type": "text"
      },
      "source": [
        "Cross Validation (train set)"
      ]
    },
    {
      "cell_type": "code",
      "metadata": {
        "id": "hq1Wpz5m0l3y",
        "colab_type": "code",
        "outputId": "b2fc58a8-dac3-422f-bdd8-bc5c18aafab9",
        "colab": {
          "base_uri": "https://localhost:8080/",
          "height": 51
        }
      },
      "source": [
        "%%time\n",
        "score = cross_val_score(clf, bi_train_stem_x, train_stem_y, cv=5)"
      ],
      "execution_count": 0,
      "outputs": [
        {
          "output_type": "stream",
          "text": [
            "CPU times: user 289 ms, sys: 6.95 ms, total: 296 ms\n",
            "Wall time: 298 ms\n"
          ],
          "name": "stdout"
        }
      ]
    },
    {
      "cell_type": "code",
      "metadata": {
        "id": "lmexNgxm0l-k",
        "colab_type": "code",
        "outputId": "4f0f7375-2f11-43db-f328-01846ee38e29",
        "colab": {
          "base_uri": "https://localhost:8080/",
          "height": 51
        }
      },
      "source": [
        "print(score)\n",
        "print(score.mean())"
      ],
      "execution_count": 0,
      "outputs": [
        {
          "output_type": "stream",
          "text": [
            "[0.85676393 0.86295314 0.86819991 0.8584697  0.86245024]\n",
            "0.8617673846028708\n"
          ],
          "name": "stdout"
        }
      ]
    },
    {
      "cell_type": "markdown",
      "metadata": {
        "id": "eBHEaG9C0mRL",
        "colab_type": "text"
      },
      "source": [
        "Previsione su dati mai visti (test set)"
      ]
    },
    {
      "cell_type": "code",
      "metadata": {
        "id": "9PVT8eyEnMz6",
        "colab_type": "code",
        "outputId": "fcfbfd82-a825-45a6-e790-125e925aa0b1",
        "colab": {
          "base_uri": "https://localhost:8080/",
          "height": 510
        }
      },
      "source": [
        "%%time\n",
        "clf.fit(bi_train_stem_x, train_stem_y)\n",
        "predicted = clf.predict(bi_test_stem_x)\n",
        "print(classification_report(test_stem_y, predicted))"
      ],
      "execution_count": 0,
      "outputs": [
        {
          "output_type": "stream",
          "text": [
            "              precision    recall  f1-score   support\n",
            "\n",
            "           0       0.87      0.79      0.83       340\n",
            "           1       0.74      0.85      0.79       374\n",
            "           2       0.84      0.81      0.83       400\n",
            "           3       0.75      0.78      0.77       393\n",
            "           4       0.80      0.89      0.84       358\n",
            "           5       0.90      0.88      0.89       416\n",
            "           6       0.84      0.83      0.83       386\n",
            "           7       0.90      0.91      0.90       396\n",
            "           8       0.95      0.95      0.95       393\n",
            "           9       0.95      0.94      0.95       405\n",
            "          10       0.94      0.97      0.96       386\n",
            "          11       0.93      0.96      0.94       400\n",
            "          12       0.89      0.78      0.83       406\n",
            "          13       0.92      0.93      0.92       380\n",
            "          14       0.95      0.93      0.94       403\n",
            "          15       0.71      0.96      0.82       391\n",
            "          16       0.81      0.95      0.87       380\n",
            "          17       0.95      0.97      0.96       399\n",
            "          18       0.95      0.75      0.84       285\n",
            "          19       0.96      0.31      0.46       248\n",
            "\n",
            "    accuracy                           0.87      7539\n",
            "   macro avg       0.88      0.86      0.86      7539\n",
            "weighted avg       0.88      0.87      0.86      7539\n",
            "\n",
            "CPU times: user 96.1 ms, sys: 2.93 ms, total: 99.1 ms\n",
            "Wall time: 101 ms\n"
          ],
          "name": "stdout"
        }
      ]
    },
    {
      "cell_type": "markdown",
      "metadata": {
        "id": "rrgumkbZnl2I",
        "colab_type": "text"
      },
      "source": [
        "### **2. Support Vector Machine (SVM)**"
      ]
    },
    {
      "cell_type": "code",
      "metadata": {
        "id": "cnYmKgLSoQBh",
        "colab_type": "code",
        "colab": {}
      },
      "source": [
        "clf = svm.SVC()"
      ],
      "execution_count": 0,
      "outputs": []
    },
    {
      "cell_type": "markdown",
      "metadata": {
        "id": "cL2hmOAZoVmJ",
        "colab_type": "text"
      },
      "source": [
        "**2.1 SVM con TF + Lemmatization**"
      ]
    },
    {
      "cell_type": "markdown",
      "metadata": {
        "id": "ccvYxT761VcN",
        "colab_type": "text"
      },
      "source": [
        "Cross Validation (train set)"
      ]
    },
    {
      "cell_type": "code",
      "metadata": {
        "id": "DqPdqOoz1Von",
        "colab_type": "code",
        "outputId": "536c5b28-8f1b-4331-f2f5-7155d5ad4221",
        "colab": {
          "base_uri": "https://localhost:8080/",
          "height": 51
        }
      },
      "source": [
        "%%time\n",
        "score = cross_val_score(clf, tf_train_lem_x, train_lem_y, cv=5)"
      ],
      "execution_count": 0,
      "outputs": [
        {
          "output_type": "stream",
          "text": [
            "CPU times: user 9min 54s, sys: 122 ms, total: 9min 54s\n",
            "Wall time: 9min 55s\n"
          ],
          "name": "stdout"
        }
      ]
    },
    {
      "cell_type": "code",
      "metadata": {
        "id": "oSpDqyoS1Vwi",
        "colab_type": "code",
        "outputId": "9acabe9a-4785-4756-c0e4-630d0d41f7b6",
        "colab": {
          "base_uri": "https://localhost:8080/",
          "height": 51
        }
      },
      "source": [
        "print(score)\n",
        "print(score.mean())"
      ],
      "execution_count": 0,
      "outputs": [
        {
          "output_type": "stream",
          "text": [
            "[0.75862069 0.74005305 0.75497567 0.74834144 0.75984078]\n",
            "0.7523663269579786\n"
          ],
          "name": "stdout"
        }
      ]
    },
    {
      "cell_type": "markdown",
      "metadata": {
        "id": "Ir3EiTM71V53",
        "colab_type": "text"
      },
      "source": [
        "Previsione su dati mai visti (test set)"
      ]
    },
    {
      "cell_type": "code",
      "metadata": {
        "id": "LFUP3QSJoTc5",
        "colab_type": "code",
        "outputId": "a70596ee-5c9a-4598-eabf-0fa7d32a1c59",
        "colab": {
          "base_uri": "https://localhost:8080/",
          "height": 510
        }
      },
      "source": [
        "%%time\n",
        "clf.fit(tf_train_lem_x, train_lem_y)\n",
        "predicted = clf.predict(tf_test_lem_x)\n",
        "print(classification_report(test_lem_y, predicted))"
      ],
      "execution_count": 0,
      "outputs": [
        {
          "output_type": "stream",
          "text": [
            "              precision    recall  f1-score   support\n",
            "\n",
            "           0       0.85      0.69      0.76       340\n",
            "           1       0.43      0.85      0.57       374\n",
            "           2       0.81      0.64      0.71       400\n",
            "           3       0.77      0.65      0.70       393\n",
            "           4       0.84      0.81      0.82       358\n",
            "           5       0.87      0.72      0.79       416\n",
            "           6       0.63      0.87      0.73       386\n",
            "           7       0.88      0.82      0.85       396\n",
            "           8       0.93      0.87      0.90       393\n",
            "           9       0.88      0.89      0.89       405\n",
            "          10       0.98      0.84      0.91       386\n",
            "          11       0.98      0.84      0.90       400\n",
            "          12       0.60      0.80      0.68       406\n",
            "          13       0.82      0.81      0.81       380\n",
            "          14       0.96      0.78      0.86       403\n",
            "          15       0.81      0.87      0.84       391\n",
            "          16       0.86      0.78      0.81       380\n",
            "          17       0.71      0.84      0.77       399\n",
            "          18       0.84      0.71      0.77       285\n",
            "          19       0.83      0.40      0.54       248\n",
            "\n",
            "    accuracy                           0.78      7539\n",
            "   macro avg       0.81      0.77      0.78      7539\n",
            "weighted avg       0.81      0.78      0.79      7539\n",
            "\n",
            "CPU times: user 3min 42s, sys: 53 ms, total: 3min 42s\n",
            "Wall time: 3min 42s\n"
          ],
          "name": "stdout"
        }
      ]
    },
    {
      "cell_type": "markdown",
      "metadata": {
        "id": "Cnq1aiweptbg",
        "colab_type": "text"
      },
      "source": [
        "**2.2 SVM con TF + Stemming**"
      ]
    },
    {
      "cell_type": "markdown",
      "metadata": {
        "id": "j4WLr-1k1lUy",
        "colab_type": "text"
      },
      "source": [
        "Cross validation (train set)"
      ]
    },
    {
      "cell_type": "code",
      "metadata": {
        "id": "jaTor8x11lfK",
        "colab_type": "code",
        "outputId": "931b77ad-d6a5-48c4-b052-6c7a3ed3e74e",
        "colab": {
          "base_uri": "https://localhost:8080/",
          "height": 51
        }
      },
      "source": [
        "%%time\n",
        "score = cross_val_score(clf, tf_train_stem_x, train_stem_y, cv=5)"
      ],
      "execution_count": 0,
      "outputs": [
        {
          "output_type": "stream",
          "text": [
            "CPU times: user 9min 31s, sys: 121 ms, total: 9min 31s\n",
            "Wall time: 9min 32s\n"
          ],
          "name": "stdout"
        }
      ]
    },
    {
      "cell_type": "code",
      "metadata": {
        "id": "AYRM4ov31lnP",
        "colab_type": "code",
        "outputId": "7c4d0c8d-d8a6-4d09-f638-9081aee37f53",
        "colab": {
          "base_uri": "https://localhost:8080/",
          "height": 51
        }
      },
      "source": [
        "print(score)\n",
        "print(score.mean())"
      ],
      "execution_count": 0,
      "outputs": [
        {
          "output_type": "stream",
          "text": [
            "[0.75243148 0.744916   0.75143742 0.74214949 0.75851393]\n",
            "0.749889664088447\n"
          ],
          "name": "stdout"
        }
      ]
    },
    {
      "cell_type": "markdown",
      "metadata": {
        "id": "w_JnQi_y1l0t",
        "colab_type": "text"
      },
      "source": [
        "Previsione su dati mai visti (test set)"
      ]
    },
    {
      "cell_type": "code",
      "metadata": {
        "id": "6Y-nbRgqpyz4",
        "colab_type": "code",
        "outputId": "1a2f97fd-7dbb-44ab-f798-c352ce391903",
        "colab": {
          "base_uri": "https://localhost:8080/",
          "height": 510
        }
      },
      "source": [
        "%%time\n",
        "clf.fit(tf_train_stem_x, train_stem_y)\n",
        "predicted = clf.predict(tf_test_stem_x)\n",
        "print(classification_report(test_stem_y, predicted))"
      ],
      "execution_count": 0,
      "outputs": [
        {
          "output_type": "stream",
          "text": [
            "              precision    recall  f1-score   support\n",
            "\n",
            "           0       0.81      0.71      0.76       340\n",
            "           1       0.45      0.84      0.59       374\n",
            "           2       0.79      0.63      0.70       400\n",
            "           3       0.76      0.68      0.72       393\n",
            "           4       0.86      0.77      0.82       358\n",
            "           5       0.87      0.72      0.79       416\n",
            "           6       0.59      0.88      0.71       386\n",
            "           7       0.87      0.82      0.84       396\n",
            "           8       0.94      0.87      0.90       393\n",
            "           9       0.88      0.90      0.89       405\n",
            "          10       0.98      0.85      0.91       386\n",
            "          11       0.98      0.84      0.90       400\n",
            "          12       0.63      0.79      0.70       406\n",
            "          13       0.80      0.82      0.81       380\n",
            "          14       0.96      0.79      0.87       403\n",
            "          15       0.82      0.85      0.84       391\n",
            "          16       0.84      0.78      0.81       380\n",
            "          17       0.70      0.83      0.76       399\n",
            "          18       0.83      0.70      0.76       285\n",
            "          19       0.79      0.36      0.49       248\n",
            "\n",
            "    accuracy                           0.78      7539\n",
            "   macro avg       0.81      0.77      0.78      7539\n",
            "weighted avg       0.81      0.78      0.78      7539\n",
            "\n",
            "CPU times: user 3min 35s, sys: 61.1 ms, total: 3min 35s\n",
            "Wall time: 3min 35s\n"
          ],
          "name": "stdout"
        }
      ]
    },
    {
      "cell_type": "markdown",
      "metadata": {
        "id": "aWNXDLOMqgge",
        "colab_type": "text"
      },
      "source": [
        "**2.3 SVM con TF-IDF + Lemmatization**"
      ]
    },
    {
      "cell_type": "markdown",
      "metadata": {
        "id": "BIL-Wll62XXG",
        "colab_type": "text"
      },
      "source": [
        "Cross Validation (train set)"
      ]
    },
    {
      "cell_type": "code",
      "metadata": {
        "id": "9LfEPgRe2Xjw",
        "colab_type": "code",
        "outputId": "091692cd-1289-4446-97a5-16e51ad675c2",
        "colab": {
          "base_uri": "https://localhost:8080/",
          "height": 51
        }
      },
      "source": [
        "%%time\n",
        "score = cross_val_score(clf, tfidf_train_lem_x, train_lem_y, cv=5)"
      ],
      "execution_count": 0,
      "outputs": [
        {
          "output_type": "stream",
          "text": [
            "CPU times: user 13min 32s, sys: 222 ms, total: 13min 32s\n",
            "Wall time: 13min 32s\n"
          ],
          "name": "stdout"
        }
      ]
    },
    {
      "cell_type": "code",
      "metadata": {
        "id": "OVst9d1Y2XsG",
        "colab_type": "code",
        "outputId": "544f4ec9-80e5-42e0-b6f6-c0881c2495a7",
        "colab": {
          "base_uri": "https://localhost:8080/",
          "height": 51
        }
      },
      "source": [
        "print(score)\n",
        "print(score.mean())"
      ],
      "execution_count": 0,
      "outputs": [
        {
          "output_type": "stream",
          "text": [
            "[0.88549956 0.88240495 0.89208315 0.88191066 0.88677576]\n",
            "0.8857348160540217\n"
          ],
          "name": "stdout"
        }
      ]
    },
    {
      "cell_type": "markdown",
      "metadata": {
        "id": "lO6SvFQe2Xzd",
        "colab_type": "text"
      },
      "source": [
        "Previsione su dati mai visti (test set)"
      ]
    },
    {
      "cell_type": "code",
      "metadata": {
        "id": "vCinJ7BGqkHl",
        "colab_type": "code",
        "outputId": "7b7eeee0-0661-425e-8c42-169aa001215b",
        "colab": {
          "base_uri": "https://localhost:8080/",
          "height": 510
        }
      },
      "source": [
        "%%time\n",
        "clf.fit(tfidf_train_lem_x, train_lem_y)\n",
        "predicted = clf.predict(tfidf_test_lem_x)\n",
        "print(classification_report(test_lem_y, predicted))"
      ],
      "execution_count": 0,
      "outputs": [
        {
          "output_type": "stream",
          "text": [
            "              precision    recall  f1-score   support\n",
            "\n",
            "           0       0.90      0.85      0.87       340\n",
            "           1       0.75      0.91      0.82       374\n",
            "           2       0.85      0.83      0.84       400\n",
            "           3       0.79      0.81      0.80       393\n",
            "           4       0.92      0.87      0.89       358\n",
            "           5       0.90      0.89      0.89       416\n",
            "           6       0.85      0.87      0.86       386\n",
            "           7       0.93      0.92      0.92       396\n",
            "           8       0.98      0.95      0.96       393\n",
            "           9       0.96      0.97      0.96       405\n",
            "          10       0.98      0.96      0.97       386\n",
            "          11       0.99      0.92      0.95       400\n",
            "          12       0.82      0.89      0.86       406\n",
            "          13       0.91      0.95      0.93       380\n",
            "          14       0.98      0.93      0.95       403\n",
            "          15       0.87      0.94      0.90       391\n",
            "          16       0.90      0.92      0.91       380\n",
            "          17       0.99      0.96      0.98       399\n",
            "          18       0.86      0.87      0.87       285\n",
            "          19       0.88      0.67      0.76       248\n",
            "\n",
            "    accuracy                           0.90      7539\n",
            "   macro avg       0.90      0.89      0.90      7539\n",
            "weighted avg       0.90      0.90      0.90      7539\n",
            "\n",
            "CPU times: user 4min 56s, sys: 102 ms, total: 4min 56s\n",
            "Wall time: 4min 56s\n"
          ],
          "name": "stdout"
        }
      ]
    },
    {
      "cell_type": "markdown",
      "metadata": {
        "id": "7pGv3eM8tpiY",
        "colab_type": "text"
      },
      "source": [
        "**2.4 SVM con TF-IDF + Stemming**"
      ]
    },
    {
      "cell_type": "markdown",
      "metadata": {
        "id": "O9msg31N2rRN",
        "colab_type": "text"
      },
      "source": [
        "Cross Validation (train set)"
      ]
    },
    {
      "cell_type": "code",
      "metadata": {
        "id": "i3UAyK7e2r-J",
        "colab_type": "code",
        "outputId": "f4b214ad-8770-421c-e68b-59372dafb5d9",
        "colab": {
          "base_uri": "https://localhost:8080/",
          "height": 51
        }
      },
      "source": [
        "%%time\n",
        "score = cross_val_score(clf, tfidf_train_stem_x, train_stem_y, cv=5)"
      ],
      "execution_count": 0,
      "outputs": [
        {
          "output_type": "stream",
          "text": [
            "CPU times: user 13min 27s, sys: 158 ms, total: 13min 27s\n",
            "Wall time: 13min 28s\n"
          ],
          "name": "stdout"
        }
      ]
    },
    {
      "cell_type": "code",
      "metadata": {
        "id": "VVa-B3vb2sH5",
        "colab_type": "code",
        "outputId": "6fa0d98c-c433-4a81-810e-7d8cc47910f7",
        "colab": {
          "base_uri": "https://localhost:8080/",
          "height": 51
        }
      },
      "source": [
        "print(score)\n",
        "print(score.mean())"
      ],
      "execution_count": 0,
      "outputs": [
        {
          "output_type": "stream",
          "text": [
            "[0.88373121 0.88284704 0.89739054 0.8783724  0.88898717]\n",
            "0.8862656719814828\n"
          ],
          "name": "stdout"
        }
      ]
    },
    {
      "cell_type": "markdown",
      "metadata": {
        "id": "AxnGT8k82sXG",
        "colab_type": "text"
      },
      "source": [
        "Previsione su dati mai visti (test set)"
      ]
    },
    {
      "cell_type": "code",
      "metadata": {
        "id": "sKuYqfbytwJw",
        "colab_type": "code",
        "outputId": "1a34e09e-195e-4058-d535-18eaf3ada60a",
        "colab": {
          "base_uri": "https://localhost:8080/",
          "height": 510
        }
      },
      "source": [
        "%%time\n",
        "clf.fit(tfidf_train_stem_x, train_stem_y)\n",
        "predicted = clf.predict(tfidf_test_stem_x)\n",
        "print(classification_report(test_stem_y, predicted))"
      ],
      "execution_count": 0,
      "outputs": [
        {
          "output_type": "stream",
          "text": [
            "              precision    recall  f1-score   support\n",
            "\n",
            "           0       0.90      0.86      0.88       340\n",
            "           1       0.73      0.91      0.81       374\n",
            "           2       0.86      0.83      0.84       400\n",
            "           3       0.80      0.81      0.81       393\n",
            "           4       0.91      0.87      0.89       358\n",
            "           5       0.89      0.89      0.89       416\n",
            "           6       0.85      0.87      0.86       386\n",
            "           7       0.93      0.92      0.92       396\n",
            "           8       0.98      0.96      0.97       393\n",
            "           9       0.98      0.97      0.97       405\n",
            "          10       0.99      0.97      0.98       386\n",
            "          11       0.99      0.92      0.95       400\n",
            "          12       0.82      0.90      0.86       406\n",
            "          13       0.91      0.95      0.93       380\n",
            "          14       0.98      0.93      0.96       403\n",
            "          15       0.88      0.94      0.91       391\n",
            "          16       0.90      0.91      0.91       380\n",
            "          17       0.99      0.95      0.97       399\n",
            "          18       0.88      0.87      0.87       285\n",
            "          19       0.86      0.67      0.75       248\n",
            "\n",
            "    accuracy                           0.90      7539\n",
            "   macro avg       0.90      0.89      0.90      7539\n",
            "weighted avg       0.90      0.90      0.90      7539\n",
            "\n",
            "CPU times: user 4min 49s, sys: 53.1 ms, total: 4min 49s\n",
            "Wall time: 4min 50s\n"
          ],
          "name": "stdout"
        }
      ]
    },
    {
      "cell_type": "markdown",
      "metadata": {
        "id": "FJkDGGub1WV3",
        "colab_type": "text"
      },
      "source": [
        "**2.5 SVM con Bigram + Lemmatization**"
      ]
    },
    {
      "cell_type": "markdown",
      "metadata": {
        "id": "jZWb_mCh2_rp",
        "colab_type": "text"
      },
      "source": [
        "Cross Validation (train set)"
      ]
    },
    {
      "cell_type": "code",
      "metadata": {
        "id": "J3UTL2yb2_0t",
        "colab_type": "code",
        "outputId": "bd38e9ce-c2d4-4e6c-cffe-204ab4a71031",
        "colab": {
          "base_uri": "https://localhost:8080/",
          "height": 51
        }
      },
      "source": [
        "%%time\n",
        "score = cross_val_score(clf, bi_train_lem_x, train_lem_y, cv=5)"
      ],
      "execution_count": 0,
      "outputs": [
        {
          "output_type": "stream",
          "text": [
            "CPU times: user 15min 15s, sys: 159 ms, total: 15min 15s\n",
            "Wall time: 15min 16s\n"
          ],
          "name": "stdout"
        }
      ]
    },
    {
      "cell_type": "code",
      "metadata": {
        "id": "wWPjvFYP2_90",
        "colab_type": "code",
        "outputId": "be9e9a18-f124-4b91-d62b-aabbb1b6fe20",
        "colab": {
          "base_uri": "https://localhost:8080/",
          "height": 51
        }
      },
      "source": [
        "print(score)\n",
        "print(score.mean())"
      ],
      "execution_count": 0,
      "outputs": [
        {
          "output_type": "stream",
          "text": [
            "[0.88859416 0.88373121 0.89473684 0.88810261 0.88677576]\n",
            "0.8883881180561014\n"
          ],
          "name": "stdout"
        }
      ]
    },
    {
      "cell_type": "markdown",
      "metadata": {
        "id": "LSx-YJdl3AFP",
        "colab_type": "text"
      },
      "source": [
        "Previsione su dati mai visti (test set)"
      ]
    },
    {
      "cell_type": "code",
      "metadata": {
        "id": "EuBh1Usg1dX7",
        "colab_type": "code",
        "outputId": "5a90cc64-5edf-4b4a-e157-2583195b1b3b",
        "colab": {
          "base_uri": "https://localhost:8080/",
          "height": 510
        }
      },
      "source": [
        "%%time\n",
        "clf.fit(bi_train_lem_x, train_lem_y)\n",
        "predicted = clf.predict(bi_test_lem_x)\n",
        "print(classification_report(test_lem_y, predicted))"
      ],
      "execution_count": 0,
      "outputs": [
        {
          "output_type": "stream",
          "text": [
            "              precision    recall  f1-score   support\n",
            "\n",
            "           0       0.92      0.87      0.89       340\n",
            "           1       0.71      0.90      0.80       374\n",
            "           2       0.86      0.82      0.84       400\n",
            "           3       0.79      0.80      0.79       393\n",
            "           4       0.89      0.88      0.89       358\n",
            "           5       0.91      0.88      0.90       416\n",
            "           6       0.85      0.88      0.87       386\n",
            "           7       0.92      0.89      0.91       396\n",
            "           8       0.97      0.95      0.96       393\n",
            "           9       0.97      0.96      0.96       405\n",
            "          10       0.99      0.96      0.97       386\n",
            "          11       0.99      0.92      0.96       400\n",
            "          12       0.81      0.89      0.85       406\n",
            "          13       0.90      0.95      0.92       380\n",
            "          14       0.98      0.93      0.95       403\n",
            "          15       0.89      0.94      0.91       391\n",
            "          16       0.91      0.92      0.91       380\n",
            "          17       0.99      0.96      0.98       399\n",
            "          18       0.87      0.87      0.87       285\n",
            "          19       0.88      0.71      0.78       248\n",
            "\n",
            "    accuracy                           0.90      7539\n",
            "   macro avg       0.90      0.89      0.90      7539\n",
            "weighted avg       0.90      0.90      0.90      7539\n",
            "\n",
            "CPU times: user 5min 33s, sys: 56 ms, total: 5min 33s\n",
            "Wall time: 5min 33s\n"
          ],
          "name": "stdout"
        }
      ]
    },
    {
      "cell_type": "markdown",
      "metadata": {
        "id": "KD4m3AQ-1lkh",
        "colab_type": "text"
      },
      "source": [
        "**2.6 SVM con Bigram + Stemming**"
      ]
    },
    {
      "cell_type": "markdown",
      "metadata": {
        "id": "jKZHfVvT3TeX",
        "colab_type": "text"
      },
      "source": [
        "Cross Validation (train set)"
      ]
    },
    {
      "cell_type": "code",
      "metadata": {
        "id": "uvZyZIpK3Tq2",
        "colab_type": "code",
        "outputId": "6309e3a9-e028-4c68-a3e2-00c3dd42267a",
        "colab": {
          "base_uri": "https://localhost:8080/",
          "height": 51
        }
      },
      "source": [
        "%%time\n",
        "score = cross_val_score(clf, bi_train_stem_x, train_stem_y, cv=5)"
      ],
      "execution_count": 0,
      "outputs": [
        {
          "output_type": "stream",
          "text": [
            "CPU times: user 15min 29s, sys: 156 ms, total: 15min 29s\n",
            "Wall time: 15min 30s\n"
          ],
          "name": "stdout"
        }
      ]
    },
    {
      "cell_type": "code",
      "metadata": {
        "id": "cGMYMcq13TzN",
        "colab_type": "code",
        "outputId": "b8dd57c5-20d6-490f-8017-8ed184c76eec",
        "colab": {
          "base_uri": "https://localhost:8080/",
          "height": 51
        }
      },
      "source": [
        "print(score)\n",
        "print(score.mean())"
      ],
      "execution_count": 0,
      "outputs": [
        {
          "output_type": "stream",
          "text": [
            "[0.88461538 0.88373121 0.89606369 0.88766033 0.88721805]\n",
            "0.8878577313935485\n"
          ],
          "name": "stdout"
        }
      ]
    },
    {
      "cell_type": "markdown",
      "metadata": {
        "id": "sfdlOfsX3T9W",
        "colab_type": "text"
      },
      "source": [
        "Previsione su dati mai visti (test set)"
      ]
    },
    {
      "cell_type": "code",
      "metadata": {
        "id": "XbkWXQ0S1szE",
        "colab_type": "code",
        "outputId": "3d813255-cae7-4e4a-d9bc-8ac7c8ec0049",
        "colab": {
          "base_uri": "https://localhost:8080/",
          "height": 510
        }
      },
      "source": [
        "%%time\n",
        "clf.fit(bi_train_stem_x, train_stem_y)\n",
        "predicted = clf.predict(bi_test_stem_x)\n",
        "print(classification_report(test_stem_y, predicted))"
      ],
      "execution_count": 0,
      "outputs": [
        {
          "output_type": "stream",
          "text": [
            "              precision    recall  f1-score   support\n",
            "\n",
            "           0       0.90      0.87      0.89       340\n",
            "           1       0.71      0.90      0.79       374\n",
            "           2       0.86      0.82      0.84       400\n",
            "           3       0.79      0.79      0.79       393\n",
            "           4       0.90      0.88      0.89       358\n",
            "           5       0.90      0.88      0.89       416\n",
            "           6       0.84      0.88      0.86       386\n",
            "           7       0.92      0.91      0.91       396\n",
            "           8       0.99      0.96      0.97       393\n",
            "           9       0.97      0.96      0.97       405\n",
            "          10       0.99      0.96      0.97       386\n",
            "          11       0.99      0.93      0.96       400\n",
            "          12       0.82      0.89      0.85       406\n",
            "          13       0.91      0.94      0.93       380\n",
            "          14       0.98      0.93      0.95       403\n",
            "          15       0.89      0.94      0.91       391\n",
            "          16       0.91      0.92      0.91       380\n",
            "          17       0.99      0.96      0.97       399\n",
            "          18       0.87      0.86      0.87       285\n",
            "          19       0.89      0.70      0.78       248\n",
            "\n",
            "    accuracy                           0.90      7539\n",
            "   macro avg       0.90      0.89      0.90      7539\n",
            "weighted avg       0.90      0.90      0.90      7539\n",
            "\n",
            "CPU times: user 5min 35s, sys: 59 ms, total: 5min 35s\n",
            "Wall time: 5min 35s\n"
          ],
          "name": "stdout"
        }
      ]
    },
    {
      "cell_type": "markdown",
      "metadata": {
        "id": "xR-e8UId5Ir7",
        "colab_type": "text"
      },
      "source": [
        "###**3. Random Forest**"
      ]
    },
    {
      "cell_type": "code",
      "metadata": {
        "id": "Jt36ZvAR5oI3",
        "colab_type": "code",
        "colab": {}
      },
      "source": [
        "clf = RandomForestClassifier()"
      ],
      "execution_count": 0,
      "outputs": []
    },
    {
      "cell_type": "markdown",
      "metadata": {
        "id": "6_fWR6Cs3rBo",
        "colab_type": "text"
      },
      "source": [
        "**3.1 Random Forest con TF + Lemmatization**"
      ]
    },
    {
      "cell_type": "markdown",
      "metadata": {
        "id": "CG-t1c-U337s",
        "colab_type": "text"
      },
      "source": [
        "Cross Validation (train test)"
      ]
    },
    {
      "cell_type": "code",
      "metadata": {
        "id": "tWJjUC6d34JC",
        "colab_type": "code",
        "outputId": "e42146fc-5837-453c-92be-9a97347acc46",
        "colab": {
          "base_uri": "https://localhost:8080/",
          "height": 51
        }
      },
      "source": [
        "%%time\n",
        "score = cross_val_score(clf, tf_train_lem_x, train_lem_y, cv=5)"
      ],
      "execution_count": 0,
      "outputs": [
        {
          "output_type": "stream",
          "text": [
            "CPU times: user 3min 10s, sys: 278 ms, total: 3min 10s\n",
            "Wall time: 3min 11s\n"
          ],
          "name": "stdout"
        }
      ]
    },
    {
      "cell_type": "code",
      "metadata": {
        "id": "d61vRS1334SN",
        "colab_type": "code",
        "outputId": "4082b8b9-373c-4d45-ee45-658367ac449a",
        "colab": {
          "base_uri": "https://localhost:8080/",
          "height": 51
        }
      },
      "source": [
        "print(score)\n",
        "print(score.mean())"
      ],
      "execution_count": 0,
      "outputs": [
        {
          "output_type": "stream",
          "text": [
            "[0.82847038 0.82581786 0.83016364 0.81999115 0.82750995]\n",
            "0.8263905981211416\n"
          ],
          "name": "stdout"
        }
      ]
    },
    {
      "cell_type": "markdown",
      "metadata": {
        "id": "IOEH1_Rh34aR",
        "colab_type": "text"
      },
      "source": [
        "Previsione su dati mai visti (test set)"
      ]
    },
    {
      "cell_type": "code",
      "metadata": {
        "id": "pOBc_iyt5eps",
        "colab_type": "code",
        "outputId": "1cbfdf62-f609-47fe-c7e5-4d16da5c5057",
        "colab": {
          "base_uri": "https://localhost:8080/",
          "height": 510
        }
      },
      "source": [
        "%%time\n",
        "clf.fit(tf_train_lem_x, train_lem_y)\n",
        "predicted = clf.predict(tf_test_lem_x)\n",
        "print(classification_report(test_lem_y, predicted))"
      ],
      "execution_count": 0,
      "outputs": [
        {
          "output_type": "stream",
          "text": [
            "              precision    recall  f1-score   support\n",
            "\n",
            "           0       0.86      0.77      0.81       340\n",
            "           1       0.65      0.81      0.72       374\n",
            "           2       0.76      0.86      0.81       400\n",
            "           3       0.74      0.70      0.72       393\n",
            "           4       0.81      0.84      0.82       358\n",
            "           5       0.86      0.80      0.83       416\n",
            "           6       0.77      0.90      0.83       386\n",
            "           7       0.86      0.87      0.87       396\n",
            "           8       0.94      0.90      0.92       393\n",
            "           9       0.91      0.92      0.91       405\n",
            "          10       0.92      0.96      0.94       386\n",
            "          11       0.95      0.93      0.94       400\n",
            "          12       0.85      0.67      0.75       406\n",
            "          13       0.88      0.89      0.89       380\n",
            "          14       0.89      0.89      0.89       403\n",
            "          15       0.77      0.93      0.85       391\n",
            "          16       0.80      0.90      0.84       380\n",
            "          17       0.96      0.95      0.96       399\n",
            "          18       0.95      0.73      0.82       285\n",
            "          19       0.86      0.46      0.60       248\n",
            "\n",
            "    accuracy                           0.84      7539\n",
            "   macro avg       0.85      0.83      0.84      7539\n",
            "weighted avg       0.85      0.84      0.84      7539\n",
            "\n",
            "CPU times: user 40.2 s, sys: 93 ms, total: 40.3 s\n",
            "Wall time: 40.4 s\n"
          ],
          "name": "stdout"
        }
      ]
    },
    {
      "cell_type": "markdown",
      "metadata": {
        "id": "De4hy_Xf6CeS",
        "colab_type": "text"
      },
      "source": [
        "**3.2 Random Forest con TF + Stemming**"
      ]
    },
    {
      "cell_type": "markdown",
      "metadata": {
        "id": "8lZ8aGk74LKM",
        "colab_type": "text"
      },
      "source": [
        "Cross Validation (train set)"
      ]
    },
    {
      "cell_type": "code",
      "metadata": {
        "id": "4ddIhOOX4LT2",
        "colab_type": "code",
        "outputId": "eb8a7378-146c-4a47-97ae-49de34fa6807",
        "colab": {
          "base_uri": "https://localhost:8080/",
          "height": 51
        }
      },
      "source": [
        "%%time\n",
        "score = cross_val_score(clf, tf_train_stem_x, train_stem_y, cv=5)"
      ],
      "execution_count": 0,
      "outputs": [
        {
          "output_type": "stream",
          "text": [
            "CPU times: user 2min 55s, sys: 429 ms, total: 2min 55s\n",
            "Wall time: 2min 55s\n"
          ],
          "name": "stdout"
        }
      ]
    },
    {
      "cell_type": "code",
      "metadata": {
        "id": "VWbcc42f4Ldl",
        "colab_type": "code",
        "outputId": "84935a05-914a-4e9c-8aa1-5a418c9594ee",
        "colab": {
          "base_uri": "https://localhost:8080/",
          "height": 51
        }
      },
      "source": [
        "print(score)\n",
        "print(score.mean())"
      ],
      "execution_count": 0,
      "outputs": [
        {
          "output_type": "stream",
          "text": [
            "[0.83023873 0.82272325 0.80937638 0.821318   0.83016364]\n",
            "0.8227640015939365\n"
          ],
          "name": "stdout"
        }
      ]
    },
    {
      "cell_type": "markdown",
      "metadata": {
        "id": "_nExNIVu4Lsu",
        "colab_type": "text"
      },
      "source": [
        "Previsione su dati mai visti (test set)"
      ]
    },
    {
      "cell_type": "code",
      "metadata": {
        "id": "2-JoxlI36FW1",
        "colab_type": "code",
        "outputId": "4d62718f-768d-4f4b-81e4-304b73cea663",
        "colab": {
          "base_uri": "https://localhost:8080/",
          "height": 510
        }
      },
      "source": [
        "%%time\n",
        "clf.fit(tf_train_stem_x, train_stem_y)\n",
        "predicted = clf.predict(tf_test_stem_x)\n",
        "print(classification_report(test_stem_y, predicted))"
      ],
      "execution_count": 0,
      "outputs": [
        {
          "output_type": "stream",
          "text": [
            "              precision    recall  f1-score   support\n",
            "\n",
            "           0       0.85      0.76      0.80       340\n",
            "           1       0.67      0.81      0.74       374\n",
            "           2       0.76      0.83      0.79       400\n",
            "           3       0.75      0.71      0.73       393\n",
            "           4       0.80      0.82      0.81       358\n",
            "           5       0.87      0.80      0.83       416\n",
            "           6       0.76      0.88      0.82       386\n",
            "           7       0.86      0.86      0.86       396\n",
            "           8       0.93      0.92      0.93       393\n",
            "           9       0.91      0.92      0.92       405\n",
            "          10       0.93      0.96      0.94       386\n",
            "          11       0.94      0.94      0.94       400\n",
            "          12       0.84      0.68      0.75       406\n",
            "          13       0.88      0.87      0.87       380\n",
            "          14       0.88      0.91      0.90       403\n",
            "          15       0.75      0.92      0.83       391\n",
            "          16       0.78      0.90      0.84       380\n",
            "          17       0.96      0.96      0.96       399\n",
            "          18       0.92      0.68      0.78       285\n",
            "          19       0.86      0.44      0.58       248\n",
            "\n",
            "    accuracy                           0.84      7539\n",
            "   macro avg       0.84      0.83      0.83      7539\n",
            "weighted avg       0.84      0.84      0.84      7539\n",
            "\n",
            "CPU times: user 36.4 s, sys: 70 ms, total: 36.5 s\n",
            "Wall time: 36.5 s\n"
          ],
          "name": "stdout"
        }
      ]
    },
    {
      "cell_type": "markdown",
      "metadata": {
        "id": "uTfZT0nQ6KBS",
        "colab_type": "text"
      },
      "source": [
        "**3.3 Random Forest con TF-IDF + Lemmatization**"
      ]
    },
    {
      "cell_type": "markdown",
      "metadata": {
        "id": "SvBpHE2d4a7E",
        "colab_type": "text"
      },
      "source": [
        "Cross Validation (train set)"
      ]
    },
    {
      "cell_type": "code",
      "metadata": {
        "id": "reRS9o1m4bIP",
        "colab_type": "code",
        "outputId": "07057d2e-b263-4f93-be44-ce78fd3ecbe0",
        "colab": {
          "base_uri": "https://localhost:8080/",
          "height": 51
        }
      },
      "source": [
        "%%time\n",
        "score = cross_val_score(clf, tfidf_train_lem_x, train_lem_y, cv=5)"
      ],
      "execution_count": 0,
      "outputs": [
        {
          "output_type": "stream",
          "text": [
            "CPU times: user 1min 47s, sys: 311 ms, total: 1min 47s\n",
            "Wall time: 1min 47s\n"
          ],
          "name": "stdout"
        }
      ]
    },
    {
      "cell_type": "code",
      "metadata": {
        "id": "Oi4uEdT_4bQ2",
        "colab_type": "code",
        "outputId": "709770b8-5ce7-44b4-a5cc-60b392230538",
        "colab": {
          "base_uri": "https://localhost:8080/",
          "height": 51
        }
      },
      "source": [
        "print(score)\n",
        "print(score.mean())"
      ],
      "execution_count": 0,
      "outputs": [
        {
          "output_type": "stream",
          "text": [
            "[0.81653404 0.80725022 0.81601061 0.80804954 0.80672269]\n",
            "0.8109134202333733\n"
          ],
          "name": "stdout"
        }
      ]
    },
    {
      "cell_type": "markdown",
      "metadata": {
        "id": "N2dX4vqK4rem",
        "colab_type": "text"
      },
      "source": [
        "Previsione su dati mai visti (test set)"
      ]
    },
    {
      "cell_type": "code",
      "metadata": {
        "id": "ypxkIl2G6esV",
        "colab_type": "code",
        "outputId": "1679d89e-fc82-481a-f920-8639c214dd4b",
        "colab": {
          "base_uri": "https://localhost:8080/",
          "height": 510
        }
      },
      "source": [
        "%%time\n",
        "clf.fit(tfidf_train_lem_x, train_lem_y)\n",
        "predicted = clf.predict(tfidf_test_lem_x)\n",
        "print(classification_report(test_lem_y, predicted))"
      ],
      "execution_count": 0,
      "outputs": [
        {
          "output_type": "stream",
          "text": [
            "              precision    recall  f1-score   support\n",
            "\n",
            "           0       0.87      0.73      0.79       340\n",
            "           1       0.65      0.76      0.70       374\n",
            "           2       0.74      0.84      0.79       400\n",
            "           3       0.74      0.71      0.73       393\n",
            "           4       0.78      0.81      0.80       358\n",
            "           5       0.86      0.78      0.82       416\n",
            "           6       0.79      0.88      0.83       386\n",
            "           7       0.83      0.85      0.84       396\n",
            "           8       0.92      0.90      0.91       393\n",
            "           9       0.88      0.91      0.90       405\n",
            "          10       0.92      0.95      0.93       386\n",
            "          11       0.95      0.93      0.94       400\n",
            "          12       0.82      0.66      0.73       406\n",
            "          13       0.84      0.89      0.86       380\n",
            "          14       0.85      0.89      0.87       403\n",
            "          15       0.73      0.92      0.82       391\n",
            "          16       0.78      0.89      0.83       380\n",
            "          17       0.96      0.95      0.96       399\n",
            "          18       0.91      0.71      0.80       285\n",
            "          19       0.84      0.42      0.56       248\n",
            "\n",
            "    accuracy                           0.83      7539\n",
            "   macro avg       0.83      0.82      0.82      7539\n",
            "weighted avg       0.83      0.83      0.83      7539\n",
            "\n",
            "CPU times: user 27.9 s, sys: 65 ms, total: 28 s\n",
            "Wall time: 28 s\n"
          ],
          "name": "stdout"
        }
      ]
    },
    {
      "cell_type": "markdown",
      "metadata": {
        "id": "q36hh0aP6hYa",
        "colab_type": "text"
      },
      "source": [
        "**3.4 Random Forest con TF-IDF + Stemming**"
      ]
    },
    {
      "cell_type": "markdown",
      "metadata": {
        "id": "1WxANcSR415A",
        "colab_type": "text"
      },
      "source": [
        "Cross Validation (train set)"
      ]
    },
    {
      "cell_type": "code",
      "metadata": {
        "id": "HE-pL97d42Fz",
        "colab_type": "code",
        "outputId": "c09d356a-43de-48b2-da3e-5990ab8eeb84",
        "colab": {
          "base_uri": "https://localhost:8080/",
          "height": 51
        }
      },
      "source": [
        "%%time\n",
        "score = cross_val_score(clf, tfidf_train_stem_x,train_stem_y, cv=5)"
      ],
      "execution_count": 0,
      "outputs": [
        {
          "output_type": "stream",
          "text": [
            "CPU times: user 1min 48s, sys: 603 ms, total: 1min 49s\n",
            "Wall time: 1min 49s\n"
          ],
          "name": "stdout"
        }
      ]
    },
    {
      "cell_type": "code",
      "metadata": {
        "id": "dJ4qhM5l42Ou",
        "colab_type": "code",
        "outputId": "4e67b7db-b62f-4df4-e93a-2e46d08f52a6",
        "colab": {
          "base_uri": "https://localhost:8080/",
          "height": 51
        }
      },
      "source": [
        "print(score)\n",
        "print(score.mean())"
      ],
      "execution_count": 0,
      "outputs": [
        {
          "output_type": "stream",
          "text": [
            "[0.81211317 0.81078691 0.80583812 0.81203008 0.80937638]\n",
            "0.8100289340921348\n"
          ],
          "name": "stdout"
        }
      ]
    },
    {
      "cell_type": "markdown",
      "metadata": {
        "id": "OLABF7os42WH",
        "colab_type": "text"
      },
      "source": [
        "Previsione su dati mai visti (test set)"
      ]
    },
    {
      "cell_type": "code",
      "metadata": {
        "id": "qK2UgYyj6oXL",
        "colab_type": "code",
        "outputId": "349bc63b-8786-440e-fffa-62fe45207e19",
        "colab": {
          "base_uri": "https://localhost:8080/",
          "height": 510
        }
      },
      "source": [
        "%%time\n",
        "clf.fit(tfidf_train_stem_x, train_stem_y)\n",
        "predicted = clf.predict(tfidf_test_stem_x)\n",
        "print(classification_report(test_stem_y, predicted))"
      ],
      "execution_count": 0,
      "outputs": [
        {
          "output_type": "stream",
          "text": [
            "              precision    recall  f1-score   support\n",
            "\n",
            "           0       0.84      0.70      0.77       340\n",
            "           1       0.67      0.76      0.71       374\n",
            "           2       0.73      0.84      0.78       400\n",
            "           3       0.71      0.68      0.70       393\n",
            "           4       0.78      0.82      0.80       358\n",
            "           5       0.83      0.77      0.80       416\n",
            "           6       0.75      0.84      0.79       386\n",
            "           7       0.85      0.83      0.84       396\n",
            "           8       0.93      0.91      0.92       393\n",
            "           9       0.90      0.90      0.90       405\n",
            "          10       0.90      0.94      0.92       386\n",
            "          11       0.94      0.93      0.93       400\n",
            "          12       0.78      0.64      0.70       406\n",
            "          13       0.84      0.88      0.86       380\n",
            "          14       0.85      0.91      0.88       403\n",
            "          15       0.72      0.93      0.81       391\n",
            "          16       0.79      0.89      0.84       380\n",
            "          17       0.96      0.94      0.95       399\n",
            "          18       0.91      0.69      0.78       285\n",
            "          19       0.85      0.40      0.55       248\n",
            "\n",
            "    accuracy                           0.82      7539\n",
            "   macro avg       0.83      0.81      0.81      7539\n",
            "weighted avg       0.83      0.82      0.82      7539\n",
            "\n",
            "CPU times: user 27.3 s, sys: 50 ms, total: 27.4 s\n",
            "Wall time: 27.4 s\n"
          ],
          "name": "stdout"
        }
      ]
    },
    {
      "cell_type": "markdown",
      "metadata": {
        "id": "hY0IYK0H6tYH",
        "colab_type": "text"
      },
      "source": [
        "**3.5 Random Forest con Bigram + Lemmatization**\n",
        "\n"
      ]
    },
    {
      "cell_type": "markdown",
      "metadata": {
        "id": "R9QDtZc_5KIK",
        "colab_type": "text"
      },
      "source": [
        "Cross Validation (train set)"
      ]
    },
    {
      "cell_type": "code",
      "metadata": {
        "id": "fapXEAfW5KRl",
        "colab_type": "code",
        "outputId": "20b29b50-f0ef-49d1-8726-6306a2ae228f",
        "colab": {
          "base_uri": "https://localhost:8080/",
          "height": 51
        }
      },
      "source": [
        "%%time\n",
        "score = cross_val_score(clf, bi_train_lem_x, train_lem_y, cv=5)"
      ],
      "execution_count": 0,
      "outputs": [
        {
          "output_type": "stream",
          "text": [
            "CPU times: user 1min 43s, sys: 623 ms, total: 1min 44s\n",
            "Wall time: 1min 44s\n"
          ],
          "name": "stdout"
        }
      ]
    },
    {
      "cell_type": "code",
      "metadata": {
        "id": "6VgIbRco5KZJ",
        "colab_type": "code",
        "outputId": "4c40e6e6-004d-4fc5-9df4-321b03643d87",
        "colab": {
          "base_uri": "https://localhost:8080/",
          "height": 51
        }
      },
      "source": [
        "print(score)\n",
        "print(score.mean())"
      ],
      "execution_count": 0,
      "outputs": [
        {
          "output_type": "stream",
          "text": [
            "[0.82139699 0.81343943 0.81733746 0.81335692 0.81556833]\n",
            "0.8162198287104874\n"
          ],
          "name": "stdout"
        }
      ]
    },
    {
      "cell_type": "markdown",
      "metadata": {
        "id": "cGVsubjI5KzH",
        "colab_type": "text"
      },
      "source": [
        "Previsione su dati mai visti (test set)"
      ]
    },
    {
      "cell_type": "code",
      "metadata": {
        "id": "ocgHC3U161so",
        "colab_type": "code",
        "outputId": "1e56fbc0-a357-4004-c971-ea24fdd1a8b9",
        "colab": {
          "base_uri": "https://localhost:8080/",
          "height": 510
        }
      },
      "source": [
        "%%time\n",
        "clf.fit(bi_train_lem_x, train_lem_y)\n",
        "predicted = clf.predict(bi_test_lem_x)\n",
        "print(classification_report(test_lem_y, predicted))"
      ],
      "execution_count": 0,
      "outputs": [
        {
          "output_type": "stream",
          "text": [
            "              precision    recall  f1-score   support\n",
            "\n",
            "           0       0.88      0.71      0.79       340\n",
            "           1       0.63      0.79      0.70       374\n",
            "           2       0.73      0.83      0.78       400\n",
            "           3       0.71      0.67      0.69       393\n",
            "           4       0.77      0.82      0.79       358\n",
            "           5       0.88      0.77      0.82       416\n",
            "           6       0.82      0.87      0.84       386\n",
            "           7       0.83      0.84      0.84       396\n",
            "           8       0.92      0.90      0.91       393\n",
            "           9       0.87      0.91      0.89       405\n",
            "          10       0.92      0.94      0.93       386\n",
            "          11       0.95      0.92      0.94       400\n",
            "          12       0.78      0.67      0.72       406\n",
            "          13       0.85      0.87      0.86       380\n",
            "          14       0.86      0.89      0.88       403\n",
            "          15       0.74      0.93      0.82       391\n",
            "          16       0.80      0.89      0.84       380\n",
            "          17       0.96      0.94      0.95       399\n",
            "          18       0.91      0.73      0.81       285\n",
            "          19       0.85      0.48      0.62       248\n",
            "\n",
            "    accuracy                           0.83      7539\n",
            "   macro avg       0.83      0.82      0.82      7539\n",
            "weighted avg       0.83      0.83      0.82      7539\n",
            "\n",
            "CPU times: user 28.3 s, sys: 41 ms, total: 28.3 s\n",
            "Wall time: 28.3 s\n"
          ],
          "name": "stdout"
        }
      ]
    },
    {
      "cell_type": "markdown",
      "metadata": {
        "id": "_D4DSJHR68T8",
        "colab_type": "text"
      },
      "source": [
        "**3.6 Random Forest con Bigram + Stemming**"
      ]
    },
    {
      "cell_type": "markdown",
      "metadata": {
        "id": "ALawMDL_5dPL",
        "colab_type": "text"
      },
      "source": [
        "Cross Validation (train set)"
      ]
    },
    {
      "cell_type": "code",
      "metadata": {
        "id": "YyXzlZdX5dZL",
        "colab_type": "code",
        "outputId": "4fc26804-8c9b-4213-9547-31a0266001de",
        "colab": {
          "base_uri": "https://localhost:8080/",
          "height": 51
        }
      },
      "source": [
        "%%time\n",
        "score = cross_val_score(clf, bi_train_stem_x, train_stem_y, cv=5)"
      ],
      "execution_count": 0,
      "outputs": [
        {
          "output_type": "stream",
          "text": [
            "CPU times: user 1min 45s, sys: 614 ms, total: 1min 46s\n",
            "Wall time: 1min 46s\n"
          ],
          "name": "stdout"
        }
      ]
    },
    {
      "cell_type": "code",
      "metadata": {
        "id": "D6DWxcss5djS",
        "colab_type": "code",
        "outputId": "a12b39c7-bb37-4652-ad64-65d7ebd6d0ae",
        "colab": {
          "base_uri": "https://localhost:8080/",
          "height": 51
        }
      },
      "source": [
        "print(score)\n",
        "print(score.mean())"
      ],
      "execution_count": 0,
      "outputs": [
        {
          "output_type": "stream",
          "text": [
            "[0.81697613 0.80857648 0.81335692 0.81601061 0.81335692]\n",
            "0.8136554133031128\n"
          ],
          "name": "stdout"
        }
      ]
    },
    {
      "cell_type": "markdown",
      "metadata": {
        "id": "R7NDAyER5eN_",
        "colab_type": "text"
      },
      "source": [
        "Previsione su dati mai visti (test set)"
      ]
    },
    {
      "cell_type": "code",
      "metadata": {
        "id": "Ee4KX44Q7I3y",
        "colab_type": "code",
        "outputId": "46a221d5-19ad-4834-848e-1a261d8d22ff",
        "colab": {
          "base_uri": "https://localhost:8080/",
          "height": 510
        }
      },
      "source": [
        "%%time\n",
        "clf.fit(bi_train_stem_x, train_stem_y)\n",
        "predicted = clf.predict(bi_test_stem_x)\n",
        "print(classification_report(test_stem_y, predicted))"
      ],
      "execution_count": 0,
      "outputs": [
        {
          "output_type": "stream",
          "text": [
            "              precision    recall  f1-score   support\n",
            "\n",
            "           0       0.87      0.74      0.80       340\n",
            "           1       0.64      0.78      0.70       374\n",
            "           2       0.73      0.83      0.78       400\n",
            "           3       0.74      0.69      0.71       393\n",
            "           4       0.80      0.82      0.81       358\n",
            "           5       0.84      0.77      0.81       416\n",
            "           6       0.80      0.85      0.83       386\n",
            "           7       0.86      0.85      0.85       396\n",
            "           8       0.93      0.89      0.91       393\n",
            "           9       0.88      0.90      0.89       405\n",
            "          10       0.92      0.94      0.93       386\n",
            "          11       0.95      0.92      0.94       400\n",
            "          12       0.79      0.71      0.75       406\n",
            "          13       0.82      0.88      0.85       380\n",
            "          14       0.86      0.90      0.88       403\n",
            "          15       0.77      0.93      0.84       391\n",
            "          16       0.79      0.89      0.84       380\n",
            "          17       0.95      0.94      0.95       399\n",
            "          18       0.90      0.72      0.80       285\n",
            "          19       0.83      0.48      0.61       248\n",
            "\n",
            "    accuracy                           0.83      7539\n",
            "   macro avg       0.83      0.82      0.82      7539\n",
            "weighted avg       0.83      0.83      0.83      7539\n",
            "\n",
            "CPU times: user 28.4 s, sys: 44 ms, total: 28.5 s\n",
            "Wall time: 28.5 s\n"
          ],
          "name": "stdout"
        }
      ]
    },
    {
      "cell_type": "markdown",
      "metadata": {
        "id": "KqPUItr37TEm",
        "colab_type": "text"
      },
      "source": [
        "**4. Xtereme Gradient Boosting (xgboost)**"
      ]
    },
    {
      "cell_type": "code",
      "metadata": {
        "id": "ZoIHzukf7sNE",
        "colab_type": "code",
        "colab": {}
      },
      "source": [
        "clf= xgb.XGBClassifier()"
      ],
      "execution_count": 0,
      "outputs": []
    },
    {
      "cell_type": "markdown",
      "metadata": {
        "id": "Do6EaKrT7yNW",
        "colab_type": "text"
      },
      "source": [
        "**4.1 XGBOOST con TF + Lemmatization**"
      ]
    },
    {
      "cell_type": "markdown",
      "metadata": {
        "id": "Y4bepBil6u1R",
        "colab_type": "text"
      },
      "source": [
        "Cross Validation (train set)"
      ]
    },
    {
      "cell_type": "code",
      "metadata": {
        "id": "lzuSu1jC6vRp",
        "colab_type": "code",
        "outputId": "da23f0ff-ecb8-4532-ea8c-53e894c85ae3",
        "colab": {
          "base_uri": "https://localhost:8080/",
          "height": 51
        }
      },
      "source": [
        "%%time\n",
        "score = cross_val_score(clf, tf_train_lem_x, train_lem_y, cv=5)"
      ],
      "execution_count": 0,
      "outputs": [
        {
          "output_type": "stream",
          "text": [
            "CPU times: user 18min 6s, sys: 525 ms, total: 18min 7s\n",
            "Wall time: 18min 7s\n"
          ],
          "name": "stdout"
        }
      ]
    },
    {
      "cell_type": "code",
      "metadata": {
        "id": "ydBMnu2b6va9",
        "colab_type": "code",
        "outputId": "af781e8f-a852-4a46-bc72-687e7716e4ec",
        "colab": {
          "base_uri": "https://localhost:8080/",
          "height": 51
        }
      },
      "source": [
        "print(score)\n",
        "print(score.mean())"
      ],
      "execution_count": 0,
      "outputs": [
        {
          "output_type": "stream",
          "text": [
            "[0.79310345 0.7882405  0.79920389 0.79920389 0.80495356]\n",
            "0.7969410575901448\n"
          ],
          "name": "stdout"
        }
      ]
    },
    {
      "cell_type": "markdown",
      "metadata": {
        "id": "-tSDuGBZ6vku",
        "colab_type": "text"
      },
      "source": [
        "Previsione su dati mai visti (test set)"
      ]
    },
    {
      "cell_type": "code",
      "metadata": {
        "id": "2hJCn8Z377Dc",
        "colab_type": "code",
        "outputId": "90f2aca1-6f55-4bf8-af94-c82d9521810f",
        "colab": {
          "base_uri": "https://localhost:8080/",
          "height": 510
        }
      },
      "source": [
        "%%time\n",
        "clf.fit(tf_train_lem_x, train_lem_y)\n",
        "predicted = clf.predict(tf_test_lem_x)\n",
        "print(classification_report(test_lem_y, predicted))"
      ],
      "execution_count": 0,
      "outputs": [
        {
          "output_type": "stream",
          "text": [
            "              precision    recall  f1-score   support\n",
            "\n",
            "           0       0.83      0.70      0.76       340\n",
            "           1       0.67      0.74      0.70       374\n",
            "           2       0.70      0.78      0.74       400\n",
            "           3       0.63      0.69      0.66       393\n",
            "           4       0.80      0.79      0.79       358\n",
            "           5       0.82      0.71      0.76       416\n",
            "           6       0.80      0.83      0.82       386\n",
            "           7       0.85      0.78      0.81       396\n",
            "           8       0.92      0.87      0.89       393\n",
            "           9       0.87      0.87      0.87       405\n",
            "          10       0.94      0.86      0.90       386\n",
            "          11       0.94      0.89      0.92       400\n",
            "          12       0.57      0.70      0.63       406\n",
            "          13       0.88      0.84      0.86       380\n",
            "          14       0.85      0.86      0.86       403\n",
            "          15       0.74      0.90      0.81       391\n",
            "          16       0.78      0.83      0.81       380\n",
            "          17       0.96      0.87      0.91       399\n",
            "          18       0.75      0.71      0.73       285\n",
            "          19       0.74      0.56      0.64       248\n",
            "\n",
            "    accuracy                           0.80      7539\n",
            "   macro avg       0.80      0.79      0.79      7539\n",
            "weighted avg       0.80      0.80      0.80      7539\n",
            "\n",
            "CPU times: user 3min 55s, sys: 115 ms, total: 3min 56s\n",
            "Wall time: 3min 56s\n"
          ],
          "name": "stdout"
        }
      ]
    },
    {
      "cell_type": "markdown",
      "metadata": {
        "id": "ieL484yG8sEn",
        "colab_type": "text"
      },
      "source": [
        "**4.2 XGBOOST con TF + Stemming**"
      ]
    },
    {
      "cell_type": "markdown",
      "metadata": {
        "id": "DTufSqE97Avq",
        "colab_type": "text"
      },
      "source": [
        "Cross Validation (train set)"
      ]
    },
    {
      "cell_type": "code",
      "metadata": {
        "id": "1P1NVmq97A9L",
        "colab_type": "code",
        "outputId": "ac6b058f-d86e-4eb4-e278-84c586b96f0b",
        "colab": {
          "base_uri": "https://localhost:8080/",
          "height": 51
        }
      },
      "source": [
        "%%time\n",
        "score = cross_val_score(clf, tf_train_stem_x, train_stem_y, cv=5)"
      ],
      "execution_count": 0,
      "outputs": [
        {
          "output_type": "stream",
          "text": [
            "CPU times: user 15min 54s, sys: 389 ms, total: 15min 55s\n",
            "Wall time: 15min 55s\n"
          ],
          "name": "stdout"
        }
      ]
    },
    {
      "cell_type": "code",
      "metadata": {
        "id": "p36YMpdW7BFa",
        "colab_type": "code",
        "outputId": "0572ce55-e84d-4c1b-aca0-87fcbd0846d7",
        "colab": {
          "base_uri": "https://localhost:8080/",
          "height": 51
        }
      },
      "source": [
        "print(score)\n",
        "print(score.mean())"
      ],
      "execution_count": 0,
      "outputs": [
        {
          "output_type": "stream",
          "text": [
            "[0.79619805 0.78912467 0.79920389 0.80053074 0.80053074]\n",
            "0.7971176185118749\n"
          ],
          "name": "stdout"
        }
      ]
    },
    {
      "cell_type": "markdown",
      "metadata": {
        "id": "2_LkDp5G7BM1",
        "colab_type": "text"
      },
      "source": [
        "Previsione su dati mai visti (test set)"
      ]
    },
    {
      "cell_type": "code",
      "metadata": {
        "id": "CAoyhBS78yu2",
        "colab_type": "code",
        "outputId": "8f94fc00-da21-46c6-bca4-c12bf6b112cf",
        "colab": {
          "base_uri": "https://localhost:8080/",
          "height": 510
        }
      },
      "source": [
        "%%time\n",
        "clf.fit(tf_train_stem_x, train_stem_y)\n",
        "predicted = clf.predict(tf_test_stem_x)\n",
        "print(classification_report(test_stem_y, predicted))"
      ],
      "execution_count": 0,
      "outputs": [
        {
          "output_type": "stream",
          "text": [
            "              precision    recall  f1-score   support\n",
            "\n",
            "           0       0.82      0.72      0.76       340\n",
            "           1       0.66      0.71      0.68       374\n",
            "           2       0.69      0.77      0.72       400\n",
            "           3       0.61      0.69      0.65       393\n",
            "           4       0.80      0.78      0.79       358\n",
            "           5       0.81      0.72      0.76       416\n",
            "           6       0.79      0.81      0.80       386\n",
            "           7       0.85      0.79      0.82       396\n",
            "           8       0.91      0.88      0.90       393\n",
            "           9       0.88      0.87      0.88       405\n",
            "          10       0.94      0.87      0.90       386\n",
            "          11       0.96      0.89      0.92       400\n",
            "          12       0.58      0.69      0.63       406\n",
            "          13       0.87      0.84      0.85       380\n",
            "          14       0.86      0.85      0.85       403\n",
            "          15       0.73      0.90      0.81       391\n",
            "          16       0.80      0.81      0.80       380\n",
            "          17       0.97      0.88      0.92       399\n",
            "          18       0.74      0.71      0.72       285\n",
            "          19       0.71      0.55      0.62       248\n",
            "\n",
            "    accuracy                           0.79      7539\n",
            "   macro avg       0.80      0.79      0.79      7539\n",
            "weighted avg       0.80      0.79      0.79      7539\n",
            "\n",
            "CPU times: user 3min 29s, sys: 97 ms, total: 3min 30s\n",
            "Wall time: 3min 30s\n"
          ],
          "name": "stdout"
        }
      ]
    },
    {
      "cell_type": "markdown",
      "metadata": {
        "id": "BchDflG19I_S",
        "colab_type": "text"
      },
      "source": [
        "**4.3 XGBOOST con TF-IDF + Lemmatization**"
      ]
    },
    {
      "cell_type": "markdown",
      "metadata": {
        "id": "_X529c2Y7TUo",
        "colab_type": "text"
      },
      "source": [
        "Cross Validation (train set)"
      ]
    },
    {
      "cell_type": "code",
      "metadata": {
        "id": "DS15vDEm7Tdw",
        "colab_type": "code",
        "outputId": "898adef3-045a-4b97-a881-07bca1e26dc3",
        "colab": {
          "base_uri": "https://localhost:8080/",
          "height": 51
        }
      },
      "source": [
        "%%time\n",
        "score = cross_val_score(clf, tfidf_train_lem_x, train_lem_y, cv=5)"
      ],
      "execution_count": 0,
      "outputs": [
        {
          "output_type": "stream",
          "text": [
            "CPU times: user 16min 16s, sys: 370 ms, total: 16min 16s\n",
            "Wall time: 16min 17s\n"
          ],
          "name": "stdout"
        }
      ]
    },
    {
      "cell_type": "code",
      "metadata": {
        "id": "RhrbMv947Tl7",
        "colab_type": "code",
        "outputId": "27390649-43de-470e-952e-ee7c02f48bf2",
        "colab": {
          "base_uri": "https://localhost:8080/",
          "height": 51
        }
      },
      "source": [
        "print(score)\n",
        "print(score.mean())"
      ],
      "execution_count": 0,
      "outputs": [
        {
          "output_type": "stream",
          "text": [
            "[0.79354553 0.78558798 0.79124281 0.78770456 0.7965502 ]\n",
            "0.790926215523205\n"
          ],
          "name": "stdout"
        }
      ]
    },
    {
      "cell_type": "markdown",
      "metadata": {
        "id": "w5HTXjE_7jW1",
        "colab_type": "text"
      },
      "source": [
        "Previsione su dati mai visti (test set)"
      ]
    },
    {
      "cell_type": "code",
      "metadata": {
        "id": "_LepZkse9YGq",
        "colab_type": "code",
        "outputId": "09bddc43-2518-4bf7-9817-e189d824244c",
        "colab": {
          "base_uri": "https://localhost:8080/",
          "height": 510
        }
      },
      "source": [
        "%%time\n",
        "clf.fit(tfidf_train_lem_x, train_lem_y)\n",
        "predicted = clf.predict(tfidf_test_lem_x)\n",
        "print(classification_report(test_lem_y, predicted))"
      ],
      "execution_count": 0,
      "outputs": [
        {
          "output_type": "stream",
          "text": [
            "              precision    recall  f1-score   support\n",
            "\n",
            "           0       0.83      0.70      0.76       340\n",
            "           1       0.67      0.74      0.70       374\n",
            "           2       0.70      0.77      0.74       400\n",
            "           3       0.63      0.71      0.67       393\n",
            "           4       0.80      0.78      0.79       358\n",
            "           5       0.80      0.72      0.76       416\n",
            "           6       0.81      0.83      0.82       386\n",
            "           7       0.85      0.80      0.82       396\n",
            "           8       0.92      0.86      0.89       393\n",
            "           9       0.86      0.86      0.86       405\n",
            "          10       0.94      0.85      0.89       386\n",
            "          11       0.94      0.89      0.91       400\n",
            "          12       0.58      0.70      0.64       406\n",
            "          13       0.86      0.84      0.85       380\n",
            "          14       0.84      0.86      0.85       403\n",
            "          15       0.73      0.90      0.81       391\n",
            "          16       0.80      0.81      0.80       380\n",
            "          17       0.95      0.89      0.92       399\n",
            "          18       0.74      0.74      0.74       285\n",
            "          19       0.71      0.53      0.61       248\n",
            "\n",
            "    accuracy                           0.79      7539\n",
            "   macro avg       0.80      0.79      0.79      7539\n",
            "weighted avg       0.80      0.79      0.80      7539\n",
            "\n",
            "CPU times: user 3min 57s, sys: 96 ms, total: 3min 58s\n",
            "Wall time: 3min 58s\n"
          ],
          "name": "stdout"
        }
      ]
    },
    {
      "cell_type": "markdown",
      "metadata": {
        "id": "s9jrkr38-mAN",
        "colab_type": "text"
      },
      "source": [
        "**4.4 XGBOOST con TF-IDF + Stemming**"
      ]
    },
    {
      "cell_type": "markdown",
      "metadata": {
        "id": "CJvJhaeU7qtg",
        "colab_type": "text"
      },
      "source": [
        "Cross Validation (train set)"
      ]
    },
    {
      "cell_type": "code",
      "metadata": {
        "id": "-kT4TF9f7q4C",
        "colab_type": "code",
        "outputId": "b3a01ae0-01be-4822-f36b-6462e553d7c7",
        "colab": {
          "base_uri": "https://localhost:8080/",
          "height": 51
        }
      },
      "source": [
        "%%time\n",
        "score = cross_val_score(clf, tfidf_train_stem_x, train_stem_y, cv=5)"
      ],
      "execution_count": 0,
      "outputs": [
        {
          "output_type": "stream",
          "text": [
            "CPU times: user 16min 26s, sys: 452 ms, total: 16min 26s\n",
            "Wall time: 16min 27s\n"
          ],
          "name": "stdout"
        }
      ]
    },
    {
      "cell_type": "code",
      "metadata": {
        "id": "qYJ8r63i7rAj",
        "colab_type": "code",
        "outputId": "e4740ddd-08f4-47f1-a5b3-94d4b3f1d772",
        "colab": {
          "base_uri": "https://localhost:8080/",
          "height": 51
        }
      },
      "source": [
        "print(score)\n",
        "print(score.mean())"
      ],
      "execution_count": 0,
      "outputs": [
        {
          "output_type": "stream",
          "text": [
            "[0.79221927 0.78426172 0.78814684 0.79256966 0.79433879]\n",
            "0.7903072551092195\n"
          ],
          "name": "stdout"
        }
      ]
    },
    {
      "cell_type": "markdown",
      "metadata": {
        "id": "mL_nGlHW7rJd",
        "colab_type": "text"
      },
      "source": [
        "Previsione su dati mai visti (test set)"
      ]
    },
    {
      "cell_type": "code",
      "metadata": {
        "id": "o6NRp4N2-tDr",
        "colab_type": "code",
        "outputId": "969d8251-f05a-4baa-f2eb-f12cd5dab9a1",
        "colab": {
          "base_uri": "https://localhost:8080/",
          "height": 510
        }
      },
      "source": [
        "%%time\n",
        "clf.fit(tfidf_train_stem_x, train_stem_y)\n",
        "predicted = clf.predict(tfidf_test_stem_x)\n",
        "print(classification_report(test_stem_y, predicted))"
      ],
      "execution_count": 0,
      "outputs": [
        {
          "output_type": "stream",
          "text": [
            "              precision    recall  f1-score   support\n",
            "\n",
            "           0       0.82      0.70      0.75       340\n",
            "           1       0.66      0.74      0.70       374\n",
            "           2       0.70      0.76      0.73       400\n",
            "           3       0.61      0.70      0.65       393\n",
            "           4       0.80      0.77      0.78       358\n",
            "           5       0.80      0.72      0.76       416\n",
            "           6       0.79      0.81      0.80       386\n",
            "           7       0.83      0.79      0.81       396\n",
            "           8       0.92      0.86      0.89       393\n",
            "           9       0.89      0.86      0.87       405\n",
            "          10       0.93      0.88      0.90       386\n",
            "          11       0.96      0.89      0.92       400\n",
            "          12       0.58      0.70      0.64       406\n",
            "          13       0.86      0.83      0.85       380\n",
            "          14       0.85      0.85      0.85       403\n",
            "          15       0.74      0.89      0.81       391\n",
            "          16       0.77      0.80      0.79       380\n",
            "          17       0.96      0.88      0.92       399\n",
            "          18       0.75      0.72      0.74       285\n",
            "          19       0.67      0.51      0.58       248\n",
            "\n",
            "    accuracy                           0.79      7539\n",
            "   macro avg       0.79      0.78      0.79      7539\n",
            "weighted avg       0.80      0.79      0.79      7539\n",
            "\n",
            "CPU times: user 3min 59s, sys: 164 ms, total: 3min 59s\n",
            "Wall time: 3min 59s\n"
          ],
          "name": "stdout"
        }
      ]
    },
    {
      "cell_type": "markdown",
      "metadata": {
        "id": "KOkvwgEr_WBN",
        "colab_type": "text"
      },
      "source": [
        "**4.5 XGBOOST con Bigram + Lemmatization**"
      ]
    },
    {
      "cell_type": "markdown",
      "metadata": {
        "id": "dQlIX3Ov79DV",
        "colab_type": "text"
      },
      "source": [
        "Cross Validation (train set)"
      ]
    },
    {
      "cell_type": "code",
      "metadata": {
        "id": "gPc--TGS79Mk",
        "colab_type": "code",
        "outputId": "ed0940e0-3ae2-40cd-a663-cfa8d70fc434",
        "colab": {
          "base_uri": "https://localhost:8080/",
          "height": 51
        }
      },
      "source": [
        "%%time\n",
        "score = cross_val_score(clf, bi_train_lem_x, train_lem_y, cv=5)"
      ],
      "execution_count": 0,
      "outputs": [
        {
          "output_type": "stream",
          "text": [
            "CPU times: user 17min 55s, sys: 448 ms, total: 17min 55s\n",
            "Wall time: 17min 56s\n"
          ],
          "name": "stdout"
        }
      ]
    },
    {
      "cell_type": "code",
      "metadata": {
        "id": "FmdYumGc79Ve",
        "colab_type": "code",
        "outputId": "a9101a45-f9b6-4d21-e04e-d3276d2d10b1",
        "colab": {
          "base_uri": "https://localhost:8080/",
          "height": 51
        }
      },
      "source": [
        "print(score)\n",
        "print(score.mean())"
      ],
      "execution_count": 0,
      "outputs": [
        {
          "output_type": "stream",
          "text": [
            "[0.79487179 0.79000884 0.79478107 0.79478107 0.80539584]\n",
            "0.7959677239596104\n"
          ],
          "name": "stdout"
        }
      ]
    },
    {
      "cell_type": "markdown",
      "metadata": {
        "id": "PebXf0sm79eG",
        "colab_type": "text"
      },
      "source": [
        "Previsione su dati mai visti (test set)"
      ]
    },
    {
      "cell_type": "code",
      "metadata": {
        "id": "yeHXDsj0_bNi",
        "colab_type": "code",
        "outputId": "3eb6960e-42d0-46f9-b8fb-47c029a34e35",
        "colab": {
          "base_uri": "https://localhost:8080/",
          "height": 510
        }
      },
      "source": [
        "%%time\n",
        "clf.fit(bi_train_lem_x, train_lem_y)\n",
        "predicted = clf.predict(bi_test_lem_x)\n",
        "print(classification_report(test_lem_y, predicted))"
      ],
      "execution_count": 0,
      "outputs": [
        {
          "output_type": "stream",
          "text": [
            "              precision    recall  f1-score   support\n",
            "\n",
            "           0       0.83      0.71      0.77       340\n",
            "           1       0.69      0.73      0.71       374\n",
            "           2       0.71      0.78      0.74       400\n",
            "           3       0.64      0.71      0.67       393\n",
            "           4       0.80      0.78      0.79       358\n",
            "           5       0.84      0.76      0.80       416\n",
            "           6       0.81      0.82      0.81       386\n",
            "           7       0.84      0.80      0.82       396\n",
            "           8       0.93      0.87      0.89       393\n",
            "           9       0.88      0.87      0.88       405\n",
            "          10       0.95      0.87      0.91       386\n",
            "          11       0.94      0.89      0.91       400\n",
            "          12       0.58      0.72      0.64       406\n",
            "          13       0.87      0.84      0.85       380\n",
            "          14       0.84      0.85      0.85       403\n",
            "          15       0.75      0.91      0.82       391\n",
            "          16       0.79      0.80      0.80       380\n",
            "          17       0.95      0.89      0.92       399\n",
            "          18       0.78      0.73      0.75       285\n",
            "          19       0.70      0.55      0.62       248\n",
            "\n",
            "    accuracy                           0.80      7539\n",
            "   macro avg       0.81      0.79      0.80      7539\n",
            "weighted avg       0.81      0.80      0.80      7539\n",
            "\n",
            "CPU times: user 4min 22s, sys: 70 ms, total: 4min 22s\n",
            "Wall time: 4min 22s\n"
          ],
          "name": "stdout"
        }
      ]
    },
    {
      "cell_type": "markdown",
      "metadata": {
        "id": "8FM4Bpge_pQh",
        "colab_type": "text"
      },
      "source": [
        "**4.6 XGBOOST con Bigram + Stemming**"
      ]
    },
    {
      "cell_type": "markdown",
      "metadata": {
        "id": "5wSeFrGa8r0q",
        "colab_type": "text"
      },
      "source": [
        "Cross Validation (train set)"
      ]
    },
    {
      "cell_type": "code",
      "metadata": {
        "id": "dUNSbsuq8sB9",
        "colab_type": "code",
        "outputId": "993f2cf7-fa01-4ae2-e053-0bc31c0b6c46",
        "colab": {
          "base_uri": "https://localhost:8080/",
          "height": 51
        }
      },
      "source": [
        "%%time\n",
        "score = cross_val_score(clf, bi_train_stem_x, train_stem_y, cv=5)"
      ],
      "execution_count": 0,
      "outputs": [
        {
          "output_type": "stream",
          "text": [
            "CPU times: user 18min 18s, sys: 467 ms, total: 18min 19s\n",
            "Wall time: 18min 19s\n"
          ],
          "name": "stdout"
        }
      ]
    },
    {
      "cell_type": "code",
      "metadata": {
        "id": "xpj-_76N8sJ4",
        "colab_type": "code",
        "outputId": "7872b05b-5408-4343-a4cf-6814f471395c",
        "colab": {
          "base_uri": "https://localhost:8080/",
          "height": 51
        }
      },
      "source": [
        "print(score)\n",
        "print(score.mean())"
      ],
      "execution_count": 0,
      "outputs": [
        {
          "output_type": "stream",
          "text": [
            "[0.79840849 0.78912467 0.79876161 0.79301194 0.80318443]\n",
            "0.7964982279383902\n"
          ],
          "name": "stdout"
        }
      ]
    },
    {
      "cell_type": "markdown",
      "metadata": {
        "id": "EMQsiECp8sTc",
        "colab_type": "text"
      },
      "source": [
        "Previsione su dati mai visti (test set)"
      ]
    },
    {
      "cell_type": "code",
      "metadata": {
        "id": "hJqzsu3N_uwL",
        "colab_type": "code",
        "outputId": "966c66b1-9c2a-460a-ef3c-5134f7b2c238",
        "colab": {
          "base_uri": "https://localhost:8080/",
          "height": 510
        }
      },
      "source": [
        "%%time\n",
        "clf.fit(bi_train_stem_x, train_stem_y)\n",
        "predicted = clf.predict(bi_test_stem_x)\n",
        "print(classification_report(test_stem_y, predicted))"
      ],
      "execution_count": 0,
      "outputs": [
        {
          "output_type": "stream",
          "text": [
            "              precision    recall  f1-score   support\n",
            "\n",
            "           0       0.84      0.72      0.77       340\n",
            "           1       0.66      0.74      0.70       374\n",
            "           2       0.69      0.79      0.74       400\n",
            "           3       0.63      0.69      0.66       393\n",
            "           4       0.80      0.77      0.79       358\n",
            "           5       0.85      0.76      0.80       416\n",
            "           6       0.79      0.82      0.81       386\n",
            "           7       0.84      0.79      0.81       396\n",
            "           8       0.91      0.87      0.89       393\n",
            "           9       0.89      0.87      0.88       405\n",
            "          10       0.92      0.88      0.90       386\n",
            "          11       0.96      0.89      0.92       400\n",
            "          12       0.60      0.70      0.65       406\n",
            "          13       0.86      0.84      0.85       380\n",
            "          14       0.85      0.86      0.86       403\n",
            "          15       0.76      0.91      0.83       391\n",
            "          16       0.78      0.80      0.79       380\n",
            "          17       0.96      0.89      0.92       399\n",
            "          18       0.74      0.72      0.73       285\n",
            "          19       0.71      0.55      0.62       248\n",
            "\n",
            "    accuracy                           0.80      7539\n",
            "   macro avg       0.80      0.79      0.80      7539\n",
            "weighted avg       0.81      0.80      0.80      7539\n",
            "\n",
            "CPU times: user 4min 28s, sys: 103 ms, total: 4min 28s\n",
            "Wall time: 4min 28s\n"
          ],
          "name": "stdout"
        }
      ]
    },
    {
      "cell_type": "markdown",
      "metadata": {
        "id": "BU6sG1JuwIla",
        "colab_type": "text"
      },
      "source": [
        "# CROSS VALIDATION"
      ]
    },
    {
      "cell_type": "markdown",
      "metadata": {
        "id": "fSPBz7v-Y5eI",
        "colab_type": "text"
      },
      "source": [
        "N.B. è da fare per ogni classificazione sul rispettivo TRAIN e restituisce l'accuratezza sul TRAIN.\n",
        "Poi lo stesso train lo applico al TEST per avere l'accuratezza sul test (dati mai visti)"
      ]
    },
    {
      "cell_type": "code",
      "metadata": {
        "id": "hvRjyuui4_-t",
        "colab_type": "code",
        "colab": {}
      },
      "source": [
        "#restituisce l'accuratezza sul train: AGGIUNGERE TIPO DI SCORE\n",
        "#score = cross_val_score(clf, tfidf_train_lem_x, train_stem_y, cv=3, scoring = 'da aggiungere')\n"
      ],
      "execution_count": 0,
      "outputs": []
    },
    {
      "cell_type": "code",
      "metadata": {
        "id": "2i7ItV0TYrVY",
        "colab_type": "code",
        "colab": {}
      },
      "source": [
        "#score"
      ],
      "execution_count": 0,
      "outputs": []
    },
    {
      "cell_type": "code",
      "metadata": {
        "id": "VzMZAKPGYpZY",
        "colab_type": "code",
        "colab": {}
      },
      "source": [
        "#score.mean()"
      ],
      "execution_count": 0,
      "outputs": []
    },
    {
      "cell_type": "markdown",
      "metadata": {
        "id": "8YSzavjAZRzP",
        "colab_type": "text"
      },
      "source": [
        "## CONFUSION MATRIX"
      ]
    },
    {
      "cell_type": "markdown",
      "metadata": {
        "id": "qb2m9Cp6ZVQn",
        "colab_type": "text"
      },
      "source": [
        "# TUNING PARAMETRI"
      ]
    }
  ]
}