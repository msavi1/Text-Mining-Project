{
  "nbformat": 4,
  "nbformat_minor": 0,
  "metadata": {
    "colab": {
      "name": "ProgettoTM.ipynb",
      "provenance": [],
      "collapsed_sections": []
    },
    "kernelspec": {
      "name": "python3",
      "display_name": "Python 3"
    }
  },
  "cells": [
    {
      "cell_type": "markdown",
      "metadata": {
        "id": "3bidszXiQr-R",
        "colab_type": "text"
      },
      "source": [
        "# **TEXT MINING PROJECT**: 20 NEWS GROUP CLASSIFICATION  \n",
        "\n",
        "Antonella Zaccaria  \n",
        "Marco Savino"
      ]
    },
    {
      "cell_type": "markdown",
      "metadata": {
        "id": "TId_UYMrRGN6",
        "colab_type": "text"
      },
      "source": [
        "Librerie utilizzate"
      ]
    },
    {
      "cell_type": "code",
      "metadata": {
        "id": "LQ7srOrPRI4A",
        "colab_type": "code",
        "outputId": "ec7928ab-2937-4ab0-ffea-0dce5558bc01",
        "colab": {
          "base_uri": "https://localhost:8080/",
          "height": 119
        }
      },
      "source": [
        "from sklearn.datasets import fetch_20newsgroups\n",
        "\n",
        "import pandas as pd\n",
        "import re\n",
        "import seaborn as sns\n",
        "import matplotlib.pyplot as plt\n",
        "\n",
        "import nltk\n",
        "from nltk.tokenize import sent_tokenize, word_tokenize\n",
        "nltk.download('punkt') #serve per la tokenizzazione\n",
        "\n",
        "nltk.download('stopwords')\n",
        "from nltk.corpus import stopwords\n",
        "\n",
        "from nltk.stem import WordNetLemmatizer\n",
        "nltk.download('wordnet')\n",
        "\n",
        "from nltk.stem import PorterStemmer\n",
        "\n",
        "from sklearn import model_selection, preprocessing\n",
        "from sklearn.feature_extraction.text import TfidfVectorizer, CountVectorizer"
      ],
      "execution_count": 1,
      "outputs": [
        {
          "output_type": "stream",
          "text": [
            "[nltk_data] Downloading package punkt to /root/nltk_data...\n",
            "[nltk_data]   Package punkt is already up-to-date!\n",
            "[nltk_data] Downloading package stopwords to /root/nltk_data...\n",
            "[nltk_data]   Package stopwords is already up-to-date!\n",
            "[nltk_data] Downloading package wordnet to /root/nltk_data...\n",
            "[nltk_data]   Package wordnet is already up-to-date!\n"
          ],
          "name": "stdout"
        }
      ]
    },
    {
      "cell_type": "markdown",
      "metadata": {
        "id": "MIpvKh96Q89D",
        "colab_type": "text"
      },
      "source": [
        "Carichiamo il dataset 20 News Group direttamente dal **sklearn** e lo salviamo in formato csv"
      ]
    },
    {
      "cell_type": "code",
      "metadata": {
        "id": "5I6ayR_aREZV",
        "colab_type": "code",
        "colab": {}
      },
      "source": [
        "def twenty_newsgroup_to_csv():\n",
        "    newsgroups = fetch_20newsgroups(subset = 'all', shuffle=True)\n",
        "\n",
        "    df = pd.DataFrame([newsgroups.data, newsgroups.target.tolist()]).T\n",
        "    df.columns = ['text', 'target']\n",
        "  \n",
        "twenty_newsgroup_to_csv()"
      ],
      "execution_count": 0,
      "outputs": []
    },
    {
      "cell_type": "code",
      "metadata": {
        "id": "aTvus83jRkmp",
        "colab_type": "code",
        "colab": {}
      },
      "source": [
        "df = pd.read_csv('20_news.csv')"
      ],
      "execution_count": 0,
      "outputs": []
    },
    {
      "cell_type": "markdown",
      "metadata": {
        "id": "L7hieBcNSFtd",
        "colab_type": "text"
      },
      "source": [
        "Visualizziamo le prime righe del dataset"
      ]
    },
    {
      "cell_type": "code",
      "metadata": {
        "id": "EVfsbWJKRsoh",
        "colab_type": "code",
        "outputId": "dc63a7b5-e1f8-46f9-d2dd-eb7b9c278ef1",
        "colab": {
          "base_uri": "https://localhost:8080/",
          "height": 204
        }
      },
      "source": [
        "df.head()"
      ],
      "execution_count": 4,
      "outputs": [
        {
          "output_type": "execute_result",
          "data": {
            "text/html": [
              "<div>\n",
              "<style scoped>\n",
              "    .dataframe tbody tr th:only-of-type {\n",
              "        vertical-align: middle;\n",
              "    }\n",
              "\n",
              "    .dataframe tbody tr th {\n",
              "        vertical-align: top;\n",
              "    }\n",
              "\n",
              "    .dataframe thead th {\n",
              "        text-align: right;\n",
              "    }\n",
              "</style>\n",
              "<table border=\"1\" class=\"dataframe\">\n",
              "  <thead>\n",
              "    <tr style=\"text-align: right;\">\n",
              "      <th></th>\n",
              "      <th>Unnamed: 0</th>\n",
              "      <th>text</th>\n",
              "      <th>target</th>\n",
              "      <th>title</th>\n",
              "    </tr>\n",
              "  </thead>\n",
              "  <tbody>\n",
              "    <tr>\n",
              "      <th>0</th>\n",
              "      <td>0</td>\n",
              "      <td>From: Mamatha Devineni Ratnam &lt;mr47+@andrew.cm...</td>\n",
              "      <td>10</td>\n",
              "      <td>rec.sport.hockey</td>\n",
              "    </tr>\n",
              "    <tr>\n",
              "      <th>1</th>\n",
              "      <td>7</td>\n",
              "      <td>From: dchhabra@stpl.ists.ca (Deepak Chhabra)\\n...</td>\n",
              "      <td>10</td>\n",
              "      <td>rec.sport.hockey</td>\n",
              "    </tr>\n",
              "    <tr>\n",
              "      <th>2</th>\n",
              "      <td>8</td>\n",
              "      <td>From: dchhabra@stpl.ists.ca (Deepak Chhabra)\\n...</td>\n",
              "      <td>10</td>\n",
              "      <td>rec.sport.hockey</td>\n",
              "    </tr>\n",
              "    <tr>\n",
              "      <th>3</th>\n",
              "      <td>24</td>\n",
              "      <td>From: cs902043@ariel.yorku.ca (SHAWN LUDDINGTO...</td>\n",
              "      <td>10</td>\n",
              "      <td>rec.sport.hockey</td>\n",
              "    </tr>\n",
              "    <tr>\n",
              "      <th>4</th>\n",
              "      <td>44</td>\n",
              "      <td>From: gritter@cs.purdue.edu (Carl Gritter)\\nSu...</td>\n",
              "      <td>10</td>\n",
              "      <td>rec.sport.hockey</td>\n",
              "    </tr>\n",
              "  </tbody>\n",
              "</table>\n",
              "</div>"
            ],
            "text/plain": [
              "   Unnamed: 0  ...             title\n",
              "0           0  ...  rec.sport.hockey\n",
              "1           7  ...  rec.sport.hockey\n",
              "2           8  ...  rec.sport.hockey\n",
              "3          24  ...  rec.sport.hockey\n",
              "4          44  ...  rec.sport.hockey\n",
              "\n",
              "[5 rows x 4 columns]"
            ]
          },
          "metadata": {
            "tags": []
          },
          "execution_count": 4
        }
      ]
    },
    {
      "cell_type": "markdown",
      "metadata": {
        "id": "wDXIm1cBXgC7",
        "colab_type": "text"
      },
      "source": [
        "Eliminiamo la colonna **Unnamed: 0**"
      ]
    },
    {
      "cell_type": "code",
      "metadata": {
        "id": "edpchUbFXoBQ",
        "colab_type": "code",
        "colab": {}
      },
      "source": [
        "df = df.drop('Unnamed: 0', 1)"
      ],
      "execution_count": 0,
      "outputs": []
    },
    {
      "cell_type": "code",
      "metadata": {
        "id": "JcLhkoLyX0mP",
        "colab_type": "code",
        "outputId": "5821353b-db9f-4c6d-f8c5-45e8e8454029",
        "colab": {
          "base_uri": "https://localhost:8080/",
          "height": 204
        }
      },
      "source": [
        "df.head()"
      ],
      "execution_count": 6,
      "outputs": [
        {
          "output_type": "execute_result",
          "data": {
            "text/html": [
              "<div>\n",
              "<style scoped>\n",
              "    .dataframe tbody tr th:only-of-type {\n",
              "        vertical-align: middle;\n",
              "    }\n",
              "\n",
              "    .dataframe tbody tr th {\n",
              "        vertical-align: top;\n",
              "    }\n",
              "\n",
              "    .dataframe thead th {\n",
              "        text-align: right;\n",
              "    }\n",
              "</style>\n",
              "<table border=\"1\" class=\"dataframe\">\n",
              "  <thead>\n",
              "    <tr style=\"text-align: right;\">\n",
              "      <th></th>\n",
              "      <th>text</th>\n",
              "      <th>target</th>\n",
              "      <th>title</th>\n",
              "    </tr>\n",
              "  </thead>\n",
              "  <tbody>\n",
              "    <tr>\n",
              "      <th>0</th>\n",
              "      <td>From: Mamatha Devineni Ratnam &lt;mr47+@andrew.cm...</td>\n",
              "      <td>10</td>\n",
              "      <td>rec.sport.hockey</td>\n",
              "    </tr>\n",
              "    <tr>\n",
              "      <th>1</th>\n",
              "      <td>From: dchhabra@stpl.ists.ca (Deepak Chhabra)\\n...</td>\n",
              "      <td>10</td>\n",
              "      <td>rec.sport.hockey</td>\n",
              "    </tr>\n",
              "    <tr>\n",
              "      <th>2</th>\n",
              "      <td>From: dchhabra@stpl.ists.ca (Deepak Chhabra)\\n...</td>\n",
              "      <td>10</td>\n",
              "      <td>rec.sport.hockey</td>\n",
              "    </tr>\n",
              "    <tr>\n",
              "      <th>3</th>\n",
              "      <td>From: cs902043@ariel.yorku.ca (SHAWN LUDDINGTO...</td>\n",
              "      <td>10</td>\n",
              "      <td>rec.sport.hockey</td>\n",
              "    </tr>\n",
              "    <tr>\n",
              "      <th>4</th>\n",
              "      <td>From: gritter@cs.purdue.edu (Carl Gritter)\\nSu...</td>\n",
              "      <td>10</td>\n",
              "      <td>rec.sport.hockey</td>\n",
              "    </tr>\n",
              "  </tbody>\n",
              "</table>\n",
              "</div>"
            ],
            "text/plain": [
              "                                                text  target             title\n",
              "0  From: Mamatha Devineni Ratnam <mr47+@andrew.cm...      10  rec.sport.hockey\n",
              "1  From: dchhabra@stpl.ists.ca (Deepak Chhabra)\\n...      10  rec.sport.hockey\n",
              "2  From: dchhabra@stpl.ists.ca (Deepak Chhabra)\\n...      10  rec.sport.hockey\n",
              "3  From: cs902043@ariel.yorku.ca (SHAWN LUDDINGTO...      10  rec.sport.hockey\n",
              "4  From: gritter@cs.purdue.edu (Carl Gritter)\\nSu...      10  rec.sport.hockey"
            ]
          },
          "metadata": {
            "tags": []
          },
          "execution_count": 6
        }
      ]
    },
    {
      "cell_type": "markdown",
      "metadata": {
        "id": "7dZlxCN9YFzj",
        "colab_type": "text"
      },
      "source": [
        "### **Data esploration**"
      ]
    },
    {
      "cell_type": "markdown",
      "metadata": {
        "id": "Zl0uci1bSLER",
        "colab_type": "text"
      },
      "source": [
        "Dimensione del dataset"
      ]
    },
    {
      "cell_type": "code",
      "metadata": {
        "id": "b5jSb5Y8SEzR",
        "colab_type": "code",
        "outputId": "5312e50b-12ee-4ab0-818d-84e1efdb729e",
        "colab": {
          "base_uri": "https://localhost:8080/",
          "height": 34
        }
      },
      "source": [
        "df.shape"
      ],
      "execution_count": 7,
      "outputs": [
        {
          "output_type": "execute_result",
          "data": {
            "text/plain": [
              "(18846, 3)"
            ]
          },
          "metadata": {
            "tags": []
          },
          "execution_count": 7
        }
      ]
    },
    {
      "cell_type": "markdown",
      "metadata": {
        "id": "hwobk83tTInS",
        "colab_type": "text"
      },
      "source": [
        "Controlliamo se sono presenti **na**"
      ]
    },
    {
      "cell_type": "code",
      "metadata": {
        "id": "MH0lGOdVTIE0",
        "colab_type": "code",
        "outputId": "ebf6831f-68b7-4e98-908a-5ad8550f7b97",
        "colab": {
          "base_uri": "https://localhost:8080/",
          "height": 85
        }
      },
      "source": [
        "df.isnull().sum()"
      ],
      "execution_count": 8,
      "outputs": [
        {
          "output_type": "execute_result",
          "data": {
            "text/plain": [
              "text      0\n",
              "target    0\n",
              "title     0\n",
              "dtype: int64"
            ]
          },
          "metadata": {
            "tags": []
          },
          "execution_count": 8
        }
      ]
    },
    {
      "cell_type": "markdown",
      "metadata": {
        "id": "QdT7bYDVYmXQ",
        "colab_type": "text"
      },
      "source": [
        "Lista target"
      ]
    },
    {
      "cell_type": "code",
      "metadata": {
        "id": "zffHAtemYoKk",
        "colab_type": "code",
        "outputId": "1cf12fd5-3c06-47c1-b7cc-534fe23acaf6",
        "colab": {
          "base_uri": "https://localhost:8080/",
          "height": 119
        }
      },
      "source": [
        "print(df.title.unique())"
      ],
      "execution_count": 9,
      "outputs": [
        {
          "output_type": "stream",
          "text": [
            "['rec.sport.hockey' 'comp.sys.ibm.pc.hardware' 'talk.politics.mideast'\n",
            " 'comp.sys.mac.hardware' 'sci.electronics' 'talk.religion.misc'\n",
            " 'sci.crypt' 'sci.med' 'alt.atheism' 'rec.motorcycles' 'rec.autos'\n",
            " 'comp.windows.x' 'comp.graphics' 'sci.space' 'talk.politics.guns'\n",
            " 'misc.forsale' 'rec.sport.baseball' 'talk.politics.misc'\n",
            " 'comp.os.ms-windows.misc' 'soc.religion.christian']\n"
          ],
          "name": "stdout"
        }
      ]
    },
    {
      "cell_type": "code",
      "metadata": {
        "id": "8F-Plq9XZbov",
        "colab_type": "code",
        "outputId": "32fcc095-7a6d-457d-ff5a-be8be5597648",
        "colab": {
          "base_uri": "https://localhost:8080/",
          "height": 34
        }
      },
      "source": [
        "print(df.target.unique())"
      ],
      "execution_count": 10,
      "outputs": [
        {
          "output_type": "stream",
          "text": [
            "[10  3 17  4 12 19 11 13  0  8  7  5  1 14 16  6  9 18  2 15]\n"
          ],
          "name": "stdout"
        }
      ]
    },
    {
      "cell_type": "markdown",
      "metadata": {
        "id": "aX2KisJmUx2W",
        "colab_type": "text"
      },
      "source": [
        "Controlliamo se le categorie (target) sono bilanciate"
      ]
    },
    {
      "cell_type": "code",
      "metadata": {
        "id": "JbWqmHmSU2_T",
        "colab_type": "code",
        "outputId": "5bc8858e-c62a-4de0-887d-bfb0d102cd62",
        "colab": {
          "base_uri": "https://localhost:8080/",
          "height": 337
        }
      },
      "source": [
        "count_target = df['target'].value_counts()\n",
        "\n",
        "plt.figure(figsize=(9,5))\n",
        "sns.barplot(count_target.index, count_target.values, alpha=0.8)\n",
        "plt.ylabel('Number of Occurrences', fontsize=12)\n",
        "plt.xlabel('Target', fontsize=12);"
      ],
      "execution_count": 11,
      "outputs": [
        {
          "output_type": "display_data",
          "data": {
            "image/png": "[encoded data removed]",
            "text/plain": [
              "<Figure size 648x360 with 1 Axes>"
            ]
          },
          "metadata": {
            "tags": []
          }
        }
      ]
    },
    {
      "cell_type": "markdown",
      "metadata": {
        "id": "aOuZ_xrfZkny",
        "colab_type": "text"
      },
      "source": [
        "### **Preprocessing**"
      ]
    },
    {
      "cell_type": "markdown",
      "metadata": {
        "id": "D7AZoSjmaHYI",
        "colab_type": "text"
      },
      "source": [
        "Per le operazioni di preprocessing creiamo una nuova colonna del DataFrame df chiamata **text_processed**, mantenendo la colonna del testo originale"
      ]
    },
    {
      "cell_type": "markdown",
      "metadata": {
        "id": "xb-2n4MJZ-O3",
        "colab_type": "text"
      },
      "source": [
        "**1.** Conversione del testo in minuscolo"
      ]
    },
    {
      "cell_type": "code",
      "metadata": {
        "id": "UUp6ln_MaqQ6",
        "colab_type": "code",
        "colab": {}
      },
      "source": [
        "df['text_processed'] = df['text'].map(lambda x: x.lower())"
      ],
      "execution_count": 0,
      "outputs": []
    },
    {
      "cell_type": "markdown",
      "metadata": {
        "id": "ZGR2HIuea9Xw",
        "colab_type": "text"
      },
      "source": [
        "**2.** Eliminazione indirizzi mail"
      ]
    },
    {
      "cell_type": "code",
      "metadata": {
        "id": "jbfqNcouawih",
        "colab_type": "code",
        "colab": {}
      },
      "source": [
        "df['text_processed'] = df['text_processed'].map(lambda x: re.sub('\\S*@\\S*\\s?',' ', x))"
      ],
      "execution_count": 0,
      "outputs": []
    },
    {
      "cell_type": "markdown",
      "metadata": {
        "id": "UI_FjJzVbMiT",
        "colab_type": "text"
      },
      "source": [
        "**3.** Eliminazione numeri"
      ]
    },
    {
      "cell_type": "code",
      "metadata": {
        "id": "vQH_WDP_bSmN",
        "colab_type": "code",
        "colab": {}
      },
      "source": [
        "df['text_processed'] = df['text_processed'].map(lambda x: re.sub('\\d+',' ', x))"
      ],
      "execution_count": 0,
      "outputs": []
    },
    {
      "cell_type": "markdown",
      "metadata": {
        "id": "yEBNozx6bb1F",
        "colab_type": "text"
      },
      "source": [
        "**4.** Eliminazione caratteri di punteggiatura"
      ]
    },
    {
      "cell_type": "code",
      "metadata": {
        "id": "iyI5Zq27ba5m",
        "colab_type": "code",
        "colab": {}
      },
      "source": [
        "df['text_processed'] = df['text_processed'].map(lambda x: re.sub(r'[^\\w]', ' ', x))"
      ],
      "execution_count": 0,
      "outputs": []
    },
    {
      "cell_type": "markdown",
      "metadata": {
        "id": "Em3KYCkLbpU5",
        "colab_type": "text"
      },
      "source": [
        "**5.** Rimozione parole composta da 1 e due lettere"
      ]
    },
    {
      "cell_type": "code",
      "metadata": {
        "id": "A5cSvJ3ebvt6",
        "colab_type": "code",
        "colab": {}
      },
      "source": [
        "df['text_processed'] = df['text_processed'].astype(str).map(lambda x: re.sub(r'\\b\\w{1,2}\\b', '', x))"
      ],
      "execution_count": 0,
      "outputs": []
    },
    {
      "cell_type": "markdown",
      "metadata": {
        "id": "k1yB1zfBb8cG",
        "colab_type": "text"
      },
      "source": [
        "**6.** Sistemazione degli spazi che si sono creati con le precedenti operazioni"
      ]
    },
    {
      "cell_type": "code",
      "metadata": {
        "id": "p30vPrw9cEXN",
        "colab_type": "code",
        "colab": {}
      },
      "source": [
        "df['text_processed'] = df['text_processed'].map(lambda x: re.sub(' +', ' ', x))"
      ],
      "execution_count": 0,
      "outputs": []
    },
    {
      "cell_type": "code",
      "metadata": {
        "id": "oiu4AiEGcKwt",
        "colab_type": "code",
        "colab": {}
      },
      "source": [
        "df['text_processed'] = df['text_processed'].map(lambda x: x.lstrip()) #rimozione spazi di inizio riga"
      ],
      "execution_count": 0,
      "outputs": []
    },
    {
      "cell_type": "code",
      "metadata": {
        "id": "WeeHSU7rcO43",
        "colab_type": "code",
        "colab": {}
      },
      "source": [
        "df['text_processed'] = df['text_processed'].map(lambda x: x.rstrip()) #rimozione spazi di fine riga"
      ],
      "execution_count": 0,
      "outputs": []
    },
    {
      "cell_type": "markdown",
      "metadata": {
        "id": "f00osYvhcZMg",
        "colab_type": "text"
      },
      "source": [
        "**7.** Tokenizzazione"
      ]
    },
    {
      "cell_type": "code",
      "metadata": {
        "id": "A6lbOMj5ch92",
        "colab_type": "code",
        "colab": {}
      },
      "source": [
        "df['text_processed'] = df['text_processed'].apply(lambda x: nltk.word_tokenize(x))"
      ],
      "execution_count": 0,
      "outputs": []
    },
    {
      "cell_type": "markdown",
      "metadata": {
        "id": "Pw_2TvPcc1p9",
        "colab_type": "text"
      },
      "source": [
        "**8.** Rimozione Stopwords"
      ]
    },
    {
      "cell_type": "code",
      "metadata": {
        "id": "RIlnrDNVdCWn",
        "colab_type": "code",
        "colab": {}
      },
      "source": [
        "#lista stop_words\n",
        "en_stopwords = stopwords.words ('english')"
      ],
      "execution_count": 0,
      "outputs": []
    },
    {
      "cell_type": "code",
      "metadata": {
        "id": "L2u7OEH7dJzD",
        "colab_type": "code",
        "outputId": "7da2db50-d726-4895-9fbe-ef3419de95a9",
        "colab": {
          "base_uri": "https://localhost:8080/",
          "height": 34
        }
      },
      "source": [
        "#numero di stopwords\n",
        "len(en_stopwords)"
      ],
      "execution_count": 22,
      "outputs": [
        {
          "output_type": "execute_result",
          "data": {
            "text/plain": [
              "179"
            ]
          },
          "metadata": {
            "tags": []
          },
          "execution_count": 22
        }
      ]
    },
    {
      "cell_type": "code",
      "metadata": {
        "id": "gUSOnLYfdVTj",
        "colab_type": "code",
        "colab": {}
      },
      "source": [
        "df['text_processed'] = df['text_processed'].apply(lambda x: [item for item in x if item not in en_stopwords])"
      ],
      "execution_count": 0,
      "outputs": []
    },
    {
      "cell_type": "markdown",
      "metadata": {
        "id": "zhLrtgKfdu7S",
        "colab_type": "text"
      },
      "source": [
        "Per effettuare le operazioni di lemmatizzazione e stemming verranno create due nuove colonne (rispettivamente **text_processed_lem** e **text_processed_stem**) in modo da separare le due operazioni"
      ]
    },
    {
      "cell_type": "markdown",
      "metadata": {
        "id": "CUev6KF-dnmM",
        "colab_type": "text"
      },
      "source": [
        "**9.** Lemmatizzazione  "
      ]
    },
    {
      "cell_type": "code",
      "metadata": {
        "id": "2PsJ91UReNuP",
        "colab_type": "code",
        "colab": {}
      },
      "source": [
        "lemmatizer = WordNetLemmatizer()"
      ],
      "execution_count": 0,
      "outputs": []
    },
    {
      "cell_type": "code",
      "metadata": {
        "id": "8Jt7HUFseb5H",
        "colab_type": "code",
        "colab": {}
      },
      "source": [
        "df['text_processed_lem'] = df['text_processed'].apply(lambda x: [lemmatizer.lemmatize(y) for y in x])"
      ],
      "execution_count": 0,
      "outputs": []
    },
    {
      "cell_type": "markdown",
      "metadata": {
        "id": "pnUiVEbTeouY",
        "colab_type": "text"
      },
      "source": [
        "**10.** Stemming"
      ]
    },
    {
      "cell_type": "code",
      "metadata": {
        "id": "IrqO3_jqerN1",
        "colab_type": "code",
        "colab": {}
      },
      "source": [
        "ps = PorterStemmer()"
      ],
      "execution_count": 0,
      "outputs": []
    },
    {
      "cell_type": "code",
      "metadata": {
        "id": "C86b9ag-e188",
        "colab_type": "code",
        "colab": {}
      },
      "source": [
        "df['text_processed_stem'] = df['text_processed'].apply(lambda x: [ps.stem(y) for y in x])"
      ],
      "execution_count": 0,
      "outputs": []
    },
    {
      "cell_type": "markdown",
      "metadata": {
        "id": "aaCnIuOChty9",
        "colab_type": "text"
      },
      "source": [
        "Teminata la fase di preprocessing del testo suddividiamo il Dataset in **train set (60%)** e **test set (40%)** in modo da poter addestrare e testare il classificatore  \n",
        "\n",
        "**train_lem_x**: train set  di text_processed_lem  \n",
        "**train_lem_y**: target train di set text_processed_lem  \n",
        "**test_lem_x**: test set di text_processed_lem   \n",
        "**test_lem_y**: target test di text_processed_lem \n",
        "\n",
        "**train_stem_x**: train set  di text_processed_stem  \n",
        "**train_stem_y**: target train di set text_processed_stem  \n",
        "**test_stem_x**: test set di text_processed_stem   \n",
        "**test_stem_y**: target test di text_processed_stem \n",
        "\n"
      ]
    },
    {
      "cell_type": "code",
      "metadata": {
        "id": "ZglTUv1XiGn4",
        "colab_type": "code",
        "colab": {}
      },
      "source": [
        "train_lem_x, test_lem_x, train_lem_y, test_lem_y = model_selection.train_test_split(df['text_processed_lem'], df['target'], \n",
        "                                                                                    train_size= 0.6, test_size= 0.4, \n",
        "                                                                                    random_state = 123, shuffle = True)"
      ],
      "execution_count": 0,
      "outputs": []
    },
    {
      "cell_type": "code",
      "metadata": {
        "id": "Tqg5PAUctHin",
        "colab_type": "code",
        "colab": {}
      },
      "source": [
        "train_stem_x, test_stem_x, train_stem_y, test_stem_y = model_selection.train_test_split(df['text_processed_stem'], df['target'], \n",
        "                                                                                    train_size= 0.6, test_size= 0.4, \n",
        "                                                                                    random_state = 123, shuffle = True)"
      ],
      "execution_count": 0,
      "outputs": []
    },
    {
      "cell_type": "code",
      "metadata": {
        "id": "JFb9Hyxsti38",
        "colab_type": "code",
        "outputId": "819c5c9b-7596-4fed-8481-d491b0d0dae7",
        "colab": {
          "base_uri": "https://localhost:8080/",
          "height": 85
        }
      },
      "source": [
        "print('La dimensione del train set dei dati \"lemmatizzati\" (train_lem_x) è', len(train_lem_x))\n",
        "print('La dimensione del test set dei dati \"lemmatizzati\" (test_lem_x) è', len(test_lem_x))\n",
        "\n",
        "print('La dimensione del train set dei dati \"stemmatizzati\" (train_stem_x) è', len(train_stem_x))\n",
        "print('La dimensione del test set dei dati \"stemmatizzati\" (test_stem_x) è', len(test_stem_x))\n"
      ],
      "execution_count": 30,
      "outputs": [
        {
          "output_type": "stream",
          "text": [
            "La dimensione del train set dei dati \"lemmatizzati\" (train_lem_x) è 11307\n",
            "La dimensione del test set dei dati \"lemmatizzati\" (test_lem_x) è 7539\n",
            "La dimensione del train set dei dati \"stemmatizzati\" (train_stem_x) è 11307\n",
            "La dimensione del test set dei dati \"stemmatizzati\" (test_stem_x) è 7539\n"
          ],
          "name": "stdout"
        }
      ]
    },
    {
      "cell_type": "code",
      "metadata": {
        "id": "lQt1apclgK0R",
        "colab_type": "code",
        "colab": {
          "base_uri": "https://localhost:8080/",
          "height": 221
        },
        "outputId": "1641ea00-a3c6-4bca-eeb3-c16ebab06a7e"
      },
      "source": [
        "train_stem_y"
      ],
      "execution_count": 87,
      "outputs": [
        {
          "output_type": "execute_result",
          "data": {
            "text/plain": [
              "7995      0\n",
              "14087    16\n",
              "8058      0\n",
              "4607     12\n",
              "16909     2\n",
              "         ..\n",
              "13435    16\n",
              "7763      0\n",
              "15377     9\n",
              "17730     2\n",
              "15725     9\n",
              "Name: target, Length: 11307, dtype: int64"
            ]
          },
          "metadata": {
            "tags": []
          },
          "execution_count": 87
        }
      ]
    },
    {
      "cell_type": "markdown",
      "metadata": {
        "id": "ncelmtD_gDhU",
        "colab_type": "text"
      },
      "source": [
        "### **Feature Engineering**  \n",
        "In questa fase creiamo le strutture **tf** e **tf-idf** che saranno poi utilizzate dagli algoritmi di Machine Learning per effettuare la classificazione"
      ]
    },
    {
      "cell_type": "markdown",
      "metadata": {
        "id": "wLjzuUowg7XW",
        "colab_type": "text"
      },
      "source": [
        "**Term Frequency**"
      ]
    },
    {
      "cell_type": "code",
      "metadata": {
        "id": "6AXGWIAYg_v9",
        "colab_type": "code",
        "colab": {}
      },
      "source": [
        "count_vect = CountVectorizer(analyzer='word')"
      ],
      "execution_count": 0,
      "outputs": []
    },
    {
      "cell_type": "markdown",
      "metadata": {
        "id": "-l6btAoiwJEO",
        "colab_type": "text"
      },
      "source": [
        "I quattro passaggi successivi servono per adeguare il formato alla funzione di creazione della matrice tf"
      ]
    },
    {
      "cell_type": "code",
      "metadata": {
        "id": "Op8z8ZdRuxS2",
        "colab_type": "code",
        "colab": {}
      },
      "source": [
        "a = train_lem_x.astype(str)"
      ],
      "execution_count": 0,
      "outputs": []
    },
    {
      "cell_type": "code",
      "metadata": {
        "id": "py7TIwyLvTYz",
        "colab_type": "code",
        "colab": {}
      },
      "source": [
        "b = test_lem_x.astype(str)"
      ],
      "execution_count": 0,
      "outputs": []
    },
    {
      "cell_type": "code",
      "metadata": {
        "id": "4Okq5cZhvXuG",
        "colab_type": "code",
        "colab": {}
      },
      "source": [
        "c = train_stem_x.astype(str)"
      ],
      "execution_count": 0,
      "outputs": []
    },
    {
      "cell_type": "code",
      "metadata": {
        "id": "puYf23k9vbhC",
        "colab_type": "code",
        "colab": {}
      },
      "source": [
        "d = test_stem_x.astype(str)"
      ],
      "execution_count": 0,
      "outputs": []
    },
    {
      "cell_type": "markdown",
      "metadata": {
        "id": "XvCcnDqGw1Yq",
        "colab_type": "text"
      },
      "source": [
        "Creazione matrice tf per train_lem_x"
      ]
    },
    {
      "cell_type": "code",
      "metadata": {
        "id": "GrKRj-e7vfAS",
        "colab_type": "code",
        "colab": {
          "base_uri": "https://localhost:8080/",
          "height": 51
        },
        "outputId": "a027cfad-8cdb-4d54-9be4-39179a2ffec5"
      },
      "source": [
        "tf_train_lem_x = count_vect.fit_transform(a)\n",
        "tf_train_lem_x"
      ],
      "execution_count": 36,
      "outputs": [
        {
          "output_type": "execute_result",
          "data": {
            "text/plain": [
              "<11307x73262 sparse matrix of type '<class 'numpy.int64'>'\n",
              "\twith 1128756 stored elements in Compressed Sparse Row format>"
            ]
          },
          "metadata": {
            "tags": []
          },
          "execution_count": 36
        }
      ]
    },
    {
      "cell_type": "markdown",
      "metadata": {
        "id": "WfvmneR5w9VP",
        "colab_type": "text"
      },
      "source": [
        "Creazione matrice tf per test_lem_x"
      ]
    },
    {
      "cell_type": "code",
      "metadata": {
        "id": "SGfYGZBVxCvJ",
        "colab_type": "code",
        "colab": {
          "base_uri": "https://localhost:8080/",
          "height": 51
        },
        "outputId": "a2f3f4d0-61bf-425b-a184-ed811ed21e40"
      },
      "source": [
        "tf_test_lem_x = count_vect.transform(b)\n",
        "tf_test_lem_x"
      ],
      "execution_count": 37,
      "outputs": [
        {
          "output_type": "execute_result",
          "data": {
            "text/plain": [
              "<7539x73262 sparse matrix of type '<class 'numpy.int64'>'\n",
              "\twith 729374 stored elements in Compressed Sparse Row format>"
            ]
          },
          "metadata": {
            "tags": []
          },
          "execution_count": 37
        }
      ]
    },
    {
      "cell_type": "markdown",
      "metadata": {
        "id": "S22HWHnexTwg",
        "colab_type": "text"
      },
      "source": [
        "Creazione matrice tf per train_stem_x"
      ]
    },
    {
      "cell_type": "code",
      "metadata": {
        "id": "utYfIH8KxZLh",
        "colab_type": "code",
        "colab": {
          "base_uri": "https://localhost:8080/",
          "height": 51
        },
        "outputId": "700b5b58-0b21-4e36-d25f-fd3e1d55325b"
      },
      "source": [
        "tf_train_stem_x = count_vect.fit_transform(c)\n",
        "tf_train_stem_x"
      ],
      "execution_count": 38,
      "outputs": [
        {
          "output_type": "execute_result",
          "data": {
            "text/plain": [
              "<11307x60398 sparse matrix of type '<class 'numpy.int64'>'\n",
              "\twith 1091121 stored elements in Compressed Sparse Row format>"
            ]
          },
          "metadata": {
            "tags": []
          },
          "execution_count": 38
        }
      ]
    },
    {
      "cell_type": "markdown",
      "metadata": {
        "id": "j8umpKe5xsfC",
        "colab_type": "text"
      },
      "source": [
        "Creazione matrice tf per test_stem_x"
      ]
    },
    {
      "cell_type": "code",
      "metadata": {
        "id": "ofb_R-AOxxvr",
        "colab_type": "code",
        "colab": {
          "base_uri": "https://localhost:8080/",
          "height": 51
        },
        "outputId": "7c0cf2b4-b9e1-42bb-b79f-a1d666db717d"
      },
      "source": [
        "tf_test_stem_x = count_vect.fit_transform(d)\n",
        "tf_test_stem_x"
      ],
      "execution_count": 39,
      "outputs": [
        {
          "output_type": "execute_result",
          "data": {
            "text/plain": [
              "<7539x51706 sparse matrix of type '<class 'numpy.int64'>'\n",
              "\twith 730737 stored elements in Compressed Sparse Row format>"
            ]
          },
          "metadata": {
            "tags": []
          },
          "execution_count": 39
        }
      ]
    },
    {
      "cell_type": "markdown",
      "metadata": {
        "id": "2Lm7RW5uyI6s",
        "colab_type": "text"
      },
      "source": [
        "**TF-IDF unigram** "
      ]
    },
    {
      "cell_type": "code",
      "metadata": {
        "id": "5yOE9RRnypS8",
        "colab_type": "code",
        "colab": {}
      },
      "source": [
        "tfidf = TfidfVectorizer(max_features=20000, analyzer='word',ngram_range=(1,1))"
      ],
      "execution_count": 0,
      "outputs": []
    },
    {
      "cell_type": "markdown",
      "metadata": {
        "id": "b0D8WNKv1tBw",
        "colab_type": "text"
      },
      "source": [
        "Creazione matrice tf-idf per train_lem_x"
      ]
    },
    {
      "cell_type": "code",
      "metadata": {
        "id": "LfoYnGiJ12L8",
        "colab_type": "code",
        "colab": {}
      },
      "source": [
        "tfidf.fit(a)\n",
        "tfidf_train_lem_x =  tfidf.transform(a)"
      ],
      "execution_count": 0,
      "outputs": []
    },
    {
      "cell_type": "code",
      "metadata": {
        "id": "jWYFybMB2cT2",
        "colab_type": "code",
        "outputId": "64620e01-a795-4ecc-8aac-bb266f106fd7",
        "colab": {
          "base_uri": "https://localhost:8080/",
          "height": 51
        }
      },
      "source": [
        "tfidf_train_lem_x"
      ],
      "execution_count": 95,
      "outputs": [
        {
          "output_type": "execute_result",
          "data": {
            "text/plain": [
              "<11307x20000 sparse matrix of type '<class 'numpy.float64'>'\n",
              "\twith 1046216 stored elements in Compressed Sparse Row format>"
            ]
          },
          "metadata": {
            "tags": []
          },
          "execution_count": 95
        }
      ]
    },
    {
      "cell_type": "markdown",
      "metadata": {
        "id": "MbIHeCf-12Xm",
        "colab_type": "text"
      },
      "source": [
        "Creazione matrice tf-idf per test_lem_x"
      ]
    },
    {
      "cell_type": "code",
      "metadata": {
        "id": "ybbFxmJx16G3",
        "colab_type": "code",
        "colab": {}
      },
      "source": [
        "#tfidf.fit(b)\n",
        "tfidf_test_lem_x =  tfidf.transform(b)"
      ],
      "execution_count": 0,
      "outputs": []
    },
    {
      "cell_type": "code",
      "metadata": {
        "id": "zbFexcuk2s4_",
        "colab_type": "code",
        "outputId": "65ff8d04-c077-4ca6-fd9b-d49980a375db",
        "colab": {
          "base_uri": "https://localhost:8080/",
          "height": 51
        }
      },
      "source": [
        "tfidf_test_lem_x"
      ],
      "execution_count": 97,
      "outputs": [
        {
          "output_type": "execute_result",
          "data": {
            "text/plain": [
              "<7539x20000 sparse matrix of type '<class 'numpy.float64'>'\n",
              "\twith 698889 stored elements in Compressed Sparse Row format>"
            ]
          },
          "metadata": {
            "tags": []
          },
          "execution_count": 97
        }
      ]
    },
    {
      "cell_type": "markdown",
      "metadata": {
        "id": "97B6Bju316O0",
        "colab_type": "text"
      },
      "source": [
        "Creazione matrice tf-idf per train_stem_x"
      ]
    },
    {
      "cell_type": "code",
      "metadata": {
        "id": "gp9Gry0P18WY",
        "colab_type": "code",
        "colab": {}
      },
      "source": [
        "tfidf.fit(c)\n",
        "tfidf_train_stem_x =  tfidf.transform(c)"
      ],
      "execution_count": 0,
      "outputs": []
    },
    {
      "cell_type": "code",
      "metadata": {
        "id": "jpO7yOHc22JF",
        "colab_type": "code",
        "outputId": "b0402cda-43fe-4b95-a117-803e6cb23d8a",
        "colab": {
          "base_uri": "https://localhost:8080/",
          "height": 51
        }
      },
      "source": [
        "tfidf_train_stem_x"
      ],
      "execution_count": 106,
      "outputs": [
        {
          "output_type": "execute_result",
          "data": {
            "text/plain": [
              "<11307x20000 sparse matrix of type '<class 'numpy.float64'>'\n",
              "\twith 1036595 stored elements in Compressed Sparse Row format>"
            ]
          },
          "metadata": {
            "tags": []
          },
          "execution_count": 106
        }
      ]
    },
    {
      "cell_type": "markdown",
      "metadata": {
        "id": "eU-vGvbg18ew",
        "colab_type": "text"
      },
      "source": [
        "Creazione matrice tf-idf per test_stem_x"
      ]
    },
    {
      "cell_type": "code",
      "metadata": {
        "id": "PWfT8Lpt25Wn",
        "colab_type": "code",
        "colab": {}
      },
      "source": [
        "#tfidf.fit(d)\n",
        "tfidf_test_stem_x =  tfidf.transform(d)"
      ],
      "execution_count": 0,
      "outputs": []
    },
    {
      "cell_type": "code",
      "metadata": {
        "id": "BYrE8THx3D23",
        "colab_type": "code",
        "colab": {}
      },
      "source": [
        "tfidf_test_stem_x"
      ],
      "execution_count": 0,
      "outputs": []
    },
    {
      "cell_type": "markdown",
      "metadata": {
        "id": "wSZlxJYh3KUS",
        "colab_type": "text"
      },
      "source": [
        "**TF-IDF unigram + bigram** "
      ]
    },
    {
      "cell_type": "code",
      "metadata": {
        "id": "i9Rj0-md3J1A",
        "colab_type": "code",
        "colab": {}
      },
      "source": [
        "bi_tfidf = TfidfVectorizer(max_features=20000, analyzer='word',ngram_range=(1,2))"
      ],
      "execution_count": 0,
      "outputs": []
    },
    {
      "cell_type": "markdown",
      "metadata": {
        "id": "Dz9Tkt8m3UqZ",
        "colab_type": "text"
      },
      "source": [
        "Creazione matrice tf-idf bigram per train_lem_x"
      ]
    },
    {
      "cell_type": "code",
      "metadata": {
        "id": "Os5dQ2J33Xoz",
        "colab_type": "code",
        "colab": {}
      },
      "source": [
        "bi_tfidf.fit(a)\n",
        "bi_train_lem_x =  bi_tfidf.transform(a)"
      ],
      "execution_count": 0,
      "outputs": []
    },
    {
      "cell_type": "code",
      "metadata": {
        "id": "3xpN7Jss3tdI",
        "colab_type": "code",
        "outputId": "b22e330d-650a-4db8-dd29-42e6e74e9bcc",
        "colab": {
          "base_uri": "https://localhost:8080/",
          "height": 51
        }
      },
      "source": [
        "bi_train_lem_x"
      ],
      "execution_count": 113,
      "outputs": [
        {
          "output_type": "execute_result",
          "data": {
            "text/plain": [
              "<11307x20000 sparse matrix of type '<class 'numpy.float64'>'\n",
              "\twith 1212679 stored elements in Compressed Sparse Row format>"
            ]
          },
          "metadata": {
            "tags": []
          },
          "execution_count": 113
        }
      ]
    },
    {
      "cell_type": "markdown",
      "metadata": {
        "id": "7QvWkXqZ3X8Z",
        "colab_type": "text"
      },
      "source": [
        "Creazione matrice tf-idf bigram per test_lem_x"
      ]
    },
    {
      "cell_type": "code",
      "metadata": {
        "id": "Xp3be2ZK3bNV",
        "colab_type": "code",
        "colab": {}
      },
      "source": [
        "#bi_tfidf.fit(b)\n",
        "bi_test_lem_x =  bi_tfidf.transform(b)"
      ],
      "execution_count": 0,
      "outputs": []
    },
    {
      "cell_type": "code",
      "metadata": {
        "id": "AJoc4ZoO4Lk2",
        "colab_type": "code",
        "colab": {}
      },
      "source": [
        "bi_test_lem_x"
      ],
      "execution_count": 0,
      "outputs": []
    },
    {
      "cell_type": "markdown",
      "metadata": {
        "id": "EZQhlKY63bXy",
        "colab_type": "text"
      },
      "source": [
        "Creazione matrice tf-idf bigram per train_stem_x"
      ]
    },
    {
      "cell_type": "code",
      "metadata": {
        "id": "0vNkKHKS3ddJ",
        "colab_type": "code",
        "colab": {}
      },
      "source": [
        "bi_tfidf.fit(c)\n",
        "bi_train_stem_x =  bi_tfidf.transform(c)"
      ],
      "execution_count": 0,
      "outputs": []
    },
    {
      "cell_type": "code",
      "metadata": {
        "id": "futUIlUH4ce_",
        "colab_type": "code",
        "outputId": "0974b192-91f0-4225-b3be-c7684599ac83",
        "colab": {
          "base_uri": "https://localhost:8080/",
          "height": 51
        }
      },
      "source": [
        "bi_train_stem_x"
      ],
      "execution_count": 118,
      "outputs": [
        {
          "output_type": "execute_result",
          "data": {
            "text/plain": [
              "<11307x20000 sparse matrix of type '<class 'numpy.float64'>'\n",
              "\twith 1233687 stored elements in Compressed Sparse Row format>"
            ]
          },
          "metadata": {
            "tags": []
          },
          "execution_count": 118
        }
      ]
    },
    {
      "cell_type": "markdown",
      "metadata": {
        "id": "rkF8GxZX3dsT",
        "colab_type": "text"
      },
      "source": [
        "Creazione matrice tf-idf bigram per test_stem_x"
      ]
    },
    {
      "cell_type": "code",
      "metadata": {
        "id": "leiDfo2J4jj9",
        "colab_type": "code",
        "colab": {}
      },
      "source": [
        "#bi_tfidf.fit(d)\n",
        "bi_test_stem_x =  bi_tfidf.transform(d)"
      ],
      "execution_count": 0,
      "outputs": []
    },
    {
      "cell_type": "code",
      "metadata": {
        "id": "NyvyV4iC4vqW",
        "colab_type": "code",
        "outputId": "271cbdbc-3d6d-4d4d-b95f-8c602eb9dcb2",
        "colab": {
          "base_uri": "https://localhost:8080/",
          "height": 51
        }
      },
      "source": [
        "bi_test_stem_x"
      ],
      "execution_count": 120,
      "outputs": [
        {
          "output_type": "execute_result",
          "data": {
            "text/plain": [
              "<7539x20000 sparse matrix of type '<class 'numpy.float64'>'\n",
              "\twith 809503 stored elements in Compressed Sparse Row format>"
            ]
          },
          "metadata": {
            "tags": []
          },
          "execution_count": 120
        }
      ]
    },
    {
      "cell_type": "markdown",
      "metadata": {
        "id": "0msdYBmW5KpZ",
        "colab_type": "text"
      },
      "source": [
        "### **Classification**"
      ]
    },
    {
      "cell_type": "markdown",
      "metadata": {
        "id": "V6ytn9mj5jaz",
        "colab_type": "text"
      },
      "source": [
        "**1. Naive Bayes**"
      ]
    },
    {
      "cell_type": "code",
      "metadata": {
        "id": "I3CKJiBe6hDV",
        "colab_type": "code",
        "colab": {}
      },
      "source": [
        "from sklearn.naive_bayes import MultinomialNB\n",
        "from sklearn.metrics import classification_report, accuracy_score, confusion_matrix\n",
        "import matplotlib.pyplot as plt"
      ],
      "execution_count": 0,
      "outputs": []
    },
    {
      "cell_type": "code",
      "metadata": {
        "id": "o5QRGps-7ifo",
        "colab_type": "code",
        "colab": {}
      },
      "source": [
        "clf = MultinomialNB()"
      ],
      "execution_count": 0,
      "outputs": []
    },
    {
      "cell_type": "markdown",
      "metadata": {
        "id": "jaK2GSD2V5al",
        "colab_type": "text"
      },
      "source": [
        "1.1 Naive Bayes con TF + Lemmatization"
      ]
    },
    {
      "cell_type": "code",
      "metadata": {
        "id": "vkxeJckRQXXa",
        "colab_type": "code",
        "colab": {
          "base_uri": "https://localhost:8080/",
          "height": 476
        },
        "outputId": "616a1e4b-65ca-478a-be51-b120a8b01ff7"
      },
      "source": [
        "clf.fit(tf_train_lem_x, train_lem_y)\n",
        "predicted = clf.predict(tf_test_lem_x)\n",
        "print(classification_report(test_lem_y, predicted))"
      ],
      "execution_count": 83,
      "outputs": [
        {
          "output_type": "stream",
          "text": [
            "              precision    recall  f1-score   support\n",
            "\n",
            "           0       0.85      0.88      0.86       340\n",
            "           1       0.70      0.88      0.78       374\n",
            "           2       0.94      0.64      0.76       400\n",
            "           3       0.74      0.80      0.77       393\n",
            "           4       0.80      0.90      0.85       358\n",
            "           5       0.81      0.88      0.84       416\n",
            "           6       0.90      0.74      0.82       386\n",
            "           7       0.89      0.92      0.90       396\n",
            "           8       0.96      0.93      0.95       393\n",
            "           9       0.97      0.94      0.96       405\n",
            "          10       0.95      0.97      0.96       386\n",
            "          11       0.90      0.96      0.93       400\n",
            "          12       0.89      0.79      0.84       406\n",
            "          13       0.95      0.95      0.95       380\n",
            "          14       0.96      0.94      0.95       403\n",
            "          15       0.86      0.94      0.89       391\n",
            "          16       0.82      0.93      0.87       380\n",
            "          17       0.96      0.96      0.96       399\n",
            "          18       0.78      0.87      0.82       285\n",
            "          19       0.93      0.50      0.65       248\n",
            "\n",
            "    accuracy                           0.87      7539\n",
            "   macro avg       0.88      0.87      0.86      7539\n",
            "weighted avg       0.88      0.87      0.87      7539\n",
            "\n"
          ],
          "name": "stdout"
        }
      ]
    },
    {
      "cell_type": "code",
      "metadata": {
        "id": "F4iyY_qQcukO",
        "colab_type": "code",
        "colab": {
          "base_uri": "https://localhost:8080/",
          "height": 34
        },
        "outputId": "6a383d7d-fb47-4302-cf89-b0378a09501d"
      },
      "source": [
        "accuracy_score(test_lem_y, predicted)"
      ],
      "execution_count": 57,
      "outputs": [
        {
          "output_type": "execute_result",
          "data": {
            "text/plain": [
              "0.8719989388513065"
            ]
          },
          "metadata": {
            "tags": []
          },
          "execution_count": 57
        }
      ]
    },
    {
      "cell_type": "markdown",
      "metadata": {
        "id": "3-nKRLq8dZOo",
        "colab_type": "text"
      },
      "source": [
        "**aggiungere confusion matrix**"
      ]
    },
    {
      "cell_type": "markdown",
      "metadata": {
        "id": "YfHyxW4hWAwB",
        "colab_type": "text"
      },
      "source": [
        "1.2 Naive Bayes con TF + Stemming **da sistemare**"
      ]
    },
    {
      "cell_type": "code",
      "metadata": {
        "id": "AwSkvlfLeMTa",
        "colab_type": "code",
        "colab": {}
      },
      "source": [
        "count_vect = CountVectorizer()"
      ],
      "execution_count": 0,
      "outputs": []
    },
    {
      "cell_type": "code",
      "metadata": {
        "id": "DVnKD0oXZDIF",
        "colab_type": "code",
        "colab": {}
      },
      "source": [
        "c = train_stem_x\n",
        "d = test_stem_x"
      ],
      "execution_count": 0,
      "outputs": []
    },
    {
      "cell_type": "code",
      "metadata": {
        "id": "v1nB7ah9Y8T-",
        "colab_type": "code",
        "colab": {}
      },
      "source": [
        "tf_train_stem_x = count_vect.fit_transform(c.astype(str))\n",
        "#tf_train_stem_x\n",
        "\n",
        "tf_test_stem_x = count_vect.fit_transform(d.astype(str))\n",
        "#tf_test_stem_x"
      ],
      "execution_count": 0,
      "outputs": []
    },
    {
      "cell_type": "code",
      "metadata": {
        "id": "PgcWfKPuWPrf",
        "colab_type": "code",
        "colab": {
          "base_uri": "https://localhost:8080/",
          "height": 340
        },
        "outputId": "d3fda252-23c7-435f-f7f7-62ed88f8227d"
      },
      "source": [
        "clf.fit(tf_train_stem_x, train_stem_y)\n",
        "predicted = clf.predict(tf_test_stem_x)\n",
        "print(metrics.classification_report(test_stem_y, predicted))"
      ],
      "execution_count": 82,
      "outputs": [
        {
          "output_type": "error",
          "ename": "ValueError",
          "evalue": "ignored",
          "traceback": [
            "\u001b[0;31m---------------------------------------------------------------------------\u001b[0m",
            "\u001b[0;31mValueError\u001b[0m                                Traceback (most recent call last)",
            "\u001b[0;32m<ipython-input-82-6f8d6a1d331f>\u001b[0m in \u001b[0;36m<module>\u001b[0;34m()\u001b[0m\n\u001b[1;32m      1\u001b[0m \u001b[0mclf\u001b[0m\u001b[0;34m.\u001b[0m\u001b[0mfit\u001b[0m\u001b[0;34m(\u001b[0m\u001b[0mtf_train_stem_x\u001b[0m\u001b[0;34m,\u001b[0m \u001b[0mtrain_stem_y\u001b[0m\u001b[0;34m)\u001b[0m\u001b[0;34m\u001b[0m\u001b[0;34m\u001b[0m\u001b[0m\n\u001b[0;32m----> 2\u001b[0;31m \u001b[0mpredicted\u001b[0m \u001b[0;34m=\u001b[0m \u001b[0mclf\u001b[0m\u001b[0;34m.\u001b[0m\u001b[0mpredict\u001b[0m\u001b[0;34m(\u001b[0m\u001b[0mtf_test_stem_x\u001b[0m\u001b[0;34m)\u001b[0m\u001b[0;34m\u001b[0m\u001b[0;34m\u001b[0m\u001b[0m\n\u001b[0m\u001b[1;32m      3\u001b[0m \u001b[0mprint\u001b[0m\u001b[0;34m(\u001b[0m\u001b[0mmetrics\u001b[0m\u001b[0;34m.\u001b[0m\u001b[0mclassification_report\u001b[0m\u001b[0;34m(\u001b[0m\u001b[0mtest_stem_y\u001b[0m\u001b[0;34m,\u001b[0m \u001b[0mpredicted\u001b[0m\u001b[0;34m)\u001b[0m\u001b[0;34m)\u001b[0m\u001b[0;34m\u001b[0m\u001b[0;34m\u001b[0m\u001b[0m\n",
            "\u001b[0;32m/usr/local/lib/python3.6/dist-packages/sklearn/naive_bayes.py\u001b[0m in \u001b[0;36mpredict\u001b[0;34m(self, X)\u001b[0m\n\u001b[1;32m     75\u001b[0m         \u001b[0mcheck_is_fitted\u001b[0m\u001b[0;34m(\u001b[0m\u001b[0mself\u001b[0m\u001b[0;34m)\u001b[0m\u001b[0;34m\u001b[0m\u001b[0;34m\u001b[0m\u001b[0m\n\u001b[1;32m     76\u001b[0m         \u001b[0mX\u001b[0m \u001b[0;34m=\u001b[0m \u001b[0mself\u001b[0m\u001b[0;34m.\u001b[0m\u001b[0m_check_X\u001b[0m\u001b[0;34m(\u001b[0m\u001b[0mX\u001b[0m\u001b[0;34m)\u001b[0m\u001b[0;34m\u001b[0m\u001b[0;34m\u001b[0m\u001b[0m\n\u001b[0;32m---> 77\u001b[0;31m         \u001b[0mjll\u001b[0m \u001b[0;34m=\u001b[0m \u001b[0mself\u001b[0m\u001b[0;34m.\u001b[0m\u001b[0m_joint_log_likelihood\u001b[0m\u001b[0;34m(\u001b[0m\u001b[0mX\u001b[0m\u001b[0;34m)\u001b[0m\u001b[0;34m\u001b[0m\u001b[0;34m\u001b[0m\u001b[0m\n\u001b[0m\u001b[1;32m     78\u001b[0m         \u001b[0;32mreturn\u001b[0m \u001b[0mself\u001b[0m\u001b[0;34m.\u001b[0m\u001b[0mclasses_\u001b[0m\u001b[0;34m[\u001b[0m\u001b[0mnp\u001b[0m\u001b[0;34m.\u001b[0m\u001b[0margmax\u001b[0m\u001b[0;34m(\u001b[0m\u001b[0mjll\u001b[0m\u001b[0;34m,\u001b[0m \u001b[0maxis\u001b[0m\u001b[0;34m=\u001b[0m\u001b[0;36m1\u001b[0m\u001b[0;34m)\u001b[0m\u001b[0;34m]\u001b[0m\u001b[0;34m\u001b[0m\u001b[0;34m\u001b[0m\u001b[0m\n\u001b[1;32m     79\u001b[0m \u001b[0;34m\u001b[0m\u001b[0m\n",
            "\u001b[0;32m/usr/local/lib/python3.6/dist-packages/sklearn/naive_bayes.py\u001b[0m in \u001b[0;36m_joint_log_likelihood\u001b[0;34m(self, X)\u001b[0m\n\u001b[1;32m    768\u001b[0m     \u001b[0;32mdef\u001b[0m \u001b[0m_joint_log_likelihood\u001b[0m\u001b[0;34m(\u001b[0m\u001b[0mself\u001b[0m\u001b[0;34m,\u001b[0m \u001b[0mX\u001b[0m\u001b[0;34m)\u001b[0m\u001b[0;34m:\u001b[0m\u001b[0;34m\u001b[0m\u001b[0;34m\u001b[0m\u001b[0m\n\u001b[1;32m    769\u001b[0m         \u001b[0;34m\"\"\"Calculate the posterior log probability of the samples X\"\"\"\u001b[0m\u001b[0;34m\u001b[0m\u001b[0;34m\u001b[0m\u001b[0m\n\u001b[0;32m--> 770\u001b[0;31m         return (safe_sparse_dot(X, self.feature_log_prob_.T) +\n\u001b[0m\u001b[1;32m    771\u001b[0m                 self.class_log_prior_)\n\u001b[1;32m    772\u001b[0m \u001b[0;34m\u001b[0m\u001b[0m\n",
            "\u001b[0;32m/usr/local/lib/python3.6/dist-packages/sklearn/utils/extmath.py\u001b[0m in \u001b[0;36msafe_sparse_dot\u001b[0;34m(a, b, dense_output)\u001b[0m\n\u001b[1;32m    149\u001b[0m             \u001b[0mret\u001b[0m \u001b[0;34m=\u001b[0m \u001b[0mnp\u001b[0m\u001b[0;34m.\u001b[0m\u001b[0mdot\u001b[0m\u001b[0;34m(\u001b[0m\u001b[0ma\u001b[0m\u001b[0;34m,\u001b[0m \u001b[0mb\u001b[0m\u001b[0;34m)\u001b[0m\u001b[0;34m\u001b[0m\u001b[0;34m\u001b[0m\u001b[0m\n\u001b[1;32m    150\u001b[0m     \u001b[0;32melse\u001b[0m\u001b[0;34m:\u001b[0m\u001b[0;34m\u001b[0m\u001b[0;34m\u001b[0m\u001b[0m\n\u001b[0;32m--> 151\u001b[0;31m         \u001b[0mret\u001b[0m \u001b[0;34m=\u001b[0m \u001b[0ma\u001b[0m \u001b[0;34m@\u001b[0m \u001b[0mb\u001b[0m\u001b[0;34m\u001b[0m\u001b[0;34m\u001b[0m\u001b[0m\n\u001b[0m\u001b[1;32m    152\u001b[0m \u001b[0;34m\u001b[0m\u001b[0m\n\u001b[1;32m    153\u001b[0m     if (sparse.issparse(a) and sparse.issparse(b)\n",
            "\u001b[0;32m/usr/local/lib/python3.6/dist-packages/scipy/sparse/base.py\u001b[0m in \u001b[0;36m__matmul__\u001b[0;34m(self, other)\u001b[0m\n\u001b[1;32m    562\u001b[0m             raise ValueError(\"Scalar operands are not allowed, \"\n\u001b[1;32m    563\u001b[0m                              \"use '*' instead\")\n\u001b[0;32m--> 564\u001b[0;31m         \u001b[0;32mreturn\u001b[0m \u001b[0mself\u001b[0m\u001b[0;34m.\u001b[0m\u001b[0m__mul__\u001b[0m\u001b[0;34m(\u001b[0m\u001b[0mother\u001b[0m\u001b[0;34m)\u001b[0m\u001b[0;34m\u001b[0m\u001b[0;34m\u001b[0m\u001b[0m\n\u001b[0m\u001b[1;32m    565\u001b[0m \u001b[0;34m\u001b[0m\u001b[0m\n\u001b[1;32m    566\u001b[0m     \u001b[0;32mdef\u001b[0m \u001b[0m__rmatmul__\u001b[0m\u001b[0;34m(\u001b[0m\u001b[0mself\u001b[0m\u001b[0;34m,\u001b[0m \u001b[0mother\u001b[0m\u001b[0;34m)\u001b[0m\u001b[0;34m:\u001b[0m\u001b[0;34m\u001b[0m\u001b[0;34m\u001b[0m\u001b[0m\n",
            "\u001b[0;32m/usr/local/lib/python3.6/dist-packages/scipy/sparse/base.py\u001b[0m in \u001b[0;36m__mul__\u001b[0;34m(self, other)\u001b[0m\n\u001b[1;32m    518\u001b[0m \u001b[0;34m\u001b[0m\u001b[0m\n\u001b[1;32m    519\u001b[0m             \u001b[0;32mif\u001b[0m \u001b[0mother\u001b[0m\u001b[0;34m.\u001b[0m\u001b[0mshape\u001b[0m\u001b[0;34m[\u001b[0m\u001b[0;36m0\u001b[0m\u001b[0;34m]\u001b[0m \u001b[0;34m!=\u001b[0m \u001b[0mself\u001b[0m\u001b[0;34m.\u001b[0m\u001b[0mshape\u001b[0m\u001b[0;34m[\u001b[0m\u001b[0;36m1\u001b[0m\u001b[0;34m]\u001b[0m\u001b[0;34m:\u001b[0m\u001b[0;34m\u001b[0m\u001b[0;34m\u001b[0m\u001b[0m\n\u001b[0;32m--> 520\u001b[0;31m                 \u001b[0;32mraise\u001b[0m \u001b[0mValueError\u001b[0m\u001b[0;34m(\u001b[0m\u001b[0;34m'dimension mismatch'\u001b[0m\u001b[0;34m)\u001b[0m\u001b[0;34m\u001b[0m\u001b[0;34m\u001b[0m\u001b[0m\n\u001b[0m\u001b[1;32m    521\u001b[0m \u001b[0;34m\u001b[0m\u001b[0m\n\u001b[1;32m    522\u001b[0m             \u001b[0mresult\u001b[0m \u001b[0;34m=\u001b[0m \u001b[0mself\u001b[0m\u001b[0;34m.\u001b[0m\u001b[0m_mul_multivector\u001b[0m\u001b[0;34m(\u001b[0m\u001b[0mnp\u001b[0m\u001b[0;34m.\u001b[0m\u001b[0masarray\u001b[0m\u001b[0;34m(\u001b[0m\u001b[0mother\u001b[0m\u001b[0;34m)\u001b[0m\u001b[0;34m)\u001b[0m\u001b[0;34m\u001b[0m\u001b[0;34m\u001b[0m\u001b[0m\n",
            "\u001b[0;31mValueError\u001b[0m: dimension mismatch"
          ]
        }
      ]
    },
    {
      "cell_type": "markdown",
      "metadata": {
        "id": "v-bWSrlckIIm",
        "colab_type": "text"
      },
      "source": [
        "1.3 Naive Bayes con TF-IDF + Lemmatization"
      ]
    },
    {
      "cell_type": "code",
      "metadata": {
        "id": "EPElkeKQkS_W",
        "colab_type": "code",
        "colab": {
          "base_uri": "https://localhost:8080/",
          "height": 476
        },
        "outputId": "592b5589-636f-498a-c26e-eaf97a900b68"
      },
      "source": [
        "clf.fit(tfidf_train_lem_x, train_lem_y)\n",
        "predicted = clf.predict(tfidf_test_lem_x)\n",
        "print(classification_report(test_lem_y, predicted))"
      ],
      "execution_count": 101,
      "outputs": [
        {
          "output_type": "stream",
          "text": [
            "              precision    recall  f1-score   support\n",
            "\n",
            "           0       0.86      0.75      0.80       340\n",
            "           1       0.76      0.86      0.81       374\n",
            "           2       0.84      0.82      0.83       400\n",
            "           3       0.75      0.80      0.77       393\n",
            "           4       0.80      0.91      0.85       358\n",
            "           5       0.92      0.86      0.89       416\n",
            "           6       0.88      0.80      0.84       386\n",
            "           7       0.90      0.92      0.91       396\n",
            "           8       0.94      0.96      0.95       393\n",
            "           9       0.96      0.95      0.96       405\n",
            "          10       0.95      0.98      0.96       386\n",
            "          11       0.88      0.97      0.92       400\n",
            "          12       0.90      0.77      0.83       406\n",
            "          13       0.94      0.93      0.93       380\n",
            "          14       0.95      0.93      0.94       403\n",
            "          15       0.67      0.96      0.79       391\n",
            "          16       0.79      0.96      0.86       380\n",
            "          17       0.95      0.96      0.96       399\n",
            "          18       0.97      0.75      0.85       285\n",
            "          19       0.95      0.24      0.39       248\n",
            "\n",
            "    accuracy                           0.87      7539\n",
            "   macro avg       0.88      0.85      0.85      7539\n",
            "weighted avg       0.88      0.87      0.86      7539\n",
            "\n"
          ],
          "name": "stdout"
        }
      ]
    },
    {
      "cell_type": "markdown",
      "metadata": {
        "id": "4p2yJBFsl5Vu",
        "colab_type": "text"
      },
      "source": [
        "1.4 Naive Bayes con TF-IDF + Stemming"
      ]
    },
    {
      "cell_type": "code",
      "metadata": {
        "id": "JWP4QBuHmAJC",
        "colab_type": "code",
        "colab": {
          "base_uri": "https://localhost:8080/",
          "height": 476
        },
        "outputId": "f1399a8c-813b-4d33-bb2c-6ffa71389661"
      },
      "source": [
        "clf.fit(tfidf_train_stem_x, train_stem_y)\n",
        "predicted = clf.predict(tfidf_test_stem_x)\n",
        "print(classification_report(test_stem_y, predicted))"
      ],
      "execution_count": 108,
      "outputs": [
        {
          "output_type": "stream",
          "text": [
            "              precision    recall  f1-score   support\n",
            "\n",
            "           0       0.87      0.73      0.79       340\n",
            "           1       0.76      0.86      0.81       374\n",
            "           2       0.84      0.81      0.83       400\n",
            "           3       0.75      0.80      0.77       393\n",
            "           4       0.80      0.90      0.85       358\n",
            "           5       0.93      0.85      0.89       416\n",
            "           6       0.88      0.78      0.83       386\n",
            "           7       0.90      0.92      0.91       396\n",
            "           8       0.95      0.96      0.96       393\n",
            "           9       0.96      0.94      0.95       405\n",
            "          10       0.95      0.98      0.97       386\n",
            "          11       0.84      0.97      0.90       400\n",
            "          12       0.89      0.75      0.81       406\n",
            "          13       0.94      0.93      0.94       380\n",
            "          14       0.94      0.93      0.94       403\n",
            "          15       0.66      0.96      0.78       391\n",
            "          16       0.77      0.96      0.86       380\n",
            "          17       0.95      0.96      0.96       399\n",
            "          18       0.97      0.72      0.83       285\n",
            "          19       0.95      0.21      0.35       248\n",
            "\n",
            "    accuracy                           0.86      7539\n",
            "   macro avg       0.87      0.85      0.85      7539\n",
            "weighted avg       0.87      0.86      0.86      7539\n",
            "\n"
          ],
          "name": "stdout"
        }
      ]
    },
    {
      "cell_type": "markdown",
      "metadata": {
        "id": "hM-VOgu4mhtQ",
        "colab_type": "text"
      },
      "source": [
        "1.5 Naive Bayes con Bigram + Lemmatization"
      ]
    },
    {
      "cell_type": "code",
      "metadata": {
        "id": "KnxYAQapmhQS",
        "colab_type": "code",
        "colab": {
          "base_uri": "https://localhost:8080/",
          "height": 476
        },
        "outputId": "4377a583-5dbb-4594-c775-b81983db1e1f"
      },
      "source": [
        "clf.fit(bi_train_lem_x, train_lem_y)\n",
        "predicted = clf.predict(bi_test_lem_x)\n",
        "print(classification_report(test_lem_y, predicted))"
      ],
      "execution_count": 115,
      "outputs": [
        {
          "output_type": "stream",
          "text": [
            "              precision    recall  f1-score   support\n",
            "\n",
            "           0       0.88      0.79      0.83       340\n",
            "           1       0.74      0.87      0.80       374\n",
            "           2       0.84      0.81      0.83       400\n",
            "           3       0.76      0.79      0.77       393\n",
            "           4       0.78      0.89      0.83       358\n",
            "           5       0.91      0.87      0.89       416\n",
            "           6       0.84      0.84      0.84       386\n",
            "           7       0.90      0.90      0.90       396\n",
            "           8       0.95      0.95      0.95       393\n",
            "           9       0.96      0.93      0.95       405\n",
            "          10       0.93      0.98      0.95       386\n",
            "          11       0.94      0.95      0.95       400\n",
            "          12       0.89      0.77      0.83       406\n",
            "          13       0.93      0.93      0.93       380\n",
            "          14       0.95      0.92      0.93       403\n",
            "          15       0.71      0.95      0.81       391\n",
            "          16       0.81      0.95      0.88       380\n",
            "          17       0.95      0.96      0.96       399\n",
            "          18       0.96      0.76      0.85       285\n",
            "          19       0.93      0.33      0.48       248\n",
            "\n",
            "    accuracy                           0.87      7539\n",
            "   macro avg       0.88      0.86      0.86      7539\n",
            "weighted avg       0.88      0.87      0.87      7539\n",
            "\n"
          ],
          "name": "stdout"
        }
      ]
    },
    {
      "cell_type": "markdown",
      "metadata": {
        "id": "VjeiuqUbnKFU",
        "colab_type": "text"
      },
      "source": [
        "1.6 Naive Bayes con Bigram + Stemming"
      ]
    },
    {
      "cell_type": "code",
      "metadata": {
        "id": "9PVT8eyEnMz6",
        "colab_type": "code",
        "colab": {
          "base_uri": "https://localhost:8080/",
          "height": 476
        },
        "outputId": "c66a5d25-fcb5-42a4-d4cd-a965dcf478fb"
      },
      "source": [
        "clf.fit(bi_train_stem_x, train_stem_y)\n",
        "predicted = clf.predict(bi_test_stem_x)\n",
        "print(classification_report(test_stem_y, predicted))"
      ],
      "execution_count": 121,
      "outputs": [
        {
          "output_type": "stream",
          "text": [
            "              precision    recall  f1-score   support\n",
            "\n",
            "           0       0.87      0.79      0.83       340\n",
            "           1       0.74      0.85      0.79       374\n",
            "           2       0.84      0.81      0.83       400\n",
            "           3       0.75      0.78      0.77       393\n",
            "           4       0.80      0.89      0.84       358\n",
            "           5       0.90      0.88      0.89       416\n",
            "           6       0.84      0.83      0.83       386\n",
            "           7       0.90      0.91      0.90       396\n",
            "           8       0.95      0.95      0.95       393\n",
            "           9       0.95      0.94      0.95       405\n",
            "          10       0.94      0.97      0.96       386\n",
            "          11       0.93      0.96      0.94       400\n",
            "          12       0.89      0.78      0.83       406\n",
            "          13       0.92      0.93      0.92       380\n",
            "          14       0.95      0.93      0.94       403\n",
            "          15       0.71      0.96      0.82       391\n",
            "          16       0.81      0.95      0.87       380\n",
            "          17       0.95      0.97      0.96       399\n",
            "          18       0.95      0.75      0.84       285\n",
            "          19       0.96      0.31      0.46       248\n",
            "\n",
            "    accuracy                           0.87      7539\n",
            "   macro avg       0.88      0.86      0.86      7539\n",
            "weighted avg       0.88      0.87      0.86      7539\n",
            "\n"
          ],
          "name": "stdout"
        }
      ]
    },
    {
      "cell_type": "markdown",
      "metadata": {
        "id": "rrgumkbZnl2I",
        "colab_type": "text"
      },
      "source": [
        "**2. Support Vector Machine (SVM)**"
      ]
    },
    {
      "cell_type": "code",
      "metadata": {
        "id": "gYZar6iWoDWd",
        "colab_type": "code",
        "colab": {}
      },
      "source": [
        "from sklearn import svm"
      ],
      "execution_count": 0,
      "outputs": []
    },
    {
      "cell_type": "code",
      "metadata": {
        "id": "cnYmKgLSoQBh",
        "colab_type": "code",
        "colab": {}
      },
      "source": [
        "clf = svm.SVC()"
      ],
      "execution_count": 0,
      "outputs": []
    },
    {
      "cell_type": "markdown",
      "metadata": {
        "id": "cL2hmOAZoVmJ",
        "colab_type": "text"
      },
      "source": [
        "2.1 SVM con TF + Lemmatization"
      ]
    },
    {
      "cell_type": "code",
      "metadata": {
        "id": "LFUP3QSJoTc5",
        "colab_type": "code",
        "colab": {
          "base_uri": "https://localhost:8080/",
          "height": 476
        },
        "outputId": "5abc5842-2ded-4677-9c75-e663ef0a2cee"
      },
      "source": [
        "clf.fit(tf_train_lem_x, train_lem_y)\n",
        "predicted = clf.predict(tf_test_lem_x)\n",
        "print(classification_report(test_lem_y, predicted))"
      ],
      "execution_count": 124,
      "outputs": [
        {
          "output_type": "stream",
          "text": [
            "              precision    recall  f1-score   support\n",
            "\n",
            "           0       0.85      0.69      0.76       340\n",
            "           1       0.43      0.85      0.57       374\n",
            "           2       0.81      0.64      0.71       400\n",
            "           3       0.77      0.65      0.70       393\n",
            "           4       0.84      0.81      0.82       358\n",
            "           5       0.87      0.72      0.79       416\n",
            "           6       0.63      0.87      0.73       386\n",
            "           7       0.88      0.82      0.85       396\n",
            "           8       0.93      0.87      0.90       393\n",
            "           9       0.88      0.89      0.89       405\n",
            "          10       0.98      0.84      0.91       386\n",
            "          11       0.98      0.84      0.90       400\n",
            "          12       0.60      0.80      0.68       406\n",
            "          13       0.82      0.81      0.81       380\n",
            "          14       0.96      0.78      0.86       403\n",
            "          15       0.81      0.87      0.84       391\n",
            "          16       0.86      0.78      0.81       380\n",
            "          17       0.71      0.84      0.77       399\n",
            "          18       0.84      0.71      0.77       285\n",
            "          19       0.83      0.40      0.54       248\n",
            "\n",
            "    accuracy                           0.78      7539\n",
            "   macro avg       0.81      0.77      0.78      7539\n",
            "weighted avg       0.81      0.78      0.79      7539\n",
            "\n"
          ],
          "name": "stdout"
        }
      ]
    },
    {
      "cell_type": "markdown",
      "metadata": {
        "id": "Cnq1aiweptbg",
        "colab_type": "text"
      },
      "source": [
        "2.2 SVM con TF + Stemming"
      ]
    },
    {
      "cell_type": "code",
      "metadata": {
        "id": "6Y-nbRgqpyz4",
        "colab_type": "code",
        "colab": {
          "base_uri": "https://localhost:8080/",
          "height": 340
        },
        "outputId": "bed9dcd5-77e6-43ce-8d23-5c666e5cd4dd"
      },
      "source": [
        "clf.fit(tf_train_stem_x, train_stem_y)\n",
        "predicted = clf.predict(tf_test_stem_x)\n",
        "print(metrics.classification_report(test_stem_y, predicted))"
      ],
      "execution_count": 125,
      "outputs": [
        {
          "output_type": "error",
          "ename": "ValueError",
          "evalue": "ignored",
          "traceback": [
            "\u001b[0;31m---------------------------------------------------------------------------\u001b[0m",
            "\u001b[0;31mValueError\u001b[0m                                Traceback (most recent call last)",
            "\u001b[0;32m<ipython-input-125-6f8d6a1d331f>\u001b[0m in \u001b[0;36m<module>\u001b[0;34m()\u001b[0m\n\u001b[1;32m      1\u001b[0m \u001b[0mclf\u001b[0m\u001b[0;34m.\u001b[0m\u001b[0mfit\u001b[0m\u001b[0;34m(\u001b[0m\u001b[0mtf_train_stem_x\u001b[0m\u001b[0;34m,\u001b[0m \u001b[0mtrain_stem_y\u001b[0m\u001b[0;34m)\u001b[0m\u001b[0;34m\u001b[0m\u001b[0;34m\u001b[0m\u001b[0m\n\u001b[0;32m----> 2\u001b[0;31m \u001b[0mpredicted\u001b[0m \u001b[0;34m=\u001b[0m \u001b[0mclf\u001b[0m\u001b[0;34m.\u001b[0m\u001b[0mpredict\u001b[0m\u001b[0;34m(\u001b[0m\u001b[0mtf_test_stem_x\u001b[0m\u001b[0;34m)\u001b[0m\u001b[0;34m\u001b[0m\u001b[0;34m\u001b[0m\u001b[0m\n\u001b[0m\u001b[1;32m      3\u001b[0m \u001b[0mprint\u001b[0m\u001b[0;34m(\u001b[0m\u001b[0mmetrics\u001b[0m\u001b[0;34m.\u001b[0m\u001b[0mclassification_report\u001b[0m\u001b[0;34m(\u001b[0m\u001b[0mtest_stem_y\u001b[0m\u001b[0;34m,\u001b[0m \u001b[0mpredicted\u001b[0m\u001b[0;34m)\u001b[0m\u001b[0;34m)\u001b[0m\u001b[0;34m\u001b[0m\u001b[0;34m\u001b[0m\u001b[0m\n",
            "\u001b[0;32m/usr/local/lib/python3.6/dist-packages/sklearn/svm/_base.py\u001b[0m in \u001b[0;36mpredict\u001b[0;34m(self, X)\u001b[0m\n\u001b[1;32m    592\u001b[0m             \u001b[0my\u001b[0m \u001b[0;34m=\u001b[0m \u001b[0mnp\u001b[0m\u001b[0;34m.\u001b[0m\u001b[0margmax\u001b[0m\u001b[0;34m(\u001b[0m\u001b[0mself\u001b[0m\u001b[0;34m.\u001b[0m\u001b[0mdecision_function\u001b[0m\u001b[0;34m(\u001b[0m\u001b[0mX\u001b[0m\u001b[0;34m)\u001b[0m\u001b[0;34m,\u001b[0m \u001b[0maxis\u001b[0m\u001b[0;34m=\u001b[0m\u001b[0;36m1\u001b[0m\u001b[0;34m)\u001b[0m\u001b[0;34m\u001b[0m\u001b[0;34m\u001b[0m\u001b[0m\n\u001b[1;32m    593\u001b[0m         \u001b[0;32melse\u001b[0m\u001b[0;34m:\u001b[0m\u001b[0;34m\u001b[0m\u001b[0;34m\u001b[0m\u001b[0m\n\u001b[0;32m--> 594\u001b[0;31m             \u001b[0my\u001b[0m \u001b[0;34m=\u001b[0m \u001b[0msuper\u001b[0m\u001b[0;34m(\u001b[0m\u001b[0;34m)\u001b[0m\u001b[0;34m.\u001b[0m\u001b[0mpredict\u001b[0m\u001b[0;34m(\u001b[0m\u001b[0mX\u001b[0m\u001b[0;34m)\u001b[0m\u001b[0;34m\u001b[0m\u001b[0;34m\u001b[0m\u001b[0m\n\u001b[0m\u001b[1;32m    595\u001b[0m         \u001b[0;32mreturn\u001b[0m \u001b[0mself\u001b[0m\u001b[0;34m.\u001b[0m\u001b[0mclasses_\u001b[0m\u001b[0;34m.\u001b[0m\u001b[0mtake\u001b[0m\u001b[0;34m(\u001b[0m\u001b[0mnp\u001b[0m\u001b[0;34m.\u001b[0m\u001b[0masarray\u001b[0m\u001b[0;34m(\u001b[0m\u001b[0my\u001b[0m\u001b[0;34m,\u001b[0m \u001b[0mdtype\u001b[0m\u001b[0;34m=\u001b[0m\u001b[0mnp\u001b[0m\u001b[0;34m.\u001b[0m\u001b[0mintp\u001b[0m\u001b[0;34m)\u001b[0m\u001b[0;34m)\u001b[0m\u001b[0;34m\u001b[0m\u001b[0;34m\u001b[0m\u001b[0m\n\u001b[1;32m    596\u001b[0m \u001b[0;34m\u001b[0m\u001b[0m\n",
            "\u001b[0;32m/usr/local/lib/python3.6/dist-packages/sklearn/svm/_base.py\u001b[0m in \u001b[0;36mpredict\u001b[0;34m(self, X)\u001b[0m\n\u001b[1;32m    313\u001b[0m         \u001b[0my_pred\u001b[0m \u001b[0;34m:\u001b[0m \u001b[0marray\u001b[0m\u001b[0;34m,\u001b[0m \u001b[0mshape\u001b[0m \u001b[0;34m(\u001b[0m\u001b[0mn_samples\u001b[0m\u001b[0;34m,\u001b[0m\u001b[0;34m)\u001b[0m\u001b[0;34m\u001b[0m\u001b[0;34m\u001b[0m\u001b[0m\n\u001b[1;32m    314\u001b[0m         \"\"\"\n\u001b[0;32m--> 315\u001b[0;31m         \u001b[0mX\u001b[0m \u001b[0;34m=\u001b[0m \u001b[0mself\u001b[0m\u001b[0;34m.\u001b[0m\u001b[0m_validate_for_predict\u001b[0m\u001b[0;34m(\u001b[0m\u001b[0mX\u001b[0m\u001b[0;34m)\u001b[0m\u001b[0;34m\u001b[0m\u001b[0;34m\u001b[0m\u001b[0m\n\u001b[0m\u001b[1;32m    316\u001b[0m         \u001b[0mpredict\u001b[0m \u001b[0;34m=\u001b[0m \u001b[0mself\u001b[0m\u001b[0;34m.\u001b[0m\u001b[0m_sparse_predict\u001b[0m \u001b[0;32mif\u001b[0m \u001b[0mself\u001b[0m\u001b[0;34m.\u001b[0m\u001b[0m_sparse\u001b[0m \u001b[0;32melse\u001b[0m \u001b[0mself\u001b[0m\u001b[0;34m.\u001b[0m\u001b[0m_dense_predict\u001b[0m\u001b[0;34m\u001b[0m\u001b[0;34m\u001b[0m\u001b[0m\n\u001b[1;32m    317\u001b[0m         \u001b[0;32mreturn\u001b[0m \u001b[0mpredict\u001b[0m\u001b[0;34m(\u001b[0m\u001b[0mX\u001b[0m\u001b[0;34m)\u001b[0m\u001b[0;34m\u001b[0m\u001b[0;34m\u001b[0m\u001b[0m\n",
            "\u001b[0;32m/usr/local/lib/python3.6/dist-packages/sklearn/svm/_base.py\u001b[0m in \u001b[0;36m_validate_for_predict\u001b[0;34m(self, X)\u001b[0m\n\u001b[1;32m    465\u001b[0m             raise ValueError(\"X.shape[1] = %d should be equal to %d, \"\n\u001b[1;32m    466\u001b[0m                              \u001b[0;34m\"the number of features at training time\"\u001b[0m \u001b[0;34m%\u001b[0m\u001b[0;34m\u001b[0m\u001b[0;34m\u001b[0m\u001b[0m\n\u001b[0;32m--> 467\u001b[0;31m                              (n_features, self.shape_fit_[1]))\n\u001b[0m\u001b[1;32m    468\u001b[0m         \u001b[0;32mreturn\u001b[0m \u001b[0mX\u001b[0m\u001b[0;34m\u001b[0m\u001b[0;34m\u001b[0m\u001b[0m\n\u001b[1;32m    469\u001b[0m \u001b[0;34m\u001b[0m\u001b[0m\n",
            "\u001b[0;31mValueError\u001b[0m: X.shape[1] = 51706 should be equal to 60398, the number of features at training time"
          ]
        }
      ]
    },
    {
      "cell_type": "markdown",
      "metadata": {
        "id": "aWNXDLOMqgge",
        "colab_type": "text"
      },
      "source": [
        "2.3 SVM con TF-IDF + Lemmatization"
      ]
    },
    {
      "cell_type": "code",
      "metadata": {
        "id": "vCinJ7BGqkHl",
        "colab_type": "code",
        "colab": {
          "base_uri": "https://localhost:8080/",
          "height": 476
        },
        "outputId": "090af2f1-d4d5-4aff-e461-88a983d58c76"
      },
      "source": [
        "clf.fit(tfidf_train_lem_x, train_lem_y)\n",
        "predicted = clf.predict(tfidf_test_lem_x)\n",
        "print(classification_report(test_lem_y, predicted))"
      ],
      "execution_count": 126,
      "outputs": [
        {
          "output_type": "stream",
          "text": [
            "              precision    recall  f1-score   support\n",
            "\n",
            "           0       0.90      0.85      0.87       340\n",
            "           1       0.75      0.91      0.82       374\n",
            "           2       0.85      0.83      0.84       400\n",
            "           3       0.79      0.81      0.80       393\n",
            "           4       0.92      0.87      0.89       358\n",
            "           5       0.90      0.89      0.89       416\n",
            "           6       0.85      0.87      0.86       386\n",
            "           7       0.93      0.92      0.92       396\n",
            "           8       0.98      0.95      0.96       393\n",
            "           9       0.96      0.97      0.96       405\n",
            "          10       0.98      0.96      0.97       386\n",
            "          11       0.99      0.92      0.95       400\n",
            "          12       0.82      0.89      0.86       406\n",
            "          13       0.91      0.95      0.93       380\n",
            "          14       0.98      0.93      0.95       403\n",
            "          15       0.87      0.94      0.90       391\n",
            "          16       0.90      0.92      0.91       380\n",
            "          17       0.99      0.96      0.98       399\n",
            "          18       0.86      0.87      0.87       285\n",
            "          19       0.88      0.67      0.76       248\n",
            "\n",
            "    accuracy                           0.90      7539\n",
            "   macro avg       0.90      0.89      0.90      7539\n",
            "weighted avg       0.90      0.90      0.90      7539\n",
            "\n"
          ],
          "name": "stdout"
        }
      ]
    },
    {
      "cell_type": "markdown",
      "metadata": {
        "id": "7pGv3eM8tpiY",
        "colab_type": "text"
      },
      "source": [
        "2.4 SVM con TF-IDF + Stemming"
      ]
    },
    {
      "cell_type": "code",
      "metadata": {
        "id": "sKuYqfbytwJw",
        "colab_type": "code",
        "colab": {
          "base_uri": "https://localhost:8080/",
          "height": 476
        },
        "outputId": "9a434321-e145-41fa-a695-e9d7a3169b20"
      },
      "source": [
        "clf.fit(tfidf_train_stem_x, train_stem_y)\n",
        "predicted = clf.predict(tfidf_test_stem_x)\n",
        "print(classification_report(test_stem_y, predicted))"
      ],
      "execution_count": 132,
      "outputs": [
        {
          "output_type": "stream",
          "text": [
            "              precision    recall  f1-score   support\n",
            "\n",
            "           0       0.90      0.86      0.88       340\n",
            "           1       0.73      0.91      0.81       374\n",
            "           2       0.86      0.83      0.84       400\n",
            "           3       0.80      0.81      0.81       393\n",
            "           4       0.91      0.87      0.89       358\n",
            "           5       0.89      0.89      0.89       416\n",
            "           6       0.85      0.87      0.86       386\n",
            "           7       0.93      0.92      0.92       396\n",
            "           8       0.98      0.96      0.97       393\n",
            "           9       0.98      0.97      0.97       405\n",
            "          10       0.99      0.97      0.98       386\n",
            "          11       0.99      0.92      0.95       400\n",
            "          12       0.82      0.90      0.86       406\n",
            "          13       0.91      0.95      0.93       380\n",
            "          14       0.98      0.93      0.96       403\n",
            "          15       0.88      0.94      0.91       391\n",
            "          16       0.90      0.91      0.91       380\n",
            "          17       0.99      0.95      0.97       399\n",
            "          18       0.88      0.87      0.87       285\n",
            "          19       0.86      0.67      0.75       248\n",
            "\n",
            "    accuracy                           0.90      7539\n",
            "   macro avg       0.90      0.89      0.90      7539\n",
            "weighted avg       0.90      0.90      0.90      7539\n",
            "\n"
          ],
          "name": "stdout"
        }
      ]
    },
    {
      "cell_type": "markdown",
      "metadata": {
        "id": "FJkDGGub1WV3",
        "colab_type": "text"
      },
      "source": [
        "2.5 SVM con Bigram + Lemmatization"
      ]
    },
    {
      "cell_type": "code",
      "metadata": {
        "id": "EuBh1Usg1dX7",
        "colab_type": "code",
        "colab": {
          "base_uri": "https://localhost:8080/",
          "height": 476
        },
        "outputId": "8b66980a-2440-4be6-eb83-2f82d7cdf4f3"
      },
      "source": [
        "clf.fit(bi_train_lem_x, train_lem_y)\n",
        "predicted = clf.predict(bi_test_lem_x)\n",
        "print(classification_report(test_lem_y, predicted))"
      ],
      "execution_count": 143,
      "outputs": [
        {
          "output_type": "stream",
          "text": [
            "              precision    recall  f1-score   support\n",
            "\n",
            "           0       0.92      0.87      0.89       340\n",
            "           1       0.71      0.90      0.80       374\n",
            "           2       0.86      0.82      0.84       400\n",
            "           3       0.79      0.80      0.79       393\n",
            "           4       0.89      0.88      0.89       358\n",
            "           5       0.91      0.88      0.90       416\n",
            "           6       0.85      0.88      0.87       386\n",
            "           7       0.92      0.89      0.91       396\n",
            "           8       0.97      0.95      0.96       393\n",
            "           9       0.97      0.96      0.96       405\n",
            "          10       0.99      0.96      0.97       386\n",
            "          11       0.99      0.92      0.96       400\n",
            "          12       0.81      0.89      0.85       406\n",
            "          13       0.90      0.95      0.92       380\n",
            "          14       0.98      0.93      0.95       403\n",
            "          15       0.89      0.94      0.91       391\n",
            "          16       0.91      0.92      0.91       380\n",
            "          17       0.99      0.96      0.98       399\n",
            "          18       0.87      0.87      0.87       285\n",
            "          19       0.88      0.71      0.78       248\n",
            "\n",
            "    accuracy                           0.90      7539\n",
            "   macro avg       0.90      0.89      0.90      7539\n",
            "weighted avg       0.90      0.90      0.90      7539\n",
            "\n"
          ],
          "name": "stdout"
        }
      ]
    },
    {
      "cell_type": "markdown",
      "metadata": {
        "id": "KD4m3AQ-1lkh",
        "colab_type": "text"
      },
      "source": [
        "2.6 SVM con Bigram + Stemming"
      ]
    },
    {
      "cell_type": "code",
      "metadata": {
        "id": "XbkWXQ0S1szE",
        "colab_type": "code",
        "colab": {
          "base_uri": "https://localhost:8080/",
          "height": 476
        },
        "outputId": "49e7b0b3-5dfb-47d1-9d0f-72ce928a46e6"
      },
      "source": [
        "clf.fit(bi_train_stem_x, train_stem_y)\n",
        "predicted = clf.predict(bi_test_stem_x)\n",
        "print(classification_report(test_stem_y, predicted))"
      ],
      "execution_count": 144,
      "outputs": [
        {
          "output_type": "stream",
          "text": [
            "              precision    recall  f1-score   support\n",
            "\n",
            "           0       0.90      0.87      0.89       340\n",
            "           1       0.71      0.90      0.79       374\n",
            "           2       0.86      0.82      0.84       400\n",
            "           3       0.79      0.79      0.79       393\n",
            "           4       0.90      0.88      0.89       358\n",
            "           5       0.90      0.88      0.89       416\n",
            "           6       0.84      0.88      0.86       386\n",
            "           7       0.92      0.91      0.91       396\n",
            "           8       0.99      0.96      0.97       393\n",
            "           9       0.97      0.96      0.97       405\n",
            "          10       0.99      0.96      0.97       386\n",
            "          11       0.99      0.93      0.96       400\n",
            "          12       0.82      0.89      0.85       406\n",
            "          13       0.91      0.94      0.93       380\n",
            "          14       0.98      0.93      0.95       403\n",
            "          15       0.89      0.94      0.91       391\n",
            "          16       0.91      0.92      0.91       380\n",
            "          17       0.99      0.96      0.97       399\n",
            "          18       0.87      0.86      0.87       285\n",
            "          19       0.89      0.70      0.78       248\n",
            "\n",
            "    accuracy                           0.90      7539\n",
            "   macro avg       0.90      0.89      0.90      7539\n",
            "weighted avg       0.90      0.90      0.90      7539\n",
            "\n"
          ],
          "name": "stdout"
        }
      ]
    },
    {
      "cell_type": "markdown",
      "metadata": {
        "id": "xR-e8UId5Ir7",
        "colab_type": "text"
      },
      "source": [
        "**3. Random Forest**"
      ]
    },
    {
      "cell_type": "markdown",
      "metadata": {
        "id": "7ZzdVRgW5Wzj",
        "colab_type": "text"
      },
      "source": [
        "3.1 Random Forest con TF + Lemmatization"
      ]
    },
    {
      "cell_type": "code",
      "metadata": {
        "id": "r4HXxTJ25nRv",
        "colab_type": "code",
        "colab": {}
      },
      "source": [
        "from sklearn.ensemble import RandomForestClassifier"
      ],
      "execution_count": 0,
      "outputs": []
    },
    {
      "cell_type": "code",
      "metadata": {
        "id": "Jt36ZvAR5oI3",
        "colab_type": "code",
        "colab": {}
      },
      "source": [
        "clf = RandomForestClassifier()"
      ],
      "execution_count": 0,
      "outputs": []
    },
    {
      "cell_type": "code",
      "metadata": {
        "id": "pOBc_iyt5eps",
        "colab_type": "code",
        "colab": {
          "base_uri": "https://localhost:8080/",
          "height": 476
        },
        "outputId": "6656443b-4cbd-4b8e-ee18-cf06fc83052f"
      },
      "source": [
        "clf.fit(tf_train_lem_x, train_lem_y)\n",
        "predicted = clf.predict(tf_test_lem_x)\n",
        "print(classification_report(test_lem_y, predicted))"
      ],
      "execution_count": 147,
      "outputs": [
        {
          "output_type": "stream",
          "text": [
            "              precision    recall  f1-score   support\n",
            "\n",
            "           0       0.84      0.76      0.80       340\n",
            "           1       0.67      0.78      0.72       374\n",
            "           2       0.72      0.82      0.77       400\n",
            "           3       0.74      0.72      0.73       393\n",
            "           4       0.80      0.81      0.81       358\n",
            "           5       0.84      0.81      0.82       416\n",
            "           6       0.77      0.90      0.83       386\n",
            "           7       0.86      0.87      0.86       396\n",
            "           8       0.95      0.92      0.93       393\n",
            "           9       0.89      0.93      0.91       405\n",
            "          10       0.92      0.96      0.94       386\n",
            "          11       0.95      0.94      0.95       400\n",
            "          12       0.87      0.67      0.75       406\n",
            "          13       0.90      0.87      0.88       380\n",
            "          14       0.87      0.90      0.89       403\n",
            "          15       0.76      0.94      0.84       391\n",
            "          16       0.80      0.92      0.86       380\n",
            "          17       0.96      0.95      0.96       399\n",
            "          18       0.93      0.72      0.81       285\n",
            "          19       0.88      0.44      0.59       248\n",
            "\n",
            "    accuracy                           0.84      7539\n",
            "   macro avg       0.85      0.83      0.83      7539\n",
            "weighted avg       0.85      0.84      0.84      7539\n",
            "\n"
          ],
          "name": "stdout"
        }
      ]
    },
    {
      "cell_type": "markdown",
      "metadata": {
        "id": "De4hy_Xf6CeS",
        "colab_type": "text"
      },
      "source": [
        "3.2 Random Forest con TF + Stemming"
      ]
    },
    {
      "cell_type": "code",
      "metadata": {
        "id": "2-JoxlI36FW1",
        "colab_type": "code",
        "colab": {
          "base_uri": "https://localhost:8080/",
          "height": 340
        },
        "outputId": "fcd73821-c8bf-43ea-85af-6edcfb5c89b1"
      },
      "source": [
        "clf.fit(tf_train_stem_x, train_stem_y)\n",
        "predicted = clf.predict(tf_test_stem_x)\n",
        "print(metrics.classification_report(test_stem_y, predicted))"
      ],
      "execution_count": 148,
      "outputs": [
        {
          "output_type": "error",
          "ename": "ValueError",
          "evalue": "ignored",
          "traceback": [
            "\u001b[0;31m---------------------------------------------------------------------------\u001b[0m",
            "\u001b[0;31mValueError\u001b[0m                                Traceback (most recent call last)",
            "\u001b[0;32m<ipython-input-148-6f8d6a1d331f>\u001b[0m in \u001b[0;36m<module>\u001b[0;34m()\u001b[0m\n\u001b[1;32m      1\u001b[0m \u001b[0mclf\u001b[0m\u001b[0;34m.\u001b[0m\u001b[0mfit\u001b[0m\u001b[0;34m(\u001b[0m\u001b[0mtf_train_stem_x\u001b[0m\u001b[0;34m,\u001b[0m \u001b[0mtrain_stem_y\u001b[0m\u001b[0;34m)\u001b[0m\u001b[0;34m\u001b[0m\u001b[0;34m\u001b[0m\u001b[0m\n\u001b[0;32m----> 2\u001b[0;31m \u001b[0mpredicted\u001b[0m \u001b[0;34m=\u001b[0m \u001b[0mclf\u001b[0m\u001b[0;34m.\u001b[0m\u001b[0mpredict\u001b[0m\u001b[0;34m(\u001b[0m\u001b[0mtf_test_stem_x\u001b[0m\u001b[0;34m)\u001b[0m\u001b[0;34m\u001b[0m\u001b[0;34m\u001b[0m\u001b[0m\n\u001b[0m\u001b[1;32m      3\u001b[0m \u001b[0mprint\u001b[0m\u001b[0;34m(\u001b[0m\u001b[0mmetrics\u001b[0m\u001b[0;34m.\u001b[0m\u001b[0mclassification_report\u001b[0m\u001b[0;34m(\u001b[0m\u001b[0mtest_stem_y\u001b[0m\u001b[0;34m,\u001b[0m \u001b[0mpredicted\u001b[0m\u001b[0;34m)\u001b[0m\u001b[0;34m)\u001b[0m\u001b[0;34m\u001b[0m\u001b[0;34m\u001b[0m\u001b[0m\n",
            "\u001b[0;32m/usr/local/lib/python3.6/dist-packages/sklearn/ensemble/_forest.py\u001b[0m in \u001b[0;36mpredict\u001b[0;34m(self, X)\u001b[0m\n\u001b[1;32m    610\u001b[0m             \u001b[0mThe\u001b[0m \u001b[0mpredicted\u001b[0m \u001b[0mclasses\u001b[0m\u001b[0;34m.\u001b[0m\u001b[0;34m\u001b[0m\u001b[0;34m\u001b[0m\u001b[0m\n\u001b[1;32m    611\u001b[0m         \"\"\"\n\u001b[0;32m--> 612\u001b[0;31m         \u001b[0mproba\u001b[0m \u001b[0;34m=\u001b[0m \u001b[0mself\u001b[0m\u001b[0;34m.\u001b[0m\u001b[0mpredict_proba\u001b[0m\u001b[0;34m(\u001b[0m\u001b[0mX\u001b[0m\u001b[0;34m)\u001b[0m\u001b[0;34m\u001b[0m\u001b[0;34m\u001b[0m\u001b[0m\n\u001b[0m\u001b[1;32m    613\u001b[0m \u001b[0;34m\u001b[0m\u001b[0m\n\u001b[1;32m    614\u001b[0m         \u001b[0;32mif\u001b[0m \u001b[0mself\u001b[0m\u001b[0;34m.\u001b[0m\u001b[0mn_outputs_\u001b[0m \u001b[0;34m==\u001b[0m \u001b[0;36m1\u001b[0m\u001b[0;34m:\u001b[0m\u001b[0;34m\u001b[0m\u001b[0;34m\u001b[0m\u001b[0m\n",
            "\u001b[0;32m/usr/local/lib/python3.6/dist-packages/sklearn/ensemble/_forest.py\u001b[0m in \u001b[0;36mpredict_proba\u001b[0;34m(self, X)\u001b[0m\n\u001b[1;32m    654\u001b[0m         \u001b[0mcheck_is_fitted\u001b[0m\u001b[0;34m(\u001b[0m\u001b[0mself\u001b[0m\u001b[0;34m)\u001b[0m\u001b[0;34m\u001b[0m\u001b[0;34m\u001b[0m\u001b[0m\n\u001b[1;32m    655\u001b[0m         \u001b[0;31m# Check data\u001b[0m\u001b[0;34m\u001b[0m\u001b[0;34m\u001b[0m\u001b[0;34m\u001b[0m\u001b[0m\n\u001b[0;32m--> 656\u001b[0;31m         \u001b[0mX\u001b[0m \u001b[0;34m=\u001b[0m \u001b[0mself\u001b[0m\u001b[0;34m.\u001b[0m\u001b[0m_validate_X_predict\u001b[0m\u001b[0;34m(\u001b[0m\u001b[0mX\u001b[0m\u001b[0;34m)\u001b[0m\u001b[0;34m\u001b[0m\u001b[0;34m\u001b[0m\u001b[0m\n\u001b[0m\u001b[1;32m    657\u001b[0m \u001b[0;34m\u001b[0m\u001b[0m\n\u001b[1;32m    658\u001b[0m         \u001b[0;31m# Assign chunk of trees to jobs\u001b[0m\u001b[0;34m\u001b[0m\u001b[0;34m\u001b[0m\u001b[0;34m\u001b[0m\u001b[0m\n",
            "\u001b[0;32m/usr/local/lib/python3.6/dist-packages/sklearn/ensemble/_forest.py\u001b[0m in \u001b[0;36m_validate_X_predict\u001b[0;34m(self, X)\u001b[0m\n\u001b[1;32m    410\u001b[0m         \u001b[0mcheck_is_fitted\u001b[0m\u001b[0;34m(\u001b[0m\u001b[0mself\u001b[0m\u001b[0;34m)\u001b[0m\u001b[0;34m\u001b[0m\u001b[0;34m\u001b[0m\u001b[0m\n\u001b[1;32m    411\u001b[0m \u001b[0;34m\u001b[0m\u001b[0m\n\u001b[0;32m--> 412\u001b[0;31m         \u001b[0;32mreturn\u001b[0m \u001b[0mself\u001b[0m\u001b[0;34m.\u001b[0m\u001b[0mestimators_\u001b[0m\u001b[0;34m[\u001b[0m\u001b[0;36m0\u001b[0m\u001b[0;34m]\u001b[0m\u001b[0;34m.\u001b[0m\u001b[0m_validate_X_predict\u001b[0m\u001b[0;34m(\u001b[0m\u001b[0mX\u001b[0m\u001b[0;34m,\u001b[0m \u001b[0mcheck_input\u001b[0m\u001b[0;34m=\u001b[0m\u001b[0;32mTrue\u001b[0m\u001b[0;34m)\u001b[0m\u001b[0;34m\u001b[0m\u001b[0;34m\u001b[0m\u001b[0m\n\u001b[0m\u001b[1;32m    413\u001b[0m \u001b[0;34m\u001b[0m\u001b[0m\n\u001b[1;32m    414\u001b[0m     \u001b[0;34m@\u001b[0m\u001b[0mproperty\u001b[0m\u001b[0;34m\u001b[0m\u001b[0;34m\u001b[0m\u001b[0m\n",
            "\u001b[0;32m/usr/local/lib/python3.6/dist-packages/sklearn/tree/_classes.py\u001b[0m in \u001b[0;36m_validate_X_predict\u001b[0;34m(self, X, check_input)\u001b[0m\n\u001b[1;32m    389\u001b[0m                              \u001b[0;34m\"match the input. Model n_features is %s and \"\u001b[0m\u001b[0;34m\u001b[0m\u001b[0;34m\u001b[0m\u001b[0m\n\u001b[1;32m    390\u001b[0m                              \u001b[0;34m\"input n_features is %s \"\u001b[0m\u001b[0;34m\u001b[0m\u001b[0;34m\u001b[0m\u001b[0m\n\u001b[0;32m--> 391\u001b[0;31m                              % (self.n_features_, n_features))\n\u001b[0m\u001b[1;32m    392\u001b[0m \u001b[0;34m\u001b[0m\u001b[0m\n\u001b[1;32m    393\u001b[0m         \u001b[0;32mreturn\u001b[0m \u001b[0mX\u001b[0m\u001b[0;34m\u001b[0m\u001b[0;34m\u001b[0m\u001b[0m\n",
            "\u001b[0;31mValueError\u001b[0m: Number of features of the model must match the input. Model n_features is 60398 and input n_features is 51706 "
          ]
        }
      ]
    },
    {
      "cell_type": "markdown",
      "metadata": {
        "id": "uTfZT0nQ6KBS",
        "colab_type": "text"
      },
      "source": [
        "3.3 Random Forest con TF-IDF + Lemmatization"
      ]
    },
    {
      "cell_type": "code",
      "metadata": {
        "id": "ypxkIl2G6esV",
        "colab_type": "code",
        "colab": {
          "base_uri": "https://localhost:8080/",
          "height": 476
        },
        "outputId": "e506a68d-0a92-4921-ce98-91cdc66dde4e"
      },
      "source": [
        "clf.fit(tfidf_train_lem_x, train_lem_y)\n",
        "predicted = clf.predict(tfidf_test_lem_x)\n",
        "print(classification_report(test_lem_y, predicted))"
      ],
      "execution_count": 149,
      "outputs": [
        {
          "output_type": "stream",
          "text": [
            "              precision    recall  f1-score   support\n",
            "\n",
            "           0       0.85      0.70      0.77       340\n",
            "           1       0.66      0.79      0.72       374\n",
            "           2       0.73      0.82      0.78       400\n",
            "           3       0.75      0.69      0.72       393\n",
            "           4       0.79      0.84      0.82       358\n",
            "           5       0.87      0.78      0.82       416\n",
            "           6       0.79      0.88      0.83       386\n",
            "           7       0.85      0.85      0.85       396\n",
            "           8       0.92      0.89      0.91       393\n",
            "           9       0.88      0.92      0.90       405\n",
            "          10       0.91      0.93      0.92       386\n",
            "          11       0.92      0.92      0.92       400\n",
            "          12       0.83      0.66      0.73       406\n",
            "          13       0.83      0.89      0.86       380\n",
            "          14       0.84      0.89      0.86       403\n",
            "          15       0.74      0.91      0.81       391\n",
            "          16       0.78      0.89      0.83       380\n",
            "          17       0.95      0.95      0.95       399\n",
            "          18       0.90      0.70      0.79       285\n",
            "          19       0.85      0.44      0.58       248\n",
            "\n",
            "    accuracy                           0.83      7539\n",
            "   macro avg       0.83      0.82      0.82      7539\n",
            "weighted avg       0.83      0.83      0.82      7539\n",
            "\n"
          ],
          "name": "stdout"
        }
      ]
    },
    {
      "cell_type": "markdown",
      "metadata": {
        "id": "q36hh0aP6hYa",
        "colab_type": "text"
      },
      "source": [
        "3.4 Random Forest con TF-IDF + Stemming"
      ]
    },
    {
      "cell_type": "code",
      "metadata": {
        "id": "qK2UgYyj6oXL",
        "colab_type": "code",
        "colab": {
          "base_uri": "https://localhost:8080/",
          "height": 476
        },
        "outputId": "720317be-2ca8-464d-8cd6-f5dc93258810"
      },
      "source": [
        "clf.fit(tfidf_train_stem_x, train_stem_y)\n",
        "predicted = clf.predict(tfidf_test_stem_x)\n",
        "print(classification_report(test_stem_y, predicted))"
      ],
      "execution_count": 150,
      "outputs": [
        {
          "output_type": "stream",
          "text": [
            "              precision    recall  f1-score   support\n",
            "\n",
            "           0       0.87      0.73      0.79       340\n",
            "           1       0.65      0.76      0.70       374\n",
            "           2       0.77      0.82      0.79       400\n",
            "           3       0.73      0.70      0.72       393\n",
            "           4       0.81      0.80      0.81       358\n",
            "           5       0.82      0.79      0.80       416\n",
            "           6       0.79      0.85      0.82       386\n",
            "           7       0.85      0.84      0.85       396\n",
            "           8       0.91      0.90      0.91       393\n",
            "           9       0.89      0.93      0.91       405\n",
            "          10       0.92      0.95      0.94       386\n",
            "          11       0.93      0.91      0.92       400\n",
            "          12       0.79      0.69      0.74       406\n",
            "          13       0.85      0.88      0.87       380\n",
            "          14       0.84      0.90      0.87       403\n",
            "          15       0.74      0.93      0.82       391\n",
            "          16       0.79      0.90      0.84       380\n",
            "          17       0.96      0.95      0.95       399\n",
            "          18       0.91      0.71      0.80       285\n",
            "          19       0.87      0.44      0.58       248\n",
            "\n",
            "    accuracy                           0.83      7539\n",
            "   macro avg       0.83      0.82      0.82      7539\n",
            "weighted avg       0.83      0.83      0.83      7539\n",
            "\n"
          ],
          "name": "stdout"
        }
      ]
    },
    {
      "cell_type": "markdown",
      "metadata": {
        "id": "hY0IYK0H6tYH",
        "colab_type": "text"
      },
      "source": [
        "3.5 Random Forest con Bigram + Lemmatization\n",
        "\n"
      ]
    },
    {
      "cell_type": "code",
      "metadata": {
        "id": "ocgHC3U161so",
        "colab_type": "code",
        "colab": {
          "base_uri": "https://localhost:8080/",
          "height": 476
        },
        "outputId": "d8d79915-be22-40df-ced4-596764b35b2f"
      },
      "source": [
        "clf.fit(bi_train_lem_x, train_lem_y)\n",
        "predicted = clf.predict(bi_test_lem_x)\n",
        "print(classification_report(test_lem_y, predicted))"
      ],
      "execution_count": 151,
      "outputs": [
        {
          "output_type": "stream",
          "text": [
            "              precision    recall  f1-score   support\n",
            "\n",
            "           0       0.87      0.73      0.79       340\n",
            "           1       0.64      0.77      0.70       374\n",
            "           2       0.72      0.84      0.78       400\n",
            "           3       0.73      0.69      0.71       393\n",
            "           4       0.80      0.81      0.80       358\n",
            "           5       0.88      0.77      0.82       416\n",
            "           6       0.80      0.88      0.84       386\n",
            "           7       0.84      0.84      0.84       396\n",
            "           8       0.93      0.89      0.91       393\n",
            "           9       0.88      0.90      0.89       405\n",
            "          10       0.90      0.94      0.92       386\n",
            "          11       0.95      0.92      0.93       400\n",
            "          12       0.77      0.67      0.72       406\n",
            "          13       0.84      0.87      0.86       380\n",
            "          14       0.86      0.89      0.87       403\n",
            "          15       0.77      0.94      0.84       391\n",
            "          16       0.81      0.88      0.85       380\n",
            "          17       0.96      0.95      0.95       399\n",
            "          18       0.88      0.74      0.80       285\n",
            "          19       0.82      0.50      0.62       248\n",
            "\n",
            "    accuracy                           0.83      7539\n",
            "   macro avg       0.83      0.82      0.82      7539\n",
            "weighted avg       0.83      0.83      0.83      7539\n",
            "\n"
          ],
          "name": "stdout"
        }
      ]
    },
    {
      "cell_type": "markdown",
      "metadata": {
        "id": "_D4DSJHR68T8",
        "colab_type": "text"
      },
      "source": [
        "3.6 Random Forest con Bigram + Stemming"
      ]
    },
    {
      "cell_type": "code",
      "metadata": {
        "id": "Ee4KX44Q7I3y",
        "colab_type": "code",
        "colab": {
          "base_uri": "https://localhost:8080/",
          "height": 476
        },
        "outputId": "082d8ec0-4e18-4bd7-9208-2f31e43b73ff"
      },
      "source": [
        "clf.fit(bi_train_stem_x, train_stem_y)\n",
        "predicted = clf.predict(bi_test_stem_x)\n",
        "print(classification_report(test_stem_y, predicted))"
      ],
      "execution_count": 152,
      "outputs": [
        {
          "output_type": "stream",
          "text": [
            "              precision    recall  f1-score   support\n",
            "\n",
            "           0       0.89      0.73      0.80       340\n",
            "           1       0.60      0.76      0.67       374\n",
            "           2       0.73      0.83      0.78       400\n",
            "           3       0.75      0.68      0.71       393\n",
            "           4       0.81      0.83      0.82       358\n",
            "           5       0.87      0.77      0.82       416\n",
            "           6       0.79      0.84      0.82       386\n",
            "           7       0.85      0.83      0.84       396\n",
            "           8       0.91      0.90      0.90       393\n",
            "           9       0.87      0.90      0.89       405\n",
            "          10       0.91      0.94      0.92       386\n",
            "          11       0.95      0.93      0.94       400\n",
            "          12       0.78      0.69      0.73       406\n",
            "          13       0.84      0.87      0.85       380\n",
            "          14       0.88      0.89      0.88       403\n",
            "          15       0.76      0.93      0.83       391\n",
            "          16       0.80      0.88      0.84       380\n",
            "          17       0.95      0.95      0.95       399\n",
            "          18       0.87      0.71      0.78       285\n",
            "          19       0.83      0.50      0.62       248\n",
            "\n",
            "    accuracy                           0.83      7539\n",
            "   macro avg       0.83      0.82      0.82      7539\n",
            "weighted avg       0.83      0.83      0.83      7539\n",
            "\n"
          ],
          "name": "stdout"
        }
      ]
    },
    {
      "cell_type": "markdown",
      "metadata": {
        "id": "KqPUItr37TEm",
        "colab_type": "text"
      },
      "source": [
        "**4. Xtereme Gradient Boosting (xgboost)**"
      ]
    },
    {
      "cell_type": "code",
      "metadata": {
        "id": "15WE1I587d4g",
        "colab_type": "code",
        "colab": {}
      },
      "source": [
        "import xgboost as xgb"
      ],
      "execution_count": 0,
      "outputs": []
    },
    {
      "cell_type": "code",
      "metadata": {
        "id": "ZoIHzukf7sNE",
        "colab_type": "code",
        "colab": {}
      },
      "source": [
        "clf= xgb.XGBClassifier()"
      ],
      "execution_count": 0,
      "outputs": []
    },
    {
      "cell_type": "markdown",
      "metadata": {
        "id": "Do6EaKrT7yNW",
        "colab_type": "text"
      },
      "source": [
        "4.1 XGBOOST con TF + Lemmatization"
      ]
    },
    {
      "cell_type": "code",
      "metadata": {
        "id": "2hJCn8Z377Dc",
        "colab_type": "code",
        "colab": {
          "base_uri": "https://localhost:8080/",
          "height": 476
        },
        "outputId": "6c816fb2-a2cf-4538-d556-520c8c7902b9"
      },
      "source": [
        "clf.fit(tf_train_lem_x, train_lem_y)\n",
        "predicted = clf.predict(tf_test_lem_x)\n",
        "print(classification_report(test_lem_y, predicted))"
      ],
      "execution_count": 155,
      "outputs": [
        {
          "output_type": "stream",
          "text": [
            "              precision    recall  f1-score   support\n",
            "\n",
            "           0       0.83      0.70      0.76       340\n",
            "           1       0.67      0.74      0.70       374\n",
            "           2       0.70      0.78      0.74       400\n",
            "           3       0.63      0.69      0.66       393\n",
            "           4       0.80      0.79      0.79       358\n",
            "           5       0.82      0.71      0.76       416\n",
            "           6       0.80      0.83      0.82       386\n",
            "           7       0.85      0.78      0.81       396\n",
            "           8       0.92      0.87      0.89       393\n",
            "           9       0.87      0.87      0.87       405\n",
            "          10       0.94      0.86      0.90       386\n",
            "          11       0.94      0.89      0.92       400\n",
            "          12       0.57      0.70      0.63       406\n",
            "          13       0.88      0.84      0.86       380\n",
            "          14       0.85      0.86      0.86       403\n",
            "          15       0.74      0.90      0.81       391\n",
            "          16       0.78      0.83      0.81       380\n",
            "          17       0.96      0.87      0.91       399\n",
            "          18       0.75      0.71      0.73       285\n",
            "          19       0.74      0.56      0.64       248\n",
            "\n",
            "    accuracy                           0.80      7539\n",
            "   macro avg       0.80      0.79      0.79      7539\n",
            "weighted avg       0.80      0.80      0.80      7539\n",
            "\n"
          ],
          "name": "stdout"
        }
      ]
    },
    {
      "cell_type": "markdown",
      "metadata": {
        "id": "ieL484yG8sEn",
        "colab_type": "text"
      },
      "source": [
        "4.2 XGBOOST con TF + Stemming"
      ]
    },
    {
      "cell_type": "code",
      "metadata": {
        "id": "CAoyhBS78yu2",
        "colab_type": "code",
        "colab": {
          "base_uri": "https://localhost:8080/",
          "height": 377
        },
        "outputId": "886d6db9-ccdc-410e-d5fd-d8f87c960fb8"
      },
      "source": [
        "clf.fit(tf_train_stem_x, train_stem_y)\n",
        "predicted = clf.predict(tf_test_stem_x)\n",
        "print(metrics.classification_report(test_stem_y, predicted))"
      ],
      "execution_count": 156,
      "outputs": [
        {
          "output_type": "error",
          "ename": "ValueError",
          "evalue": "ignored",
          "traceback": [
            "\u001b[0;31m---------------------------------------------------------------------------\u001b[0m",
            "\u001b[0;31mValueError\u001b[0m                                Traceback (most recent call last)",
            "\u001b[0;32m<ipython-input-156-6f8d6a1d331f>\u001b[0m in \u001b[0;36m<module>\u001b[0;34m()\u001b[0m\n\u001b[1;32m      1\u001b[0m \u001b[0mclf\u001b[0m\u001b[0;34m.\u001b[0m\u001b[0mfit\u001b[0m\u001b[0;34m(\u001b[0m\u001b[0mtf_train_stem_x\u001b[0m\u001b[0;34m,\u001b[0m \u001b[0mtrain_stem_y\u001b[0m\u001b[0;34m)\u001b[0m\u001b[0;34m\u001b[0m\u001b[0;34m\u001b[0m\u001b[0m\n\u001b[0;32m----> 2\u001b[0;31m \u001b[0mpredicted\u001b[0m \u001b[0;34m=\u001b[0m \u001b[0mclf\u001b[0m\u001b[0;34m.\u001b[0m\u001b[0mpredict\u001b[0m\u001b[0;34m(\u001b[0m\u001b[0mtf_test_stem_x\u001b[0m\u001b[0;34m)\u001b[0m\u001b[0;34m\u001b[0m\u001b[0;34m\u001b[0m\u001b[0m\n\u001b[0m\u001b[1;32m      3\u001b[0m \u001b[0mprint\u001b[0m\u001b[0;34m(\u001b[0m\u001b[0mmetrics\u001b[0m\u001b[0;34m.\u001b[0m\u001b[0mclassification_report\u001b[0m\u001b[0;34m(\u001b[0m\u001b[0mtest_stem_y\u001b[0m\u001b[0;34m,\u001b[0m \u001b[0mpredicted\u001b[0m\u001b[0;34m)\u001b[0m\u001b[0;34m)\u001b[0m\u001b[0;34m\u001b[0m\u001b[0;34m\u001b[0m\u001b[0m\n",
            "\u001b[0;32m/usr/local/lib/python3.6/dist-packages/xgboost/sklearn.py\u001b[0m in \u001b[0;36mpredict\u001b[0;34m(self, data, output_margin, ntree_limit, validate_features)\u001b[0m\n\u001b[1;32m    789\u001b[0m                                                  \u001b[0moutput_margin\u001b[0m\u001b[0;34m=\u001b[0m\u001b[0moutput_margin\u001b[0m\u001b[0;34m,\u001b[0m\u001b[0;34m\u001b[0m\u001b[0;34m\u001b[0m\u001b[0m\n\u001b[1;32m    790\u001b[0m                                                  \u001b[0mntree_limit\u001b[0m\u001b[0;34m=\u001b[0m\u001b[0mntree_limit\u001b[0m\u001b[0;34m,\u001b[0m\u001b[0;34m\u001b[0m\u001b[0;34m\u001b[0m\u001b[0m\n\u001b[0;32m--> 791\u001b[0;31m                                                  validate_features=validate_features)\n\u001b[0m\u001b[1;32m    792\u001b[0m         \u001b[0;32mif\u001b[0m \u001b[0moutput_margin\u001b[0m\u001b[0;34m:\u001b[0m\u001b[0;34m\u001b[0m\u001b[0;34m\u001b[0m\u001b[0m\n\u001b[1;32m    793\u001b[0m             \u001b[0;31m# If output_margin is active, simply return the scores\u001b[0m\u001b[0;34m\u001b[0m\u001b[0;34m\u001b[0m\u001b[0;34m\u001b[0m\u001b[0m\n",
            "\u001b[0;32m/usr/local/lib/python3.6/dist-packages/xgboost/core.py\u001b[0m in \u001b[0;36mpredict\u001b[0;34m(self, data, output_margin, ntree_limit, pred_leaf, pred_contribs, approx_contribs, pred_interactions, validate_features)\u001b[0m\n\u001b[1;32m   1282\u001b[0m \u001b[0;34m\u001b[0m\u001b[0m\n\u001b[1;32m   1283\u001b[0m         \u001b[0;32mif\u001b[0m \u001b[0mvalidate_features\u001b[0m\u001b[0;34m:\u001b[0m\u001b[0;34m\u001b[0m\u001b[0;34m\u001b[0m\u001b[0m\n\u001b[0;32m-> 1284\u001b[0;31m             \u001b[0mself\u001b[0m\u001b[0;34m.\u001b[0m\u001b[0m_validate_features\u001b[0m\u001b[0;34m(\u001b[0m\u001b[0mdata\u001b[0m\u001b[0;34m)\u001b[0m\u001b[0;34m\u001b[0m\u001b[0;34m\u001b[0m\u001b[0m\n\u001b[0m\u001b[1;32m   1285\u001b[0m \u001b[0;34m\u001b[0m\u001b[0m\n\u001b[1;32m   1286\u001b[0m         \u001b[0mlength\u001b[0m \u001b[0;34m=\u001b[0m \u001b[0mc_bst_ulong\u001b[0m\u001b[0;34m(\u001b[0m\u001b[0;34m)\u001b[0m\u001b[0;34m\u001b[0m\u001b[0;34m\u001b[0m\u001b[0m\n",
            "\u001b[0;32m/usr/local/lib/python3.6/dist-packages/xgboost/core.py\u001b[0m in \u001b[0;36m_validate_features\u001b[0;34m(self, data)\u001b[0m\n\u001b[1;32m   1688\u001b[0m \u001b[0;34m\u001b[0m\u001b[0m\n\u001b[1;32m   1689\u001b[0m                 raise ValueError(msg.format(self.feature_names,\n\u001b[0;32m-> 1690\u001b[0;31m                                             data.feature_names))\n\u001b[0m\u001b[1;32m   1691\u001b[0m \u001b[0;34m\u001b[0m\u001b[0m\n\u001b[1;32m   1692\u001b[0m     \u001b[0;32mdef\u001b[0m \u001b[0mget_split_value_histogram\u001b[0m\u001b[0;34m(\u001b[0m\u001b[0mself\u001b[0m\u001b[0;34m,\u001b[0m \u001b[0mfeature\u001b[0m\u001b[0;34m,\u001b[0m \u001b[0mfmap\u001b[0m\u001b[0;34m=\u001b[0m\u001b[0;34m''\u001b[0m\u001b[0;34m,\u001b[0m \u001b[0mbins\u001b[0m\u001b[0;34m=\u001b[0m\u001b[0;32mNone\u001b[0m\u001b[0;34m,\u001b[0m \u001b[0mas_pandas\u001b[0m\u001b[0;34m=\u001b[0m\u001b[0;32mTrue\u001b[0m\u001b[0;34m)\u001b[0m\u001b[0;34m:\u001b[0m\u001b[0;34m\u001b[0m\u001b[0;34m\u001b[0m\u001b[0m\n",
            "\u001b[0;31mValueError\u001b[0m: feature_names mismatch: ['f0', 'f1', 'f2', 'f3', 'f4', 'f5', 'f6', 'f7', 'f8', 'f9', 'f10', 'f11', 'f12', 'f13', 'f14', 'f15', 'f16', 'f17', 'f18', 'f19', 'f20', 'f21', 'f22', 'f23', 'f24', 'f25', 'f26', 'f27', 'f28', 'f29', 'f30', 'f31', 'f32', 'f33', 'f34', 'f35', 'f36', 'f37', 'f38', 'f39', 'f40', 'f41', 'f42', 'f43', 'f44', 'f45', 'f46', 'f47', 'f48', 'f49', 'f50', 'f51', 'f52', 'f53', 'f54', 'f55', 'f56', 'f57', 'f58', 'f59', 'f60', 'f61', 'f62', 'f63', 'f64', 'f65', 'f66', 'f67', 'f68', 'f69', 'f70', 'f71', 'f72', 'f73', 'f74', 'f75', 'f76', 'f77', 'f78', 'f79', 'f80', 'f81', 'f82', 'f83', 'f84', 'f85', 'f86', 'f87', 'f88', 'f89', 'f90', 'f91', 'f92', 'f93', 'f94', 'f95', 'f96', 'f97', 'f98', 'f99', 'f100', 'f101', 'f102', 'f103', 'f104', 'f105', 'f106', 'f107', 'f108', 'f109', 'f110', 'f111', 'f112', 'f113', 'f114', 'f115', 'f116', 'f117', 'f118', 'f119', 'f120', 'f121', 'f122', 'f123', 'f124', 'f125', 'f126', 'f127', 'f128', 'f129', 'f130', 'f131', 'f132', 'f133', 'f134', 'f135', 'f136', 'f137', 'f138', 'f139', 'f140', 'f141', 'f142', 'f143', 'f144', 'f145', 'f146', 'f147', 'f148', 'f149', 'f150', 'f151', 'f152', 'f153', 'f154', 'f155', 'f156', 'f157', 'f158', 'f159', 'f160', 'f161', 'f162', 'f163', 'f164', 'f165', 'f166', 'f167', 'f168', 'f169', 'f170', 'f171', 'f172', 'f173', 'f174', 'f175', 'f176', 'f177', 'f178', 'f179', 'f180', 'f181', 'f182', 'f183', 'f184', 'f185', 'f186', 'f187', 'f188', 'f189', 'f190', 'f191', 'f192', 'f193', 'f194',...\nexpected f56297, f59073, f54393, f57185, f56334, f54615, f56542, f52200, f53608, f58859, f58076, f52969, f53613, f60000, f54850, f52514, f56995, f55214, f57480, f60130, f58482, f58408, f56955, f56247, f59189, f57835, f52808, f55778, f60361, f55327, f52356, f55727, f59244, f59162, f60328, f51914, f53012, f55867, f51724, f58921, f56032, f53570, f55429, f59792, f53094, f56887, f59893, f58572, f53054, f59164, f56279, f53565, f53767, f58334, f55114, f52219, f52659, f56387, f59781, f55987, f58346, f56060, f59083, f51739, f51967, f56244, f54707, f52436, f57230, f54674, f54348, f54739, f58506, f52293, f59601, f52535, f53328, f54059, f53069, f57136, f54207, f59861, f58309, f57139, f59773, f56218, f57246, f55659, f54074, f56584, f57568, f54567, f57411, f57720, f54165, f58936, f52840, f53677, f54337, f55882, f57734, f55898, f54061, f52182, f57863, f57320, f52500, f57116, f53350, f53035, f57558, f56321, f58277, f59105, f54418, f57426, f55071, f57823, f57670, f54166, f57852, f53291, f56681, f56937, f52737, f52920, f53932, f52544, f53892, f58531, f54203, f58660, f54844, f55704, f55702, f56136, f58915, f51832, f56128, f58039, f54094, f58308, f55586, f52467, f54458, f59270, f55215, f59400, f59879, f56880, f55605, f58922, f59166, f53886, f57868, f55909, f58020, f52057, f55589, f57988, f52233, f56350, f59687, f54371, f53873, f53939, f53353, f59064, f54661, f58410, f52714, f58847, f56251, f54537, f53693, f53039, f52484, f55507, f56756, f54613, f59993, f52358, f54531, f53389, f55668, f57546, ..."
          ]
        }
      ]
    },
    {
      "cell_type": "markdown",
      "metadata": {
        "id": "BchDflG19I_S",
        "colab_type": "text"
      },
      "source": [
        "4.3 XGBOOST con TF-IDF + Lemmatization"
      ]
    },
    {
      "cell_type": "code",
      "metadata": {
        "id": "_LepZkse9YGq",
        "colab_type": "code",
        "colab": {
          "base_uri": "https://localhost:8080/",
          "height": 476
        },
        "outputId": "81b8c357-a1be-458b-c75d-65c5d167763b"
      },
      "source": [
        "clf.fit(tfidf_train_lem_x, train_lem_y)\n",
        "predicted = clf.predict(tfidf_test_lem_x)\n",
        "print(classification_report(test_lem_y, predicted))"
      ],
      "execution_count": 157,
      "outputs": [
        {
          "output_type": "stream",
          "text": [
            "              precision    recall  f1-score   support\n",
            "\n",
            "           0       0.83      0.70      0.76       340\n",
            "           1       0.67      0.74      0.70       374\n",
            "           2       0.70      0.77      0.74       400\n",
            "           3       0.63      0.71      0.67       393\n",
            "           4       0.80      0.78      0.79       358\n",
            "           5       0.80      0.72      0.76       416\n",
            "           6       0.81      0.83      0.82       386\n",
            "           7       0.85      0.80      0.82       396\n",
            "           8       0.92      0.86      0.89       393\n",
            "           9       0.86      0.86      0.86       405\n",
            "          10       0.94      0.85      0.89       386\n",
            "          11       0.94      0.89      0.91       400\n",
            "          12       0.58      0.70      0.64       406\n",
            "          13       0.86      0.84      0.85       380\n",
            "          14       0.84      0.86      0.85       403\n",
            "          15       0.73      0.90      0.81       391\n",
            "          16       0.80      0.81      0.80       380\n",
            "          17       0.95      0.89      0.92       399\n",
            "          18       0.74      0.74      0.74       285\n",
            "          19       0.71      0.53      0.61       248\n",
            "\n",
            "    accuracy                           0.79      7539\n",
            "   macro avg       0.80      0.79      0.79      7539\n",
            "weighted avg       0.80      0.79      0.80      7539\n",
            "\n"
          ],
          "name": "stdout"
        }
      ]
    },
    {
      "cell_type": "markdown",
      "metadata": {
        "id": "s9jrkr38-mAN",
        "colab_type": "text"
      },
      "source": [
        "4.4 XGBOOST con TF-IDF + Stemming"
      ]
    },
    {
      "cell_type": "code",
      "metadata": {
        "id": "o6NRp4N2-tDr",
        "colab_type": "code",
        "colab": {
          "base_uri": "https://localhost:8080/",
          "height": 476
        },
        "outputId": "895a3ec6-52cd-4bfd-c5e6-cc38bb3e1594"
      },
      "source": [
        "clf.fit(tfidf_train_stem_x, train_stem_y)\n",
        "predicted = clf.predict(tfidf_test_stem_x)\n",
        "print(classification_report(test_stem_y, predicted))"
      ],
      "execution_count": 158,
      "outputs": [
        {
          "output_type": "stream",
          "text": [
            "              precision    recall  f1-score   support\n",
            "\n",
            "           0       0.82      0.70      0.75       340\n",
            "           1       0.66      0.74      0.70       374\n",
            "           2       0.70      0.76      0.73       400\n",
            "           3       0.61      0.70      0.65       393\n",
            "           4       0.80      0.77      0.78       358\n",
            "           5       0.80      0.72      0.76       416\n",
            "           6       0.79      0.81      0.80       386\n",
            "           7       0.83      0.79      0.81       396\n",
            "           8       0.92      0.86      0.89       393\n",
            "           9       0.89      0.86      0.87       405\n",
            "          10       0.93      0.88      0.90       386\n",
            "          11       0.96      0.89      0.92       400\n",
            "          12       0.58      0.70      0.64       406\n",
            "          13       0.86      0.83      0.85       380\n",
            "          14       0.85      0.85      0.85       403\n",
            "          15       0.74      0.89      0.81       391\n",
            "          16       0.77      0.80      0.79       380\n",
            "          17       0.96      0.88      0.92       399\n",
            "          18       0.75      0.72      0.74       285\n",
            "          19       0.67      0.51      0.58       248\n",
            "\n",
            "    accuracy                           0.79      7539\n",
            "   macro avg       0.79      0.78      0.79      7539\n",
            "weighted avg       0.80      0.79      0.79      7539\n",
            "\n"
          ],
          "name": "stdout"
        }
      ]
    },
    {
      "cell_type": "markdown",
      "metadata": {
        "id": "KOkvwgEr_WBN",
        "colab_type": "text"
      },
      "source": [
        "4.5 XGBOOST con Bigram + Lemmatization"
      ]
    },
    {
      "cell_type": "code",
      "metadata": {
        "id": "yeHXDsj0_bNi",
        "colab_type": "code",
        "colab": {
          "base_uri": "https://localhost:8080/",
          "height": 476
        },
        "outputId": "b92d4c74-8434-48d2-8373-7396fb6c93ca"
      },
      "source": [
        "clf.fit(bi_train_lem_x, train_lem_y)\n",
        "predicted = clf.predict(bi_test_lem_x)\n",
        "print(classification_report(test_lem_y, predicted))"
      ],
      "execution_count": 159,
      "outputs": [
        {
          "output_type": "stream",
          "text": [
            "              precision    recall  f1-score   support\n",
            "\n",
            "           0       0.83      0.71      0.77       340\n",
            "           1       0.69      0.73      0.71       374\n",
            "           2       0.71      0.78      0.74       400\n",
            "           3       0.64      0.71      0.67       393\n",
            "           4       0.80      0.78      0.79       358\n",
            "           5       0.84      0.76      0.80       416\n",
            "           6       0.81      0.82      0.81       386\n",
            "           7       0.84      0.80      0.82       396\n",
            "           8       0.93      0.87      0.89       393\n",
            "           9       0.88      0.87      0.88       405\n",
            "          10       0.95      0.87      0.91       386\n",
            "          11       0.94      0.89      0.91       400\n",
            "          12       0.58      0.72      0.64       406\n",
            "          13       0.87      0.84      0.85       380\n",
            "          14       0.84      0.85      0.85       403\n",
            "          15       0.75      0.91      0.82       391\n",
            "          16       0.79      0.80      0.80       380\n",
            "          17       0.95      0.89      0.92       399\n",
            "          18       0.78      0.73      0.75       285\n",
            "          19       0.70      0.55      0.62       248\n",
            "\n",
            "    accuracy                           0.80      7539\n",
            "   macro avg       0.81      0.79      0.80      7539\n",
            "weighted avg       0.81      0.80      0.80      7539\n",
            "\n"
          ],
          "name": "stdout"
        }
      ]
    },
    {
      "cell_type": "markdown",
      "metadata": {
        "id": "8FM4Bpge_pQh",
        "colab_type": "text"
      },
      "source": [
        "4.6 XGBOOST con Bigram + Stemming"
      ]
    },
    {
      "cell_type": "code",
      "metadata": {
        "id": "hJqzsu3N_uwL",
        "colab_type": "code",
        "colab": {
          "base_uri": "https://localhost:8080/",
          "height": 476
        },
        "outputId": "f69bc3fd-011d-4fcd-eae6-92d5d34fe659"
      },
      "source": [
        "clf.fit(bi_train_stem_x, train_stem_y)\n",
        "predicted = clf.predict(bi_test_stem_x)\n",
        "print(classification_report(test_stem_y, predicted))"
      ],
      "execution_count": 160,
      "outputs": [
        {
          "output_type": "stream",
          "text": [
            "              precision    recall  f1-score   support\n",
            "\n",
            "           0       0.84      0.72      0.77       340\n",
            "           1       0.66      0.74      0.70       374\n",
            "           2       0.69      0.79      0.74       400\n",
            "           3       0.63      0.69      0.66       393\n",
            "           4       0.80      0.77      0.79       358\n",
            "           5       0.85      0.76      0.80       416\n",
            "           6       0.79      0.82      0.81       386\n",
            "           7       0.84      0.79      0.81       396\n",
            "           8       0.91      0.87      0.89       393\n",
            "           9       0.89      0.87      0.88       405\n",
            "          10       0.92      0.88      0.90       386\n",
            "          11       0.96      0.89      0.92       400\n",
            "          12       0.60      0.70      0.65       406\n",
            "          13       0.86      0.84      0.85       380\n",
            "          14       0.85      0.86      0.86       403\n",
            "          15       0.76      0.91      0.83       391\n",
            "          16       0.78      0.80      0.79       380\n",
            "          17       0.96      0.89      0.92       399\n",
            "          18       0.74      0.72      0.73       285\n",
            "          19       0.71      0.55      0.62       248\n",
            "\n",
            "    accuracy                           0.80      7539\n",
            "   macro avg       0.80      0.79      0.80      7539\n",
            "weighted avg       0.81      0.80      0.80      7539\n",
            "\n"
          ],
          "name": "stdout"
        }
      ]
    }
  ]
}