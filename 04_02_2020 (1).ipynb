{
  "nbformat": 4,
  "nbformat_minor": 0,
  "metadata": {
    "colab": {
      "name": "04_02_2020.ipynb",
      "provenance": [],
      "collapsed_sections": []
    },
    "kernelspec": {
      "name": "python3",
      "display_name": "Python 3"
    },
    "accelerator": "GPU"
  },
  "cells": [
    {
      "cell_type": "markdown",
      "metadata": {
        "id": "3bidszXiQr-R",
        "colab_type": "text"
      },
      "source": [
        "# **TEXT MINING PROJECT**: 20 NEWS GROUP CLASSIFICATION  \n",
        "\n",
        "Antonella Zaccaria  \n",
        "Marco Savino"
      ]
    },
    {
      "cell_type": "markdown",
      "metadata": {
        "id": "BVnYN3ToCi4q",
        "colab_type": "text"
      },
      "source": [
        "**Pipeline**"
      ]
    },
    {
      "cell_type": "markdown",
      "metadata": {
        "id": "sCifhInoBqZM",
        "colab_type": "text"
      },
      "source": [
        "![picture](https://drive.google.com/uc?id=1nAJkGnNtoIbfOo7XdpTtSdep1bfyAavD)"
      ]
    },
    {
      "cell_type": "markdown",
      "metadata": {
        "id": "TId_UYMrRGN6",
        "colab_type": "text"
      },
      "source": [
        "Librerie utilizzate"
      ]
    },
    {
      "cell_type": "code",
      "metadata": {
        "id": "g7koe47O9Jl6",
        "colab_type": "code",
        "outputId": "1e4e7d4f-7c6e-4ecd-f979-c31d82f84001",
        "colab": {
          "base_uri": "https://localhost:8080/",
          "height": 136
        }
      },
      "source": [
        "import nltk\n",
        "nltk.download('wordnet')\n",
        "nltk.download('punkt') #serve per la tokenizzazione\n",
        "nltk.download('stopwords')"
      ],
      "execution_count": 1,
      "outputs": [
        {
          "output_type": "stream",
          "text": [
            "[nltk_data] Downloading package wordnet to /root/nltk_data...\n",
            "[nltk_data]   Unzipping corpora/wordnet.zip.\n",
            "[nltk_data] Downloading package punkt to /root/nltk_data...\n",
            "[nltk_data]   Unzipping tokenizers/punkt.zip.\n",
            "[nltk_data] Downloading package stopwords to /root/nltk_data...\n",
            "[nltk_data]   Unzipping corpora/stopwords.zip.\n"
          ],
          "name": "stdout"
        },
        {
          "output_type": "execute_result",
          "data": {
            "text/plain": [
              "True"
            ]
          },
          "metadata": {
            "tags": []
          },
          "execution_count": 1
        }
      ]
    },
    {
      "cell_type": "code",
      "metadata": {
        "id": "LQ7srOrPRI4A",
        "colab_type": "code",
        "colab": {}
      },
      "source": [
        "from sklearn.datasets import fetch_20newsgroups\n",
        "\n",
        "import pandas as pd\n",
        "import re\n",
        "import seaborn as sns\n",
        "import matplotlib.pyplot as plt\n",
        "import sklearn\n",
        "\n",
        "from nltk.tokenize import sent_tokenize, word_tokenize\n",
        "from nltk.corpus import stopwords\n",
        "from nltk.stem import WordNetLemmatizer, PorterStemmer\n",
        "\n",
        "from sklearn import model_selection, preprocessing\n",
        "from sklearn.feature_extraction.text import TfidfVectorizer, CountVectorizer\n",
        "\n",
        "from sklearn.metrics import classification_report, confusion_matrix\n",
        "from sklearn.metrics import precision_score, recall_score, f1_score \n",
        "\n",
        "from sklearn.model_selection import cross_val_score\n",
        "\n",
        "from sklearn.naive_bayes import MultinomialNB\n",
        "from sklearn import svm\n",
        "from sklearn.ensemble import RandomForestClassifier\n",
        "import xgboost as xgb"
      ],
      "execution_count": 0,
      "outputs": []
    },
    {
      "cell_type": "markdown",
      "metadata": {
        "id": "MIpvKh96Q89D",
        "colab_type": "text"
      },
      "source": [
        "Carichiamo il dataset 20 News Group direttamente dal **sklearn** e lo salviamo in formato csv"
      ]
    },
    {
      "cell_type": "code",
      "metadata": {
        "id": "5I6ayR_aREZV",
        "colab_type": "code",
        "outputId": "5bad8327-bdd4-475f-c4f7-a99ccf34d4a1",
        "colab": {
          "base_uri": "https://localhost:8080/",
          "height": 51
        }
      },
      "source": [
        "def twenty_newsgroup_to_csv():\n",
        "    newsgroups = fetch_20newsgroups(subset = 'all', shuffle=True)\n",
        "\n",
        "    df = pd.DataFrame([newsgroups.data, newsgroups.target.tolist()]).T\n",
        "    df.columns = ['text', 'target']\n",
        "    targets = pd.DataFrame(newsgroups.target_names)\n",
        "    targets.columns=['title']\n",
        "\n",
        "    out = pd.merge(df, targets, left_on='target', right_index=True)\n",
        "    out.to_csv('20_news.csv')\n",
        "    \n",
        "  \n",
        "twenty_newsgroup_to_csv()"
      ],
      "execution_count": 3,
      "outputs": [
        {
          "output_type": "stream",
          "text": [
            "Downloading 20news dataset. This may take a few minutes.\n",
            "Downloading dataset from https://ndownloader.figshare.com/files/5975967 (14 MB)\n"
          ],
          "name": "stderr"
        }
      ]
    },
    {
      "cell_type": "code",
      "metadata": {
        "id": "aTvus83jRkmp",
        "colab_type": "code",
        "colab": {}
      },
      "source": [
        "df = pd.read_csv('20_news.csv')"
      ],
      "execution_count": 0,
      "outputs": []
    },
    {
      "cell_type": "markdown",
      "metadata": {
        "id": "L7hieBcNSFtd",
        "colab_type": "text"
      },
      "source": [
        "Visualizziamo le prime righe del dataset"
      ]
    },
    {
      "cell_type": "code",
      "metadata": {
        "id": "EVfsbWJKRsoh",
        "colab_type": "code",
        "outputId": "00255a8c-858c-42bb-ce30-84c2a9f5c9d7",
        "colab": {
          "base_uri": "https://localhost:8080/",
          "height": 204
        }
      },
      "source": [
        "df.head()"
      ],
      "execution_count": 5,
      "outputs": [
        {
          "output_type": "execute_result",
          "data": {
            "text/html": [
              "<div>\n",
              "<style scoped>\n",
              "    .dataframe tbody tr th:only-of-type {\n",
              "        vertical-align: middle;\n",
              "    }\n",
              "\n",
              "    .dataframe tbody tr th {\n",
              "        vertical-align: top;\n",
              "    }\n",
              "\n",
              "    .dataframe thead th {\n",
              "        text-align: right;\n",
              "    }\n",
              "</style>\n",
              "<table border=\"1\" class=\"dataframe\">\n",
              "  <thead>\n",
              "    <tr style=\"text-align: right;\">\n",
              "      <th></th>\n",
              "      <th>Unnamed: 0</th>\n",
              "      <th>text</th>\n",
              "      <th>target</th>\n",
              "      <th>title</th>\n",
              "    </tr>\n",
              "  </thead>\n",
              "  <tbody>\n",
              "    <tr>\n",
              "      <th>0</th>\n",
              "      <td>0</td>\n",
              "      <td>From: Mamatha Devineni Ratnam &lt;mr47+@andrew.cm...</td>\n",
              "      <td>10</td>\n",
              "      <td>rec.sport.hockey</td>\n",
              "    </tr>\n",
              "    <tr>\n",
              "      <th>1</th>\n",
              "      <td>7</td>\n",
              "      <td>From: dchhabra@stpl.ists.ca (Deepak Chhabra)\\n...</td>\n",
              "      <td>10</td>\n",
              "      <td>rec.sport.hockey</td>\n",
              "    </tr>\n",
              "    <tr>\n",
              "      <th>2</th>\n",
              "      <td>8</td>\n",
              "      <td>From: dchhabra@stpl.ists.ca (Deepak Chhabra)\\n...</td>\n",
              "      <td>10</td>\n",
              "      <td>rec.sport.hockey</td>\n",
              "    </tr>\n",
              "    <tr>\n",
              "      <th>3</th>\n",
              "      <td>24</td>\n",
              "      <td>From: cs902043@ariel.yorku.ca (SHAWN LUDDINGTO...</td>\n",
              "      <td>10</td>\n",
              "      <td>rec.sport.hockey</td>\n",
              "    </tr>\n",
              "    <tr>\n",
              "      <th>4</th>\n",
              "      <td>44</td>\n",
              "      <td>From: gritter@cs.purdue.edu (Carl Gritter)\\nSu...</td>\n",
              "      <td>10</td>\n",
              "      <td>rec.sport.hockey</td>\n",
              "    </tr>\n",
              "  </tbody>\n",
              "</table>\n",
              "</div>"
            ],
            "text/plain": [
              "   Unnamed: 0  ...             title\n",
              "0           0  ...  rec.sport.hockey\n",
              "1           7  ...  rec.sport.hockey\n",
              "2           8  ...  rec.sport.hockey\n",
              "3          24  ...  rec.sport.hockey\n",
              "4          44  ...  rec.sport.hockey\n",
              "\n",
              "[5 rows x 4 columns]"
            ]
          },
          "metadata": {
            "tags": []
          },
          "execution_count": 5
        }
      ]
    },
    {
      "cell_type": "markdown",
      "metadata": {
        "id": "wDXIm1cBXgC7",
        "colab_type": "text"
      },
      "source": [
        "Eliminiamo la colonna **Unnamed: 0**"
      ]
    },
    {
      "cell_type": "code",
      "metadata": {
        "id": "edpchUbFXoBQ",
        "colab_type": "code",
        "colab": {}
      },
      "source": [
        "df = df.drop('Unnamed: 0', 1)"
      ],
      "execution_count": 0,
      "outputs": []
    },
    {
      "cell_type": "code",
      "metadata": {
        "id": "JcLhkoLyX0mP",
        "colab_type": "code",
        "outputId": "9466c0ba-d633-4b03-9915-a35331defe15",
        "colab": {
          "base_uri": "https://localhost:8080/",
          "height": 204
        }
      },
      "source": [
        "df.head()"
      ],
      "execution_count": 7,
      "outputs": [
        {
          "output_type": "execute_result",
          "data": {
            "text/html": [
              "<div>\n",
              "<style scoped>\n",
              "    .dataframe tbody tr th:only-of-type {\n",
              "        vertical-align: middle;\n",
              "    }\n",
              "\n",
              "    .dataframe tbody tr th {\n",
              "        vertical-align: top;\n",
              "    }\n",
              "\n",
              "    .dataframe thead th {\n",
              "        text-align: right;\n",
              "    }\n",
              "</style>\n",
              "<table border=\"1\" class=\"dataframe\">\n",
              "  <thead>\n",
              "    <tr style=\"text-align: right;\">\n",
              "      <th></th>\n",
              "      <th>text</th>\n",
              "      <th>target</th>\n",
              "      <th>title</th>\n",
              "    </tr>\n",
              "  </thead>\n",
              "  <tbody>\n",
              "    <tr>\n",
              "      <th>0</th>\n",
              "      <td>From: Mamatha Devineni Ratnam &lt;mr47+@andrew.cm...</td>\n",
              "      <td>10</td>\n",
              "      <td>rec.sport.hockey</td>\n",
              "    </tr>\n",
              "    <tr>\n",
              "      <th>1</th>\n",
              "      <td>From: dchhabra@stpl.ists.ca (Deepak Chhabra)\\n...</td>\n",
              "      <td>10</td>\n",
              "      <td>rec.sport.hockey</td>\n",
              "    </tr>\n",
              "    <tr>\n",
              "      <th>2</th>\n",
              "      <td>From: dchhabra@stpl.ists.ca (Deepak Chhabra)\\n...</td>\n",
              "      <td>10</td>\n",
              "      <td>rec.sport.hockey</td>\n",
              "    </tr>\n",
              "    <tr>\n",
              "      <th>3</th>\n",
              "      <td>From: cs902043@ariel.yorku.ca (SHAWN LUDDINGTO...</td>\n",
              "      <td>10</td>\n",
              "      <td>rec.sport.hockey</td>\n",
              "    </tr>\n",
              "    <tr>\n",
              "      <th>4</th>\n",
              "      <td>From: gritter@cs.purdue.edu (Carl Gritter)\\nSu...</td>\n",
              "      <td>10</td>\n",
              "      <td>rec.sport.hockey</td>\n",
              "    </tr>\n",
              "  </tbody>\n",
              "</table>\n",
              "</div>"
            ],
            "text/plain": [
              "                                                text  target             title\n",
              "0  From: Mamatha Devineni Ratnam <mr47+@andrew.cm...      10  rec.sport.hockey\n",
              "1  From: dchhabra@stpl.ists.ca (Deepak Chhabra)\\n...      10  rec.sport.hockey\n",
              "2  From: dchhabra@stpl.ists.ca (Deepak Chhabra)\\n...      10  rec.sport.hockey\n",
              "3  From: cs902043@ariel.yorku.ca (SHAWN LUDDINGTO...      10  rec.sport.hockey\n",
              "4  From: gritter@cs.purdue.edu (Carl Gritter)\\nSu...      10  rec.sport.hockey"
            ]
          },
          "metadata": {
            "tags": []
          },
          "execution_count": 7
        }
      ]
    },
    {
      "cell_type": "markdown",
      "metadata": {
        "id": "7dZlxCN9YFzj",
        "colab_type": "text"
      },
      "source": [
        "## **Data esploration**"
      ]
    },
    {
      "cell_type": "markdown",
      "metadata": {
        "id": "Zl0uci1bSLER",
        "colab_type": "text"
      },
      "source": [
        "Dimensione del dataset"
      ]
    },
    {
      "cell_type": "code",
      "metadata": {
        "id": "b5jSb5Y8SEzR",
        "colab_type": "code",
        "outputId": "f28c7426-9cd2-4f7f-b731-0de8202908c2",
        "colab": {
          "base_uri": "https://localhost:8080/",
          "height": 34
        }
      },
      "source": [
        "df.shape"
      ],
      "execution_count": 8,
      "outputs": [
        {
          "output_type": "execute_result",
          "data": {
            "text/plain": [
              "(18846, 3)"
            ]
          },
          "metadata": {
            "tags": []
          },
          "execution_count": 8
        }
      ]
    },
    {
      "cell_type": "markdown",
      "metadata": {
        "id": "hwobk83tTInS",
        "colab_type": "text"
      },
      "source": [
        "Controlliamo se sono presenti **na**"
      ]
    },
    {
      "cell_type": "code",
      "metadata": {
        "id": "MH0lGOdVTIE0",
        "colab_type": "code",
        "outputId": "e40e3654-31b1-44b7-81b0-99648d4d1343",
        "colab": {
          "base_uri": "https://localhost:8080/",
          "height": 85
        }
      },
      "source": [
        "df.isnull().sum()"
      ],
      "execution_count": 9,
      "outputs": [
        {
          "output_type": "execute_result",
          "data": {
            "text/plain": [
              "text      0\n",
              "target    0\n",
              "title     0\n",
              "dtype: int64"
            ]
          },
          "metadata": {
            "tags": []
          },
          "execution_count": 9
        }
      ]
    },
    {
      "cell_type": "markdown",
      "metadata": {
        "id": "QdT7bYDVYmXQ",
        "colab_type": "text"
      },
      "source": [
        "Lista target"
      ]
    },
    {
      "cell_type": "code",
      "metadata": {
        "id": "zffHAtemYoKk",
        "colab_type": "code",
        "outputId": "7503ea25-229f-4716-e569-90daa8178adb",
        "colab": {
          "base_uri": "https://localhost:8080/",
          "height": 119
        }
      },
      "source": [
        "print(df.title.unique())"
      ],
      "execution_count": 10,
      "outputs": [
        {
          "output_type": "stream",
          "text": [
            "['rec.sport.hockey' 'comp.sys.ibm.pc.hardware' 'talk.politics.mideast'\n",
            " 'comp.sys.mac.hardware' 'sci.electronics' 'talk.religion.misc'\n",
            " 'sci.crypt' 'sci.med' 'alt.atheism' 'rec.motorcycles' 'rec.autos'\n",
            " 'comp.windows.x' 'comp.graphics' 'sci.space' 'talk.politics.guns'\n",
            " 'misc.forsale' 'rec.sport.baseball' 'talk.politics.misc'\n",
            " 'comp.os.ms-windows.misc' 'soc.religion.christian']\n"
          ],
          "name": "stdout"
        }
      ]
    },
    {
      "cell_type": "code",
      "metadata": {
        "id": "8F-Plq9XZbov",
        "colab_type": "code",
        "outputId": "d0c3edc2-37f7-4a37-cef3-a7f8a0d9e201",
        "colab": {
          "base_uri": "https://localhost:8080/",
          "height": 34
        }
      },
      "source": [
        "print(df.target.unique())"
      ],
      "execution_count": 11,
      "outputs": [
        {
          "output_type": "stream",
          "text": [
            "[10  3 17  4 12 19 11 13  0  8  7  5  1 14 16  6  9 18  2 15]\n"
          ],
          "name": "stdout"
        }
      ]
    },
    {
      "cell_type": "markdown",
      "metadata": {
        "id": "aX2KisJmUx2W",
        "colab_type": "text"
      },
      "source": [
        "Controlliamo se le categorie (target) sono bilanciate"
      ]
    },
    {
      "cell_type": "code",
      "metadata": {
        "id": "JbWqmHmSU2_T",
        "colab_type": "code",
        "outputId": "1613cc07-acc9-482e-a2f8-c7b3e7f10a8c",
        "colab": {
          "base_uri": "https://localhost:8080/",
          "height": 337
        }
      },
      "source": [
        "count_target = df['target'].value_counts()\n",
        "\n",
        "plt.figure(figsize=(9,5))\n",
        "sns.barplot(count_target.index, count_target.values, alpha=0.8)\n",
        "plt.ylabel('Number of Occurrences', fontsize=12)\n",
        "plt.xlabel('Target', fontsize=12);"
      ],
      "execution_count": 12,
      "outputs": [
        {
          "output_type": "display_data",
          "data": {
            "image/png": "[encoded data removed]",
            "text/plain": [
              "<Figure size 648x360 with 1 Axes>"
            ]
          },
          "metadata": {
            "tags": []
          }
        }
      ]
    },
    {
      "cell_type": "markdown",
      "metadata": {
        "id": "aOuZ_xrfZkny",
        "colab_type": "text"
      },
      "source": [
        "## **Preprocessing**"
      ]
    },
    {
      "cell_type": "markdown",
      "metadata": {
        "id": "D7AZoSjmaHYI",
        "colab_type": "text"
      },
      "source": [
        "Per le operazioni di preprocessing creiamo una nuova colonna del DataFrame df chiamata **text_processed**, mantenendo la colonna del testo originale"
      ]
    },
    {
      "cell_type": "markdown",
      "metadata": {
        "id": "xb-2n4MJZ-O3",
        "colab_type": "text"
      },
      "source": [
        "**1.** Conversione del testo in minuscolo"
      ]
    },
    {
      "cell_type": "code",
      "metadata": {
        "id": "UUp6ln_MaqQ6",
        "colab_type": "code",
        "colab": {}
      },
      "source": [
        "df['text_processed'] = df['text'].map(lambda x: x.lower())"
      ],
      "execution_count": 0,
      "outputs": []
    },
    {
      "cell_type": "markdown",
      "metadata": {
        "id": "ZGR2HIuea9Xw",
        "colab_type": "text"
      },
      "source": [
        "**2.** Eliminazione indirizzi mail"
      ]
    },
    {
      "cell_type": "code",
      "metadata": {
        "id": "jbfqNcouawih",
        "colab_type": "code",
        "colab": {}
      },
      "source": [
        "df['text_processed'] = df['text_processed'].map(lambda x: re.sub('\\S*@\\S*\\s?',' ', x))"
      ],
      "execution_count": 0,
      "outputs": []
    },
    {
      "cell_type": "markdown",
      "metadata": {
        "id": "UI_FjJzVbMiT",
        "colab_type": "text"
      },
      "source": [
        "**3.** Eliminazione numeri"
      ]
    },
    {
      "cell_type": "code",
      "metadata": {
        "id": "vQH_WDP_bSmN",
        "colab_type": "code",
        "colab": {}
      },
      "source": [
        "df['text_processed'] = df['text_processed'].map(lambda x: re.sub('\\d+',' ', x))"
      ],
      "execution_count": 0,
      "outputs": []
    },
    {
      "cell_type": "markdown",
      "metadata": {
        "id": "yEBNozx6bb1F",
        "colab_type": "text"
      },
      "source": [
        "**4.** Eliminazione caratteri di punteggiatura"
      ]
    },
    {
      "cell_type": "code",
      "metadata": {
        "id": "iyI5Zq27ba5m",
        "colab_type": "code",
        "colab": {}
      },
      "source": [
        "df['text_processed'] = df['text_processed'].map(lambda x: re.sub(r'[^\\w]', ' ', x))"
      ],
      "execution_count": 0,
      "outputs": []
    },
    {
      "cell_type": "markdown",
      "metadata": {
        "id": "Em3KYCkLbpU5",
        "colab_type": "text"
      },
      "source": [
        "**5.** Rimozione parole composta da 1 e due lettere"
      ]
    },
    {
      "cell_type": "code",
      "metadata": {
        "id": "A5cSvJ3ebvt6",
        "colab_type": "code",
        "colab": {}
      },
      "source": [
        "df['text_processed'] = df['text_processed'].astype(str).map(lambda x: re.sub(r'\\b\\w{1,2}\\b', '', x))"
      ],
      "execution_count": 0,
      "outputs": []
    },
    {
      "cell_type": "markdown",
      "metadata": {
        "id": "k1yB1zfBb8cG",
        "colab_type": "text"
      },
      "source": [
        "**6.** Sistemazione degli spazi che si sono creati con le precedenti operazioni"
      ]
    },
    {
      "cell_type": "code",
      "metadata": {
        "id": "p30vPrw9cEXN",
        "colab_type": "code",
        "colab": {}
      },
      "source": [
        "df['text_processed'] = df['text_processed'].map(lambda x: re.sub(' +', ' ', x))"
      ],
      "execution_count": 0,
      "outputs": []
    },
    {
      "cell_type": "code",
      "metadata": {
        "id": "oiu4AiEGcKwt",
        "colab_type": "code",
        "colab": {}
      },
      "source": [
        "df['text_processed'] = df['text_processed'].map(lambda x: x.lstrip()) #rimozione spazi di inizio riga"
      ],
      "execution_count": 0,
      "outputs": []
    },
    {
      "cell_type": "code",
      "metadata": {
        "id": "WeeHSU7rcO43",
        "colab_type": "code",
        "colab": {}
      },
      "source": [
        "df['text_processed'] = df['text_processed'].map(lambda x: x.rstrip()) #rimozione spazi di fine riga"
      ],
      "execution_count": 0,
      "outputs": []
    },
    {
      "cell_type": "markdown",
      "metadata": {
        "id": "f00osYvhcZMg",
        "colab_type": "text"
      },
      "source": [
        "**7.** Tokenizzazione"
      ]
    },
    {
      "cell_type": "code",
      "metadata": {
        "id": "A6lbOMj5ch92",
        "colab_type": "code",
        "colab": {}
      },
      "source": [
        "df['text_processed'] = df['text_processed'].apply(lambda x: nltk.word_tokenize(x))"
      ],
      "execution_count": 0,
      "outputs": []
    },
    {
      "cell_type": "markdown",
      "metadata": {
        "id": "Pw_2TvPcc1p9",
        "colab_type": "text"
      },
      "source": [
        "**8.** Rimozione Stopwords"
      ]
    },
    {
      "cell_type": "code",
      "metadata": {
        "id": "RIlnrDNVdCWn",
        "colab_type": "code",
        "colab": {}
      },
      "source": [
        "#lista stop_words\n",
        "en_stopwords = stopwords.words ('english')"
      ],
      "execution_count": 0,
      "outputs": []
    },
    {
      "cell_type": "code",
      "metadata": {
        "id": "L2u7OEH7dJzD",
        "colab_type": "code",
        "outputId": "67e11010-f660-4cd6-de7b-0e78ef6266d6",
        "colab": {
          "base_uri": "https://localhost:8080/",
          "height": 34
        }
      },
      "source": [
        "#numero di stopwords\n",
        "len(en_stopwords)"
      ],
      "execution_count": 23,
      "outputs": [
        {
          "output_type": "execute_result",
          "data": {
            "text/plain": [
              "179"
            ]
          },
          "metadata": {
            "tags": []
          },
          "execution_count": 23
        }
      ]
    },
    {
      "cell_type": "code",
      "metadata": {
        "id": "gUSOnLYfdVTj",
        "colab_type": "code",
        "colab": {}
      },
      "source": [
        "df['text_processed'] = df['text_processed'].apply(lambda x: [item for item in x if item not in en_stopwords])"
      ],
      "execution_count": 0,
      "outputs": []
    },
    {
      "cell_type": "markdown",
      "metadata": {
        "id": "zhLrtgKfdu7S",
        "colab_type": "text"
      },
      "source": [
        "Per effettuare le operazioni di lemmatizzazione e stemming verranno create quattro nuove colonne (rispettivamente **text_processed_lem**,  **text_processed_stem_porter**, **text_processed_stem_snowball** e **text_processed_stem_lancaster**) in modo da tenere separate le operazioni di lem e stem"
      ]
    },
    {
      "cell_type": "markdown",
      "metadata": {
        "id": "CUev6KF-dnmM",
        "colab_type": "text"
      },
      "source": [
        "**9.** Lemmatizzazione  "
      ]
    },
    {
      "cell_type": "code",
      "metadata": {
        "id": "2PsJ91UReNuP",
        "colab_type": "code",
        "colab": {}
      },
      "source": [
        "lemmatizer = WordNetLemmatizer()"
      ],
      "execution_count": 0,
      "outputs": []
    },
    {
      "cell_type": "code",
      "metadata": {
        "id": "8Jt7HUFseb5H",
        "colab_type": "code",
        "colab": {}
      },
      "source": [
        "df['text_processed_lem'] = df['text_processed'].apply(lambda x: [lemmatizer.lemmatize(y) for y in x])"
      ],
      "execution_count": 0,
      "outputs": []
    },
    {
      "cell_type": "markdown",
      "metadata": {
        "id": "pnUiVEbTeouY",
        "colab_type": "text"
      },
      "source": [
        "**10.** Stemming"
      ]
    },
    {
      "cell_type": "markdown",
      "metadata": {
        "id": "z4bIAHp7-QHb",
        "colab_type": "text"
      },
      "source": [
        "**10.1** Porter Stemmer"
      ]
    },
    {
      "cell_type": "code",
      "metadata": {
        "id": "IrqO3_jqerN1",
        "colab_type": "code",
        "colab": {}
      },
      "source": [
        "ps = PorterStemmer()"
      ],
      "execution_count": 0,
      "outputs": []
    },
    {
      "cell_type": "code",
      "metadata": {
        "id": "C86b9ag-e188",
        "colab_type": "code",
        "colab": {}
      },
      "source": [
        "df['text_processed_stem_porter'] = df['text_processed'].apply(lambda x: [ps.stem(y) for y in x])"
      ],
      "execution_count": 0,
      "outputs": []
    },
    {
      "cell_type": "markdown",
      "metadata": {
        "id": "mNfWPcvi-ddR",
        "colab_type": "text"
      },
      "source": [
        "**10.2** Snowball Stemmer"
      ]
    },
    {
      "cell_type": "code",
      "metadata": {
        "id": "dbvSOKac-0LS",
        "colab_type": "code",
        "colab": {}
      },
      "source": [
        "from nltk.stem.snowball import SnowballStemmer"
      ],
      "execution_count": 0,
      "outputs": []
    },
    {
      "cell_type": "code",
      "metadata": {
        "id": "SVYrxLiV-6A_",
        "colab_type": "code",
        "colab": {}
      },
      "source": [
        "ss = SnowballStemmer(\"english\")"
      ],
      "execution_count": 0,
      "outputs": []
    },
    {
      "cell_type": "code",
      "metadata": {
        "id": "uc001Kg__CfU",
        "colab_type": "code",
        "colab": {}
      },
      "source": [
        "df['text_processed_stem_snowball'] = df['text_processed'].apply(lambda x: [ss.stem(y) for y in x])"
      ],
      "execution_count": 0,
      "outputs": []
    },
    {
      "cell_type": "markdown",
      "metadata": {
        "id": "2DG4IOud_IV_",
        "colab_type": "text"
      },
      "source": [
        "**10.3** Lancaster Stemmer"
      ]
    },
    {
      "cell_type": "code",
      "metadata": {
        "id": "OK3o_nwQ_ZZ7",
        "colab_type": "code",
        "colab": {}
      },
      "source": [
        "from nltk.stem import LancasterStemmer"
      ],
      "execution_count": 0,
      "outputs": []
    },
    {
      "cell_type": "code",
      "metadata": {
        "id": "-cwTgYBl_Zhk",
        "colab_type": "code",
        "colab": {}
      },
      "source": [
        "ls = LancasterStemmer()"
      ],
      "execution_count": 0,
      "outputs": []
    },
    {
      "cell_type": "code",
      "metadata": {
        "id": "LDXxLWzY_m9p",
        "colab_type": "code",
        "colab": {}
      },
      "source": [
        "df['text_processed_stem_lancaster'] = df['text_processed'].apply(lambda x: [ls.stem(y) for y in x])"
      ],
      "execution_count": 0,
      "outputs": []
    },
    {
      "cell_type": "markdown",
      "metadata": {
        "id": "aaCnIuOChty9",
        "colab_type": "text"
      },
      "source": [
        "Teminata la fase di preprocessing del testo suddividiamo il Dataset in **train set (70%)** e **test set (30%)** in modo da poter addestrare e testare il classificatore  \n",
        "\n",
        "**train_lem_x**: train set  di text_processed_lem  \n",
        "**train_lem_y**: target train set di text_processed_lem  \n",
        "**test_lem_x**: test set di text_processed_lem   \n",
        "**test_lem_y**: target test di text_processed_lem \n",
        "\n",
        "**train_stem_porter_x**: train set  di text_processed_stem_porter  \n",
        "**train_stem_porter_y**: target train set di text_processed_stem_porter    \n",
        "**test_stem_porter_x**: test set di text_processed_stem_porter     \n",
        "**test_stem_porter_y**: target test di text_processed_stem_porter  \n",
        "\n",
        "**train_stem_snowball_x**: train set  di text_processed_stem_snowball  \n",
        "**train_stem_porter_snowball_y**: target train set di text_processed_stem_snowball      \n",
        "**test_stem_porter_snowball_x**: test set di text_processed_stem_snowball       \n",
        "**test_stem_porter_snowball_y**: target test di text_processed_stem_snowball  \n",
        "\n",
        "**train_stem_lancaster_x**: train set  di text_processed_stem_lancaster    \n",
        "**train_stem_porter_lancaster_y**: target train set di text_processed_stem_lancaster        \n",
        "**test_stem_porter_lancaster_x**: test set di text_processed_stem_lancaster         \n",
        "**test_stem_porter_lancaster_y**: target test di text_processed_stem_lancaster  \n"
      ]
    },
    {
      "cell_type": "code",
      "metadata": {
        "id": "ZglTUv1XiGn4",
        "colab_type": "code",
        "colab": {}
      },
      "source": [
        "train_lem_x, test_lem_x, train_lem_y, test_lem_y = model_selection.train_test_split(df['text_processed_lem'], df['target'], \n",
        "                                                                                    train_size= 0.7, test_size= 0.3, \n",
        "                                                                                    random_state = 123, shuffle = True)"
      ],
      "execution_count": 0,
      "outputs": []
    },
    {
      "cell_type": "code",
      "metadata": {
        "id": "Tqg5PAUctHin",
        "colab_type": "code",
        "colab": {}
      },
      "source": [
        "train_stem_porter_x, test_stem_porter_x, train_stem_porter_y, test_stem_porter_y = model_selection.train_test_split(df['text_processed_stem_porter'], df['target'], \n",
        "                                                                                    train_size= 0.7, test_size= 0.3, \n",
        "                                                                                    random_state = 123, shuffle = True)"
      ],
      "execution_count": 0,
      "outputs": []
    },
    {
      "cell_type": "code",
      "metadata": {
        "id": "kc7nbs55BUt5",
        "colab_type": "code",
        "colab": {}
      },
      "source": [
        "train_stem_snowball_x, test_stem_snowball_x, train_stem_snowball_y, test_stem_snowball_y = model_selection.train_test_split(df['text_processed_stem_snowball'], df['target'], \n",
        "                                                                                    train_size= 0.7, test_size= 0.3, \n",
        "                                                                                    random_state = 123, shuffle = True)"
      ],
      "execution_count": 0,
      "outputs": []
    },
    {
      "cell_type": "code",
      "metadata": {
        "id": "cKCTzpoQC_Ub",
        "colab_type": "code",
        "colab": {}
      },
      "source": [
        "train_stem_lancaster_x, test_stem_lancaster_x, train_stem_lancaster_y, test_stem_lancaster_y = model_selection.train_test_split(df['text_processed_stem_lancaster'], df['target'], \n",
        "                                                                                    train_size= 0.7, test_size= 0.3, \n",
        "                                                                                    random_state = 123, shuffle = True)"
      ],
      "execution_count": 0,
      "outputs": []
    },
    {
      "cell_type": "code",
      "metadata": {
        "id": "JFb9Hyxsti38",
        "colab_type": "code",
        "outputId": "fbe1deb4-5151-4691-bab2-7a39d2b4f415",
        "colab": {
          "base_uri": "https://localhost:8080/",
          "height": 153
        }
      },
      "source": [
        "print('La dimensione del train set dei dati \"lemmatizzati\" (train_lem_x) è', len(train_lem_x))\n",
        "print('La dimensione del test set dei dati \"lemmatizzati\" (test_lem_x) è', len(test_lem_x))\n",
        "\n",
        "print('La dimensione del train set dei dati \"stemmatizzati (Porter)\" (train_stem_porter_x) è', len(train_stem_porter_x))\n",
        "print('La dimensione del test set dei dati \"stemmatizzati (Porter)\" (test_stem_porter_x) è', len(test_stem_porter_x))\n",
        "\n",
        "print('La dimensione del train set dei dati \"stemmatizzati (Snowball)\" (train_stem_snowball_x) è', len(train_stem_snowball_x))\n",
        "print('La dimensione del test set dei dati \"stemmatizzati (Snowball)\" (test_stem_snowball_x) è', len(test_stem_snowball_x))\n",
        "\n",
        "print('La dimensione del train set dei dati \"stemmatizzati (Lancaster)\" (train_stem_lancaster_x) è', len(train_stem_lancaster_x))\n",
        "print('La dimensione del test set dei dati \"stemmatizzati (Lancaster)\" (test_stem_lancaster_x) è', len(test_stem_lancaster_x))\n"
      ],
      "execution_count": 39,
      "outputs": [
        {
          "output_type": "stream",
          "text": [
            "La dimensione del train set dei dati \"lemmatizzati\" (train_lem_x) è 13192\n",
            "La dimensione del test set dei dati \"lemmatizzati\" (test_lem_x) è 5654\n",
            "La dimensione del train set dei dati \"stemmatizzati (Porter)\" (train_stem_porter_x) è 13192\n",
            "La dimensione del test set dei dati \"stemmatizzati (Porter)\" (test_stem_porter_x) è 5654\n",
            "La dimensione del train set dei dati \"stemmatizzati (Snowball)\" (train_stem_snowball_x) è 13192\n",
            "La dimensione del test set dei dati \"stemmatizzati (Snowball)\" (test_stem_snowball_x) è 5654\n",
            "La dimensione del train set dei dati \"stemmatizzati (Lancaster)\" (train_stem_lancaster_x) è 13192\n",
            "La dimensione del test set dei dati \"stemmatizzati (Lancaster)\" (test_stem_lancaster_x) è 5654\n"
          ],
          "name": "stdout"
        }
      ]
    },
    {
      "cell_type": "markdown",
      "metadata": {
        "id": "ncelmtD_gDhU",
        "colab_type": "text"
      },
      "source": [
        "## **Feature Engineering**  \n",
        "In questa fase creiamo le strutture **tf** e **tf-idf** che saranno poi utilizzate dagli algoritmi di Machine Learning per effettuare la classificazione"
      ]
    },
    {
      "cell_type": "markdown",
      "metadata": {
        "id": "wLjzuUowg7XW",
        "colab_type": "text"
      },
      "source": [
        "**Term Frequency**"
      ]
    },
    {
      "cell_type": "code",
      "metadata": {
        "id": "6AXGWIAYg_v9",
        "colab_type": "code",
        "colab": {}
      },
      "source": [
        "count_vect = CountVectorizer(analyzer='word')"
      ],
      "execution_count": 0,
      "outputs": []
    },
    {
      "cell_type": "markdown",
      "metadata": {
        "id": "-l6btAoiwJEO",
        "colab_type": "text"
      },
      "source": [
        "I successivi otto passaggi servono per adeguare il formato alla funzione di creazione delle matrici tf e tf-idf"
      ]
    },
    {
      "cell_type": "code",
      "metadata": {
        "id": "Op8z8ZdRuxS2",
        "colab_type": "code",
        "colab": {}
      },
      "source": [
        "a = train_lem_x.astype(str)"
      ],
      "execution_count": 0,
      "outputs": []
    },
    {
      "cell_type": "code",
      "metadata": {
        "id": "py7TIwyLvTYz",
        "colab_type": "code",
        "colab": {}
      },
      "source": [
        "b = test_lem_x.astype(str)"
      ],
      "execution_count": 0,
      "outputs": []
    },
    {
      "cell_type": "code",
      "metadata": {
        "id": "4Okq5cZhvXuG",
        "colab_type": "code",
        "colab": {}
      },
      "source": [
        "c = train_stem_porter_x.astype(str)"
      ],
      "execution_count": 0,
      "outputs": []
    },
    {
      "cell_type": "code",
      "metadata": {
        "id": "puYf23k9vbhC",
        "colab_type": "code",
        "colab": {}
      },
      "source": [
        "d = test_stem_porter_x.astype(str)"
      ],
      "execution_count": 0,
      "outputs": []
    },
    {
      "cell_type": "code",
      "metadata": {
        "id": "lt-eFuGFG5eO",
        "colab_type": "code",
        "colab": {}
      },
      "source": [
        "e = train_stem_snowball_x.astype(str)"
      ],
      "execution_count": 0,
      "outputs": []
    },
    {
      "cell_type": "code",
      "metadata": {
        "id": "rhLyooZ4G99j",
        "colab_type": "code",
        "colab": {}
      },
      "source": [
        "f = test_stem_snowball_x.astype(str)"
      ],
      "execution_count": 0,
      "outputs": []
    },
    {
      "cell_type": "code",
      "metadata": {
        "id": "nA1awuUsHEzP",
        "colab_type": "code",
        "colab": {}
      },
      "source": [
        "g = train_stem_lancaster_x.astype(str)"
      ],
      "execution_count": 0,
      "outputs": []
    },
    {
      "cell_type": "code",
      "metadata": {
        "id": "2Oj4Sj5rHIOl",
        "colab_type": "code",
        "colab": {}
      },
      "source": [
        "h = test_stem_lancaster_x.astype(str)"
      ],
      "execution_count": 0,
      "outputs": []
    },
    {
      "cell_type": "markdown",
      "metadata": {
        "id": "XvCcnDqGw1Yq",
        "colab_type": "text"
      },
      "source": [
        "Creazione matrice tf per train_lem_x"
      ]
    },
    {
      "cell_type": "code",
      "metadata": {
        "id": "GrKRj-e7vfAS",
        "colab_type": "code",
        "outputId": "94c54769-d445-435b-d715-4e78874fe820",
        "colab": {
          "base_uri": "https://localhost:8080/",
          "height": 51
        }
      },
      "source": [
        "tf_train_lem_x = count_vect.fit_transform(a)\n",
        "tf_train_lem_x"
      ],
      "execution_count": 49,
      "outputs": [
        {
          "output_type": "execute_result",
          "data": {
            "text/plain": [
              "<13192x78462 sparse matrix of type '<class 'numpy.int64'>'\n",
              "\twith 1315155 stored elements in Compressed Sparse Row format>"
            ]
          },
          "metadata": {
            "tags": []
          },
          "execution_count": 49
        }
      ]
    },
    {
      "cell_type": "markdown",
      "metadata": {
        "id": "WfvmneR5w9VP",
        "colab_type": "text"
      },
      "source": [
        "Creazione matrice tf per test_lem_x"
      ]
    },
    {
      "cell_type": "code",
      "metadata": {
        "id": "SGfYGZBVxCvJ",
        "colab_type": "code",
        "outputId": "1b701d59-3c4a-4b6b-e35b-77e1a4f7eae1",
        "colab": {
          "base_uri": "https://localhost:8080/",
          "height": 51
        }
      },
      "source": [
        "tf_test_lem_x = count_vect.transform(b)\n",
        "tf_test_lem_x"
      ],
      "execution_count": 50,
      "outputs": [
        {
          "output_type": "execute_result",
          "data": {
            "text/plain": [
              "<5654x78462 sparse matrix of type '<class 'numpy.int64'>'\n",
              "\twith 549716 stored elements in Compressed Sparse Row format>"
            ]
          },
          "metadata": {
            "tags": []
          },
          "execution_count": 50
        }
      ]
    },
    {
      "cell_type": "markdown",
      "metadata": {
        "id": "S22HWHnexTwg",
        "colab_type": "text"
      },
      "source": [
        "Creazione matrice tf per train_stem_porter_x"
      ]
    },
    {
      "cell_type": "code",
      "metadata": {
        "id": "utYfIH8KxZLh",
        "colab_type": "code",
        "outputId": "b2879184-2455-4829-8446-82e4459159a2",
        "colab": {
          "base_uri": "https://localhost:8080/",
          "height": 51
        }
      },
      "source": [
        "tf_train_stem_porter_x = count_vect.fit_transform(c)\n",
        "tf_train_stem_porter_x"
      ],
      "execution_count": 51,
      "outputs": [
        {
          "output_type": "execute_result",
          "data": {
            "text/plain": [
              "<13192x64774 sparse matrix of type '<class 'numpy.int64'>'\n",
              "\twith 1271165 stored elements in Compressed Sparse Row format>"
            ]
          },
          "metadata": {
            "tags": []
          },
          "execution_count": 51
        }
      ]
    },
    {
      "cell_type": "markdown",
      "metadata": {
        "id": "j8umpKe5xsfC",
        "colab_type": "text"
      },
      "source": [
        "Creazione matrice tf per test_stem_porter_x"
      ]
    },
    {
      "cell_type": "code",
      "metadata": {
        "id": "ofb_R-AOxxvr",
        "colab_type": "code",
        "outputId": "7e5663fc-24eb-4b5e-a158-b955f8ca66b7",
        "colab": {
          "base_uri": "https://localhost:8080/",
          "height": 51
        }
      },
      "source": [
        "tf_test_stem_porter_x = count_vect.transform(d)\n",
        "tf_test_stem_porter_x"
      ],
      "execution_count": 52,
      "outputs": [
        {
          "output_type": "execute_result",
          "data": {
            "text/plain": [
              "<5654x64774 sparse matrix of type '<class 'numpy.int64'>'\n",
              "\twith 534196 stored elements in Compressed Sparse Row format>"
            ]
          },
          "metadata": {
            "tags": []
          },
          "execution_count": 52
        }
      ]
    },
    {
      "cell_type": "markdown",
      "metadata": {
        "id": "qrGifPWDHsGB",
        "colab_type": "text"
      },
      "source": [
        "Creazione matrice tf per train_stem_snowball_x"
      ]
    },
    {
      "cell_type": "code",
      "metadata": {
        "id": "24NFRA6oH1ra",
        "colab_type": "code",
        "outputId": "42e7668c-f1f4-4f5a-de58-40761d114e89",
        "colab": {
          "base_uri": "https://localhost:8080/",
          "height": 51
        }
      },
      "source": [
        "tf_train_stem_snowball_x = count_vect.fit_transform(e)\n",
        "tf_train_stem_snowball_x"
      ],
      "execution_count": 53,
      "outputs": [
        {
          "output_type": "execute_result",
          "data": {
            "text/plain": [
              "<13192x64592 sparse matrix of type '<class 'numpy.int64'>'\n",
              "\twith 1270062 stored elements in Compressed Sparse Row format>"
            ]
          },
          "metadata": {
            "tags": []
          },
          "execution_count": 53
        }
      ]
    },
    {
      "cell_type": "markdown",
      "metadata": {
        "id": "4xvygJcLH-0X",
        "colab_type": "text"
      },
      "source": [
        "Creazione matrice tf per test_stem_snowball_x"
      ]
    },
    {
      "cell_type": "code",
      "metadata": {
        "id": "8FlmtlJeIFDq",
        "colab_type": "code",
        "outputId": "6dc41b6f-aef6-4db8-cb02-dfb073dc0259",
        "colab": {
          "base_uri": "https://localhost:8080/",
          "height": 51
        }
      },
      "source": [
        "tf_test_stem_snowball_x = count_vect.transform(f)\n",
        "tf_test_stem_snowball_x"
      ],
      "execution_count": 54,
      "outputs": [
        {
          "output_type": "execute_result",
          "data": {
            "text/plain": [
              "<5654x64592 sparse matrix of type '<class 'numpy.int64'>'\n",
              "\twith 533743 stored elements in Compressed Sparse Row format>"
            ]
          },
          "metadata": {
            "tags": []
          },
          "execution_count": 54
        }
      ]
    },
    {
      "cell_type": "markdown",
      "metadata": {
        "id": "BwXOm-SQIREH",
        "colab_type": "text"
      },
      "source": [
        "Creazione matrice tf per train_stem_lancaster_x"
      ]
    },
    {
      "cell_type": "code",
      "metadata": {
        "id": "NGZKTZqKIWxw",
        "colab_type": "code",
        "outputId": "2d2bfe12-5766-4082-a93f-e82ea51199df",
        "colab": {
          "base_uri": "https://localhost:8080/",
          "height": 51
        }
      },
      "source": [
        "tf_train_stem_lancaster_x = count_vect.fit_transform(g)\n",
        "tf_train_stem_lancaster_x"
      ],
      "execution_count": 55,
      "outputs": [
        {
          "output_type": "execute_result",
          "data": {
            "text/plain": [
              "<13192x55921 sparse matrix of type '<class 'numpy.int64'>'\n",
              "\twith 1246743 stored elements in Compressed Sparse Row format>"
            ]
          },
          "metadata": {
            "tags": []
          },
          "execution_count": 55
        }
      ]
    },
    {
      "cell_type": "markdown",
      "metadata": {
        "id": "rxpJwl3lIeCP",
        "colab_type": "text"
      },
      "source": [
        "Creazione matrice tf per test_stem_lancaster_x"
      ]
    },
    {
      "cell_type": "code",
      "metadata": {
        "id": "DSbbY8cPIkCz",
        "colab_type": "code",
        "outputId": "bbe053b0-7e75-4b6c-bea8-235f4436d86a",
        "colab": {
          "base_uri": "https://localhost:8080/",
          "height": 51
        }
      },
      "source": [
        "tf_test_stem_lancaster_x = count_vect.transform(h)\n",
        "tf_test_stem_lancaster_x"
      ],
      "execution_count": 56,
      "outputs": [
        {
          "output_type": "execute_result",
          "data": {
            "text/plain": [
              "<5654x55921 sparse matrix of type '<class 'numpy.int64'>'\n",
              "\twith 526015 stored elements in Compressed Sparse Row format>"
            ]
          },
          "metadata": {
            "tags": []
          },
          "execution_count": 56
        }
      ]
    },
    {
      "cell_type": "markdown",
      "metadata": {
        "id": "2Lm7RW5uyI6s",
        "colab_type": "text"
      },
      "source": [
        "**TF-IDF unigram** "
      ]
    },
    {
      "cell_type": "code",
      "metadata": {
        "id": "5yOE9RRnypS8",
        "colab_type": "code",
        "colab": {}
      },
      "source": [
        "tfidf = TfidfVectorizer(max_features=20000, analyzer='word', ngram_range=(1,1))"
      ],
      "execution_count": 0,
      "outputs": []
    },
    {
      "cell_type": "markdown",
      "metadata": {
        "id": "b0D8WNKv1tBw",
        "colab_type": "text"
      },
      "source": [
        "Creazione matrice tf-idf per train_lem_x"
      ]
    },
    {
      "cell_type": "code",
      "metadata": {
        "id": "LfoYnGiJ12L8",
        "colab_type": "code",
        "colab": {}
      },
      "source": [
        "tfidf.fit(a)\n",
        "tfidf_train_lem_x =  tfidf.transform(a)"
      ],
      "execution_count": 0,
      "outputs": []
    },
    {
      "cell_type": "code",
      "metadata": {
        "id": "jWYFybMB2cT2",
        "colab_type": "code",
        "outputId": "54463c8c-110d-4632-d512-00c1de97b863",
        "colab": {
          "base_uri": "https://localhost:8080/",
          "height": 51
        }
      },
      "source": [
        "tfidf_train_lem_x"
      ],
      "execution_count": 59,
      "outputs": [
        {
          "output_type": "execute_result",
          "data": {
            "text/plain": [
              "<13192x20000 sparse matrix of type '<class 'numpy.float64'>'\n",
              "\twith 1218276 stored elements in Compressed Sparse Row format>"
            ]
          },
          "metadata": {
            "tags": []
          },
          "execution_count": 59
        }
      ]
    },
    {
      "cell_type": "markdown",
      "metadata": {
        "id": "MbIHeCf-12Xm",
        "colab_type": "text"
      },
      "source": [
        "Creazione matrice tf-idf per test_lem_x"
      ]
    },
    {
      "cell_type": "code",
      "metadata": {
        "id": "ybbFxmJx16G3",
        "colab_type": "code",
        "colab": {}
      },
      "source": [
        "tfidf_test_lem_x =  tfidf.transform(b)"
      ],
      "execution_count": 0,
      "outputs": []
    },
    {
      "cell_type": "code",
      "metadata": {
        "id": "zbFexcuk2s4_",
        "colab_type": "code",
        "outputId": "31cb2988-c06c-4275-b763-1a05ad70a8fd",
        "colab": {
          "base_uri": "https://localhost:8080/",
          "height": 51
        }
      },
      "source": [
        "tfidf_test_lem_x"
      ],
      "execution_count": 61,
      "outputs": [
        {
          "output_type": "execute_result",
          "data": {
            "text/plain": [
              "<5654x20000 sparse matrix of type '<class 'numpy.float64'>'\n",
              "\twith 518723 stored elements in Compressed Sparse Row format>"
            ]
          },
          "metadata": {
            "tags": []
          },
          "execution_count": 61
        }
      ]
    },
    {
      "cell_type": "markdown",
      "metadata": {
        "id": "97B6Bju316O0",
        "colab_type": "text"
      },
      "source": [
        "Creazione matrice tf-idf per train_stem_porter_x"
      ]
    },
    {
      "cell_type": "code",
      "metadata": {
        "id": "gp9Gry0P18WY",
        "colab_type": "code",
        "colab": {}
      },
      "source": [
        "tfidf.fit(c)\n",
        "tfidf_train_stem_porter_x =  tfidf.transform(c)"
      ],
      "execution_count": 0,
      "outputs": []
    },
    {
      "cell_type": "code",
      "metadata": {
        "id": "jpO7yOHc22JF",
        "colab_type": "code",
        "outputId": "9ac9cda6-dcf5-4efd-a7ba-e058dbef0a51",
        "colab": {
          "base_uri": "https://localhost:8080/",
          "height": 51
        }
      },
      "source": [
        "tfidf_train_stem_porter_x"
      ],
      "execution_count": 63,
      "outputs": [
        {
          "output_type": "execute_result",
          "data": {
            "text/plain": [
              "<13192x20000 sparse matrix of type '<class 'numpy.float64'>'\n",
              "\twith 1207309 stored elements in Compressed Sparse Row format>"
            ]
          },
          "metadata": {
            "tags": []
          },
          "execution_count": 63
        }
      ]
    },
    {
      "cell_type": "markdown",
      "metadata": {
        "id": "eU-vGvbg18ew",
        "colab_type": "text"
      },
      "source": [
        "Creazione matrice tf-idf per test_stem_porter_x"
      ]
    },
    {
      "cell_type": "code",
      "metadata": {
        "id": "PWfT8Lpt25Wn",
        "colab_type": "code",
        "colab": {}
      },
      "source": [
        "tfidf_test_stem_porter_x =  tfidf.transform(d)"
      ],
      "execution_count": 0,
      "outputs": []
    },
    {
      "cell_type": "code",
      "metadata": {
        "id": "BYrE8THx3D23",
        "colab_type": "code",
        "outputId": "9a1ab6f0-1660-4d6f-e5ff-db0258929cec",
        "colab": {
          "base_uri": "https://localhost:8080/",
          "height": 51
        }
      },
      "source": [
        "tfidf_test_stem_porter_x"
      ],
      "execution_count": 65,
      "outputs": [
        {
          "output_type": "execute_result",
          "data": {
            "text/plain": [
              "<5654x20000 sparse matrix of type '<class 'numpy.float64'>'\n",
              "\twith 514858 stored elements in Compressed Sparse Row format>"
            ]
          },
          "metadata": {
            "tags": []
          },
          "execution_count": 65
        }
      ]
    },
    {
      "cell_type": "markdown",
      "metadata": {
        "id": "DCKfj9gjOtCe",
        "colab_type": "text"
      },
      "source": [
        "Creazione matrice tf-idf per train_stem_snowball_x"
      ]
    },
    {
      "cell_type": "code",
      "metadata": {
        "id": "W1jpdm-PO1Pz",
        "colab_type": "code",
        "colab": {}
      },
      "source": [
        "tfidf.fit(e)\n",
        "tfidf_train_stem_snowball_x =  tfidf.transform(e)"
      ],
      "execution_count": 0,
      "outputs": []
    },
    {
      "cell_type": "code",
      "metadata": {
        "id": "ruKTvZT3O1ZT",
        "colab_type": "code",
        "outputId": "b14b7bb3-d6ce-41e4-94e5-cff93993b848",
        "colab": {
          "base_uri": "https://localhost:8080/",
          "height": 51
        }
      },
      "source": [
        "tfidf_train_stem_snowball_x"
      ],
      "execution_count": 67,
      "outputs": [
        {
          "output_type": "execute_result",
          "data": {
            "text/plain": [
              "<13192x20000 sparse matrix of type '<class 'numpy.float64'>'\n",
              "\twith 1206779 stored elements in Compressed Sparse Row format>"
            ]
          },
          "metadata": {
            "tags": []
          },
          "execution_count": 67
        }
      ]
    },
    {
      "cell_type": "markdown",
      "metadata": {
        "id": "xHzIvL3GPBHk",
        "colab_type": "text"
      },
      "source": [
        "Creazione matrice tf-idf per test_stem_snowball_x"
      ]
    },
    {
      "cell_type": "code",
      "metadata": {
        "id": "Z5FPovcUPD0R",
        "colab_type": "code",
        "colab": {}
      },
      "source": [
        "tfidf_test_stem_snowball_x =  tfidf.transform(f)"
      ],
      "execution_count": 0,
      "outputs": []
    },
    {
      "cell_type": "code",
      "metadata": {
        "id": "hJLBUuXJPD9f",
        "colab_type": "code",
        "outputId": "eabe1f2a-5a24-4f68-a06f-c9f403e0b14a",
        "colab": {
          "base_uri": "https://localhost:8080/",
          "height": 51
        }
      },
      "source": [
        "tfidf_test_stem_snowball_x"
      ],
      "execution_count": 69,
      "outputs": [
        {
          "output_type": "execute_result",
          "data": {
            "text/plain": [
              "<5654x20000 sparse matrix of type '<class 'numpy.float64'>'\n",
              "\twith 514716 stored elements in Compressed Sparse Row format>"
            ]
          },
          "metadata": {
            "tags": []
          },
          "execution_count": 69
        }
      ]
    },
    {
      "cell_type": "markdown",
      "metadata": {
        "id": "btMhemjNPKdM",
        "colab_type": "text"
      },
      "source": [
        "Creazione matrice tf-idf per train_stem_lancaster_x"
      ]
    },
    {
      "cell_type": "code",
      "metadata": {
        "id": "0P6MpJnXPQbo",
        "colab_type": "code",
        "colab": {}
      },
      "source": [
        "tfidf.fit(g)\n",
        "tfidf_train_stem_lancaster_x =  tfidf.transform(g)"
      ],
      "execution_count": 0,
      "outputs": []
    },
    {
      "cell_type": "code",
      "metadata": {
        "id": "HVm5kzRFPYzj",
        "colab_type": "code",
        "outputId": "045d2866-5924-40e3-cb49-589444a03633",
        "colab": {
          "base_uri": "https://localhost:8080/",
          "height": 51
        }
      },
      "source": [
        "tfidf_train_stem_lancaster_x"
      ],
      "execution_count": 71,
      "outputs": [
        {
          "output_type": "execute_result",
          "data": {
            "text/plain": [
              "<13192x20000 sparse matrix of type '<class 'numpy.float64'>'\n",
              "\twith 1200364 stored elements in Compressed Sparse Row format>"
            ]
          },
          "metadata": {
            "tags": []
          },
          "execution_count": 71
        }
      ]
    },
    {
      "cell_type": "markdown",
      "metadata": {
        "id": "kXkw6cu-PX-u",
        "colab_type": "text"
      },
      "source": [
        "Creazione matrice tf-idf per test_stem_lancaster_x"
      ]
    },
    {
      "cell_type": "code",
      "metadata": {
        "id": "Oy6PltR6PjaK",
        "colab_type": "code",
        "colab": {}
      },
      "source": [
        "tfidf_test_stem_lancaster_x =  tfidf.transform(h)"
      ],
      "execution_count": 0,
      "outputs": []
    },
    {
      "cell_type": "code",
      "metadata": {
        "id": "8uMkEbOpPm4a",
        "colab_type": "code",
        "outputId": "ced51de7-6ecf-456e-9a9b-9f40c2366355",
        "colab": {
          "base_uri": "https://localhost:8080/",
          "height": 51
        }
      },
      "source": [
        "tfidf_test_stem_lancaster_x"
      ],
      "execution_count": 73,
      "outputs": [
        {
          "output_type": "execute_result",
          "data": {
            "text/plain": [
              "<5654x20000 sparse matrix of type '<class 'numpy.float64'>'\n",
              "\twith 512618 stored elements in Compressed Sparse Row format>"
            ]
          },
          "metadata": {
            "tags": []
          },
          "execution_count": 73
        }
      ]
    },
    {
      "cell_type": "markdown",
      "metadata": {
        "id": "wSZlxJYh3KUS",
        "colab_type": "text"
      },
      "source": [
        "**TF-IDF unigram + bigram** "
      ]
    },
    {
      "cell_type": "code",
      "metadata": {
        "id": "i9Rj0-md3J1A",
        "colab_type": "code",
        "colab": {}
      },
      "source": [
        "bi_tfidf = TfidfVectorizer(max_features=20000, analyzer='word',ngram_range=(1,2))"
      ],
      "execution_count": 0,
      "outputs": []
    },
    {
      "cell_type": "markdown",
      "metadata": {
        "id": "Dz9Tkt8m3UqZ",
        "colab_type": "text"
      },
      "source": [
        "Creazione matrice tf-idf bigram per train_lem_x"
      ]
    },
    {
      "cell_type": "code",
      "metadata": {
        "id": "Os5dQ2J33Xoz",
        "colab_type": "code",
        "colab": {}
      },
      "source": [
        "bi_tfidf.fit(a)\n",
        "bi_train_lem_x =  bi_tfidf.transform(a)"
      ],
      "execution_count": 0,
      "outputs": []
    },
    {
      "cell_type": "code",
      "metadata": {
        "id": "3xpN7Jss3tdI",
        "colab_type": "code",
        "outputId": "05dbf0f6-18bd-4bdd-817d-540842de7a9c",
        "colab": {
          "base_uri": "https://localhost:8080/",
          "height": 51
        }
      },
      "source": [
        "bi_train_lem_x"
      ],
      "execution_count": 76,
      "outputs": [
        {
          "output_type": "execute_result",
          "data": {
            "text/plain": [
              "<13192x20000 sparse matrix of type '<class 'numpy.float64'>'\n",
              "\twith 1412473 stored elements in Compressed Sparse Row format>"
            ]
          },
          "metadata": {
            "tags": []
          },
          "execution_count": 76
        }
      ]
    },
    {
      "cell_type": "markdown",
      "metadata": {
        "id": "7QvWkXqZ3X8Z",
        "colab_type": "text"
      },
      "source": [
        "Creazione matrice tf-idf bigram per test_lem_x"
      ]
    },
    {
      "cell_type": "code",
      "metadata": {
        "id": "Xp3be2ZK3bNV",
        "colab_type": "code",
        "colab": {}
      },
      "source": [
        "bi_test_lem_x =  bi_tfidf.transform(b)"
      ],
      "execution_count": 0,
      "outputs": []
    },
    {
      "cell_type": "code",
      "metadata": {
        "id": "AJoc4ZoO4Lk2",
        "colab_type": "code",
        "outputId": "527efbce-ea6a-4c56-bba6-5092715bc280",
        "colab": {
          "base_uri": "https://localhost:8080/",
          "height": 51
        }
      },
      "source": [
        "bi_test_lem_x"
      ],
      "execution_count": 78,
      "outputs": [
        {
          "output_type": "execute_result",
          "data": {
            "text/plain": [
              "<5654x20000 sparse matrix of type '<class 'numpy.float64'>'\n",
              "\twith 599015 stored elements in Compressed Sparse Row format>"
            ]
          },
          "metadata": {
            "tags": []
          },
          "execution_count": 78
        }
      ]
    },
    {
      "cell_type": "markdown",
      "metadata": {
        "id": "EZQhlKY63bXy",
        "colab_type": "text"
      },
      "source": [
        "Creazione matrice tf-idf bigram per train_stem_porter_x"
      ]
    },
    {
      "cell_type": "code",
      "metadata": {
        "id": "0vNkKHKS3ddJ",
        "colab_type": "code",
        "colab": {}
      },
      "source": [
        "bi_tfidf.fit(c)\n",
        "bi_train_stem_porter_x =  bi_tfidf.transform(c)"
      ],
      "execution_count": 0,
      "outputs": []
    },
    {
      "cell_type": "code",
      "metadata": {
        "id": "futUIlUH4ce_",
        "colab_type": "code",
        "outputId": "1c881725-959d-4bf5-a9f9-5fbf2629f28b",
        "colab": {
          "base_uri": "https://localhost:8080/",
          "height": 51
        }
      },
      "source": [
        "bi_train_stem_porter_x"
      ],
      "execution_count": 80,
      "outputs": [
        {
          "output_type": "execute_result",
          "data": {
            "text/plain": [
              "<13192x20000 sparse matrix of type '<class 'numpy.float64'>'\n",
              "\twith 1436664 stored elements in Compressed Sparse Row format>"
            ]
          },
          "metadata": {
            "tags": []
          },
          "execution_count": 80
        }
      ]
    },
    {
      "cell_type": "markdown",
      "metadata": {
        "id": "rkF8GxZX3dsT",
        "colab_type": "text"
      },
      "source": [
        "Creazione matrice tf-idf bigram per test_stem_porter_x"
      ]
    },
    {
      "cell_type": "code",
      "metadata": {
        "id": "leiDfo2J4jj9",
        "colab_type": "code",
        "colab": {}
      },
      "source": [
        "bi_test_stem_porter_x =  bi_tfidf.transform(d)"
      ],
      "execution_count": 0,
      "outputs": []
    },
    {
      "cell_type": "code",
      "metadata": {
        "id": "NyvyV4iC4vqW",
        "colab_type": "code",
        "outputId": "7d472b23-b4f3-4302-8088-ad6f0fe82d6c",
        "colab": {
          "base_uri": "https://localhost:8080/",
          "height": 51
        }
      },
      "source": [
        "bi_test_stem_porter_x"
      ],
      "execution_count": 82,
      "outputs": [
        {
          "output_type": "execute_result",
          "data": {
            "text/plain": [
              "<5654x20000 sparse matrix of type '<class 'numpy.float64'>'\n",
              "\twith 609766 stored elements in Compressed Sparse Row format>"
            ]
          },
          "metadata": {
            "tags": []
          },
          "execution_count": 82
        }
      ]
    },
    {
      "cell_type": "markdown",
      "metadata": {
        "id": "DNRR9opRQXgg",
        "colab_type": "text"
      },
      "source": [
        "Creazione matrice tf-idf bigram per train_stem_snowball_x"
      ]
    },
    {
      "cell_type": "code",
      "metadata": {
        "id": "kpybKwpSQcx8",
        "colab_type": "code",
        "colab": {}
      },
      "source": [
        "bi_tfidf.fit(e)\n",
        "bi_train_stem_snowball_x =  bi_tfidf.transform(e)"
      ],
      "execution_count": 0,
      "outputs": []
    },
    {
      "cell_type": "code",
      "metadata": {
        "id": "aOw9ooBkQc7J",
        "colab_type": "code",
        "outputId": "b647e1dd-1518-4bdd-bf30-951b1fe82023",
        "colab": {
          "base_uri": "https://localhost:8080/",
          "height": 51
        }
      },
      "source": [
        "bi_train_stem_snowball_x"
      ],
      "execution_count": 84,
      "outputs": [
        {
          "output_type": "execute_result",
          "data": {
            "text/plain": [
              "<13192x20000 sparse matrix of type '<class 'numpy.float64'>'\n",
              "\twith 1437166 stored elements in Compressed Sparse Row format>"
            ]
          },
          "metadata": {
            "tags": []
          },
          "execution_count": 84
        }
      ]
    },
    {
      "cell_type": "markdown",
      "metadata": {
        "id": "SbPsegKWQjth",
        "colab_type": "text"
      },
      "source": [
        "Creazione matrice tf-idf bigram per test_stem_snowball_x"
      ]
    },
    {
      "cell_type": "code",
      "metadata": {
        "id": "-p_eiU0LQnjL",
        "colab_type": "code",
        "colab": {}
      },
      "source": [
        "bi_test_stem_snowball_x =  bi_tfidf.transform(f)"
      ],
      "execution_count": 0,
      "outputs": []
    },
    {
      "cell_type": "code",
      "metadata": {
        "id": "89W5Mz2XQtEF",
        "colab_type": "code",
        "outputId": "8204f7cf-6f1f-416d-9c49-5361f2ca34fd",
        "colab": {
          "base_uri": "https://localhost:8080/",
          "height": 51
        }
      },
      "source": [
        "bi_test_stem_snowball_x"
      ],
      "execution_count": 86,
      "outputs": [
        {
          "output_type": "execute_result",
          "data": {
            "text/plain": [
              "<5654x20000 sparse matrix of type '<class 'numpy.float64'>'\n",
              "\twith 610066 stored elements in Compressed Sparse Row format>"
            ]
          },
          "metadata": {
            "tags": []
          },
          "execution_count": 86
        }
      ]
    },
    {
      "cell_type": "markdown",
      "metadata": {
        "id": "jHyfqNM0QuZz",
        "colab_type": "text"
      },
      "source": [
        "Creazione matrice tf-idf bigram per train_stem_lancaster_x"
      ]
    },
    {
      "cell_type": "code",
      "metadata": {
        "id": "uON1bSxRQ1oF",
        "colab_type": "code",
        "colab": {}
      },
      "source": [
        "bi_tfidf.fit(g)\n",
        "bi_train_stem_lancaster_x = bi_tfidf.transform(g)"
      ],
      "execution_count": 0,
      "outputs": []
    },
    {
      "cell_type": "code",
      "metadata": {
        "id": "rhQ2Jd2sRFgi",
        "colab_type": "code",
        "outputId": "cd63b837-d112-4580-c6be-e8f4fc3920cc",
        "colab": {
          "base_uri": "https://localhost:8080/",
          "height": 51
        }
      },
      "source": [
        "bi_train_stem_lancaster_x"
      ],
      "execution_count": 88,
      "outputs": [
        {
          "output_type": "execute_result",
          "data": {
            "text/plain": [
              "<13192x20000 sparse matrix of type '<class 'numpy.float64'>'\n",
              "\twith 1456649 stored elements in Compressed Sparse Row format>"
            ]
          },
          "metadata": {
            "tags": []
          },
          "execution_count": 88
        }
      ]
    },
    {
      "cell_type": "markdown",
      "metadata": {
        "id": "2Vrd8XsTQ61M",
        "colab_type": "text"
      },
      "source": [
        "Creazione matrice tf-idf bigram per test_stem_lancaster_x"
      ]
    },
    {
      "cell_type": "code",
      "metadata": {
        "id": "tCBWqfEfQ-Bf",
        "colab_type": "code",
        "colab": {}
      },
      "source": [
        "bi_test_stem_lancaster_x = bi_tfidf.transform(h)"
      ],
      "execution_count": 0,
      "outputs": []
    },
    {
      "cell_type": "code",
      "metadata": {
        "id": "BNUJi27uREvP",
        "colab_type": "code",
        "outputId": "3d79e697-ed89-48b1-ff05-d33705614ec0",
        "colab": {
          "base_uri": "https://localhost:8080/",
          "height": 51
        }
      },
      "source": [
        "bi_test_stem_lancaster_x"
      ],
      "execution_count": 90,
      "outputs": [
        {
          "output_type": "execute_result",
          "data": {
            "text/plain": [
              "<5654x20000 sparse matrix of type '<class 'numpy.float64'>'\n",
              "\twith 618408 stored elements in Compressed Sparse Row format>"
            ]
          },
          "metadata": {
            "tags": []
          },
          "execution_count": 90
        }
      ]
    },
    {
      "cell_type": "markdown",
      "metadata": {
        "id": "0msdYBmW5KpZ",
        "colab_type": "text"
      },
      "source": [
        "## **Classification**"
      ]
    },
    {
      "cell_type": "markdown",
      "metadata": {
        "id": "V6ytn9mj5jaz",
        "colab_type": "text"
      },
      "source": [
        "### **1. Naive Bayes**"
      ]
    },
    {
      "cell_type": "code",
      "metadata": {
        "id": "o5QRGps-7ifo",
        "colab_type": "code",
        "colab": {}
      },
      "source": [
        "clf = MultinomialNB()"
      ],
      "execution_count": 0,
      "outputs": []
    },
    {
      "cell_type": "markdown",
      "metadata": {
        "id": "jaK2GSD2V5al",
        "colab_type": "text"
      },
      "source": [
        "**1.1 Naive Bayes con TF + Lemmatization**"
      ]
    },
    {
      "cell_type": "markdown",
      "metadata": {
        "id": "6_edf3ytyrH9",
        "colab_type": "text"
      },
      "source": [
        "Cross Validation (train set)"
      ]
    },
    {
      "cell_type": "code",
      "metadata": {
        "id": "kFXPNsHuuvYz",
        "colab_type": "code",
        "outputId": "9dbf0d54-8b0c-4f36-da33-e069dafa7672",
        "colab": {
          "base_uri": "https://localhost:8080/",
          "height": 51
        }
      },
      "source": [
        "%%time\n",
        "score = cross_val_score(clf, tf_train_lem_x, train_lem_y, cv=3)"
      ],
      "execution_count": 92,
      "outputs": [
        {
          "output_type": "stream",
          "text": [
            "CPU times: user 257 ms, sys: 4.96 ms, total: 262 ms\n",
            "Wall time: 262 ms\n"
          ],
          "name": "stdout"
        }
      ]
    },
    {
      "cell_type": "code",
      "metadata": {
        "id": "1tWQ8SOTvAsS",
        "colab_type": "code",
        "outputId": "71a57dfb-747c-431f-a932-f0bfb1b3f716",
        "colab": {
          "base_uri": "https://localhost:8080/",
          "height": 51
        }
      },
      "source": [
        "print(score)\n",
        "print(score.mean())"
      ],
      "execution_count": 93,
      "outputs": [
        {
          "output_type": "stream",
          "text": [
            "[0.85493406 0.86399818 0.85171708]\n",
            "0.8568831071138704\n"
          ],
          "name": "stdout"
        }
      ]
    },
    {
      "cell_type": "markdown",
      "metadata": {
        "id": "U1ExAgsfyvhp",
        "colab_type": "text"
      },
      "source": [
        "Previsione su dati mai visti (test set)"
      ]
    },
    {
      "cell_type": "code",
      "metadata": {
        "id": "vkxeJckRQXXa",
        "colab_type": "code",
        "outputId": "e34988c5-b2bc-44c0-8f2e-5a0fe4be6732",
        "colab": {
          "base_uri": "https://localhost:8080/",
          "height": 510
        }
      },
      "source": [
        "%%time\n",
        "clf.fit(tf_train_lem_x, train_lem_y)\n",
        "predicted = clf.predict(tf_test_lem_x)\n",
        "print(classification_report(test_lem_y, predicted))"
      ],
      "execution_count": 94,
      "outputs": [
        {
          "output_type": "stream",
          "text": [
            "              precision    recall  f1-score   support\n",
            "\n",
            "           0       0.87      0.89      0.88       267\n",
            "           1       0.70      0.90      0.79       269\n",
            "           2       0.93      0.65      0.77       294\n",
            "           3       0.76      0.82      0.78       299\n",
            "           4       0.83      0.92      0.87       267\n",
            "           5       0.83      0.86      0.85       309\n",
            "           6       0.91      0.82      0.86       275\n",
            "           7       0.91      0.91      0.91       299\n",
            "           8       0.95      0.95      0.95       293\n",
            "           9       0.98      0.96      0.97       313\n",
            "          10       0.96      0.96      0.96       295\n",
            "          11       0.92      0.95      0.94       301\n",
            "          12       0.90      0.81      0.85       302\n",
            "          13       0.96      0.95      0.95       288\n",
            "          14       0.96      0.95      0.96       300\n",
            "          15       0.86      0.92      0.89       302\n",
            "          16       0.80      0.94      0.87       282\n",
            "          17       0.97      0.95      0.96       310\n",
            "          18       0.79      0.86      0.82       196\n",
            "          19       0.90      0.54      0.68       193\n",
            "\n",
            "    accuracy                           0.88      5654\n",
            "   macro avg       0.88      0.88      0.88      5654\n",
            "weighted avg       0.89      0.88      0.88      5654\n",
            "\n",
            "CPU times: user 116 ms, sys: 1.02 ms, total: 117 ms\n",
            "Wall time: 117 ms\n"
          ],
          "name": "stdout"
        }
      ]
    },
    {
      "cell_type": "markdown",
      "metadata": {
        "id": "YfHyxW4hWAwB",
        "colab_type": "text"
      },
      "source": [
        "**1.2 Naive Bayes con TF + Stemming (Porter)**"
      ]
    },
    {
      "cell_type": "markdown",
      "metadata": {
        "id": "Se5XXOHPx_4Q",
        "colab_type": "text"
      },
      "source": [
        "Cross Validation (train set)"
      ]
    },
    {
      "cell_type": "code",
      "metadata": {
        "id": "UmqYaqXcyCTz",
        "colab_type": "code",
        "outputId": "02042444-1743-4d07-db16-cf6a56198902",
        "colab": {
          "base_uri": "https://localhost:8080/",
          "height": 51
        }
      },
      "source": [
        "%%time\n",
        "score = cross_val_score(clf, tf_train_stem_porter_x, train_stem_porter_y, cv=3)"
      ],
      "execution_count": 95,
      "outputs": [
        {
          "output_type": "stream",
          "text": [
            "CPU times: user 247 ms, sys: 2.98 ms, total: 250 ms\n",
            "Wall time: 249 ms\n"
          ],
          "name": "stdout"
        }
      ]
    },
    {
      "cell_type": "code",
      "metadata": {
        "id": "-t9igaryyCdy",
        "colab_type": "code",
        "outputId": "ffcb29e5-4642-463f-9596-a86da3ff286e",
        "colab": {
          "base_uri": "https://localhost:8080/",
          "height": 51
        }
      },
      "source": [
        "print(score)\n",
        "print(score.mean())"
      ],
      "execution_count": 96,
      "outputs": [
        {
          "output_type": "stream",
          "text": [
            "[0.84993179 0.86104162 0.84603139]\n",
            "0.8523349304990391\n"
          ],
          "name": "stdout"
        }
      ]
    },
    {
      "cell_type": "markdown",
      "metadata": {
        "id": "RbbCrHQCyDtd",
        "colab_type": "text"
      },
      "source": [
        "Previsione su dati mai visti (test set)"
      ]
    },
    {
      "cell_type": "code",
      "metadata": {
        "id": "PgcWfKPuWPrf",
        "colab_type": "code",
        "outputId": "cbc6db2b-d8f9-4ef5-f992-f9b3a8001797",
        "colab": {
          "base_uri": "https://localhost:8080/",
          "height": 510
        }
      },
      "source": [
        "%%time\n",
        "clf.fit(tf_train_stem_porter_x, train_stem_porter_y)\n",
        "predicted = clf.predict(tf_test_stem_porter_x)\n",
        "print(classification_report(test_stem_porter_y, predicted))"
      ],
      "execution_count": 97,
      "outputs": [
        {
          "output_type": "stream",
          "text": [
            "              precision    recall  f1-score   support\n",
            "\n",
            "           0       0.87      0.90      0.88       267\n",
            "           1       0.69      0.87      0.77       269\n",
            "           2       0.92      0.61      0.73       294\n",
            "           3       0.73      0.81      0.77       299\n",
            "           4       0.82      0.93      0.87       267\n",
            "           5       0.83      0.84      0.84       309\n",
            "           6       0.90      0.78      0.83       275\n",
            "           7       0.91      0.90      0.90       299\n",
            "           8       0.94      0.94      0.94       293\n",
            "           9       0.97      0.96      0.96       313\n",
            "          10       0.96      0.96      0.96       295\n",
            "          11       0.90      0.95      0.93       301\n",
            "          12       0.86      0.80      0.83       302\n",
            "          13       0.97      0.96      0.96       288\n",
            "          14       0.96      0.95      0.95       300\n",
            "          15       0.86      0.92      0.89       302\n",
            "          16       0.80      0.93      0.86       282\n",
            "          17       0.96      0.95      0.96       310\n",
            "          18       0.76      0.83      0.80       196\n",
            "          19       0.93      0.54      0.68       193\n",
            "\n",
            "    accuracy                           0.87      5654\n",
            "   macro avg       0.88      0.87      0.87      5654\n",
            "weighted avg       0.88      0.87      0.87      5654\n",
            "\n",
            "CPU times: user 130 ms, sys: 1 ms, total: 131 ms\n",
            "Wall time: 131 ms\n"
          ],
          "name": "stdout"
        }
      ]
    },
    {
      "cell_type": "markdown",
      "metadata": {
        "id": "F6VjZsqjTJYs",
        "colab_type": "text"
      },
      "source": [
        "**1.3 Naive Bayes con TF + Stemming (Snowball)**"
      ]
    },
    {
      "cell_type": "markdown",
      "metadata": {
        "id": "tLr8eelbTPC2",
        "colab_type": "text"
      },
      "source": [
        "Cross Validation (train set)"
      ]
    },
    {
      "cell_type": "code",
      "metadata": {
        "id": "9P_DvEPfTTwk",
        "colab_type": "code",
        "outputId": "578dc802-fbca-4f62-e74e-e235f1a5ae7d",
        "colab": {
          "base_uri": "https://localhost:8080/",
          "height": 51
        }
      },
      "source": [
        "%%time\n",
        "score = cross_val_score(clf, tf_train_stem_snowball_x, train_stem_snowball_y, cv=3)"
      ],
      "execution_count": 98,
      "outputs": [
        {
          "output_type": "stream",
          "text": [
            "CPU times: user 256 ms, sys: 4.01 ms, total: 260 ms\n",
            "Wall time: 260 ms\n"
          ],
          "name": "stdout"
        }
      ]
    },
    {
      "cell_type": "code",
      "metadata": {
        "id": "U3bKeTH5TbX5",
        "colab_type": "code",
        "outputId": "9466086a-cb96-4df0-c36a-46dcf05e79f5",
        "colab": {
          "base_uri": "https://localhost:8080/",
          "height": 51
        }
      },
      "source": [
        "print(score)\n",
        "print(score.mean())"
      ],
      "execution_count": 99,
      "outputs": [
        {
          "output_type": "stream",
          "text": [
            "[0.84947704 0.86149647 0.8469411 ]\n",
            "0.8526382020290337\n"
          ],
          "name": "stdout"
        }
      ]
    },
    {
      "cell_type": "markdown",
      "metadata": {
        "id": "JCD6YMP_Td8h",
        "colab_type": "text"
      },
      "source": [
        "Previsione su dati mai visti (test set)"
      ]
    },
    {
      "cell_type": "code",
      "metadata": {
        "id": "bwdYICeQTj_L",
        "colab_type": "code",
        "outputId": "37e32366-c7a3-41d7-c072-a3b6b566c7b7",
        "colab": {
          "base_uri": "https://localhost:8080/",
          "height": 510
        }
      },
      "source": [
        "%%time\n",
        "clf.fit(tf_train_stem_snowball_x, train_stem_snowball_y)\n",
        "predicted = clf.predict(tf_test_stem_snowball_x)\n",
        "print(classification_report(test_stem_snowball_y, predicted))"
      ],
      "execution_count": 100,
      "outputs": [
        {
          "output_type": "stream",
          "text": [
            "              precision    recall  f1-score   support\n",
            "\n",
            "           0       0.87      0.90      0.88       267\n",
            "           1       0.68      0.88      0.77       269\n",
            "           2       0.92      0.60      0.73       294\n",
            "           3       0.74      0.82      0.77       299\n",
            "           4       0.81      0.93      0.87       267\n",
            "           5       0.84      0.84      0.84       309\n",
            "           6       0.90      0.79      0.84       275\n",
            "           7       0.91      0.90      0.91       299\n",
            "           8       0.94      0.94      0.94       293\n",
            "           9       0.97      0.95      0.96       313\n",
            "          10       0.96      0.96      0.96       295\n",
            "          11       0.90      0.95      0.93       301\n",
            "          12       0.86      0.80      0.83       302\n",
            "          13       0.97      0.96      0.97       288\n",
            "          14       0.96      0.95      0.95       300\n",
            "          15       0.86      0.92      0.89       302\n",
            "          16       0.80      0.94      0.87       282\n",
            "          17       0.96      0.95      0.96       310\n",
            "          18       0.77      0.83      0.80       196\n",
            "          19       0.93      0.53      0.67       193\n",
            "\n",
            "    accuracy                           0.87      5654\n",
            "   macro avg       0.88      0.87      0.87      5654\n",
            "weighted avg       0.88      0.87      0.87      5654\n",
            "\n",
            "CPU times: user 115 ms, sys: 1.97 ms, total: 117 ms\n",
            "Wall time: 118 ms\n"
          ],
          "name": "stdout"
        }
      ]
    },
    {
      "cell_type": "markdown",
      "metadata": {
        "id": "xRvGizjeTr19",
        "colab_type": "text"
      },
      "source": [
        "**1.4 Naive Bayes con TF + Stemming (Lancaster)**"
      ]
    },
    {
      "cell_type": "markdown",
      "metadata": {
        "id": "zq9L0qNHUE7g",
        "colab_type": "text"
      },
      "source": [
        "Cross Validation (train set)"
      ]
    },
    {
      "cell_type": "code",
      "metadata": {
        "id": "yqMcwoQ1UNkw",
        "colab_type": "code",
        "outputId": "553b5480-ec4a-4267-8d1d-f87c99f905ad",
        "colab": {
          "base_uri": "https://localhost:8080/",
          "height": 51
        }
      },
      "source": [
        "%%time\n",
        "score = cross_val_score(clf, tf_train_stem_lancaster_x, train_stem_lancaster_y, cv=3)"
      ],
      "execution_count": 101,
      "outputs": [
        {
          "output_type": "stream",
          "text": [
            "CPU times: user 197 ms, sys: 5.96 ms, total: 203 ms\n",
            "Wall time: 203 ms\n"
          ],
          "name": "stdout"
        }
      ]
    },
    {
      "cell_type": "code",
      "metadata": {
        "id": "QAt6DIb2UTSE",
        "colab_type": "code",
        "outputId": "4dc55a83-0d83-4434-a02b-13399afeec4c",
        "colab": {
          "base_uri": "https://localhost:8080/",
          "height": 51
        }
      },
      "source": [
        "print(score)\n",
        "print(score.mean())"
      ],
      "execution_count": 102,
      "outputs": [
        {
          "output_type": "stream",
          "text": [
            "[0.84038199 0.84967023 0.84034569]\n",
            "0.8434659705866262\n"
          ],
          "name": "stdout"
        }
      ]
    },
    {
      "cell_type": "markdown",
      "metadata": {
        "id": "ridpQvbeUVXE",
        "colab_type": "text"
      },
      "source": [
        "Previsione su dati mai visti (test set)"
      ]
    },
    {
      "cell_type": "code",
      "metadata": {
        "id": "10IN_QG_UZbS",
        "colab_type": "code",
        "outputId": "e5f4bc9e-67ef-4152-a8d9-51101edb0ad4",
        "colab": {
          "base_uri": "https://localhost:8080/",
          "height": 510
        }
      },
      "source": [
        "%%time\n",
        "clf.fit(tf_train_stem_lancaster_x, train_stem_lancaster_y)\n",
        "predicted = clf.predict(tf_test_stem_lancaster_x)\n",
        "print(classification_report(test_stem_lancaster_y, predicted))"
      ],
      "execution_count": 103,
      "outputs": [
        {
          "output_type": "stream",
          "text": [
            "              precision    recall  f1-score   support\n",
            "\n",
            "           0       0.87      0.89      0.88       267\n",
            "           1       0.67      0.87      0.76       269\n",
            "           2       0.93      0.57      0.71       294\n",
            "           3       0.72      0.82      0.76       299\n",
            "           4       0.82      0.91      0.86       267\n",
            "           5       0.84      0.84      0.84       309\n",
            "           6       0.89      0.76      0.82       275\n",
            "           7       0.91      0.89      0.90       299\n",
            "           8       0.94      0.94      0.94       293\n",
            "           9       0.97      0.95      0.96       313\n",
            "          10       0.96      0.96      0.96       295\n",
            "          11       0.91      0.94      0.92       301\n",
            "          12       0.85      0.79      0.82       302\n",
            "          13       0.96      0.96      0.96       288\n",
            "          14       0.95      0.94      0.94       300\n",
            "          15       0.85      0.92      0.89       302\n",
            "          16       0.79      0.93      0.85       282\n",
            "          17       0.96      0.95      0.95       310\n",
            "          18       0.72      0.83      0.77       196\n",
            "          19       0.91      0.50      0.64       193\n",
            "\n",
            "    accuracy                           0.87      5654\n",
            "   macro avg       0.87      0.86      0.86      5654\n",
            "weighted avg       0.87      0.87      0.86      5654\n",
            "\n",
            "CPU times: user 97.6 ms, sys: 993 µs, total: 98.5 ms\n",
            "Wall time: 98.3 ms\n"
          ],
          "name": "stdout"
        }
      ]
    },
    {
      "cell_type": "markdown",
      "metadata": {
        "id": "v-bWSrlckIIm",
        "colab_type": "text"
      },
      "source": [
        "**1.5 Naive Bayes con TF-IDF + Lemmatization**"
      ]
    },
    {
      "cell_type": "markdown",
      "metadata": {
        "id": "rgQptOjjy488",
        "colab_type": "text"
      },
      "source": [
        "Cross Validation (train set)"
      ]
    },
    {
      "cell_type": "code",
      "metadata": {
        "id": "e4cCouTgy5J1",
        "colab_type": "code",
        "outputId": "33514816-ca48-48a0-b1dc-a8e346b32689",
        "colab": {
          "base_uri": "https://localhost:8080/",
          "height": 51
        }
      },
      "source": [
        "%%time\n",
        "score = cross_val_score(clf, tfidf_train_lem_x, train_lem_y, cv=3)"
      ],
      "execution_count": 104,
      "outputs": [
        {
          "output_type": "stream",
          "text": [
            "CPU times: user 148 ms, sys: 995 µs, total: 149 ms\n",
            "Wall time: 148 ms\n"
          ],
          "name": "stdout"
        }
      ]
    },
    {
      "cell_type": "code",
      "metadata": {
        "id": "KdXUslDUy5R2",
        "colab_type": "code",
        "outputId": "f92893d8-1475-48df-c37c-12d671603d17",
        "colab": {
          "base_uri": "https://localhost:8080/",
          "height": 51
        }
      },
      "source": [
        "print(score)\n",
        "print(score.mean())"
      ],
      "execution_count": 105,
      "outputs": [
        {
          "output_type": "stream",
          "text": [
            "[0.85288768 0.86286104 0.85444621]\n",
            "0.8567316437210054\n"
          ],
          "name": "stdout"
        }
      ]
    },
    {
      "cell_type": "markdown",
      "metadata": {
        "id": "miXcxsNLy5bV",
        "colab_type": "text"
      },
      "source": [
        "Previsione su dati mai visti (test set)"
      ]
    },
    {
      "cell_type": "code",
      "metadata": {
        "id": "EPElkeKQkS_W",
        "colab_type": "code",
        "outputId": "7eafefa5-e40b-45cf-917e-255423e10af0",
        "colab": {
          "base_uri": "https://localhost:8080/",
          "height": 510
        }
      },
      "source": [
        "%%time\n",
        "clf.fit(tfidf_train_lem_x, train_lem_y)\n",
        "predicted = clf.predict(tfidf_test_lem_x)\n",
        "print(classification_report(test_lem_y, predicted))"
      ],
      "execution_count": 106,
      "outputs": [
        {
          "output_type": "stream",
          "text": [
            "              precision    recall  f1-score   support\n",
            "\n",
            "           0       0.89      0.78      0.83       267\n",
            "           1       0.76      0.87      0.81       269\n",
            "           2       0.84      0.83      0.83       294\n",
            "           3       0.78      0.82      0.80       299\n",
            "           4       0.84      0.91      0.87       267\n",
            "           5       0.91      0.86      0.88       309\n",
            "           6       0.88      0.85      0.87       275\n",
            "           7       0.92      0.90      0.91       299\n",
            "           8       0.95      0.97      0.96       293\n",
            "           9       0.97      0.95      0.96       313\n",
            "          10       0.96      0.97      0.97       295\n",
            "          11       0.91      0.96      0.94       301\n",
            "          12       0.91      0.82      0.86       302\n",
            "          13       0.95      0.95      0.95       288\n",
            "          14       0.96      0.95      0.96       300\n",
            "          15       0.70      0.95      0.80       302\n",
            "          16       0.78      0.98      0.87       282\n",
            "          17       0.95      0.96      0.96       310\n",
            "          18       0.96      0.77      0.85       196\n",
            "          19       0.95      0.27      0.42       193\n",
            "\n",
            "    accuracy                           0.88      5654\n",
            "   macro avg       0.89      0.87      0.87      5654\n",
            "weighted avg       0.89      0.88      0.87      5654\n",
            "\n",
            "CPU times: user 78.1 ms, sys: 985 µs, total: 79.1 ms\n",
            "Wall time: 78.7 ms\n"
          ],
          "name": "stdout"
        }
      ]
    },
    {
      "cell_type": "markdown",
      "metadata": {
        "id": "4p2yJBFsl5Vu",
        "colab_type": "text"
      },
      "source": [
        "**1.6 Naive Bayes con TF-IDF + Stemming (Porter)**"
      ]
    },
    {
      "cell_type": "markdown",
      "metadata": {
        "id": "KSJPtSOSzUaC",
        "colab_type": "text"
      },
      "source": [
        "Cross Validation (train set)"
      ]
    },
    {
      "cell_type": "code",
      "metadata": {
        "id": "md8MTVAOzUtF",
        "colab_type": "code",
        "outputId": "78d26159-f777-416a-acb6-4985336dbacd",
        "colab": {
          "base_uri": "https://localhost:8080/",
          "height": 51
        }
      },
      "source": [
        "%%time\n",
        "score = cross_val_score(clf, tfidf_train_stem_porter_x, train_stem_porter_y, cv=3)"
      ],
      "execution_count": 107,
      "outputs": [
        {
          "output_type": "stream",
          "text": [
            "CPU times: user 146 ms, sys: 1 ms, total: 147 ms\n",
            "Wall time: 146 ms\n"
          ],
          "name": "stdout"
        }
      ]
    },
    {
      "cell_type": "code",
      "metadata": {
        "id": "GTPxRnHVzU0X",
        "colab_type": "code",
        "outputId": "f8d75acc-b7f0-4135-e1b2-6d5abfdc9fef",
        "colab": {
          "base_uri": "https://localhost:8080/",
          "height": 51
        }
      },
      "source": [
        "print(score)\n",
        "print(score.mean())"
      ],
      "execution_count": 108,
      "outputs": [
        {
          "output_type": "stream",
          "text": [
            "[0.84834015 0.8576302  0.84898795]\n",
            "0.8516527677845035\n"
          ],
          "name": "stdout"
        }
      ]
    },
    {
      "cell_type": "markdown",
      "metadata": {
        "id": "Q4ysaYCdzU_8",
        "colab_type": "text"
      },
      "source": [
        "Previsione su dati mai visti (test set)"
      ]
    },
    {
      "cell_type": "code",
      "metadata": {
        "id": "JWP4QBuHmAJC",
        "colab_type": "code",
        "outputId": "7e51462e-2ed5-4b53-f9b8-5c69f75547db",
        "colab": {
          "base_uri": "https://localhost:8080/",
          "height": 510
        }
      },
      "source": [
        "%%time\n",
        "clf.fit(tfidf_train_stem_porter_x, train_stem_porter_y)\n",
        "predicted = clf.predict(tfidf_test_stem_porter_x)\n",
        "print(classification_report(test_stem_porter_y, predicted))"
      ],
      "execution_count": 109,
      "outputs": [
        {
          "output_type": "stream",
          "text": [
            "              precision    recall  f1-score   support\n",
            "\n",
            "           0       0.89      0.76      0.82       267\n",
            "           1       0.74      0.85      0.79       269\n",
            "           2       0.84      0.83      0.83       294\n",
            "           3       0.78      0.81      0.80       299\n",
            "           4       0.85      0.91      0.88       267\n",
            "           5       0.92      0.85      0.88       309\n",
            "           6       0.88      0.84      0.86       275\n",
            "           7       0.93      0.90      0.92       299\n",
            "           8       0.94      0.97      0.95       293\n",
            "           9       0.97      0.95      0.96       313\n",
            "          10       0.96      0.98      0.97       295\n",
            "          11       0.88      0.97      0.92       301\n",
            "          12       0.90      0.80      0.85       302\n",
            "          13       0.95      0.94      0.95       288\n",
            "          14       0.96      0.95      0.96       300\n",
            "          15       0.68      0.95      0.79       302\n",
            "          16       0.75      0.97      0.85       282\n",
            "          17       0.95      0.96      0.96       310\n",
            "          18       0.97      0.73      0.83       196\n",
            "          19       0.96      0.23      0.38       193\n",
            "\n",
            "    accuracy                           0.87      5654\n",
            "   macro avg       0.89      0.86      0.86      5654\n",
            "weighted avg       0.88      0.87      0.87      5654\n",
            "\n",
            "CPU times: user 72.4 ms, sys: 2.95 ms, total: 75.3 ms\n",
            "Wall time: 74.8 ms\n"
          ],
          "name": "stdout"
        }
      ]
    },
    {
      "cell_type": "markdown",
      "metadata": {
        "id": "v9OxkEzjU3U7",
        "colab_type": "text"
      },
      "source": [
        "**1.7 Naive Bayes con TF-IDF + Stemming (Snowball)**"
      ]
    },
    {
      "cell_type": "markdown",
      "metadata": {
        "id": "nO_DNZysU9L4",
        "colab_type": "text"
      },
      "source": [
        "Cross Validation (train set)"
      ]
    },
    {
      "cell_type": "code",
      "metadata": {
        "id": "CHiIzWCcU8aE",
        "colab_type": "code",
        "outputId": "9d9287f0-cc5f-4dad-e13f-0b5f5c40111b",
        "colab": {
          "base_uri": "https://localhost:8080/",
          "height": 51
        }
      },
      "source": [
        "%%time\n",
        "score = cross_val_score(clf, tfidf_train_stem_snowball_x, train_stem_snowball_y, cv=3)"
      ],
      "execution_count": 110,
      "outputs": [
        {
          "output_type": "stream",
          "text": [
            "CPU times: user 142 ms, sys: 979 µs, total: 143 ms\n",
            "Wall time: 142 ms\n"
          ],
          "name": "stdout"
        }
      ]
    },
    {
      "cell_type": "code",
      "metadata": {
        "id": "fGnkjrcQU8jy",
        "colab_type": "code",
        "outputId": "254ab439-834e-4454-b626-637ee6e0c72e",
        "colab": {
          "base_uri": "https://localhost:8080/",
          "height": 51
        }
      },
      "source": [
        "print(score)\n",
        "print(score.mean())"
      ],
      "execution_count": 111,
      "outputs": [
        {
          "output_type": "stream",
          "text": [
            "[0.84765803 0.85717535 0.84967023]\n",
            "0.851501200968359\n"
          ],
          "name": "stdout"
        }
      ]
    },
    {
      "cell_type": "markdown",
      "metadata": {
        "id": "FNbzOSOTVIKi",
        "colab_type": "text"
      },
      "source": [
        "Previsione su dati mai visti (test set)"
      ]
    },
    {
      "cell_type": "code",
      "metadata": {
        "id": "6g7E-XQEVLUG",
        "colab_type": "code",
        "outputId": "b1d29d46-cb05-4321-b0b9-fd510f0429dd",
        "colab": {
          "base_uri": "https://localhost:8080/",
          "height": 510
        }
      },
      "source": [
        "%%time\n",
        "clf.fit(tfidf_train_stem_snowball_x, train_stem_snowball_y)\n",
        "predicted = clf.predict(tfidf_test_stem_snowball_x)\n",
        "print(classification_report(test_stem_snowball_y, predicted))"
      ],
      "execution_count": 112,
      "outputs": [
        {
          "output_type": "stream",
          "text": [
            "              precision    recall  f1-score   support\n",
            "\n",
            "           0       0.89      0.76      0.82       267\n",
            "           1       0.75      0.85      0.79       269\n",
            "           2       0.85      0.83      0.84       294\n",
            "           3       0.78      0.81      0.80       299\n",
            "           4       0.85      0.91      0.88       267\n",
            "           5       0.92      0.85      0.88       309\n",
            "           6       0.88      0.84      0.86       275\n",
            "           7       0.93      0.90      0.91       299\n",
            "           8       0.94      0.97      0.95       293\n",
            "           9       0.97      0.96      0.96       313\n",
            "          10       0.97      0.98      0.97       295\n",
            "          11       0.88      0.97      0.92       301\n",
            "          12       0.90      0.80      0.84       302\n",
            "          13       0.95      0.95      0.95       288\n",
            "          14       0.95      0.95      0.95       300\n",
            "          15       0.67      0.95      0.79       302\n",
            "          16       0.76      0.98      0.85       282\n",
            "          17       0.95      0.96      0.95       310\n",
            "          18       0.97      0.73      0.83       196\n",
            "          19       0.96      0.23      0.38       193\n",
            "\n",
            "    accuracy                           0.87      5654\n",
            "   macro avg       0.88      0.86      0.86      5654\n",
            "weighted avg       0.88      0.87      0.87      5654\n",
            "\n",
            "CPU times: user 87.5 ms, sys: 1.01 ms, total: 88.5 ms\n",
            "Wall time: 88.1 ms\n"
          ],
          "name": "stdout"
        }
      ]
    },
    {
      "cell_type": "markdown",
      "metadata": {
        "id": "cABbGg0fVZbe",
        "colab_type": "text"
      },
      "source": [
        "**1.8 Naive Bayes con TF-IDF + Stemming (Lancaster)**"
      ]
    },
    {
      "cell_type": "markdown",
      "metadata": {
        "id": "0AKQrXWZVetK",
        "colab_type": "text"
      },
      "source": [
        "Cross Validation (train set)"
      ]
    },
    {
      "cell_type": "code",
      "metadata": {
        "id": "mTn0VN8KVe8l",
        "colab_type": "code",
        "outputId": "3f12a64c-956d-408d-e616-7113bce126b4",
        "colab": {
          "base_uri": "https://localhost:8080/",
          "height": 51
        }
      },
      "source": [
        "%%time\n",
        "score = cross_val_score(clf, tfidf_train_stem_lancaster_x, train_stem_lancaster_y, cv=3)"
      ],
      "execution_count": 113,
      "outputs": [
        {
          "output_type": "stream",
          "text": [
            "CPU times: user 139 ms, sys: 1.99 ms, total: 141 ms\n",
            "Wall time: 140 ms\n"
          ],
          "name": "stdout"
        }
      ]
    },
    {
      "cell_type": "code",
      "metadata": {
        "id": "9L8brL9zVfFh",
        "colab_type": "code",
        "outputId": "d5d02dde-8b5e-4663-b2d9-0943e7c85ab8",
        "colab": {
          "base_uri": "https://localhost:8080/",
          "height": 51
        }
      },
      "source": [
        "print(score)\n",
        "print(score.mean())"
      ],
      "execution_count": 114,
      "outputs": [
        {
          "output_type": "stream",
          "text": [
            "[0.8431105  0.8510348  0.84603139]\n",
            "0.8467255620874251\n"
          ],
          "name": "stdout"
        }
      ]
    },
    {
      "cell_type": "markdown",
      "metadata": {
        "id": "UP84JUYdVfdn",
        "colab_type": "text"
      },
      "source": [
        "Previsione su dati mai visti (test set)"
      ]
    },
    {
      "cell_type": "code",
      "metadata": {
        "id": "dxPj6T0aVfrQ",
        "colab_type": "code",
        "outputId": "b8cab1fd-f4fa-4713-a317-81b343032cde",
        "colab": {
          "base_uri": "https://localhost:8080/",
          "height": 510
        }
      },
      "source": [
        "%%time\n",
        "clf.fit(tfidf_train_stem_lancaster_x, train_stem_lancaster_y)\n",
        "predicted = clf.predict(tfidf_test_stem_lancaster_x)\n",
        "print(classification_report(test_stem_lancaster_y, predicted))"
      ],
      "execution_count": 115,
      "outputs": [
        {
          "output_type": "stream",
          "text": [
            "              precision    recall  f1-score   support\n",
            "\n",
            "           0       0.89      0.72      0.80       267\n",
            "           1       0.75      0.84      0.79       269\n",
            "           2       0.84      0.81      0.82       294\n",
            "           3       0.74      0.81      0.78       299\n",
            "           4       0.85      0.91      0.88       267\n",
            "           5       0.93      0.83      0.88       309\n",
            "           6       0.89      0.85      0.87       275\n",
            "           7       0.92      0.89      0.91       299\n",
            "           8       0.94      0.97      0.95       293\n",
            "           9       0.97      0.96      0.96       313\n",
            "          10       0.97      0.98      0.98       295\n",
            "          11       0.88      0.97      0.92       301\n",
            "          12       0.88      0.78      0.83       302\n",
            "          13       0.95      0.93      0.94       288\n",
            "          14       0.94      0.96      0.95       300\n",
            "          15       0.65      0.95      0.78       302\n",
            "          16       0.74      0.98      0.84       282\n",
            "          17       0.95      0.96      0.96       310\n",
            "          18       0.95      0.73      0.82       196\n",
            "          19       0.95      0.22      0.35       193\n",
            "\n",
            "    accuracy                           0.87      5654\n",
            "   macro avg       0.88      0.85      0.85      5654\n",
            "weighted avg       0.88      0.87      0.86      5654\n",
            "\n",
            "CPU times: user 75.7 ms, sys: 1.98 ms, total: 77.7 ms\n",
            "Wall time: 77 ms\n"
          ],
          "name": "stdout"
        }
      ]
    },
    {
      "cell_type": "markdown",
      "metadata": {
        "id": "hM-VOgu4mhtQ",
        "colab_type": "text"
      },
      "source": [
        "**1.9 Naive Bayes con Bigram + Lemmatization**"
      ]
    },
    {
      "cell_type": "markdown",
      "metadata": {
        "id": "wM2TwaQyzzph",
        "colab_type": "text"
      },
      "source": [
        "Cross Validation (train set)"
      ]
    },
    {
      "cell_type": "code",
      "metadata": {
        "id": "tL365bo2zz3m",
        "colab_type": "code",
        "outputId": "7ed1db24-41df-4b56-ed0a-3e8f91ebd9f5",
        "colab": {
          "base_uri": "https://localhost:8080/",
          "height": 51
        }
      },
      "source": [
        "%%time\n",
        "score = cross_val_score(clf, bi_train_lem_x, train_lem_y, cv=3)"
      ],
      "execution_count": 116,
      "outputs": [
        {
          "output_type": "stream",
          "text": [
            "CPU times: user 172 ms, sys: 1.99 ms, total: 174 ms\n",
            "Wall time: 173 ms\n"
          ],
          "name": "stdout"
        }
      ]
    },
    {
      "cell_type": "code",
      "metadata": {
        "id": "lOWVxbaOz0AH",
        "colab_type": "code",
        "outputId": "9239f086-8c1e-4d6d-9a35-2067cbbf8d77",
        "colab": {
          "base_uri": "https://localhost:8080/",
          "height": 51
        }
      },
      "source": [
        "print(score)\n",
        "print(score.mean())"
      ],
      "execution_count": 117,
      "outputs": [
        {
          "output_type": "stream",
          "text": [
            "[0.86243747 0.86809188 0.8576302 ]\n",
            "0.8627198516055206\n"
          ],
          "name": "stdout"
        }
      ]
    },
    {
      "cell_type": "markdown",
      "metadata": {
        "id": "Y1ooAqshz0Jy",
        "colab_type": "text"
      },
      "source": [
        "Previsione su dati mai visti (test set)"
      ]
    },
    {
      "cell_type": "code",
      "metadata": {
        "id": "KnxYAQapmhQS",
        "colab_type": "code",
        "outputId": "119c6b65-aa10-4472-f18b-9cc59a61fa09",
        "colab": {
          "base_uri": "https://localhost:8080/",
          "height": 510
        }
      },
      "source": [
        "%%time\n",
        "clf.fit(bi_train_lem_x, train_lem_y)\n",
        "predicted = clf.predict(bi_test_lem_x)\n",
        "print(classification_report(test_lem_y, predicted))"
      ],
      "execution_count": 118,
      "outputs": [
        {
          "output_type": "stream",
          "text": [
            "              precision    recall  f1-score   support\n",
            "\n",
            "           0       0.89      0.81      0.84       267\n",
            "           1       0.73      0.88      0.80       269\n",
            "           2       0.84      0.83      0.83       294\n",
            "           3       0.78      0.79      0.79       299\n",
            "           4       0.83      0.89      0.86       267\n",
            "           5       0.91      0.87      0.89       309\n",
            "           6       0.82      0.88      0.85       275\n",
            "           7       0.91      0.90      0.90       299\n",
            "           8       0.93      0.95      0.94       293\n",
            "           9       0.95      0.94      0.94       313\n",
            "          10       0.95      0.97      0.96       295\n",
            "          11       0.96      0.95      0.95       301\n",
            "          12       0.90      0.80      0.85       302\n",
            "          13       0.93      0.94      0.94       288\n",
            "          14       0.94      0.94      0.94       300\n",
            "          15       0.73      0.94      0.82       302\n",
            "          16       0.80      0.95      0.87       282\n",
            "          17       0.96      0.95      0.96       310\n",
            "          18       0.94      0.73      0.82       196\n",
            "          19       0.93      0.33      0.49       193\n",
            "\n",
            "    accuracy                           0.87      5654\n",
            "   macro avg       0.88      0.86      0.86      5654\n",
            "weighted avg       0.88      0.87      0.87      5654\n",
            "\n",
            "CPU times: user 77.6 ms, sys: 1.96 ms, total: 79.5 ms\n",
            "Wall time: 84.6 ms\n"
          ],
          "name": "stdout"
        }
      ]
    },
    {
      "cell_type": "markdown",
      "metadata": {
        "id": "VjeiuqUbnKFU",
        "colab_type": "text"
      },
      "source": [
        "**1.10 Naive Bayes con Bigram + Stemming (Porter)**"
      ]
    },
    {
      "cell_type": "markdown",
      "metadata": {
        "id": "NR6KOBms0lr-",
        "colab_type": "text"
      },
      "source": [
        "Cross Validation (train set)"
      ]
    },
    {
      "cell_type": "code",
      "metadata": {
        "id": "hq1Wpz5m0l3y",
        "colab_type": "code",
        "outputId": "434a8db2-fd00-4931-c57d-5bd2f50c2823",
        "colab": {
          "base_uri": "https://localhost:8080/",
          "height": 51
        }
      },
      "source": [
        "%%time\n",
        "score = cross_val_score(clf, bi_train_stem_porter_x, train_stem_porter_y, cv=3)"
      ],
      "execution_count": 119,
      "outputs": [
        {
          "output_type": "stream",
          "text": [
            "CPU times: user 162 ms, sys: 1.99 ms, total: 164 ms\n",
            "Wall time: 166 ms\n"
          ],
          "name": "stdout"
        }
      ]
    },
    {
      "cell_type": "code",
      "metadata": {
        "id": "lmexNgxm0l-k",
        "colab_type": "code",
        "outputId": "c5130462-99b8-4fbf-88c9-7f90c707eb5f",
        "colab": {
          "base_uri": "https://localhost:8080/",
          "height": 51
        }
      },
      "source": [
        "print(score)\n",
        "print(score.mean())"
      ],
      "execution_count": 120,
      "outputs": [
        {
          "output_type": "stream",
          "text": [
            "[0.86198272 0.86763703 0.85285422]\n",
            "0.8608246544826459\n"
          ],
          "name": "stdout"
        }
      ]
    },
    {
      "cell_type": "markdown",
      "metadata": {
        "id": "eBHEaG9C0mRL",
        "colab_type": "text"
      },
      "source": [
        "Previsione su dati mai visti (test set)"
      ]
    },
    {
      "cell_type": "code",
      "metadata": {
        "id": "9PVT8eyEnMz6",
        "colab_type": "code",
        "outputId": "6bf43677-8e2d-4ae6-ebea-5d29cb119bcc",
        "colab": {
          "base_uri": "https://localhost:8080/",
          "height": 510
        }
      },
      "source": [
        "%%time\n",
        "clf.fit(bi_train_stem_porter_x, train_stem_porter_y)\n",
        "predicted = clf.predict(bi_test_stem_porter_x)\n",
        "print(classification_report(test_stem_porter_y, predicted))"
      ],
      "execution_count": 121,
      "outputs": [
        {
          "output_type": "stream",
          "text": [
            "              precision    recall  f1-score   support\n",
            "\n",
            "           0       0.89      0.79      0.84       267\n",
            "           1       0.73      0.86      0.79       269\n",
            "           2       0.84      0.82      0.83       294\n",
            "           3       0.77      0.79      0.78       299\n",
            "           4       0.84      0.90      0.87       267\n",
            "           5       0.90      0.88      0.89       309\n",
            "           6       0.83      0.87      0.85       275\n",
            "           7       0.92      0.91      0.92       299\n",
            "           8       0.94      0.94      0.94       293\n",
            "           9       0.95      0.94      0.94       313\n",
            "          10       0.95      0.98      0.96       295\n",
            "          11       0.95      0.95      0.95       301\n",
            "          12       0.89      0.79      0.84       302\n",
            "          13       0.94      0.94      0.94       288\n",
            "          14       0.95      0.94      0.94       300\n",
            "          15       0.72      0.95      0.82       302\n",
            "          16       0.79      0.95      0.86       282\n",
            "          17       0.97      0.96      0.97       310\n",
            "          18       0.94      0.74      0.83       196\n",
            "          19       0.92      0.32      0.47       193\n",
            "\n",
            "    accuracy                           0.87      5654\n",
            "   macro avg       0.88      0.86      0.86      5654\n",
            "weighted avg       0.88      0.87      0.87      5654\n",
            "\n",
            "CPU times: user 86.6 ms, sys: 0 ns, total: 86.6 ms\n",
            "Wall time: 89.5 ms\n"
          ],
          "name": "stdout"
        }
      ]
    },
    {
      "cell_type": "markdown",
      "metadata": {
        "id": "D0OjcV6fWirF",
        "colab_type": "text"
      },
      "source": [
        "**1.11 Naive Bayes con Bigram + Stemming (Snowball)**"
      ]
    },
    {
      "cell_type": "markdown",
      "metadata": {
        "id": "TX8U3tzvWsv6",
        "colab_type": "text"
      },
      "source": [
        "Cross Validation (train set)"
      ]
    },
    {
      "cell_type": "code",
      "metadata": {
        "id": "1ATEd2PfWvbq",
        "colab_type": "code",
        "outputId": "4fbd3686-5c35-4003-c656-a770867aa667",
        "colab": {
          "base_uri": "https://localhost:8080/",
          "height": 51
        }
      },
      "source": [
        "%%time\n",
        "score = cross_val_score(clf, bi_train_stem_snowball_x, train_stem_snowball_y, cv=3)"
      ],
      "execution_count": 122,
      "outputs": [
        {
          "output_type": "stream",
          "text": [
            "CPU times: user 160 ms, sys: 2.98 ms, total: 163 ms\n",
            "Wall time: 167 ms\n"
          ],
          "name": "stdout"
        }
      ]
    },
    {
      "cell_type": "code",
      "metadata": {
        "id": "Dsh-qwr4W1V1",
        "colab_type": "code",
        "outputId": "fdb7c215-5229-4960-c8c0-fd49f1fe8161",
        "colab": {
          "base_uri": "https://localhost:8080/",
          "height": 51
        }
      },
      "source": [
        "print(score)\n",
        "print(score.mean())"
      ],
      "execution_count": 123,
      "outputs": [
        {
          "output_type": "stream",
          "text": [
            "[0.86061846 0.86763703 0.8535365 ]\n",
            "0.8605973301142492\n"
          ],
          "name": "stdout"
        }
      ]
    },
    {
      "cell_type": "markdown",
      "metadata": {
        "id": "deXEI8IvW4GT",
        "colab_type": "text"
      },
      "source": [
        "Previsione su dati mai visti (test set)"
      ]
    },
    {
      "cell_type": "code",
      "metadata": {
        "id": "AK7lSYMTW8CQ",
        "colab_type": "code",
        "outputId": "a65844ee-658f-41b7-8eef-006c099ee5ad",
        "colab": {
          "base_uri": "https://localhost:8080/",
          "height": 510
        }
      },
      "source": [
        "%%time\n",
        "clf.fit(bi_train_stem_snowball_x, train_stem_snowball_y)\n",
        "predicted = clf.predict(bi_test_stem_snowball_x)\n",
        "print(classification_report(test_stem_snowball_y, predicted))"
      ],
      "execution_count": 124,
      "outputs": [
        {
          "output_type": "stream",
          "text": [
            "              precision    recall  f1-score   support\n",
            "\n",
            "           0       0.89      0.79      0.84       267\n",
            "           1       0.73      0.86      0.79       269\n",
            "           2       0.84      0.82      0.83       294\n",
            "           3       0.77      0.79      0.78       299\n",
            "           4       0.84      0.89      0.87       267\n",
            "           5       0.90      0.87      0.89       309\n",
            "           6       0.84      0.87      0.85       275\n",
            "           7       0.92      0.91      0.92       299\n",
            "           8       0.94      0.95      0.95       293\n",
            "           9       0.95      0.94      0.94       313\n",
            "          10       0.95      0.98      0.96       295\n",
            "          11       0.94      0.95      0.95       301\n",
            "          12       0.89      0.80      0.84       302\n",
            "          13       0.94      0.94      0.94       288\n",
            "          14       0.95      0.94      0.94       300\n",
            "          15       0.72      0.95      0.82       302\n",
            "          16       0.79      0.95      0.86       282\n",
            "          17       0.97      0.96      0.97       310\n",
            "          18       0.93      0.74      0.83       196\n",
            "          19       0.92      0.31      0.47       193\n",
            "\n",
            "    accuracy                           0.87      5654\n",
            "   macro avg       0.88      0.86      0.86      5654\n",
            "weighted avg       0.88      0.87      0.87      5654\n",
            "\n",
            "CPU times: user 81.4 ms, sys: 976 µs, total: 82.4 ms\n",
            "Wall time: 84 ms\n"
          ],
          "name": "stdout"
        }
      ]
    },
    {
      "cell_type": "markdown",
      "metadata": {
        "id": "vo0eaXmrXCKR",
        "colab_type": "text"
      },
      "source": [
        "**1.12 Naive Bayes con Bigram + Stemming (Lancaster)**"
      ]
    },
    {
      "cell_type": "markdown",
      "metadata": {
        "id": "J_SD8_0wXIl6",
        "colab_type": "text"
      },
      "source": [
        "Cross Validation (train set)"
      ]
    },
    {
      "cell_type": "code",
      "metadata": {
        "id": "n0RbSo6nXML8",
        "colab_type": "code",
        "outputId": "49c9bb6d-210e-43f8-c8c0-533e8cb8a130",
        "colab": {
          "base_uri": "https://localhost:8080/",
          "height": 51
        }
      },
      "source": [
        "%%time\n",
        "score = cross_val_score(clf, bi_train_stem_lancaster_x, train_stem_lancaster_y, cv=3)"
      ],
      "execution_count": 125,
      "outputs": [
        {
          "output_type": "stream",
          "text": [
            "CPU times: user 174 ms, sys: 1.01 ms, total: 175 ms\n",
            "Wall time: 177 ms\n"
          ],
          "name": "stdout"
        }
      ]
    },
    {
      "cell_type": "code",
      "metadata": {
        "id": "HmH8JUGjXMVM",
        "colab_type": "code",
        "outputId": "4dca2783-5d46-4499-c2b5-46759234e525",
        "colab": {
          "base_uri": "https://localhost:8080/",
          "height": 51
        }
      },
      "source": [
        "print(score)\n",
        "print(score.mean())"
      ],
      "execution_count": 126,
      "outputs": [
        {
          "output_type": "stream",
          "text": [
            "[0.85288768 0.86217876 0.84989766]\n",
            "0.8549880306514884\n"
          ],
          "name": "stdout"
        }
      ]
    },
    {
      "cell_type": "markdown",
      "metadata": {
        "id": "He7GYNTJXS77",
        "colab_type": "text"
      },
      "source": [
        "Previsione su dati mai visti (test set)"
      ]
    },
    {
      "cell_type": "code",
      "metadata": {
        "id": "OnDkPMk7XV-U",
        "colab_type": "code",
        "outputId": "c910b5ac-e506-469d-cbe6-318806a720b5",
        "colab": {
          "base_uri": "https://localhost:8080/",
          "height": 510
        }
      },
      "source": [
        "%%time\n",
        "clf.fit(bi_train_stem_lancaster_x, train_stem_lancaster_y)\n",
        "predicted = clf.predict(bi_test_stem_lancaster_x)\n",
        "print(classification_report(test_stem_lancaster_y, predicted))"
      ],
      "execution_count": 127,
      "outputs": [
        {
          "output_type": "stream",
          "text": [
            "              precision    recall  f1-score   support\n",
            "\n",
            "           0       0.88      0.78      0.83       267\n",
            "           1       0.72      0.85      0.78       269\n",
            "           2       0.85      0.81      0.83       294\n",
            "           3       0.76      0.79      0.77       299\n",
            "           4       0.83      0.88      0.86       267\n",
            "           5       0.91      0.87      0.89       309\n",
            "           6       0.84      0.87      0.85       275\n",
            "           7       0.91      0.91      0.91       299\n",
            "           8       0.95      0.95      0.95       293\n",
            "           9       0.95      0.94      0.95       313\n",
            "          10       0.96      0.98      0.97       295\n",
            "          11       0.95      0.95      0.95       301\n",
            "          12       0.88      0.81      0.84       302\n",
            "          13       0.92      0.93      0.93       288\n",
            "          14       0.94      0.94      0.94       300\n",
            "          15       0.71      0.95      0.81       302\n",
            "          16       0.80      0.96      0.87       282\n",
            "          17       0.96      0.96      0.96       310\n",
            "          18       0.93      0.77      0.84       196\n",
            "          19       0.93      0.28      0.44       193\n",
            "\n",
            "    accuracy                           0.87      5654\n",
            "   macro avg       0.88      0.86      0.86      5654\n",
            "weighted avg       0.88      0.87      0.87      5654\n",
            "\n",
            "CPU times: user 84.7 ms, sys: 0 ns, total: 84.7 ms\n",
            "Wall time: 86 ms\n"
          ],
          "name": "stdout"
        }
      ]
    },
    {
      "cell_type": "markdown",
      "metadata": {
        "id": "rrgumkbZnl2I",
        "colab_type": "text"
      },
      "source": [
        "### **2. Support Vector Machine (SVM)**"
      ]
    },
    {
      "cell_type": "code",
      "metadata": {
        "id": "cnYmKgLSoQBh",
        "colab_type": "code",
        "colab": {}
      },
      "source": [
        "clf = svm.SVC()"
      ],
      "execution_count": 0,
      "outputs": []
    },
    {
      "cell_type": "markdown",
      "metadata": {
        "id": "cL2hmOAZoVmJ",
        "colab_type": "text"
      },
      "source": [
        "**2.1 SVM con TF + Lemmatization**"
      ]
    },
    {
      "cell_type": "markdown",
      "metadata": {
        "id": "ccvYxT761VcN",
        "colab_type": "text"
      },
      "source": [
        "Cross Validation (train set)"
      ]
    },
    {
      "cell_type": "code",
      "metadata": {
        "id": "DqPdqOoz1Von",
        "colab_type": "code",
        "colab": {
          "base_uri": "https://localhost:8080/",
          "height": 51
        },
        "outputId": "7a152ef1-4bf2-4392-c73d-2c8388f50010"
      },
      "source": [
        "%%time\n",
        "score = cross_val_score(clf, tf_train_lem_x, train_lem_y, cv=3)"
      ],
      "execution_count": 130,
      "outputs": [
        {
          "output_type": "stream",
          "text": [
            "CPU times: user 5min 48s, sys: 96 ms, total: 5min 48s\n",
            "Wall time: 5min 48s\n"
          ],
          "name": "stdout"
        }
      ]
    },
    {
      "cell_type": "code",
      "metadata": {
        "id": "oSpDqyoS1Vwi",
        "colab_type": "code",
        "colab": {
          "base_uri": "https://localhost:8080/",
          "height": 51
        },
        "outputId": "b8f5a2d6-e3ad-4395-a983-50451478c6b2"
      },
      "source": [
        "print(score)\n",
        "print(score.mean())"
      ],
      "execution_count": 131,
      "outputs": [
        {
          "output_type": "stream",
          "text": [
            "[0.74988631 0.74459859 0.75460541]\n",
            "0.7496967715630385\n"
          ],
          "name": "stdout"
        }
      ]
    },
    {
      "cell_type": "markdown",
      "metadata": {
        "id": "Ir3EiTM71V53",
        "colab_type": "text"
      },
      "source": [
        "Previsione su dati mai visti (test set)"
      ]
    },
    {
      "cell_type": "code",
      "metadata": {
        "id": "LFUP3QSJoTc5",
        "colab_type": "code",
        "colab": {
          "base_uri": "https://localhost:8080/",
          "height": 510
        },
        "outputId": "340463a0-2626-4198-ae62-202b9d9ff2c7"
      },
      "source": [
        "%%time\n",
        "clf.fit(tf_train_lem_x, train_lem_y)\n",
        "predicted = clf.predict(tf_test_lem_x)\n",
        "print(classification_report(test_lem_y, predicted))"
      ],
      "execution_count": 132,
      "outputs": [
        {
          "output_type": "stream",
          "text": [
            "              precision    recall  f1-score   support\n",
            "\n",
            "           0       0.88      0.74      0.81       267\n",
            "           1       0.47      0.84      0.60       269\n",
            "           2       0.80      0.67      0.73       294\n",
            "           3       0.79      0.70      0.74       299\n",
            "           4       0.89      0.82      0.85       267\n",
            "           5       0.87      0.72      0.79       309\n",
            "           6       0.63      0.89      0.74       275\n",
            "           7       0.91      0.83      0.87       299\n",
            "           8       0.95      0.87      0.91       293\n",
            "           9       0.90      0.88      0.89       313\n",
            "          10       1.00      0.84      0.91       295\n",
            "          11       0.98      0.84      0.91       301\n",
            "          12       0.60      0.83      0.69       302\n",
            "          13       0.82      0.86      0.84       288\n",
            "          14       0.96      0.81      0.88       300\n",
            "          15       0.83      0.87      0.85       302\n",
            "          16       0.86      0.80      0.83       282\n",
            "          17       0.72      0.85      0.78       310\n",
            "          18       0.82      0.70      0.75       196\n",
            "          19       0.80      0.43      0.56       193\n",
            "\n",
            "    accuracy                           0.80      5654\n",
            "   macro avg       0.82      0.79      0.80      5654\n",
            "weighted avg       0.83      0.80      0.80      5654\n",
            "\n",
            "CPU times: user 3min 41s, sys: 26.7 ms, total: 3min 41s\n",
            "Wall time: 3min 41s\n"
          ],
          "name": "stdout"
        }
      ]
    },
    {
      "cell_type": "markdown",
      "metadata": {
        "id": "Cnq1aiweptbg",
        "colab_type": "text"
      },
      "source": [
        "**2.2 SVM con TF + Stemming (Porter)**"
      ]
    },
    {
      "cell_type": "markdown",
      "metadata": {
        "id": "j4WLr-1k1lUy",
        "colab_type": "text"
      },
      "source": [
        "Cross validation (train set)"
      ]
    },
    {
      "cell_type": "code",
      "metadata": {
        "id": "jaTor8x11lfK",
        "colab_type": "code",
        "colab": {
          "base_uri": "https://localhost:8080/",
          "height": 51
        },
        "outputId": "85280157-85f3-420d-e849-971ec4d560bb"
      },
      "source": [
        "%%time\n",
        "score = cross_val_score(clf, tf_train_stem_porter_x, train_stem_porter_y, cv=3)"
      ],
      "execution_count": 133,
      "outputs": [
        {
          "output_type": "stream",
          "text": [
            "CPU times: user 5min 31s, sys: 132 ms, total: 5min 32s\n",
            "Wall time: 5min 32s\n"
          ],
          "name": "stdout"
        }
      ]
    },
    {
      "cell_type": "code",
      "metadata": {
        "id": "AYRM4ov31lnP",
        "colab_type": "code",
        "colab": {
          "base_uri": "https://localhost:8080/",
          "height": 51
        },
        "outputId": "8eb0af85-2684-4336-b34f-5fcce542532e"
      },
      "source": [
        "print(score)\n",
        "print(score.mean())"
      ],
      "execution_count": 134,
      "outputs": [
        {
          "output_type": "stream",
          "text": [
            "[0.74920418 0.74323402 0.75164885]\n",
            "0.7480290194690532\n"
          ],
          "name": "stdout"
        }
      ]
    },
    {
      "cell_type": "markdown",
      "metadata": {
        "id": "w_JnQi_y1l0t",
        "colab_type": "text"
      },
      "source": [
        "Previsione su dati mai visti (test set)"
      ]
    },
    {
      "cell_type": "code",
      "metadata": {
        "id": "6Y-nbRgqpyz4",
        "colab_type": "code",
        "colab": {
          "base_uri": "https://localhost:8080/",
          "height": 510
        },
        "outputId": "872218b6-5020-4f8e-ea27-ec650fd01321"
      },
      "source": [
        "%%time\n",
        "clf.fit(tf_train_stem_porter_x, train_stem_porter_y)\n",
        "predicted = clf.predict(tf_test_stem_porter_x)\n",
        "print(classification_report(test_stem_porter_y, predicted))"
      ],
      "execution_count": 135,
      "outputs": [
        {
          "output_type": "stream",
          "text": [
            "              precision    recall  f1-score   support\n",
            "\n",
            "           0       0.86      0.73      0.79       267\n",
            "           1       0.49      0.83      0.62       269\n",
            "           2       0.80      0.67      0.73       294\n",
            "           3       0.80      0.71      0.75       299\n",
            "           4       0.91      0.81      0.86       267\n",
            "           5       0.87      0.72      0.79       309\n",
            "           6       0.59      0.89      0.71       275\n",
            "           7       0.89      0.82      0.85       299\n",
            "           8       0.95      0.88      0.91       293\n",
            "           9       0.88      0.89      0.88       313\n",
            "          10       1.00      0.85      0.92       295\n",
            "          11       0.98      0.84      0.91       301\n",
            "          12       0.63      0.82      0.72       302\n",
            "          13       0.80      0.88      0.84       288\n",
            "          14       0.97      0.80      0.88       300\n",
            "          15       0.82      0.87      0.84       302\n",
            "          16       0.85      0.79      0.82       282\n",
            "          17       0.72      0.85      0.78       310\n",
            "          18       0.84      0.70      0.76       196\n",
            "          19       0.77      0.40      0.53       193\n",
            "\n",
            "    accuracy                           0.80      5654\n",
            "   macro avg       0.82      0.79      0.79      5654\n",
            "weighted avg       0.82      0.80      0.80      5654\n",
            "\n",
            "CPU times: user 3min 31s, sys: 74.9 ms, total: 3min 31s\n",
            "Wall time: 3min 32s\n"
          ],
          "name": "stdout"
        }
      ]
    },
    {
      "cell_type": "markdown",
      "metadata": {
        "id": "vcjiovg2dmWZ",
        "colab_type": "text"
      },
      "source": [
        "**2.3 SVM con TF + Stemming (Snowball)**"
      ]
    },
    {
      "cell_type": "markdown",
      "metadata": {
        "id": "9Juu-e2adtCQ",
        "colab_type": "text"
      },
      "source": [
        "Cross Validation (train set)"
      ]
    },
    {
      "cell_type": "code",
      "metadata": {
        "id": "YSqv4a5rdwxh",
        "colab_type": "code",
        "colab": {
          "base_uri": "https://localhost:8080/",
          "height": 51
        },
        "outputId": "8191572c-d7e5-47a6-e0bf-80be5ce23c3f"
      },
      "source": [
        "%%time\n",
        "score = cross_val_score(clf, tf_train_stem_snowball_x, train_stem_snowball_y, cv=3)"
      ],
      "execution_count": 136,
      "outputs": [
        {
          "output_type": "stream",
          "text": [
            "CPU times: user 5min 29s, sys: 63 ms, total: 5min 29s\n",
            "Wall time: 5min 30s\n"
          ],
          "name": "stdout"
        }
      ]
    },
    {
      "cell_type": "code",
      "metadata": {
        "id": "a4BJEZQwd2ni",
        "colab_type": "code",
        "colab": {
          "base_uri": "https://localhost:8080/",
          "height": 51
        },
        "outputId": "9b8df255-86ca-4644-9fc5-8878674db7e3"
      },
      "source": [
        "print(score)\n",
        "print(score.mean())"
      ],
      "execution_count": 137,
      "outputs": [
        {
          "output_type": "stream",
          "text": [
            "[0.74874943 0.74368888 0.75187628]\n",
            "0.7481048632073716\n"
          ],
          "name": "stdout"
        }
      ]
    },
    {
      "cell_type": "markdown",
      "metadata": {
        "id": "Njaem2zbd4Z9",
        "colab_type": "text"
      },
      "source": [
        "Previsione su dati mai visti (test set)"
      ]
    },
    {
      "cell_type": "code",
      "metadata": {
        "id": "Ut5OIUyseAyc",
        "colab_type": "code",
        "colab": {
          "base_uri": "https://localhost:8080/",
          "height": 510
        },
        "outputId": "2fd8d576-21ad-46a1-9a3d-ea384b3deb9c"
      },
      "source": [
        "%%time\n",
        "clf.fit(tf_train_stem_snowball_x, train_stem_snowball_y)\n",
        "predicted = clf.predict(tf_test_stem_snowball_x)\n",
        "print(classification_report(test_stem_snowball_y, predicted))"
      ],
      "execution_count": 138,
      "outputs": [
        {
          "output_type": "stream",
          "text": [
            "              precision    recall  f1-score   support\n",
            "\n",
            "           0       0.86      0.72      0.79       267\n",
            "           1       0.49      0.83      0.61       269\n",
            "           2       0.80      0.67      0.73       294\n",
            "           3       0.80      0.71      0.75       299\n",
            "           4       0.91      0.81      0.86       267\n",
            "           5       0.88      0.72      0.79       309\n",
            "           6       0.59      0.90      0.71       275\n",
            "           7       0.88      0.82      0.85       299\n",
            "           8       0.95      0.88      0.91       293\n",
            "           9       0.88      0.89      0.88       313\n",
            "          10       1.00      0.85      0.92       295\n",
            "          11       0.98      0.84      0.91       301\n",
            "          12       0.64      0.82      0.72       302\n",
            "          13       0.80      0.88      0.84       288\n",
            "          14       0.96      0.80      0.87       300\n",
            "          15       0.82      0.87      0.84       302\n",
            "          16       0.84      0.79      0.82       282\n",
            "          17       0.72      0.85      0.78       310\n",
            "          18       0.83      0.69      0.76       196\n",
            "          19       0.77      0.40      0.53       193\n",
            "\n",
            "    accuracy                           0.80      5654\n",
            "   macro avg       0.82      0.79      0.79      5654\n",
            "weighted avg       0.82      0.80      0.80      5654\n",
            "\n",
            "CPU times: user 3min 29s, sys: 44.8 ms, total: 3min 29s\n",
            "Wall time: 3min 29s\n"
          ],
          "name": "stdout"
        }
      ]
    },
    {
      "cell_type": "markdown",
      "metadata": {
        "id": "tczE3PtMeGu8",
        "colab_type": "text"
      },
      "source": [
        "**2.4 SVM con TF + Stemming (Lancaster)**"
      ]
    },
    {
      "cell_type": "markdown",
      "metadata": {
        "id": "Q0NgIFc9eMsp",
        "colab_type": "text"
      },
      "source": [
        "Cross Validation (train set)"
      ]
    },
    {
      "cell_type": "code",
      "metadata": {
        "id": "etMaZjV3ePE_",
        "colab_type": "code",
        "colab": {
          "base_uri": "https://localhost:8080/",
          "height": 51
        },
        "outputId": "6d44074c-8754-49a2-92fc-7adbc1b34ec7"
      },
      "source": [
        "%%time\n",
        "score = cross_val_score(clf, tf_train_stem_lancaster_x, train_stem_lancaster_y, cv=3)"
      ],
      "execution_count": 139,
      "outputs": [
        {
          "output_type": "stream",
          "text": [
            "CPU times: user 5min 14s, sys: 40.8 ms, total: 5min 14s\n",
            "Wall time: 5min 15s\n"
          ],
          "name": "stdout"
        }
      ]
    },
    {
      "cell_type": "code",
      "metadata": {
        "id": "jtpKDhdaePMs",
        "colab_type": "code",
        "colab": {
          "base_uri": "https://localhost:8080/",
          "height": 51
        },
        "outputId": "67ab850f-f78a-44b4-faf9-15c7f3aaf526"
      },
      "source": [
        "print(score)\n",
        "print(score.mean())"
      ],
      "execution_count": 140,
      "outputs": [
        {
          "output_type": "stream",
          "text": [
            "[0.737608   0.74095975 0.74755515]\n",
            "0.7420409667194573\n"
          ],
          "name": "stdout"
        }
      ]
    },
    {
      "cell_type": "markdown",
      "metadata": {
        "id": "_P4_qpImeb6W",
        "colab_type": "text"
      },
      "source": [
        "Previsione su dati mai visti (test set)"
      ]
    },
    {
      "cell_type": "code",
      "metadata": {
        "id": "fZCp98CaefTW",
        "colab_type": "code",
        "colab": {
          "base_uri": "https://localhost:8080/",
          "height": 510
        },
        "outputId": "d532a347-16ba-43b4-fb92-87146c928b80"
      },
      "source": [
        "%%time\n",
        "clf.fit(tf_train_stem_lancaster_x, train_stem_lancaster_y)\n",
        "predicted = clf.predict(tf_test_stem_lancaster_x)\n",
        "print(classification_report(test_stem_lancaster_y, predicted))"
      ],
      "execution_count": 141,
      "outputs": [
        {
          "output_type": "stream",
          "text": [
            "              precision    recall  f1-score   support\n",
            "\n",
            "           0       0.86      0.72      0.79       267\n",
            "           1       0.48      0.83      0.60       269\n",
            "           2       0.80      0.62      0.70       294\n",
            "           3       0.75      0.71      0.73       299\n",
            "           4       0.87      0.82      0.84       267\n",
            "           5       0.86      0.71      0.78       309\n",
            "           6       0.55      0.87      0.68       275\n",
            "           7       0.85      0.82      0.83       299\n",
            "           8       0.96      0.87      0.91       293\n",
            "           9       0.91      0.87      0.89       313\n",
            "          10       0.99      0.85      0.91       295\n",
            "          11       0.98      0.82      0.89       301\n",
            "          12       0.63      0.79      0.70       302\n",
            "          13       0.81      0.87      0.84       288\n",
            "          14       0.95      0.79      0.86       300\n",
            "          15       0.82      0.86      0.84       302\n",
            "          16       0.84      0.80      0.82       282\n",
            "          17       0.72      0.85      0.78       310\n",
            "          18       0.81      0.68      0.74       196\n",
            "          19       0.80      0.42      0.55       193\n",
            "\n",
            "    accuracy                           0.79      5654\n",
            "   macro avg       0.81      0.78      0.78      5654\n",
            "weighted avg       0.81      0.79      0.79      5654\n",
            "\n",
            "CPU times: user 3min 20s, sys: 21 ms, total: 3min 20s\n",
            "Wall time: 3min 20s\n"
          ],
          "name": "stdout"
        }
      ]
    },
    {
      "cell_type": "markdown",
      "metadata": {
        "id": "aWNXDLOMqgge",
        "colab_type": "text"
      },
      "source": [
        "**2.5 SVM con TF-IDF + Lemmatization**"
      ]
    },
    {
      "cell_type": "markdown",
      "metadata": {
        "id": "BIL-Wll62XXG",
        "colab_type": "text"
      },
      "source": [
        "Cross Validation (train set)"
      ]
    },
    {
      "cell_type": "code",
      "metadata": {
        "id": "9LfEPgRe2Xjw",
        "colab_type": "code",
        "colab": {
          "base_uri": "https://localhost:8080/",
          "height": 51
        },
        "outputId": "5162ae35-ecb4-4be7-8048-b77a1481c66c"
      },
      "source": [
        "%%time\n",
        "score = cross_val_score(clf, tfidf_train_lem_x, train_lem_y, cv=3)"
      ],
      "execution_count": 142,
      "outputs": [
        {
          "output_type": "stream",
          "text": [
            "CPU times: user 7min 17s, sys: 74.9 ms, total: 7min 17s\n",
            "Wall time: 7min 17s\n"
          ],
          "name": "stdout"
        }
      ]
    },
    {
      "cell_type": "code",
      "metadata": {
        "id": "OVst9d1Y2XsG",
        "colab_type": "code",
        "colab": {
          "base_uri": "https://localhost:8080/",
          "height": 51
        },
        "outputId": "ef17ef70-0440-40e5-cfa3-40015d89b012"
      },
      "source": [
        "print(score)\n",
        "print(score.mean())"
      ],
      "execution_count": 143,
      "outputs": [
        {
          "output_type": "stream",
          "text": [
            "[0.88244657 0.89174437 0.88173755]\n",
            "0.8853094953705843\n"
          ],
          "name": "stdout"
        }
      ]
    },
    {
      "cell_type": "markdown",
      "metadata": {
        "id": "lO6SvFQe2Xzd",
        "colab_type": "text"
      },
      "source": [
        "Previsione su dati mai visti (test set)"
      ]
    },
    {
      "cell_type": "code",
      "metadata": {
        "id": "vCinJ7BGqkHl",
        "colab_type": "code",
        "colab": {
          "base_uri": "https://localhost:8080/",
          "height": 510
        },
        "outputId": "9c4cb21a-5999-4634-edc5-fc1f6038297b"
      },
      "source": [
        "%%time\n",
        "clf.fit(tfidf_train_lem_x, train_lem_y)\n",
        "predicted = clf.predict(tfidf_test_lem_x)\n",
        "print(classification_report(test_lem_y, predicted))"
      ],
      "execution_count": 144,
      "outputs": [
        {
          "output_type": "stream",
          "text": [
            "              precision    recall  f1-score   support\n",
            "\n",
            "           0       0.91      0.87      0.89       267\n",
            "           1       0.75      0.91      0.83       269\n",
            "           2       0.86      0.83      0.84       294\n",
            "           3       0.80      0.83      0.82       299\n",
            "           4       0.94      0.89      0.91       267\n",
            "           5       0.91      0.89      0.90       309\n",
            "           6       0.85      0.91      0.88       275\n",
            "           7       0.95      0.93      0.94       299\n",
            "           8       0.98      0.97      0.97       293\n",
            "           9       0.97      0.96      0.97       313\n",
            "          10       0.99      0.96      0.98       295\n",
            "          11       0.99      0.93      0.96       301\n",
            "          12       0.84      0.90      0.87       302\n",
            "          13       0.93      0.97      0.95       288\n",
            "          14       0.98      0.94      0.96       300\n",
            "          15       0.88      0.93      0.90       302\n",
            "          16       0.89      0.93      0.91       282\n",
            "          17       0.99      0.96      0.98       310\n",
            "          18       0.88      0.88      0.88       196\n",
            "          19       0.85      0.68      0.76       193\n",
            "\n",
            "    accuracy                           0.91      5654\n",
            "   macro avg       0.91      0.90      0.90      5654\n",
            "weighted avg       0.91      0.91      0.91      5654\n",
            "\n",
            "CPU times: user 5min 1s, sys: 39 ms, total: 5min 1s\n",
            "Wall time: 5min 1s\n"
          ],
          "name": "stdout"
        }
      ]
    },
    {
      "cell_type": "markdown",
      "metadata": {
        "id": "7pGv3eM8tpiY",
        "colab_type": "text"
      },
      "source": [
        "**2.6 SVM con TF-IDF + Stemming (Porter)**"
      ]
    },
    {
      "cell_type": "markdown",
      "metadata": {
        "id": "O9msg31N2rRN",
        "colab_type": "text"
      },
      "source": [
        "Cross Validation (train set)"
      ]
    },
    {
      "cell_type": "code",
      "metadata": {
        "id": "i3UAyK7e2r-J",
        "colab_type": "code",
        "colab": {
          "base_uri": "https://localhost:8080/",
          "height": 51
        },
        "outputId": "3b2d8bad-ab3d-46ba-f459-b9b554c52674"
      },
      "source": [
        "%%time\n",
        "score = cross_val_score(clf, tfidf_train_stem_porter_x, train_stem_porter_y, cv=3)"
      ],
      "execution_count": 145,
      "outputs": [
        {
          "output_type": "stream",
          "text": [
            "CPU times: user 7min 12s, sys: 61 ms, total: 7min 12s\n",
            "Wall time: 7min 12s\n"
          ],
          "name": "stdout"
        }
      ]
    },
    {
      "cell_type": "code",
      "metadata": {
        "id": "VVa-B3vb2sH5",
        "colab_type": "code",
        "colab": {
          "base_uri": "https://localhost:8080/",
          "height": 51
        },
        "outputId": "d2083afa-ef35-435e-b968-ddb81e58a455"
      },
      "source": [
        "print(score)\n",
        "print(score.mean())"
      ],
      "execution_count": 146,
      "outputs": [
        {
          "output_type": "stream",
          "text": [
            "[0.8792633  0.89151694 0.87878099]\n",
            "0.8831870773025926\n"
          ],
          "name": "stdout"
        }
      ]
    },
    {
      "cell_type": "markdown",
      "metadata": {
        "id": "AxnGT8k82sXG",
        "colab_type": "text"
      },
      "source": [
        "Previsione su dati mai visti (test set)"
      ]
    },
    {
      "cell_type": "code",
      "metadata": {
        "id": "sKuYqfbytwJw",
        "colab_type": "code",
        "colab": {
          "base_uri": "https://localhost:8080/",
          "height": 510
        },
        "outputId": "cde4349f-dc87-4c02-b08e-2d5156526f37"
      },
      "source": [
        "%%time\n",
        "clf.fit(tfidf_train_stem_porter_x, train_stem_porter_y)\n",
        "predicted = clf.predict(tfidf_test_stem_porter_x)\n",
        "print(classification_report(test_stem_porter_y, predicted))"
      ],
      "execution_count": 147,
      "outputs": [
        {
          "output_type": "stream",
          "text": [
            "              precision    recall  f1-score   support\n",
            "\n",
            "           0       0.92      0.88      0.90       267\n",
            "           1       0.73      0.93      0.82       269\n",
            "           2       0.87      0.83      0.85       294\n",
            "           3       0.81      0.83      0.82       299\n",
            "           4       0.94      0.89      0.91       267\n",
            "           5       0.90      0.87      0.89       309\n",
            "           6       0.85      0.91      0.88       275\n",
            "           7       0.95      0.92      0.94       299\n",
            "           8       0.99      0.96      0.97       293\n",
            "           9       0.98      0.97      0.97       313\n",
            "          10       1.00      0.97      0.98       295\n",
            "          11       0.98      0.93      0.95       301\n",
            "          12       0.85      0.91      0.88       302\n",
            "          13       0.93      0.97      0.95       288\n",
            "          14       0.98      0.95      0.97       300\n",
            "          15       0.89      0.93      0.91       302\n",
            "          16       0.89      0.93      0.91       282\n",
            "          17       0.99      0.95      0.97       310\n",
            "          18       0.88      0.86      0.87       196\n",
            "          19       0.85      0.68      0.76       193\n",
            "\n",
            "    accuracy                           0.91      5654\n",
            "   macro avg       0.91      0.90      0.90      5654\n",
            "weighted avg       0.91      0.91      0.91      5654\n",
            "\n",
            "CPU times: user 4min 56s, sys: 36 ms, total: 4min 56s\n",
            "Wall time: 4min 56s\n"
          ],
          "name": "stdout"
        }
      ]
    },
    {
      "cell_type": "markdown",
      "metadata": {
        "id": "1AnY1TK7e98T",
        "colab_type": "text"
      },
      "source": [
        "**2.7 SVM con TF-IDF + Stemming (Snowball)**"
      ]
    },
    {
      "cell_type": "markdown",
      "metadata": {
        "id": "bRz8I0FxfEUe",
        "colab_type": "text"
      },
      "source": [
        "Cross Validation (train set)"
      ]
    },
    {
      "cell_type": "code",
      "metadata": {
        "id": "IAW_alaEfDQg",
        "colab_type": "code",
        "colab": {
          "base_uri": "https://localhost:8080/",
          "height": 51
        },
        "outputId": "86d58746-2161-4011-df3e-d5aba1bb31f3"
      },
      "source": [
        "%%time\n",
        "score = cross_val_score(clf, tfidf_train_stem_snowball_x, train_stem_snowball_y, cv=3)"
      ],
      "execution_count": 148,
      "outputs": [
        {
          "output_type": "stream",
          "text": [
            "CPU times: user 7min 14s, sys: 55 ms, total: 7min 14s\n",
            "Wall time: 7min 14s\n"
          ],
          "name": "stdout"
        }
      ]
    },
    {
      "cell_type": "code",
      "metadata": {
        "id": "1Tk_3kvBfQMP",
        "colab_type": "code",
        "colab": {
          "base_uri": "https://localhost:8080/",
          "height": 51
        },
        "outputId": "7369b322-db27-43e8-cb98-521f1d440d04"
      },
      "source": [
        "print(score)\n",
        "print(score.mean())"
      ],
      "execution_count": 149,
      "outputs": [
        {
          "output_type": "stream",
          "text": [
            "[0.8792633  0.89106209 0.87832613]\n",
            "0.8828838402470245\n"
          ],
          "name": "stdout"
        }
      ]
    },
    {
      "cell_type": "markdown",
      "metadata": {
        "id": "tiiiXR04fRgl",
        "colab_type": "text"
      },
      "source": [
        "Previsione su dati mai visti (test set)"
      ]
    },
    {
      "cell_type": "code",
      "metadata": {
        "id": "J7g5rHYTfUB0",
        "colab_type": "code",
        "colab": {
          "base_uri": "https://localhost:8080/",
          "height": 510
        },
        "outputId": "352cf3cc-cd3e-4eae-dc5c-8f6d8a7b68b1"
      },
      "source": [
        "%%time\n",
        "clf.fit(tfidf_train_stem_snowball_x, train_stem_snowball_y)\n",
        "predicted = clf.predict(tfidf_test_stem_snowball_x)\n",
        "print(classification_report(test_stem_snowball_y, predicted))"
      ],
      "execution_count": 150,
      "outputs": [
        {
          "output_type": "stream",
          "text": [
            "              precision    recall  f1-score   support\n",
            "\n",
            "           0       0.92      0.88      0.90       267\n",
            "           1       0.73      0.93      0.82       269\n",
            "           2       0.87      0.83      0.85       294\n",
            "           3       0.81      0.83      0.82       299\n",
            "           4       0.94      0.88      0.91       267\n",
            "           5       0.89      0.87      0.88       309\n",
            "           6       0.85      0.91      0.88       275\n",
            "           7       0.95      0.92      0.94       299\n",
            "           8       0.99      0.96      0.97       293\n",
            "           9       0.98      0.97      0.98       313\n",
            "          10       1.00      0.97      0.98       295\n",
            "          11       0.98      0.93      0.95       301\n",
            "          12       0.85      0.91      0.88       302\n",
            "          13       0.93      0.97      0.95       288\n",
            "          14       0.98      0.95      0.97       300\n",
            "          15       0.89      0.93      0.91       302\n",
            "          16       0.89      0.93      0.91       282\n",
            "          17       0.99      0.95      0.97       310\n",
            "          18       0.88      0.86      0.87       196\n",
            "          19       0.85      0.67      0.75       193\n",
            "\n",
            "    accuracy                           0.91      5654\n",
            "   macro avg       0.91      0.90      0.90      5654\n",
            "weighted avg       0.91      0.91      0.91      5654\n",
            "\n",
            "CPU times: user 4min 57s, sys: 39 ms, total: 4min 57s\n",
            "Wall time: 4min 57s\n"
          ],
          "name": "stdout"
        }
      ]
    },
    {
      "cell_type": "markdown",
      "metadata": {
        "id": "ck12piCZfay8",
        "colab_type": "text"
      },
      "source": [
        "**2.8 SVM con TF-IDF + Stemming (Lancaster)**"
      ]
    },
    {
      "cell_type": "markdown",
      "metadata": {
        "id": "-EH0Ee3AfiNI",
        "colab_type": "text"
      },
      "source": [
        "Cross Validation (train set)"
      ]
    },
    {
      "cell_type": "code",
      "metadata": {
        "id": "N5-06AGjfidn",
        "colab_type": "code",
        "colab": {
          "base_uri": "https://localhost:8080/",
          "height": 51
        },
        "outputId": "857dd800-8f38-4bf0-d441-650f27f4edd4"
      },
      "source": [
        "%%time\n",
        "score = cross_val_score(clf, tfidf_train_stem_lancaster_x, train_stem_lancaster_y, cv=3)"
      ],
      "execution_count": 151,
      "outputs": [
        {
          "output_type": "stream",
          "text": [
            "CPU times: user 7min 10s, sys: 50 ms, total: 7min 10s\n",
            "Wall time: 7min 10s\n"
          ],
          "name": "stdout"
        }
      ]
    },
    {
      "cell_type": "code",
      "metadata": {
        "id": "Tk3k7QeufimC",
        "colab_type": "code",
        "colab": {
          "base_uri": "https://localhost:8080/",
          "height": 51
        },
        "outputId": "4c1f09ef-2a37-450e-9a70-43d86e22b670"
      },
      "source": [
        "print(score)\n",
        "print(score.mean())"
      ],
      "execution_count": 152,
      "outputs": [
        {
          "output_type": "stream",
          "text": [
            "[0.87426103 0.88810553 0.87627928]\n",
            "0.879548611854466\n"
          ],
          "name": "stdout"
        }
      ]
    },
    {
      "cell_type": "markdown",
      "metadata": {
        "id": "xAFtF5-jfrPq",
        "colab_type": "text"
      },
      "source": [
        "Previsione su dati mai visti (test set)"
      ]
    },
    {
      "cell_type": "code",
      "metadata": {
        "id": "FBt3TWZIfuIs",
        "colab_type": "code",
        "colab": {
          "base_uri": "https://localhost:8080/",
          "height": 510
        },
        "outputId": "4f5e26c1-c9cf-4720-fc30-8dbb0047d015"
      },
      "source": [
        "%%time\n",
        "clf.fit(tfidf_train_stem_lancaster_x, train_stem_lancaster_y)\n",
        "predicted = clf.predict(tfidf_test_stem_lancaster_x)\n",
        "print(classification_report(test_stem_lancaster_y, predicted))"
      ],
      "execution_count": 153,
      "outputs": [
        {
          "output_type": "stream",
          "text": [
            "              precision    recall  f1-score   support\n",
            "\n",
            "           0       0.91      0.87      0.89       267\n",
            "           1       0.74      0.91      0.82       269\n",
            "           2       0.86      0.80      0.83       294\n",
            "           3       0.81      0.82      0.81       299\n",
            "           4       0.92      0.89      0.90       267\n",
            "           5       0.86      0.88      0.87       309\n",
            "           6       0.85      0.90      0.87       275\n",
            "           7       0.92      0.90      0.91       299\n",
            "           8       0.98      0.96      0.97       293\n",
            "           9       0.97      0.96      0.97       313\n",
            "          10       1.00      0.97      0.98       295\n",
            "          11       0.99      0.91      0.95       301\n",
            "          12       0.84      0.90      0.87       302\n",
            "          13       0.90      0.96      0.93       288\n",
            "          14       0.98      0.94      0.96       300\n",
            "          15       0.89      0.92      0.91       302\n",
            "          16       0.89      0.93      0.91       282\n",
            "          17       0.98      0.95      0.97       310\n",
            "          18       0.89      0.87      0.88       196\n",
            "          19       0.87      0.67      0.76       193\n",
            "\n",
            "    accuracy                           0.90      5654\n",
            "   macro avg       0.90      0.90      0.90      5654\n",
            "weighted avg       0.90      0.90      0.90      5654\n",
            "\n",
            "CPU times: user 4min 54s, sys: 44 ms, total: 4min 54s\n",
            "Wall time: 4min 54s\n"
          ],
          "name": "stdout"
        }
      ]
    },
    {
      "cell_type": "markdown",
      "metadata": {
        "id": "FJkDGGub1WV3",
        "colab_type": "text"
      },
      "source": [
        "**2.9 SVM con Bigram + Lemmatization**"
      ]
    },
    {
      "cell_type": "markdown",
      "metadata": {
        "id": "jZWb_mCh2_rp",
        "colab_type": "text"
      },
      "source": [
        "Cross Validation (train set)"
      ]
    },
    {
      "cell_type": "code",
      "metadata": {
        "id": "J3UTL2yb2_0t",
        "colab_type": "code",
        "colab": {
          "base_uri": "https://localhost:8080/",
          "height": 51
        },
        "outputId": "9f90cd3f-e1e1-4bb6-eaec-0afd83ed0374"
      },
      "source": [
        "%%time\n",
        "score = cross_val_score(clf, bi_train_lem_x, train_lem_y, cv=3)"
      ],
      "execution_count": 154,
      "outputs": [
        {
          "output_type": "stream",
          "text": [
            "CPU times: user 8min 15s, sys: 65.9 ms, total: 8min 15s\n",
            "Wall time: 8min 15s\n"
          ],
          "name": "stdout"
        }
      ]
    },
    {
      "cell_type": "code",
      "metadata": {
        "id": "wWPjvFYP2_90",
        "colab_type": "code",
        "colab": {
          "base_uri": "https://localhost:8080/",
          "height": 51
        },
        "outputId": "cda85615-ecbe-49e0-d06d-ad39fc294d21"
      },
      "source": [
        "print(score)\n",
        "print(score.mean())"
      ],
      "execution_count": 155,
      "outputs": [
        {
          "output_type": "stream",
          "text": [
            "[0.88153706 0.89128952 0.87923584]\n",
            "0.8840208068332726\n"
          ],
          "name": "stdout"
        }
      ]
    },
    {
      "cell_type": "markdown",
      "metadata": {
        "id": "LSx-YJdl3AFP",
        "colab_type": "text"
      },
      "source": [
        "Previsione su dati mai visti (test set)"
      ]
    },
    {
      "cell_type": "code",
      "metadata": {
        "id": "EuBh1Usg1dX7",
        "colab_type": "code",
        "colab": {
          "base_uri": "https://localhost:8080/",
          "height": 510
        },
        "outputId": "d58d766b-aa52-47d6-ebe5-34a5b513c0f4"
      },
      "source": [
        "%%time\n",
        "clf.fit(bi_train_lem_x, train_lem_y)\n",
        "predicted = clf.predict(bi_test_lem_x)\n",
        "print(classification_report(test_lem_y, predicted))"
      ],
      "execution_count": 156,
      "outputs": [
        {
          "output_type": "stream",
          "text": [
            "              precision    recall  f1-score   support\n",
            "\n",
            "           0       0.93      0.88      0.91       267\n",
            "           1       0.71      0.91      0.80       269\n",
            "           2       0.86      0.82      0.84       294\n",
            "           3       0.80      0.82      0.81       299\n",
            "           4       0.91      0.88      0.89       267\n",
            "           5       0.92      0.87      0.90       309\n",
            "           6       0.84      0.90      0.87       275\n",
            "           7       0.95      0.90      0.93       299\n",
            "           8       0.98      0.96      0.97       293\n",
            "           9       0.97      0.96      0.97       313\n",
            "          10       0.99      0.96      0.98       295\n",
            "          11       0.99      0.93      0.96       301\n",
            "          12       0.82      0.88      0.85       302\n",
            "          13       0.92      0.96      0.94       288\n",
            "          14       0.98      0.93      0.96       300\n",
            "          15       0.90      0.94      0.92       302\n",
            "          16       0.90      0.93      0.91       282\n",
            "          17       0.99      0.95      0.97       310\n",
            "          18       0.87      0.87      0.87       196\n",
            "          19       0.87      0.73      0.79       193\n",
            "\n",
            "    accuracy                           0.90      5654\n",
            "   macro avg       0.91      0.90      0.90      5654\n",
            "weighted avg       0.91      0.90      0.90      5654\n",
            "\n",
            "CPU times: user 5min 41s, sys: 46.9 ms, total: 5min 41s\n",
            "Wall time: 5min 41s\n"
          ],
          "name": "stdout"
        }
      ]
    },
    {
      "cell_type": "markdown",
      "metadata": {
        "id": "KD4m3AQ-1lkh",
        "colab_type": "text"
      },
      "source": [
        "**2.10 SVM con Bigram + Stemming (Porter)**"
      ]
    },
    {
      "cell_type": "markdown",
      "metadata": {
        "id": "jKZHfVvT3TeX",
        "colab_type": "text"
      },
      "source": [
        "Cross Validation (train set)"
      ]
    },
    {
      "cell_type": "code",
      "metadata": {
        "id": "uvZyZIpK3Tq2",
        "colab_type": "code",
        "colab": {
          "base_uri": "https://localhost:8080/",
          "height": 51
        },
        "outputId": "5c902521-5b73-42aa-b288-0eda2b7ce2f1"
      },
      "source": [
        "%%time\n",
        "score = cross_val_score(clf, bi_train_stem_porter_x, train_stem_porter_y, cv=3)"
      ],
      "execution_count": 157,
      "outputs": [
        {
          "output_type": "stream",
          "text": [
            "CPU times: user 8min 24s, sys: 62.9 ms, total: 8min 24s\n",
            "Wall time: 8min 25s\n"
          ],
          "name": "stdout"
        }
      ]
    },
    {
      "cell_type": "code",
      "metadata": {
        "id": "cGMYMcq13TzN",
        "colab_type": "code",
        "colab": {
          "base_uri": "https://localhost:8080/",
          "height": 51
        },
        "outputId": "98f352b8-b91e-41ad-da96-54074f93149d"
      },
      "source": [
        "print(score)\n",
        "print(score.mean())"
      ],
      "execution_count": 158,
      "outputs": [
        {
          "output_type": "stream",
          "text": [
            "[0.88130969 0.8944735  0.87900841]\n",
            "0.8849305352371905\n"
          ],
          "name": "stdout"
        }
      ]
    },
    {
      "cell_type": "markdown",
      "metadata": {
        "id": "sfdlOfsX3T9W",
        "colab_type": "text"
      },
      "source": [
        "Previsione su dati mai visti (test set)"
      ]
    },
    {
      "cell_type": "code",
      "metadata": {
        "id": "XbkWXQ0S1szE",
        "colab_type": "code",
        "colab": {
          "base_uri": "https://localhost:8080/",
          "height": 510
        },
        "outputId": "d3945868-9fdd-40aa-840d-3ba525becb6a"
      },
      "source": [
        "%%time\n",
        "clf.fit(bi_train_stem_porter_x, train_stem_porter_y)\n",
        "predicted = clf.predict(bi_test_stem_porter_x)\n",
        "print(classification_report(test_stem_porter_y, predicted))"
      ],
      "execution_count": 159,
      "outputs": [
        {
          "output_type": "stream",
          "text": [
            "              precision    recall  f1-score   support\n",
            "\n",
            "           0       0.92      0.88      0.90       267\n",
            "           1       0.71      0.92      0.81       269\n",
            "           2       0.87      0.83      0.85       294\n",
            "           3       0.80      0.82      0.81       299\n",
            "           4       0.89      0.88      0.89       267\n",
            "           5       0.93      0.88      0.90       309\n",
            "           6       0.84      0.90      0.87       275\n",
            "           7       0.94      0.91      0.93       299\n",
            "           8       0.99      0.96      0.97       293\n",
            "           9       0.97      0.97      0.97       313\n",
            "          10       0.99      0.96      0.98       295\n",
            "          11       0.99      0.93      0.96       301\n",
            "          12       0.85      0.90      0.88       302\n",
            "          13       0.93      0.96      0.95       288\n",
            "          14       0.98      0.93      0.96       300\n",
            "          15       0.90      0.93      0.92       302\n",
            "          16       0.90      0.93      0.92       282\n",
            "          17       0.99      0.95      0.97       310\n",
            "          18       0.88      0.88      0.88       196\n",
            "          19       0.87      0.73      0.79       193\n",
            "\n",
            "    accuracy                           0.91      5654\n",
            "   macro avg       0.91      0.90      0.90      5654\n",
            "weighted avg       0.91      0.91      0.91      5654\n",
            "\n",
            "CPU times: user 5min 45s, sys: 41 ms, total: 5min 45s\n",
            "Wall time: 5min 45s\n"
          ],
          "name": "stdout"
        }
      ]
    },
    {
      "cell_type": "markdown",
      "metadata": {
        "id": "U1qS3n6FgH2s",
        "colab_type": "text"
      },
      "source": [
        "**2.11 SVM con Bigram + Stemming (Snowball)**"
      ]
    },
    {
      "cell_type": "markdown",
      "metadata": {
        "id": "I7KpI_2cgNQq",
        "colab_type": "text"
      },
      "source": [
        "Cross Validation (train set)"
      ]
    },
    {
      "cell_type": "code",
      "metadata": {
        "id": "KWj0fZCcgU9d",
        "colab_type": "code",
        "colab": {
          "base_uri": "https://localhost:8080/",
          "height": 51
        },
        "outputId": "85aa6054-f316-4046-cc2a-520c96d808ae"
      },
      "source": [
        "%%time\n",
        "score = cross_val_score(clf, bi_train_stem_snowball_x, train_stem_snowball_y, cv=3)"
      ],
      "execution_count": 160,
      "outputs": [
        {
          "output_type": "stream",
          "text": [
            "CPU times: user 8min 24s, sys: 54 ms, total: 8min 24s\n",
            "Wall time: 8min 24s\n"
          ],
          "name": "stdout"
        }
      ]
    },
    {
      "cell_type": "code",
      "metadata": {
        "id": "xdfQbP6OgZW5",
        "colab_type": "code",
        "colab": {
          "base_uri": "https://localhost:8080/",
          "height": 51
        },
        "outputId": "202c4b65-7a51-4e9c-d602-14fb4d40cbb7"
      },
      "source": [
        "print(score)\n",
        "print(score.mean())"
      ],
      "execution_count": 161,
      "outputs": [
        {
          "output_type": "stream",
          "text": [
            "[0.88085493 0.8944735  0.8796907 ]\n",
            "0.8850063789755089\n"
          ],
          "name": "stdout"
        }
      ]
    },
    {
      "cell_type": "markdown",
      "metadata": {
        "id": "jGEev3TJgbPi",
        "colab_type": "text"
      },
      "source": [
        "Previsione su dati mai visti (test set)"
      ]
    },
    {
      "cell_type": "code",
      "metadata": {
        "id": "5A0Wz4yOgeQ_",
        "colab_type": "code",
        "colab": {
          "base_uri": "https://localhost:8080/",
          "height": 510
        },
        "outputId": "2990b6b1-1f0e-4fe8-eca9-58530271b1fb"
      },
      "source": [
        "%%time\n",
        "clf.fit(bi_train_stem_snowball_x, train_stem_snowball_y)\n",
        "predicted = clf.predict(bi_test_stem_snowball_x)\n",
        "print(classification_report(test_stem_snowball_y, predicted))"
      ],
      "execution_count": 162,
      "outputs": [
        {
          "output_type": "stream",
          "text": [
            "              precision    recall  f1-score   support\n",
            "\n",
            "           0       0.93      0.88      0.90       267\n",
            "           1       0.72      0.93      0.81       269\n",
            "           2       0.86      0.83      0.85       294\n",
            "           3       0.79      0.82      0.81       299\n",
            "           4       0.89      0.88      0.89       267\n",
            "           5       0.93      0.88      0.90       309\n",
            "           6       0.84      0.90      0.87       275\n",
            "           7       0.95      0.91      0.93       299\n",
            "           8       0.99      0.97      0.98       293\n",
            "           9       0.97      0.97      0.97       313\n",
            "          10       0.99      0.96      0.98       295\n",
            "          11       0.99      0.93      0.96       301\n",
            "          12       0.86      0.89      0.87       302\n",
            "          13       0.93      0.96      0.95       288\n",
            "          14       0.98      0.93      0.96       300\n",
            "          15       0.90      0.93      0.92       302\n",
            "          16       0.90      0.93      0.92       282\n",
            "          17       0.99      0.95      0.97       310\n",
            "          18       0.87      0.88      0.88       196\n",
            "          19       0.87      0.74      0.80       193\n",
            "\n",
            "    accuracy                           0.91      5654\n",
            "   macro avg       0.91      0.90      0.90      5654\n",
            "weighted avg       0.91      0.91      0.91      5654\n",
            "\n",
            "CPU times: user 5min 44s, sys: 47 ms, total: 5min 44s\n",
            "Wall time: 5min 44s\n"
          ],
          "name": "stdout"
        }
      ]
    },
    {
      "cell_type": "markdown",
      "metadata": {
        "id": "RUuKzAGngmlm",
        "colab_type": "text"
      },
      "source": [
        "**2.12 SVM con Bigram + Stemming (Lancaster)**"
      ]
    },
    {
      "cell_type": "markdown",
      "metadata": {
        "id": "ZTuwiGK7gsGD",
        "colab_type": "text"
      },
      "source": [
        "Cross Validation (train set)"
      ]
    },
    {
      "cell_type": "code",
      "metadata": {
        "id": "SEHNH_ddgsaI",
        "colab_type": "code",
        "colab": {
          "base_uri": "https://localhost:8080/",
          "height": 51
        },
        "outputId": "b1133d4c-2930-4ad5-804b-8d9519f7c599"
      },
      "source": [
        "%%time\n",
        "score = cross_val_score(clf, bi_train_stem_lancaster_x, train_stem_lancaster_y, cv=3)"
      ],
      "execution_count": 163,
      "outputs": [
        {
          "output_type": "stream",
          "text": [
            "CPU times: user 8min 29s, sys: 55 ms, total: 8min 29s\n",
            "Wall time: 8min 29s\n"
          ],
          "name": "stdout"
        }
      ]
    },
    {
      "cell_type": "code",
      "metadata": {
        "id": "CdpYgv_ggslJ",
        "colab_type": "code",
        "colab": {
          "base_uri": "https://localhost:8080/",
          "height": 51
        },
        "outputId": "28ee920c-0211-4a05-a55b-80f51e9bb27e"
      },
      "source": [
        "print(score)\n",
        "print(score.mean())"
      ],
      "execution_count": 164,
      "outputs": [
        {
          "output_type": "stream",
          "text": [
            "[0.87608004 0.89379122 0.88037298]\n",
            "0.8834147464152543\n"
          ],
          "name": "stdout"
        }
      ]
    },
    {
      "cell_type": "markdown",
      "metadata": {
        "id": "eI6T-Zv1g01b",
        "colab_type": "text"
      },
      "source": [
        "Previsione su dati mai visti (test set)"
      ]
    },
    {
      "cell_type": "code",
      "metadata": {
        "id": "JAe124_6g3ya",
        "colab_type": "code",
        "colab": {
          "base_uri": "https://localhost:8080/",
          "height": 510
        },
        "outputId": "7d26b605-a0cf-4852-a16f-c5fd21613722"
      },
      "source": [
        "%%time\n",
        "clf.fit(bi_train_stem_lancaster_x, train_stem_lancaster_y)\n",
        "predicted = clf.predict(bi_test_stem_lancaster_x)\n",
        "print(classification_report(test_stem_lancaster_y, predicted))"
      ],
      "execution_count": 165,
      "outputs": [
        {
          "output_type": "stream",
          "text": [
            "              precision    recall  f1-score   support\n",
            "\n",
            "           0       0.93      0.88      0.91       267\n",
            "           1       0.71      0.90      0.80       269\n",
            "           2       0.87      0.81      0.84       294\n",
            "           3       0.79      0.82      0.80       299\n",
            "           4       0.89      0.88      0.89       267\n",
            "           5       0.90      0.89      0.89       309\n",
            "           6       0.85      0.90      0.87       275\n",
            "           7       0.92      0.90      0.91       299\n",
            "           8       0.99      0.96      0.97       293\n",
            "           9       0.96      0.96      0.96       313\n",
            "          10       0.99      0.96      0.97       295\n",
            "          11       0.99      0.92      0.96       301\n",
            "          12       0.84      0.88      0.86       302\n",
            "          13       0.92      0.95      0.94       288\n",
            "          14       0.98      0.93      0.96       300\n",
            "          15       0.91      0.94      0.92       302\n",
            "          16       0.89      0.93      0.91       282\n",
            "          17       0.99      0.96      0.97       310\n",
            "          18       0.87      0.86      0.86       196\n",
            "          19       0.88      0.74      0.80       193\n",
            "\n",
            "    accuracy                           0.90      5654\n",
            "   macro avg       0.90      0.90      0.90      5654\n",
            "weighted avg       0.91      0.90      0.90      5654\n",
            "\n",
            "CPU times: user 5min 46s, sys: 43 ms, total: 5min 46s\n",
            "Wall time: 5min 46s\n"
          ],
          "name": "stdout"
        }
      ]
    },
    {
      "cell_type": "markdown",
      "metadata": {
        "id": "xR-e8UId5Ir7",
        "colab_type": "text"
      },
      "source": [
        "###**3. Random Forest**"
      ]
    },
    {
      "cell_type": "code",
      "metadata": {
        "id": "Jt36ZvAR5oI3",
        "colab_type": "code",
        "colab": {}
      },
      "source": [
        "clf = RandomForestClassifier()"
      ],
      "execution_count": 0,
      "outputs": []
    },
    {
      "cell_type": "markdown",
      "metadata": {
        "id": "6_fWR6Cs3rBo",
        "colab_type": "text"
      },
      "source": [
        "**3.1 Random Forest con TF + Lemmatization**"
      ]
    },
    {
      "cell_type": "markdown",
      "metadata": {
        "id": "CG-t1c-U337s",
        "colab_type": "text"
      },
      "source": [
        "Cross Validation (train test)"
      ]
    },
    {
      "cell_type": "code",
      "metadata": {
        "id": "tWJjUC6d34JC",
        "colab_type": "code",
        "colab": {
          "base_uri": "https://localhost:8080/",
          "height": 51
        },
        "outputId": "72e93a8a-573a-4637-d77b-f17f90453e31"
      },
      "source": [
        "%%time\n",
        "score = cross_val_score(clf, tf_train_lem_x, train_lem_y, cv=3)"
      ],
      "execution_count": 168,
      "outputs": [
        {
          "output_type": "stream",
          "text": [
            "CPU times: user 1min 34s, sys: 119 ms, total: 1min 34s\n",
            "Wall time: 1min 34s\n"
          ],
          "name": "stdout"
        }
      ]
    },
    {
      "cell_type": "code",
      "metadata": {
        "id": "d61vRS1334SN",
        "colab_type": "code",
        "colab": {
          "base_uri": "https://localhost:8080/",
          "height": 51
        },
        "outputId": "1a7c2c7f-e400-4d05-aa54-cd7e052450b8"
      },
      "source": [
        "print(score)\n",
        "print(score.mean())"
      ],
      "execution_count": 169,
      "outputs": [
        {
          "output_type": "stream",
          "text": [
            "[0.82787631 0.83579713 0.82033204]\n",
            "0.8280018287993774\n"
          ],
          "name": "stdout"
        }
      ]
    },
    {
      "cell_type": "markdown",
      "metadata": {
        "id": "IOEH1_Rh34aR",
        "colab_type": "text"
      },
      "source": [
        "Previsione su dati mai visti (test set)"
      ]
    },
    {
      "cell_type": "code",
      "metadata": {
        "id": "pOBc_iyt5eps",
        "colab_type": "code",
        "colab": {
          "base_uri": "https://localhost:8080/",
          "height": 510
        },
        "outputId": "1965fed4-a8aa-4a1a-ef7a-36598d259a33"
      },
      "source": [
        "%%time\n",
        "clf.fit(tf_train_lem_x, train_lem_y)\n",
        "predicted = clf.predict(tf_test_lem_x)\n",
        "print(classification_report(test_lem_y, predicted))"
      ],
      "execution_count": 170,
      "outputs": [
        {
          "output_type": "stream",
          "text": [
            "              precision    recall  f1-score   support\n",
            "\n",
            "           0       0.88      0.77      0.82       267\n",
            "           1       0.69      0.81      0.74       269\n",
            "           2       0.75      0.85      0.79       294\n",
            "           3       0.79      0.74      0.76       299\n",
            "           4       0.85      0.85      0.85       267\n",
            "           5       0.88      0.81      0.84       309\n",
            "           6       0.77      0.92      0.84       275\n",
            "           7       0.90      0.85      0.87       299\n",
            "           8       0.93      0.94      0.93       293\n",
            "           9       0.92      0.94      0.93       313\n",
            "          10       0.95      0.96      0.95       295\n",
            "          11       0.95      0.93      0.94       301\n",
            "          12       0.86      0.75      0.80       302\n",
            "          13       0.87      0.91      0.89       288\n",
            "          14       0.90      0.91      0.90       300\n",
            "          15       0.75      0.92      0.83       302\n",
            "          16       0.80      0.90      0.85       282\n",
            "          17       0.98      0.95      0.96       310\n",
            "          18       0.92      0.72      0.81       196\n",
            "          19       0.88      0.46      0.60       193\n",
            "\n",
            "    accuracy                           0.85      5654\n",
            "   macro avg       0.86      0.84      0.85      5654\n",
            "weighted avg       0.86      0.85      0.85      5654\n",
            "\n",
            "CPU times: user 39.9 s, sys: 80 ms, total: 40 s\n",
            "Wall time: 40 s\n"
          ],
          "name": "stdout"
        }
      ]
    },
    {
      "cell_type": "markdown",
      "metadata": {
        "id": "De4hy_Xf6CeS",
        "colab_type": "text"
      },
      "source": [
        "**3.2 Random Forest con TF + Stemming (Porter)**"
      ]
    },
    {
      "cell_type": "markdown",
      "metadata": {
        "id": "8lZ8aGk74LKM",
        "colab_type": "text"
      },
      "source": [
        "Cross Validation (train set)"
      ]
    },
    {
      "cell_type": "code",
      "metadata": {
        "id": "4ddIhOOX4LT2",
        "colab_type": "code",
        "colab": {
          "base_uri": "https://localhost:8080/",
          "height": 51
        },
        "outputId": "16295d35-2675-4b95-b8d4-9789f69f8960"
      },
      "source": [
        "%%time\n",
        "score = cross_val_score(clf, tf_train_stem_porter_x, train_stem_porter_y, cv=3)"
      ],
      "execution_count": 171,
      "outputs": [
        {
          "output_type": "stream",
          "text": [
            "CPU times: user 1min 27s, sys: 244 ms, total: 1min 27s\n",
            "Wall time: 1min 27s\n"
          ],
          "name": "stdout"
        }
      ]
    },
    {
      "cell_type": "code",
      "metadata": {
        "id": "VWbcc42f4Ldl",
        "colab_type": "code",
        "colab": {
          "base_uri": "https://localhost:8080/",
          "height": 51
        },
        "outputId": "9e1ea05e-1d3c-489f-d797-c6f1853c9cf9"
      },
      "source": [
        "print(score)\n",
        "print(score.mean())"
      ],
      "execution_count": 172,
      "outputs": [
        {
          "output_type": "stream",
          "text": [
            "[0.82878581 0.82738231 0.81760291]\n",
            "0.8245903429753824\n"
          ],
          "name": "stdout"
        }
      ]
    },
    {
      "cell_type": "markdown",
      "metadata": {
        "id": "_nExNIVu4Lsu",
        "colab_type": "text"
      },
      "source": [
        "Previsione su dati mai visti (test set)"
      ]
    },
    {
      "cell_type": "code",
      "metadata": {
        "id": "2-JoxlI36FW1",
        "colab_type": "code",
        "colab": {
          "base_uri": "https://localhost:8080/",
          "height": 510
        },
        "outputId": "7641bf9e-91b7-48b8-f817-0a3c781c3f09"
      },
      "source": [
        "%%time\n",
        "clf.fit(tf_train_stem_porter_x, train_stem_porter_y)\n",
        "predicted = clf.predict(tf_test_stem_porter_x)\n",
        "print(classification_report(test_stem_porter_y, predicted))"
      ],
      "execution_count": 173,
      "outputs": [
        {
          "output_type": "stream",
          "text": [
            "              precision    recall  f1-score   support\n",
            "\n",
            "           0       0.88      0.79      0.83       267\n",
            "           1       0.65      0.81      0.72       269\n",
            "           2       0.75      0.85      0.80       294\n",
            "           3       0.71      0.68      0.70       299\n",
            "           4       0.81      0.82      0.82       267\n",
            "           5       0.87      0.80      0.84       309\n",
            "           6       0.76      0.90      0.82       275\n",
            "           7       0.88      0.85      0.87       299\n",
            "           8       0.92      0.92      0.92       293\n",
            "           9       0.91      0.93      0.92       313\n",
            "          10       0.95      0.96      0.96       295\n",
            "          11       0.96      0.94      0.95       301\n",
            "          12       0.86      0.69      0.77       302\n",
            "          13       0.91      0.91      0.91       288\n",
            "          14       0.90      0.90      0.90       300\n",
            "          15       0.74      0.93      0.82       302\n",
            "          16       0.81      0.91      0.86       282\n",
            "          17       0.96      0.96      0.96       310\n",
            "          18       0.93      0.71      0.80       196\n",
            "          19       0.82      0.40      0.54       193\n",
            "\n",
            "    accuracy                           0.84      5654\n",
            "   macro avg       0.85      0.83      0.83      5654\n",
            "weighted avg       0.85      0.84      0.84      5654\n",
            "\n",
            "CPU times: user 37.3 s, sys: 58 ms, total: 37.4 s\n",
            "Wall time: 37.5 s\n"
          ],
          "name": "stdout"
        }
      ]
    },
    {
      "cell_type": "markdown",
      "metadata": {
        "id": "WlbofJzLhdpB",
        "colab_type": "text"
      },
      "source": [
        "**3.3 Random Forest con TF + Stemming (Snowball)**"
      ]
    },
    {
      "cell_type": "markdown",
      "metadata": {
        "id": "UNRl0D-whkpd",
        "colab_type": "text"
      },
      "source": [
        "Cross Validation (train set)"
      ]
    },
    {
      "cell_type": "code",
      "metadata": {
        "id": "ng2MiLCvhn6R",
        "colab_type": "code",
        "colab": {
          "base_uri": "https://localhost:8080/",
          "height": 51
        },
        "outputId": "ed08fe4d-b872-4714-eead-004012a7a393"
      },
      "source": [
        "%%time\n",
        "score = cross_val_score(clf, tf_train_stem_snowball_x, train_stem_snowball_y, cv=3)"
      ],
      "execution_count": 174,
      "outputs": [
        {
          "output_type": "stream",
          "text": [
            "CPU times: user 1min 25s, sys: 162 ms, total: 1min 25s\n",
            "Wall time: 1min 25s\n"
          ],
          "name": "stdout"
        }
      ]
    },
    {
      "cell_type": "code",
      "metadata": {
        "id": "1R_UhsANhoFw",
        "colab_type": "code",
        "colab": {
          "base_uri": "https://localhost:8080/",
          "height": 51
        },
        "outputId": "e4ffb51a-a904-455c-e88b-d854d0f4725d"
      },
      "source": [
        "print(score)\n",
        "print(score.mean())"
      ],
      "execution_count": 175,
      "outputs": [
        {
          "output_type": "stream",
          "text": [
            "[0.82241928 0.82874687 0.81601092]\n",
            "0.822392356964484\n"
          ],
          "name": "stdout"
        }
      ]
    },
    {
      "cell_type": "markdown",
      "metadata": {
        "id": "ht14WgXxhu44",
        "colab_type": "text"
      },
      "source": [
        "Previsione su dati mai visti (test set)"
      ]
    },
    {
      "cell_type": "code",
      "metadata": {
        "id": "biMT0794hyDi",
        "colab_type": "code",
        "colab": {
          "base_uri": "https://localhost:8080/",
          "height": 510
        },
        "outputId": "8df02f85-2ce0-4759-e7fd-d6ca18ebfa8e"
      },
      "source": [
        "%%time\n",
        "clf.fit(tf_train_stem_snowball_x, train_stem_snowball_y)\n",
        "predicted = clf.predict(tf_test_stem_snowball_x)\n",
        "print(classification_report(test_stem_snowball_y, predicted))"
      ],
      "execution_count": 176,
      "outputs": [
        {
          "output_type": "stream",
          "text": [
            "              precision    recall  f1-score   support\n",
            "\n",
            "           0       0.88      0.77      0.82       267\n",
            "           1       0.65      0.83      0.73       269\n",
            "           2       0.77      0.83      0.80       294\n",
            "           3       0.78      0.70      0.74       299\n",
            "           4       0.82      0.86      0.84       267\n",
            "           5       0.85      0.80      0.82       309\n",
            "           6       0.75      0.90      0.82       275\n",
            "           7       0.91      0.87      0.89       299\n",
            "           8       0.92      0.91      0.92       293\n",
            "           9       0.92      0.93      0.92       313\n",
            "          10       0.93      0.96      0.94       295\n",
            "          11       0.96      0.93      0.94       301\n",
            "          12       0.89      0.76      0.82       302\n",
            "          13       0.90      0.89      0.89       288\n",
            "          14       0.93      0.92      0.92       300\n",
            "          15       0.75      0.94      0.83       302\n",
            "          16       0.78      0.93      0.85       282\n",
            "          17       0.95      0.96      0.96       310\n",
            "          18       0.93      0.68      0.78       196\n",
            "          19       0.90      0.44      0.59       193\n",
            "\n",
            "    accuracy                           0.85      5654\n",
            "   macro avg       0.86      0.84      0.84      5654\n",
            "weighted avg       0.86      0.85      0.85      5654\n",
            "\n",
            "CPU times: user 37.2 s, sys: 50 ms, total: 37.2 s\n",
            "Wall time: 37.3 s\n"
          ],
          "name": "stdout"
        }
      ]
    },
    {
      "cell_type": "markdown",
      "metadata": {
        "id": "fLNp35qJh59F",
        "colab_type": "text"
      },
      "source": [
        "**3.4 Random Forest con TF + Stemming (Lancaster)**"
      ]
    },
    {
      "cell_type": "markdown",
      "metadata": {
        "id": "-frjgBv5h_hG",
        "colab_type": "text"
      },
      "source": [
        "Cross Validation (train set)"
      ]
    },
    {
      "cell_type": "code",
      "metadata": {
        "id": "koIrf2Tzh_x-",
        "colab_type": "code",
        "colab": {
          "base_uri": "https://localhost:8080/",
          "height": 51
        },
        "outputId": "ae853d55-cdf8-40f8-8750-4ccbf8d5b793"
      },
      "source": [
        "%%time\n",
        "score = cross_val_score(clf, tf_train_stem_lancaster_x, train_stem_lancaster_y, cv=3)"
      ],
      "execution_count": 177,
      "outputs": [
        {
          "output_type": "stream",
          "text": [
            "CPU times: user 1min 19s, sys: 156 ms, total: 1min 19s\n",
            "Wall time: 1min 19s\n"
          ],
          "name": "stdout"
        }
      ]
    },
    {
      "cell_type": "code",
      "metadata": {
        "id": "qo11NUo6h_8G",
        "colab_type": "code",
        "colab": {
          "base_uri": "https://localhost:8080/",
          "height": 51
        },
        "outputId": "88b6b0df-f82f-47a9-8dbb-fce04a954836"
      },
      "source": [
        "print(score)\n",
        "print(score.mean())"
      ],
      "execution_count": 178,
      "outputs": [
        {
          "output_type": "stream",
          "text": [
            "[0.82105503 0.81964976 0.81282693]\n",
            "0.8178439045542407\n"
          ],
          "name": "stdout"
        }
      ]
    },
    {
      "cell_type": "markdown",
      "metadata": {
        "id": "xQ1rcr7wiMgf",
        "colab_type": "text"
      },
      "source": [
        "Previsione su dati mai visti (test set)"
      ]
    },
    {
      "cell_type": "code",
      "metadata": {
        "id": "XHxx7V6iiP5F",
        "colab_type": "code",
        "colab": {
          "base_uri": "https://localhost:8080/",
          "height": 510
        },
        "outputId": "a19f4934-9fa0-426e-9c7d-c054319ed4b2"
      },
      "source": [
        "%%time\n",
        "clf.fit(tf_train_stem_lancaster_x, train_stem_lancaster_y)\n",
        "predicted = clf.predict(tf_test_stem_lancaster_x)\n",
        "print(classification_report(test_stem_lancaster_y, predicted))"
      ],
      "execution_count": 179,
      "outputs": [
        {
          "output_type": "stream",
          "text": [
            "              precision    recall  f1-score   support\n",
            "\n",
            "           0       0.87      0.75      0.81       267\n",
            "           1       0.64      0.82      0.72       269\n",
            "           2       0.72      0.82      0.77       294\n",
            "           3       0.74      0.70      0.72       299\n",
            "           4       0.80      0.82      0.81       267\n",
            "           5       0.86      0.76      0.81       309\n",
            "           6       0.73      0.88      0.80       275\n",
            "           7       0.89      0.84      0.87       299\n",
            "           8       0.90      0.92      0.91       293\n",
            "           9       0.90      0.91      0.91       313\n",
            "          10       0.96      0.96      0.96       295\n",
            "          11       0.94      0.94      0.94       301\n",
            "          12       0.85      0.71      0.77       302\n",
            "          13       0.89      0.88      0.88       288\n",
            "          14       0.91      0.90      0.91       300\n",
            "          15       0.74      0.93      0.82       302\n",
            "          16       0.80      0.92      0.86       282\n",
            "          17       0.96      0.95      0.96       310\n",
            "          18       0.92      0.69      0.79       196\n",
            "          19       0.85      0.40      0.55       193\n",
            "\n",
            "    accuracy                           0.84      5654\n",
            "   macro avg       0.84      0.83      0.83      5654\n",
            "weighted avg       0.84      0.84      0.83      5654\n",
            "\n",
            "CPU times: user 35.7 s, sys: 46 ms, total: 35.7 s\n",
            "Wall time: 35.8 s\n"
          ],
          "name": "stdout"
        }
      ]
    },
    {
      "cell_type": "markdown",
      "metadata": {
        "id": "uTfZT0nQ6KBS",
        "colab_type": "text"
      },
      "source": [
        "**3.5 Random Forest con TF-IDF + Lemmatization**"
      ]
    },
    {
      "cell_type": "markdown",
      "metadata": {
        "id": "SvBpHE2d4a7E",
        "colab_type": "text"
      },
      "source": [
        "Cross Validation (train set)"
      ]
    },
    {
      "cell_type": "code",
      "metadata": {
        "id": "reRS9o1m4bIP",
        "colab_type": "code",
        "colab": {
          "base_uri": "https://localhost:8080/",
          "height": 51
        },
        "outputId": "29a95985-55e0-485d-b39f-6a88f8ce4a94"
      },
      "source": [
        "%%time\n",
        "score = cross_val_score(clf, tfidf_train_lem_x, train_lem_y, cv=3)"
      ],
      "execution_count": 180,
      "outputs": [
        {
          "output_type": "stream",
          "text": [
            "CPU times: user 52.4 s, sys: 140 ms, total: 52.5 s\n",
            "Wall time: 52.6 s\n"
          ],
          "name": "stdout"
        }
      ]
    },
    {
      "cell_type": "code",
      "metadata": {
        "id": "Oi4uEdT_4bQ2",
        "colab_type": "code",
        "colab": {
          "base_uri": "https://localhost:8080/",
          "height": 51
        },
        "outputId": "22fa4b7b-c546-444d-bca8-208a342eed00"
      },
      "source": [
        "print(score)\n",
        "print(score.mean())"
      ],
      "execution_count": 181,
      "outputs": [
        {
          "output_type": "stream",
          "text": [
            "[0.80786721 0.81805777 0.80372982]\n",
            "0.8098849316039445\n"
          ],
          "name": "stdout"
        }
      ]
    },
    {
      "cell_type": "markdown",
      "metadata": {
        "id": "N2dX4vqK4rem",
        "colab_type": "text"
      },
      "source": [
        "Previsione su dati mai visti (test set)"
      ]
    },
    {
      "cell_type": "code",
      "metadata": {
        "id": "ypxkIl2G6esV",
        "colab_type": "code",
        "colab": {
          "base_uri": "https://localhost:8080/",
          "height": 510
        },
        "outputId": "667b45f0-1562-4cae-e02c-8338582d9532"
      },
      "source": [
        "%%time\n",
        "clf.fit(tfidf_train_lem_x, train_lem_y)\n",
        "predicted = clf.predict(tfidf_test_lem_x)\n",
        "print(classification_report(test_lem_y, predicted))"
      ],
      "execution_count": 182,
      "outputs": [
        {
          "output_type": "stream",
          "text": [
            "              precision    recall  f1-score   support\n",
            "\n",
            "           0       0.88      0.75      0.81       267\n",
            "           1       0.68      0.77      0.72       269\n",
            "           2       0.72      0.84      0.77       294\n",
            "           3       0.76      0.73      0.74       299\n",
            "           4       0.81      0.82      0.81       267\n",
            "           5       0.87      0.76      0.81       309\n",
            "           6       0.79      0.90      0.84       275\n",
            "           7       0.90      0.85      0.87       299\n",
            "           8       0.91      0.90      0.90       293\n",
            "           9       0.91      0.91      0.91       313\n",
            "          10       0.92      0.95      0.93       295\n",
            "          11       0.95      0.93      0.94       301\n",
            "          12       0.84      0.72      0.78       302\n",
            "          13       0.85      0.92      0.89       288\n",
            "          14       0.86      0.89      0.87       300\n",
            "          15       0.75      0.92      0.83       302\n",
            "          16       0.79      0.89      0.84       282\n",
            "          17       0.96      0.96      0.96       310\n",
            "          18       0.89      0.73      0.81       196\n",
            "          19       0.86      0.47      0.60       193\n",
            "\n",
            "    accuracy                           0.84      5654\n",
            "   macro avg       0.84      0.83      0.83      5654\n",
            "weighted avg       0.84      0.84      0.84      5654\n",
            "\n",
            "CPU times: user 29 s, sys: 33 ms, total: 29 s\n",
            "Wall time: 29.1 s\n"
          ],
          "name": "stdout"
        }
      ]
    },
    {
      "cell_type": "markdown",
      "metadata": {
        "id": "q36hh0aP6hYa",
        "colab_type": "text"
      },
      "source": [
        "**3.6 Random Forest con TF-IDF + Stemming (Porter)**"
      ]
    },
    {
      "cell_type": "markdown",
      "metadata": {
        "id": "1WxANcSR415A",
        "colab_type": "text"
      },
      "source": [
        "Cross Validation (train set)"
      ]
    },
    {
      "cell_type": "code",
      "metadata": {
        "id": "HE-pL97d42Fz",
        "colab_type": "code",
        "colab": {
          "base_uri": "https://localhost:8080/",
          "height": 51
        },
        "outputId": "67307916-f538-46df-daf8-0763a9934ab2"
      },
      "source": [
        "%%time\n",
        "score = cross_val_score(clf, tfidf_train_stem_porter_x,train_stem_porter_y, cv=3)"
      ],
      "execution_count": 183,
      "outputs": [
        {
          "output_type": "stream",
          "text": [
            "CPU times: user 54.1 s, sys: 160 ms, total: 54.3 s\n",
            "Wall time: 54.3 s\n"
          ],
          "name": "stdout"
        }
      ]
    },
    {
      "cell_type": "code",
      "metadata": {
        "id": "dJ4qhM5l42Ou",
        "colab_type": "code",
        "colab": {
          "base_uri": "https://localhost:8080/",
          "height": 51
        },
        "outputId": "da649bca-ca03-4f1d-ad86-eeea94ec0aa8"
      },
      "source": [
        "print(score)\n",
        "print(score.mean())"
      ],
      "execution_count": 184,
      "outputs": [
        {
          "output_type": "stream",
          "text": [
            "[0.81537062 0.8125995  0.79940869]\n",
            "0.8091262701369866\n"
          ],
          "name": "stdout"
        }
      ]
    },
    {
      "cell_type": "markdown",
      "metadata": {
        "id": "OLABF7os42WH",
        "colab_type": "text"
      },
      "source": [
        "Previsione su dati mai visti (test set)"
      ]
    },
    {
      "cell_type": "code",
      "metadata": {
        "id": "qK2UgYyj6oXL",
        "colab_type": "code",
        "colab": {
          "base_uri": "https://localhost:8080/",
          "height": 510
        },
        "outputId": "847c24bd-3a9c-43ec-924f-141b66a10f52"
      },
      "source": [
        "%%time\n",
        "clf.fit(tfidf_train_stem_porter_x, train_stem_porter_y)\n",
        "predicted = clf.predict(tfidf_test_stem_porter_x)\n",
        "print(classification_report(test_stem_porter_y, predicted))"
      ],
      "execution_count": 185,
      "outputs": [
        {
          "output_type": "stream",
          "text": [
            "              precision    recall  f1-score   support\n",
            "\n",
            "           0       0.86      0.75      0.80       267\n",
            "           1       0.66      0.78      0.72       269\n",
            "           2       0.72      0.83      0.77       294\n",
            "           3       0.74      0.73      0.73       299\n",
            "           4       0.80      0.82      0.81       267\n",
            "           5       0.85      0.78      0.82       309\n",
            "           6       0.75      0.87      0.80       275\n",
            "           7       0.89      0.83      0.86       299\n",
            "           8       0.91      0.90      0.91       293\n",
            "           9       0.91      0.90      0.91       313\n",
            "          10       0.93      0.95      0.94       295\n",
            "          11       0.94      0.91      0.92       301\n",
            "          12       0.80      0.69      0.74       302\n",
            "          13       0.86      0.89      0.87       288\n",
            "          14       0.86      0.90      0.88       300\n",
            "          15       0.75      0.91      0.82       302\n",
            "          16       0.79      0.90      0.85       282\n",
            "          17       0.96      0.95      0.95       310\n",
            "          18       0.89      0.71      0.79       196\n",
            "          19       0.85      0.40      0.55       193\n",
            "\n",
            "    accuracy                           0.83      5654\n",
            "   macro avg       0.84      0.82      0.82      5654\n",
            "weighted avg       0.84      0.83      0.83      5654\n",
            "\n",
            "CPU times: user 28 s, sys: 34 ms, total: 28 s\n",
            "Wall time: 28.1 s\n"
          ],
          "name": "stdout"
        }
      ]
    },
    {
      "cell_type": "markdown",
      "metadata": {
        "id": "If5SwMeqii-4",
        "colab_type": "text"
      },
      "source": [
        "**3.7 Random Forest con TF-IDF + Stemming (Snowball)**"
      ]
    },
    {
      "cell_type": "markdown",
      "metadata": {
        "id": "C9_mm5m2ipv-",
        "colab_type": "text"
      },
      "source": [
        "Cross validation (train set)"
      ]
    },
    {
      "cell_type": "code",
      "metadata": {
        "id": "UIqqiIYgipHa",
        "colab_type": "code",
        "colab": {
          "base_uri": "https://localhost:8080/",
          "height": 51
        },
        "outputId": "adadefc2-1ced-45b4-f6dc-2a074d60e1df"
      },
      "source": [
        "%%time\n",
        "score = cross_val_score(clf, tfidf_train_stem_snowball_x,train_stem_snowball_y, cv=3)"
      ],
      "execution_count": 186,
      "outputs": [
        {
          "output_type": "stream",
          "text": [
            "CPU times: user 53.7 s, sys: 161 ms, total: 53.9 s\n",
            "Wall time: 53.9 s\n"
          ],
          "name": "stdout"
        }
      ]
    },
    {
      "cell_type": "code",
      "metadata": {
        "id": "o9XGDRzpizGF",
        "colab_type": "code",
        "colab": {
          "base_uri": "https://localhost:8080/",
          "height": 51
        },
        "outputId": "ddbf1a2b-a53b-4a42-a419-64c896c338f4"
      },
      "source": [
        "print(score)\n",
        "print(score.mean())"
      ],
      "execution_count": 187,
      "outputs": [
        {
          "output_type": "stream",
          "text": [
            "[0.8099136  0.81487378 0.80168297]\n",
            "0.8088234467745364\n"
          ],
          "name": "stdout"
        }
      ]
    },
    {
      "cell_type": "markdown",
      "metadata": {
        "id": "U0tysuvWi0BK",
        "colab_type": "text"
      },
      "source": [
        "Previsione su dati mai visti (test set)"
      ]
    },
    {
      "cell_type": "code",
      "metadata": {
        "id": "k0W4ePcyi34-",
        "colab_type": "code",
        "colab": {
          "base_uri": "https://localhost:8080/",
          "height": 510
        },
        "outputId": "2952842e-4bfc-4acb-c2bd-1b65dee19e8f"
      },
      "source": [
        "%%time\n",
        "clf.fit(tfidf_train_stem_snowball_x, train_stem_snowball_y)\n",
        "predicted = clf.predict(tfidf_test_stem_snowball_x)\n",
        "print(classification_report(test_stem_snowball_y, predicted))"
      ],
      "execution_count": 188,
      "outputs": [
        {
          "output_type": "stream",
          "text": [
            "              precision    recall  f1-score   support\n",
            "\n",
            "           0       0.86      0.75      0.80       267\n",
            "           1       0.65      0.80      0.71       269\n",
            "           2       0.73      0.84      0.78       294\n",
            "           3       0.77      0.71      0.74       299\n",
            "           4       0.83      0.83      0.83       267\n",
            "           5       0.87      0.79      0.83       309\n",
            "           6       0.75      0.85      0.80       275\n",
            "           7       0.89      0.85      0.87       299\n",
            "           8       0.92      0.91      0.92       293\n",
            "           9       0.90      0.91      0.91       313\n",
            "          10       0.93      0.94      0.93       295\n",
            "          11       0.94      0.93      0.93       301\n",
            "          12       0.81      0.70      0.75       302\n",
            "          13       0.85      0.90      0.87       288\n",
            "          14       0.88      0.90      0.89       300\n",
            "          15       0.75      0.92      0.82       302\n",
            "          16       0.79      0.91      0.84       282\n",
            "          17       0.96      0.94      0.95       310\n",
            "          18       0.92      0.72      0.81       196\n",
            "          19       0.86      0.42      0.57       193\n",
            "\n",
            "    accuracy                           0.84      5654\n",
            "   macro avg       0.84      0.83      0.83      5654\n",
            "weighted avg       0.84      0.84      0.83      5654\n",
            "\n",
            "CPU times: user 28.1 s, sys: 50 ms, total: 28.1 s\n",
            "Wall time: 28.2 s\n"
          ],
          "name": "stdout"
        }
      ]
    },
    {
      "cell_type": "markdown",
      "metadata": {
        "id": "OnyiIj3wi93K",
        "colab_type": "text"
      },
      "source": [
        "**3.8 Random Forest con TF-IDF + Stemming (Lancaster)**"
      ]
    },
    {
      "cell_type": "markdown",
      "metadata": {
        "id": "4KqoK96yjC5V",
        "colab_type": "text"
      },
      "source": [
        "Cross Validation (train set)"
      ]
    },
    {
      "cell_type": "code",
      "metadata": {
        "id": "K-_AcyWTjDLA",
        "colab_type": "code",
        "colab": {
          "base_uri": "https://localhost:8080/",
          "height": 51
        },
        "outputId": "c4bd880c-c7a0-45b5-c504-601c3aa3d464"
      },
      "source": [
        "%%time\n",
        "score = cross_val_score(clf, tfidf_train_stem_lancaster_x,train_stem_lancaster_y, cv=3)"
      ],
      "execution_count": 189,
      "outputs": [
        {
          "output_type": "stream",
          "text": [
            "CPU times: user 54.6 s, sys: 162 ms, total: 54.7 s\n",
            "Wall time: 54.8 s\n"
          ],
          "name": "stdout"
        }
      ]
    },
    {
      "cell_type": "code",
      "metadata": {
        "id": "UqWdyEwqjDVR",
        "colab_type": "code",
        "colab": {
          "base_uri": "https://localhost:8080/",
          "height": 51
        },
        "outputId": "456c49dc-e4e3-43a1-b20e-0b7b25f8d2e1"
      },
      "source": [
        "print(score)\n",
        "print(score.mean())"
      ],
      "execution_count": 190,
      "outputs": [
        {
          "output_type": "stream",
          "text": [
            "[0.80763984 0.79667955 0.79758927]\n",
            "0.800636218646328\n"
          ],
          "name": "stdout"
        }
      ]
    },
    {
      "cell_type": "markdown",
      "metadata": {
        "id": "YmVt_a5QjMAm",
        "colab_type": "text"
      },
      "source": [
        "Previsione su dati mai visti (test set)"
      ]
    },
    {
      "cell_type": "code",
      "metadata": {
        "id": "7nJ-0tsMjPPU",
        "colab_type": "code",
        "colab": {
          "base_uri": "https://localhost:8080/",
          "height": 510
        },
        "outputId": "7bfb2e9f-07b8-46cb-fbd4-da43ab8ad7d3"
      },
      "source": [
        "%%time\n",
        "clf.fit(tfidf_train_stem_lancaster_x, train_stem_lancaster_y)\n",
        "predicted = clf.predict(tfidf_test_stem_lancaster_x)\n",
        "print(classification_report(test_stem_lancaster_y, predicted))"
      ],
      "execution_count": 191,
      "outputs": [
        {
          "output_type": "stream",
          "text": [
            "              precision    recall  f1-score   support\n",
            "\n",
            "           0       0.84      0.73      0.78       267\n",
            "           1       0.65      0.75      0.70       269\n",
            "           2       0.75      0.83      0.79       294\n",
            "           3       0.73      0.71      0.72       299\n",
            "           4       0.80      0.82      0.81       267\n",
            "           5       0.84      0.79      0.81       309\n",
            "           6       0.77      0.87      0.82       275\n",
            "           7       0.84      0.84      0.84       299\n",
            "           8       0.91      0.91      0.91       293\n",
            "           9       0.90      0.90      0.90       313\n",
            "          10       0.93      0.94      0.93       295\n",
            "          11       0.94      0.92      0.93       301\n",
            "          12       0.83      0.70      0.76       302\n",
            "          13       0.85      0.89      0.87       288\n",
            "          14       0.86      0.89      0.88       300\n",
            "          15       0.73      0.91      0.81       302\n",
            "          16       0.80      0.91      0.85       282\n",
            "          17       0.95      0.95      0.95       310\n",
            "          18       0.89      0.72      0.79       196\n",
            "          19       0.81      0.36      0.50       193\n",
            "\n",
            "    accuracy                           0.83      5654\n",
            "   macro avg       0.83      0.82      0.82      5654\n",
            "weighted avg       0.83      0.83      0.82      5654\n",
            "\n",
            "CPU times: user 28.6 s, sys: 43 ms, total: 28.6 s\n",
            "Wall time: 28.7 s\n"
          ],
          "name": "stdout"
        }
      ]
    },
    {
      "cell_type": "markdown",
      "metadata": {
        "id": "hY0IYK0H6tYH",
        "colab_type": "text"
      },
      "source": [
        "**3.9 Random Forest con Bigram + Lemmatization**\n",
        "\n"
      ]
    },
    {
      "cell_type": "markdown",
      "metadata": {
        "id": "R9QDtZc_5KIK",
        "colab_type": "text"
      },
      "source": [
        "Cross Validation (train set)"
      ]
    },
    {
      "cell_type": "code",
      "metadata": {
        "id": "fapXEAfW5KRl",
        "colab_type": "code",
        "colab": {
          "base_uri": "https://localhost:8080/",
          "height": 51
        },
        "outputId": "f63ebbe2-45b0-4ac1-a0b8-1820b4ffc9f9"
      },
      "source": [
        "%%time\n",
        "score = cross_val_score(clf, bi_train_lem_x, train_lem_y, cv=3)"
      ],
      "execution_count": 192,
      "outputs": [
        {
          "output_type": "stream",
          "text": [
            "CPU times: user 51.2 s, sys: 160 ms, total: 51.4 s\n",
            "Wall time: 51.5 s\n"
          ],
          "name": "stdout"
        }
      ]
    },
    {
      "cell_type": "code",
      "metadata": {
        "id": "6VgIbRco5KZJ",
        "colab_type": "code",
        "colab": {
          "base_uri": "https://localhost:8080/",
          "height": 51
        },
        "outputId": "fad2faf8-e778-4ab7-fd8f-f6334552b88d"
      },
      "source": [
        "print(score)\n",
        "print(score.mean())"
      ],
      "execution_count": 193,
      "outputs": [
        {
          "output_type": "stream",
          "text": [
            "[0.81332424 0.82237889 0.81328178]\n",
            "0.8163283053416505\n"
          ],
          "name": "stdout"
        }
      ]
    },
    {
      "cell_type": "markdown",
      "metadata": {
        "id": "cGVsubjI5KzH",
        "colab_type": "text"
      },
      "source": [
        "Previsione su dati mai visti (test set)"
      ]
    },
    {
      "cell_type": "code",
      "metadata": {
        "id": "ocgHC3U161so",
        "colab_type": "code",
        "colab": {
          "base_uri": "https://localhost:8080/",
          "height": 510
        },
        "outputId": "e9195b23-fb67-4958-95cf-abde4b66a732"
      },
      "source": [
        "%%time\n",
        "clf.fit(bi_train_lem_x, train_lem_y)\n",
        "predicted = clf.predict(bi_test_lem_x)\n",
        "print(classification_report(test_lem_y, predicted))"
      ],
      "execution_count": 194,
      "outputs": [
        {
          "output_type": "stream",
          "text": [
            "              precision    recall  f1-score   support\n",
            "\n",
            "           0       0.90      0.73      0.81       267\n",
            "           1       0.65      0.79      0.72       269\n",
            "           2       0.73      0.83      0.78       294\n",
            "           3       0.76      0.72      0.74       299\n",
            "           4       0.86      0.85      0.85       267\n",
            "           5       0.86      0.79      0.82       309\n",
            "           6       0.81      0.90      0.85       275\n",
            "           7       0.88      0.87      0.87       299\n",
            "           8       0.91      0.89      0.90       293\n",
            "           9       0.89      0.91      0.90       313\n",
            "          10       0.91      0.93      0.92       295\n",
            "          11       0.95      0.90      0.93       301\n",
            "          12       0.82      0.73      0.77       302\n",
            "          13       0.83      0.90      0.87       288\n",
            "          14       0.88      0.89      0.88       300\n",
            "          15       0.75      0.91      0.83       302\n",
            "          16       0.81      0.90      0.85       282\n",
            "          17       0.96      0.95      0.96       310\n",
            "          18       0.90      0.74      0.81       196\n",
            "          19       0.83      0.48      0.61       193\n",
            "\n",
            "    accuracy                           0.84      5654\n",
            "   macro avg       0.84      0.83      0.83      5654\n",
            "weighted avg       0.84      0.84      0.84      5654\n",
            "\n",
            "CPU times: user 28.8 s, sys: 45 ms, total: 28.8 s\n",
            "Wall time: 28.9 s\n"
          ],
          "name": "stdout"
        }
      ]
    },
    {
      "cell_type": "markdown",
      "metadata": {
        "id": "_D4DSJHR68T8",
        "colab_type": "text"
      },
      "source": [
        "**3.10 Random Forest con Bigram + Stemming (Porter)**"
      ]
    },
    {
      "cell_type": "markdown",
      "metadata": {
        "id": "ALawMDL_5dPL",
        "colab_type": "text"
      },
      "source": [
        "Cross Validation (train set)"
      ]
    },
    {
      "cell_type": "code",
      "metadata": {
        "id": "YyXzlZdX5dZL",
        "colab_type": "code",
        "colab": {
          "base_uri": "https://localhost:8080/",
          "height": 51
        },
        "outputId": "a830625d-a7ba-42ac-9d71-dd9ad7916e0f"
      },
      "source": [
        "%%time\n",
        "score = cross_val_score(clf, bi_train_stem_porter_x, train_stem_porter_y, cv=3)"
      ],
      "execution_count": 195,
      "outputs": [
        {
          "output_type": "stream",
          "text": [
            "CPU times: user 51.8 s, sys: 140 ms, total: 51.9 s\n",
            "Wall time: 52 s\n"
          ],
          "name": "stdout"
        }
      ]
    },
    {
      "cell_type": "code",
      "metadata": {
        "id": "D6DWxcss5djS",
        "colab_type": "code",
        "colab": {
          "base_uri": "https://localhost:8080/",
          "height": 51
        },
        "outputId": "fad5d43f-30a2-4632-b386-7b91865dcfcf"
      },
      "source": [
        "print(score)\n",
        "print(score.mean())"
      ],
      "execution_count": 196,
      "outputs": [
        {
          "output_type": "stream",
          "text": [
            "[0.81241473 0.81237207 0.81510121]\n",
            "0.8132960037348215\n"
          ],
          "name": "stdout"
        }
      ]
    },
    {
      "cell_type": "markdown",
      "metadata": {
        "id": "R7NDAyER5eN_",
        "colab_type": "text"
      },
      "source": [
        "Previsione su dati mai visti (test set)"
      ]
    },
    {
      "cell_type": "code",
      "metadata": {
        "id": "Ee4KX44Q7I3y",
        "colab_type": "code",
        "colab": {
          "base_uri": "https://localhost:8080/",
          "height": 510
        },
        "outputId": "07bff0b8-1496-4bfb-bfa3-25f1341a6322"
      },
      "source": [
        "%%time\n",
        "clf.fit(bi_train_stem_porter_x, train_stem_porter_y)\n",
        "predicted = clf.predict(bi_test_stem_porter_x)\n",
        "print(classification_report(test_stem_porter_y, predicted))"
      ],
      "execution_count": 197,
      "outputs": [
        {
          "output_type": "stream",
          "text": [
            "              precision    recall  f1-score   support\n",
            "\n",
            "           0       0.90      0.76      0.82       267\n",
            "           1       0.63      0.76      0.69       269\n",
            "           2       0.72      0.83      0.77       294\n",
            "           3       0.75      0.68      0.71       299\n",
            "           4       0.82      0.83      0.82       267\n",
            "           5       0.86      0.79      0.82       309\n",
            "           6       0.81      0.88      0.84       275\n",
            "           7       0.88      0.85      0.86       299\n",
            "           8       0.90      0.90      0.90       293\n",
            "           9       0.90      0.91      0.91       313\n",
            "          10       0.92      0.95      0.93       295\n",
            "          11       0.95      0.91      0.93       301\n",
            "          12       0.80      0.72      0.76       302\n",
            "          13       0.84      0.91      0.88       288\n",
            "          14       0.87      0.90      0.88       300\n",
            "          15       0.77      0.92      0.83       302\n",
            "          16       0.79      0.89      0.84       282\n",
            "          17       0.95      0.95      0.95       310\n",
            "          18       0.87      0.72      0.79       196\n",
            "          19       0.83      0.48      0.61       193\n",
            "\n",
            "    accuracy                           0.83      5654\n",
            "   macro avg       0.84      0.83      0.83      5654\n",
            "weighted avg       0.84      0.83      0.83      5654\n",
            "\n",
            "CPU times: user 29.5 s, sys: 21 ms, total: 29.5 s\n",
            "Wall time: 29.5 s\n"
          ],
          "name": "stdout"
        }
      ]
    },
    {
      "cell_type": "markdown",
      "metadata": {
        "id": "9kW83sZcjkRk",
        "colab_type": "text"
      },
      "source": [
        "**3.11 Random Forest con Bigram + Stemming (Snowball)**"
      ]
    },
    {
      "cell_type": "markdown",
      "metadata": {
        "id": "MwNr0IgZjrap",
        "colab_type": "text"
      },
      "source": [
        "Cross Validation (train set)"
      ]
    },
    {
      "cell_type": "code",
      "metadata": {
        "id": "AvDauE0yjtn1",
        "colab_type": "code",
        "colab": {
          "base_uri": "https://localhost:8080/",
          "height": 51
        },
        "outputId": "250a4b8d-3228-416d-e73b-be355257d304"
      },
      "source": [
        "%%time\n",
        "score = cross_val_score(clf, bi_train_stem_snowball_x, train_stem_snowball_y, cv=3)"
      ],
      "execution_count": 198,
      "outputs": [
        {
          "output_type": "stream",
          "text": [
            "CPU times: user 51.4 s, sys: 145 ms, total: 51.6 s\n",
            "Wall time: 51.6 s\n"
          ],
          "name": "stdout"
        }
      ]
    },
    {
      "cell_type": "code",
      "metadata": {
        "id": "dsiAitbbjyuk",
        "colab_type": "code",
        "colab": {
          "base_uri": "https://localhost:8080/",
          "height": 51
        },
        "outputId": "bbe7665a-364d-47d8-f894-7cbad62fada1"
      },
      "source": [
        "print(score)\n",
        "print(score.mean())"
      ],
      "execution_count": 199,
      "outputs": [
        {
          "output_type": "stream",
          "text": [
            "[0.81400637 0.81851262 0.81737548]\n",
            "0.8166314906855788\n"
          ],
          "name": "stdout"
        }
      ]
    },
    {
      "cell_type": "markdown",
      "metadata": {
        "id": "h89do3H3j1UE",
        "colab_type": "text"
      },
      "source": [
        "Previsione su dati mai visti (test set)"
      ]
    },
    {
      "cell_type": "code",
      "metadata": {
        "id": "kqY5yuN5j4vS",
        "colab_type": "code",
        "colab": {
          "base_uri": "https://localhost:8080/",
          "height": 510
        },
        "outputId": "0d3ce71c-7ec4-4bcb-8e85-ab965c5097d6"
      },
      "source": [
        "%%time\n",
        "clf.fit(bi_train_stem_snowball_x, train_stem_snowball_y)\n",
        "predicted = clf.predict(bi_test_stem_snowball_x)\n",
        "print(classification_report(test_stem_snowball_y, predicted))"
      ],
      "execution_count": 200,
      "outputs": [
        {
          "output_type": "stream",
          "text": [
            "              precision    recall  f1-score   support\n",
            "\n",
            "           0       0.87      0.74      0.80       267\n",
            "           1       0.66      0.79      0.72       269\n",
            "           2       0.73      0.83      0.78       294\n",
            "           3       0.72      0.71      0.72       299\n",
            "           4       0.84      0.82      0.83       267\n",
            "           5       0.85      0.79      0.82       309\n",
            "           6       0.77      0.87      0.82       275\n",
            "           7       0.89      0.86      0.87       299\n",
            "           8       0.91      0.89      0.90       293\n",
            "           9       0.90      0.92      0.91       313\n",
            "          10       0.93      0.95      0.94       295\n",
            "          11       0.95      0.90      0.92       301\n",
            "          12       0.81      0.72      0.76       302\n",
            "          13       0.84      0.90      0.87       288\n",
            "          14       0.91      0.91      0.91       300\n",
            "          15       0.77      0.93      0.84       302\n",
            "          16       0.79      0.89      0.84       282\n",
            "          17       0.96      0.95      0.95       310\n",
            "          18       0.89      0.70      0.79       196\n",
            "          19       0.77      0.45      0.57       193\n",
            "\n",
            "    accuracy                           0.84      5654\n",
            "   macro avg       0.84      0.83      0.83      5654\n",
            "weighted avg       0.84      0.84      0.83      5654\n",
            "\n",
            "CPU times: user 29.3 s, sys: 55 ms, total: 29.4 s\n",
            "Wall time: 29.4 s\n"
          ],
          "name": "stdout"
        }
      ]
    },
    {
      "cell_type": "markdown",
      "metadata": {
        "id": "4tv787uqj_uY",
        "colab_type": "text"
      },
      "source": [
        "**3.12 Random Forest con Bigram + Stemming (Lancaster)**"
      ]
    },
    {
      "cell_type": "markdown",
      "metadata": {
        "id": "18EjJdCEkFWk",
        "colab_type": "text"
      },
      "source": [
        "Cross Validation (train set)"
      ]
    },
    {
      "cell_type": "code",
      "metadata": {
        "id": "cp7tiEFwkFp2",
        "colab_type": "code",
        "colab": {
          "base_uri": "https://localhost:8080/",
          "height": 51
        },
        "outputId": "5dd94f84-8380-414b-b64b-922c89e2d82c"
      },
      "source": [
        "%%time\n",
        "score = cross_val_score(clf, bi_train_stem_lancaster_x, train_stem_lancaster_y, cv=3)"
      ],
      "execution_count": 201,
      "outputs": [
        {
          "output_type": "stream",
          "text": [
            "CPU times: user 52.3 s, sys: 144 ms, total: 52.4 s\n",
            "Wall time: 52.5 s\n"
          ],
          "name": "stdout"
        }
      ]
    },
    {
      "cell_type": "code",
      "metadata": {
        "id": "C8xWbTLokF2d",
        "colab_type": "code",
        "colab": {
          "base_uri": "https://localhost:8080/",
          "height": 51
        },
        "outputId": "385166eb-b7d0-4b5f-c805-b093a2f96ab6"
      },
      "source": [
        "print(score)\n",
        "print(score.mean())"
      ],
      "execution_count": 202,
      "outputs": [
        {
          "output_type": "stream",
          "text": [
            "[0.81264211 0.80918808 0.8069138 ]\n",
            "0.8095813325668978\n"
          ],
          "name": "stdout"
        }
      ]
    },
    {
      "cell_type": "markdown",
      "metadata": {
        "id": "1t8VSmR6kPBT",
        "colab_type": "text"
      },
      "source": [
        "Previsione su dati mai visti (test set)"
      ]
    },
    {
      "cell_type": "code",
      "metadata": {
        "id": "FJSZoJ-NkTdk",
        "colab_type": "code",
        "colab": {
          "base_uri": "https://localhost:8080/",
          "height": 510
        },
        "outputId": "803234ad-067b-4124-a834-df00275d06e0"
      },
      "source": [
        "%%time\n",
        "clf.fit(bi_train_stem_lancaster_x, train_stem_lancaster_y)\n",
        "predicted = clf.predict(bi_test_stem_lancaster_x)\n",
        "print(classification_report(test_stem_lancaster_y, predicted))"
      ],
      "execution_count": 203,
      "outputs": [
        {
          "output_type": "stream",
          "text": [
            "              precision    recall  f1-score   support\n",
            "\n",
            "           0       0.89      0.72      0.80       267\n",
            "           1       0.65      0.78      0.71       269\n",
            "           2       0.74      0.82      0.78       294\n",
            "           3       0.74      0.71      0.72       299\n",
            "           4       0.82      0.79      0.81       267\n",
            "           5       0.83      0.73      0.78       309\n",
            "           6       0.77      0.86      0.81       275\n",
            "           7       0.84      0.85      0.85       299\n",
            "           8       0.89      0.89      0.89       293\n",
            "           9       0.86      0.91      0.88       313\n",
            "          10       0.95      0.94      0.94       295\n",
            "          11       0.95      0.92      0.93       301\n",
            "          12       0.80      0.69      0.74       302\n",
            "          13       0.83      0.90      0.86       288\n",
            "          14       0.86      0.88      0.87       300\n",
            "          15       0.73      0.93      0.82       302\n",
            "          16       0.79      0.89      0.84       282\n",
            "          17       0.96      0.95      0.95       310\n",
            "          18       0.87      0.72      0.79       196\n",
            "          19       0.85      0.45      0.59       193\n",
            "\n",
            "    accuracy                           0.83      5654\n",
            "   macro avg       0.83      0.82      0.82      5654\n",
            "weighted avg       0.83      0.83      0.82      5654\n",
            "\n",
            "CPU times: user 29.9 s, sys: 26 ms, total: 29.9 s\n",
            "Wall time: 30 s\n"
          ],
          "name": "stdout"
        }
      ]
    },
    {
      "cell_type": "markdown",
      "metadata": {
        "id": "KqPUItr37TEm",
        "colab_type": "text"
      },
      "source": [
        "**4. Xtereme Gradient Boosting (xgboost)**"
      ]
    },
    {
      "cell_type": "code",
      "metadata": {
        "id": "ZoIHzukf7sNE",
        "colab_type": "code",
        "colab": {}
      },
      "source": [
        "clf= xgb.XGBClassifier()"
      ],
      "execution_count": 0,
      "outputs": []
    },
    {
      "cell_type": "markdown",
      "metadata": {
        "id": "Do6EaKrT7yNW",
        "colab_type": "text"
      },
      "source": [
        "**4.1 XGBOOST con TF + Lemmatization**"
      ]
    },
    {
      "cell_type": "markdown",
      "metadata": {
        "id": "Y4bepBil6u1R",
        "colab_type": "text"
      },
      "source": [
        "Cross Validation (train set)"
      ]
    },
    {
      "cell_type": "code",
      "metadata": {
        "id": "lzuSu1jC6vRp",
        "colab_type": "code",
        "colab": {
          "base_uri": "https://localhost:8080/",
          "height": 51
        },
        "outputId": "9e9a3558-97f4-4286-b601-a61afad52bd0"
      },
      "source": [
        "%%time\n",
        "score = cross_val_score(clf, tf_train_lem_x, train_lem_y, cv=3)"
      ],
      "execution_count": 207,
      "outputs": [
        {
          "output_type": "stream",
          "text": [
            "CPU times: user 9min 49s, sys: 409 ms, total: 9min 49s\n",
            "Wall time: 9min 50s\n"
          ],
          "name": "stdout"
        }
      ]
    },
    {
      "cell_type": "code",
      "metadata": {
        "id": "ydBMnu2b6va9",
        "colab_type": "code",
        "colab": {
          "base_uri": "https://localhost:8080/",
          "height": 51
        },
        "outputId": "1d868b74-44a2-48dc-e108-2ab98e8ec458"
      },
      "source": [
        "print(score)\n",
        "print(score.mean())"
      ],
      "execution_count": 208,
      "outputs": [
        {
          "output_type": "stream",
          "text": [
            "[0.78876762 0.79827155 0.79690698]\n",
            "0.7946487174875562\n"
          ],
          "name": "stdout"
        }
      ]
    },
    {
      "cell_type": "markdown",
      "metadata": {
        "id": "-tSDuGBZ6vku",
        "colab_type": "text"
      },
      "source": [
        "Previsione su dati mai visti (test set)"
      ]
    },
    {
      "cell_type": "code",
      "metadata": {
        "id": "2hJCn8Z377Dc",
        "colab_type": "code",
        "colab": {
          "base_uri": "https://localhost:8080/",
          "height": 510
        },
        "outputId": "dcd73508-eb58-403a-9b98-75646d321df8"
      },
      "source": [
        "%%time\n",
        "clf.fit(tf_train_lem_x, train_lem_y)\n",
        "predicted = clf.predict(tf_test_lem_x)\n",
        "print(classification_report(test_lem_y, predicted))"
      ],
      "execution_count": 209,
      "outputs": [
        {
          "output_type": "stream",
          "text": [
            "              precision    recall  f1-score   support\n",
            "\n",
            "           0       0.83      0.72      0.77       267\n",
            "           1       0.66      0.75      0.70       269\n",
            "           2       0.71      0.80      0.75       294\n",
            "           3       0.67      0.73      0.70       299\n",
            "           4       0.83      0.79      0.81       267\n",
            "           5       0.81      0.71      0.76       309\n",
            "           6       0.80      0.85      0.82       275\n",
            "           7       0.87      0.81      0.84       299\n",
            "           8       0.92      0.86      0.89       293\n",
            "           9       0.86      0.88      0.87       313\n",
            "          10       0.95      0.87      0.91       295\n",
            "          11       0.94      0.88      0.91       301\n",
            "          12       0.55      0.73      0.62       302\n",
            "          13       0.89      0.86      0.87       288\n",
            "          14       0.86      0.86      0.86       300\n",
            "          15       0.79      0.88      0.84       302\n",
            "          16       0.79      0.81      0.80       282\n",
            "          17       0.96      0.87      0.92       310\n",
            "          18       0.77      0.74      0.76       196\n",
            "          19       0.71      0.54      0.62       193\n",
            "\n",
            "    accuracy                           0.80      5654\n",
            "   macro avg       0.81      0.80      0.80      5654\n",
            "weighted avg       0.81      0.80      0.81      5654\n",
            "\n",
            "CPU times: user 3min 48s, sys: 134 ms, total: 3min 48s\n",
            "Wall time: 3min 48s\n"
          ],
          "name": "stdout"
        }
      ]
    },
    {
      "cell_type": "markdown",
      "metadata": {
        "id": "ieL484yG8sEn",
        "colab_type": "text"
      },
      "source": [
        "**4.2 XGBOOST con TF + Stemming (Porter)**"
      ]
    },
    {
      "cell_type": "markdown",
      "metadata": {
        "id": "DTufSqE97Avq",
        "colab_type": "text"
      },
      "source": [
        "Cross Validation (train set)"
      ]
    },
    {
      "cell_type": "code",
      "metadata": {
        "id": "1P1NVmq97A9L",
        "colab_type": "code",
        "colab": {
          "base_uri": "https://localhost:8080/",
          "height": 51
        },
        "outputId": "eedc8aa7-ebd8-47cd-df4f-4ba182a45bd4"
      },
      "source": [
        "%%time\n",
        "score = cross_val_score(clf, tf_train_stem_porter_x, train_stem_porter_y, cv=3)"
      ],
      "execution_count": 210,
      "outputs": [
        {
          "output_type": "stream",
          "text": [
            "CPU times: user 8min 32s, sys: 231 ms, total: 8min 32s\n",
            "Wall time: 8min 32s\n"
          ],
          "name": "stdout"
        }
      ]
    },
    {
      "cell_type": "code",
      "metadata": {
        "id": "p36YMpdW7BFa",
        "colab_type": "code",
        "colab": {
          "base_uri": "https://localhost:8080/",
          "height": 51
        },
        "outputId": "bd3ae8f9-792c-4751-d653-be7b44b46df7"
      },
      "source": [
        "print(score)\n",
        "print(score.mean())"
      ],
      "execution_count": 211,
      "outputs": [
        {
          "output_type": "stream",
          "text": [
            "[0.79149613 0.78962929 0.79417785]\n",
            "0.7917677586130994\n"
          ],
          "name": "stdout"
        }
      ]
    },
    {
      "cell_type": "markdown",
      "metadata": {
        "id": "2_LkDp5G7BM1",
        "colab_type": "text"
      },
      "source": [
        "Previsione su dati mai visti (test set)"
      ]
    },
    {
      "cell_type": "code",
      "metadata": {
        "id": "CAoyhBS78yu2",
        "colab_type": "code",
        "colab": {
          "base_uri": "https://localhost:8080/",
          "height": 510
        },
        "outputId": "7a8c9b0f-8fd3-4810-ee8f-efbfd6c6cee8"
      },
      "source": [
        "%%time\n",
        "clf.fit(tf_train_stem_porter_x, train_stem_porter_y)\n",
        "predicted = clf.predict(tf_test_stem_porter_x)\n",
        "print(classification_report(test_stem_porter_y, predicted))"
      ],
      "execution_count": 212,
      "outputs": [
        {
          "output_type": "stream",
          "text": [
            "              precision    recall  f1-score   support\n",
            "\n",
            "           0       0.84      0.73      0.78       267\n",
            "           1       0.66      0.74      0.69       269\n",
            "           2       0.69      0.79      0.74       294\n",
            "           3       0.65      0.72      0.68       299\n",
            "           4       0.82      0.80      0.81       267\n",
            "           5       0.81      0.71      0.76       309\n",
            "           6       0.77      0.83      0.80       275\n",
            "           7       0.87      0.82      0.84       299\n",
            "           8       0.92      0.87      0.89       293\n",
            "           9       0.88      0.88      0.88       313\n",
            "          10       0.94      0.87      0.90       295\n",
            "          11       0.96      0.88      0.92       301\n",
            "          12       0.55      0.72      0.62       302\n",
            "          13       0.88      0.86      0.87       288\n",
            "          14       0.87      0.85      0.86       300\n",
            "          15       0.81      0.89      0.85       302\n",
            "          16       0.82      0.82      0.82       282\n",
            "          17       0.98      0.86      0.92       310\n",
            "          18       0.77      0.73      0.75       196\n",
            "          19       0.71      0.59      0.64       193\n",
            "\n",
            "    accuracy                           0.80      5654\n",
            "   macro avg       0.81      0.80      0.80      5654\n",
            "weighted avg       0.81      0.80      0.81      5654\n",
            "\n",
            "CPU times: user 3min 17s, sys: 114 ms, total: 3min 17s\n",
            "Wall time: 3min 18s\n"
          ],
          "name": "stdout"
        }
      ]
    },
    {
      "cell_type": "markdown",
      "metadata": {
        "id": "Ss63m7d-koGi",
        "colab_type": "text"
      },
      "source": [
        "**4.3 XGBOOST con TF + Stemming (Snowball)**"
      ]
    },
    {
      "cell_type": "markdown",
      "metadata": {
        "id": "PHWqTuiiksce",
        "colab_type": "text"
      },
      "source": [
        "Cross Validation (train set)"
      ]
    },
    {
      "cell_type": "code",
      "metadata": {
        "id": "oaIkE_KGksx4",
        "colab_type": "code",
        "colab": {
          "base_uri": "https://localhost:8080/",
          "height": 51
        },
        "outputId": "72439f2c-1c74-4c9f-8d93-df5320136051"
      },
      "source": [
        "%%time\n",
        "score = cross_val_score(clf, tf_train_stem_snowball_x, train_stem_snowball_y, cv=3)"
      ],
      "execution_count": 213,
      "outputs": [
        {
          "output_type": "stream",
          "text": [
            "CPU times: user 8min 25s, sys: 232 ms, total: 8min 25s\n",
            "Wall time: 8min 25s\n"
          ],
          "name": "stdout"
        }
      ]
    },
    {
      "cell_type": "code",
      "metadata": {
        "id": "PvZwkG_Sks9D",
        "colab_type": "code",
        "colab": {
          "base_uri": "https://localhost:8080/",
          "height": 51
        },
        "outputId": "87170ec3-1729-4346-d4b5-f4b2f64b95db"
      },
      "source": [
        "print(score)\n",
        "print(score.mean())"
      ],
      "execution_count": 214,
      "outputs": [
        {
          "output_type": "stream",
          "text": [
            "[0.78854025 0.79281328 0.79235843]\n",
            "0.7912373178496273\n"
          ],
          "name": "stdout"
        }
      ]
    },
    {
      "cell_type": "markdown",
      "metadata": {
        "id": "JhYkgGV1k1kk",
        "colab_type": "text"
      },
      "source": [
        "Previsione su dati mai visti (test set)"
      ]
    },
    {
      "cell_type": "code",
      "metadata": {
        "id": "U4pM8gw-k5jl",
        "colab_type": "code",
        "colab": {
          "base_uri": "https://localhost:8080/",
          "height": 510
        },
        "outputId": "57753ad4-da15-4b6d-a493-bb0632e24886"
      },
      "source": [
        "%%time\n",
        "clf.fit(tf_train_stem_snowball_x, train_stem_snowball_y)\n",
        "predicted = clf.predict(tf_test_stem_snowball_x)\n",
        "print(classification_report(test_stem_snowball_y, predicted))"
      ],
      "execution_count": 215,
      "outputs": [
        {
          "output_type": "stream",
          "text": [
            "              precision    recall  f1-score   support\n",
            "\n",
            "           0       0.85      0.73      0.78       267\n",
            "           1       0.66      0.72      0.69       269\n",
            "           2       0.69      0.79      0.74       294\n",
            "           3       0.65      0.73      0.69       299\n",
            "           4       0.82      0.80      0.81       267\n",
            "           5       0.81      0.71      0.75       309\n",
            "           6       0.77      0.84      0.80       275\n",
            "           7       0.88      0.82      0.85       299\n",
            "           8       0.91      0.87      0.89       293\n",
            "           9       0.89      0.88      0.88       313\n",
            "          10       0.93      0.87      0.90       295\n",
            "          11       0.96      0.88      0.92       301\n",
            "          12       0.54      0.71      0.61       302\n",
            "          13       0.89      0.86      0.88       288\n",
            "          14       0.87      0.85      0.86       300\n",
            "          15       0.81      0.88      0.84       302\n",
            "          16       0.80      0.82      0.81       282\n",
            "          17       0.97      0.87      0.92       310\n",
            "          18       0.80      0.74      0.77       196\n",
            "          19       0.69      0.58      0.63       193\n",
            "\n",
            "    accuracy                           0.80      5654\n",
            "   macro avg       0.81      0.80      0.80      5654\n",
            "weighted avg       0.81      0.80      0.81      5654\n",
            "\n",
            "CPU times: user 3min 18s, sys: 99 ms, total: 3min 18s\n",
            "Wall time: 3min 18s\n"
          ],
          "name": "stdout"
        }
      ]
    },
    {
      "cell_type": "markdown",
      "metadata": {
        "id": "cBf7CnsXlBRn",
        "colab_type": "text"
      },
      "source": [
        "**4.4 XGBOOST con TF + Stemming (Lancaster)**"
      ]
    },
    {
      "cell_type": "markdown",
      "metadata": {
        "id": "6GOD7w7blFUG",
        "colab_type": "text"
      },
      "source": [
        "Cross Validation (train set)"
      ]
    },
    {
      "cell_type": "code",
      "metadata": {
        "id": "HV5eB_VQlFoP",
        "colab_type": "code",
        "colab": {
          "base_uri": "https://localhost:8080/",
          "height": 51
        },
        "outputId": "9edcbbd0-efaf-4391-80e6-837ed8574584"
      },
      "source": [
        "%%time\n",
        "score = cross_val_score(clf, tf_train_stem_lancaster_x, train_stem_lancaster_y, cv=3)"
      ],
      "execution_count": 216,
      "outputs": [
        {
          "output_type": "stream",
          "text": [
            "CPU times: user 7min 34s, sys: 226 ms, total: 7min 34s\n",
            "Wall time: 7min 35s\n"
          ],
          "name": "stdout"
        }
      ]
    },
    {
      "cell_type": "code",
      "metadata": {
        "id": "WTnslyc9lF1V",
        "colab_type": "code",
        "colab": {
          "base_uri": "https://localhost:8080/",
          "height": 51
        },
        "outputId": "30c7c93c-c153-4465-dc88-21fddced5240"
      },
      "source": [
        "print(score)\n",
        "print(score.mean())"
      ],
      "execution_count": 217,
      "outputs": [
        {
          "output_type": "stream",
          "text": [
            "[0.78626648 0.78508074 0.7864453 ]\n",
            "0.7859308417493166\n"
          ],
          "name": "stdout"
        }
      ]
    },
    {
      "cell_type": "markdown",
      "metadata": {
        "id": "nJaLUUcllPDb",
        "colab_type": "text"
      },
      "source": [
        "Previsione su dati mai visti (test set)"
      ]
    },
    {
      "cell_type": "code",
      "metadata": {
        "id": "0evERFiKlSX3",
        "colab_type": "code",
        "colab": {
          "base_uri": "https://localhost:8080/",
          "height": 510
        },
        "outputId": "7e59e886-6dcf-400f-e9ba-58f7a424917f"
      },
      "source": [
        "%%time\n",
        "clf.fit(tf_train_stem_lancaster_x, train_stem_lancaster_y)\n",
        "predicted = clf.predict(tf_test_stem_lancaster_x)\n",
        "print(classification_report(test_stem_lancaster_y, predicted))"
      ],
      "execution_count": 218,
      "outputs": [
        {
          "output_type": "stream",
          "text": [
            "              precision    recall  f1-score   support\n",
            "\n",
            "           0       0.84      0.73      0.78       267\n",
            "           1       0.67      0.72      0.69       269\n",
            "           2       0.68      0.77      0.72       294\n",
            "           3       0.63      0.70      0.66       299\n",
            "           4       0.81      0.77      0.79       267\n",
            "           5       0.78      0.71      0.74       309\n",
            "           6       0.75      0.83      0.79       275\n",
            "           7       0.82      0.77      0.80       299\n",
            "           8       0.89      0.88      0.88       293\n",
            "           9       0.85      0.84      0.85       313\n",
            "          10       0.95      0.89      0.92       295\n",
            "          11       0.94      0.89      0.92       301\n",
            "          12       0.59      0.70      0.64       302\n",
            "          13       0.84      0.85      0.85       288\n",
            "          14       0.87      0.84      0.85       300\n",
            "          15       0.75      0.87      0.81       302\n",
            "          16       0.79      0.81      0.80       282\n",
            "          17       0.96      0.89      0.92       310\n",
            "          18       0.79      0.70      0.74       196\n",
            "          19       0.71      0.51      0.59       193\n",
            "\n",
            "    accuracy                           0.79      5654\n",
            "   macro avg       0.80      0.78      0.79      5654\n",
            "weighted avg       0.80      0.79      0.79      5654\n",
            "\n",
            "CPU times: user 2min 58s, sys: 81 ms, total: 2min 58s\n",
            "Wall time: 2min 58s\n"
          ],
          "name": "stdout"
        }
      ]
    },
    {
      "cell_type": "markdown",
      "metadata": {
        "id": "BchDflG19I_S",
        "colab_type": "text"
      },
      "source": [
        "**4.5 XGBOOST con TF-IDF + Lemmatization**"
      ]
    },
    {
      "cell_type": "markdown",
      "metadata": {
        "id": "_X529c2Y7TUo",
        "colab_type": "text"
      },
      "source": [
        "Cross Validation (train set)"
      ]
    },
    {
      "cell_type": "code",
      "metadata": {
        "id": "DS15vDEm7Tdw",
        "colab_type": "code",
        "colab": {
          "base_uri": "https://localhost:8080/",
          "height": 51
        },
        "outputId": "c39985fc-81bf-42c9-a85b-07a333fbd909"
      },
      "source": [
        "%%time\n",
        "score = cross_val_score(clf, tfidf_train_lem_x, train_lem_y, cv=3)"
      ],
      "execution_count": 219,
      "outputs": [
        {
          "output_type": "stream",
          "text": [
            "CPU times: user 8min, sys: 206 ms, total: 8min\n",
            "Wall time: 8min\n"
          ],
          "name": "stdout"
        }
      ]
    },
    {
      "cell_type": "code",
      "metadata": {
        "id": "RhrbMv947Tl7",
        "colab_type": "code",
        "colab": {
          "base_uri": "https://localhost:8080/",
          "height": 51
        },
        "outputId": "730d6b2e-a901-4f84-86c4-320066de9be9"
      },
      "source": [
        "print(score)\n",
        "print(score.mean())"
      ],
      "execution_count": 220,
      "outputs": [
        {
          "output_type": "stream",
          "text": [
            "[0.79058663 0.79372299 0.79031158]\n",
            "0.7915403997702762\n"
          ],
          "name": "stdout"
        }
      ]
    },
    {
      "cell_type": "markdown",
      "metadata": {
        "id": "w5HTXjE_7jW1",
        "colab_type": "text"
      },
      "source": [
        "Previsione su dati mai visti (test set)"
      ]
    },
    {
      "cell_type": "code",
      "metadata": {
        "id": "_LepZkse9YGq",
        "colab_type": "code",
        "colab": {
          "base_uri": "https://localhost:8080/",
          "height": 510
        },
        "outputId": "4a380cc6-0bf4-4ce4-eb7c-43d0b75fc9f5"
      },
      "source": [
        "%%time\n",
        "clf.fit(tfidf_train_lem_x, train_lem_y)\n",
        "predicted = clf.predict(tfidf_test_lem_x)\n",
        "print(classification_report(test_lem_y, predicted))"
      ],
      "execution_count": 221,
      "outputs": [
        {
          "output_type": "stream",
          "text": [
            "              precision    recall  f1-score   support\n",
            "\n",
            "           0       0.85      0.70      0.77       267\n",
            "           1       0.65      0.74      0.69       269\n",
            "           2       0.71      0.81      0.76       294\n",
            "           3       0.67      0.72      0.69       299\n",
            "           4       0.82      0.79      0.81       267\n",
            "           5       0.83      0.72      0.77       309\n",
            "           6       0.79      0.85      0.82       275\n",
            "           7       0.87      0.80      0.84       299\n",
            "           8       0.92      0.86      0.89       293\n",
            "           9       0.86      0.87      0.87       313\n",
            "          10       0.95      0.86      0.91       295\n",
            "          11       0.94      0.89      0.91       301\n",
            "          12       0.57      0.72      0.63       302\n",
            "          13       0.89      0.86      0.87       288\n",
            "          14       0.85      0.86      0.85       300\n",
            "          15       0.75      0.90      0.82       302\n",
            "          16       0.79      0.82      0.81       282\n",
            "          17       0.96      0.88      0.92       310\n",
            "          18       0.76      0.73      0.75       196\n",
            "          19       0.72      0.54      0.62       193\n",
            "\n",
            "    accuracy                           0.80      5654\n",
            "   macro avg       0.81      0.80      0.80      5654\n",
            "weighted avg       0.81      0.80      0.80      5654\n",
            "\n",
            "CPU times: user 3min 48s, sys: 96 ms, total: 3min 49s\n",
            "Wall time: 3min 49s\n"
          ],
          "name": "stdout"
        }
      ]
    },
    {
      "cell_type": "markdown",
      "metadata": {
        "id": "s9jrkr38-mAN",
        "colab_type": "text"
      },
      "source": [
        "**4.6 XGBOOST con TF-IDF + Stemming (Porter)**"
      ]
    },
    {
      "cell_type": "markdown",
      "metadata": {
        "id": "CJvJhaeU7qtg",
        "colab_type": "text"
      },
      "source": [
        "Cross Validation (train set)"
      ]
    },
    {
      "cell_type": "code",
      "metadata": {
        "id": "-kT4TF9f7q4C",
        "colab_type": "code",
        "colab": {
          "base_uri": "https://localhost:8080/",
          "height": 51
        },
        "outputId": "337a6059-b579-4269-e8c7-35f98b72dbb1"
      },
      "source": [
        "%%time\n",
        "score = cross_val_score(clf, tfidf_train_stem_porter_x, train_stem_porter_y, cv=3)"
      ],
      "execution_count": 222,
      "outputs": [
        {
          "output_type": "stream",
          "text": [
            "CPU times: user 8min 3s, sys: 188 ms, total: 8min 4s\n",
            "Wall time: 8min 4s\n"
          ],
          "name": "stdout"
        }
      ]
    },
    {
      "cell_type": "code",
      "metadata": {
        "id": "qYJ8r63i7rAj",
        "colab_type": "code",
        "colab": {
          "base_uri": "https://localhost:8080/",
          "height": 51
        },
        "outputId": "86511182-5643-47a9-e934-90036e9eeef2"
      },
      "source": [
        "print(score)\n",
        "print(score.mean())"
      ],
      "execution_count": 223,
      "outputs": [
        {
          "output_type": "stream",
          "text": [
            "[0.79035925 0.79258585 0.7880373 ]\n",
            "0.7903274687852168\n"
          ],
          "name": "stdout"
        }
      ]
    },
    {
      "cell_type": "markdown",
      "metadata": {
        "id": "mL_nGlHW7rJd",
        "colab_type": "text"
      },
      "source": [
        "Previsione su dati mai visti (test set)"
      ]
    },
    {
      "cell_type": "code",
      "metadata": {
        "id": "o6NRp4N2-tDr",
        "colab_type": "code",
        "colab": {
          "base_uri": "https://localhost:8080/",
          "height": 510
        },
        "outputId": "8eb51681-0108-45f9-b1e9-5138065864b6"
      },
      "source": [
        "%%time\n",
        "clf.fit(tfidf_train_stem_porter_x, train_stem_porter_y)\n",
        "predicted = clf.predict(tfidf_test_stem_porter_x)\n",
        "print(classification_report(test_stem_porter_y, predicted))"
      ],
      "execution_count": 224,
      "outputs": [
        {
          "output_type": "stream",
          "text": [
            "              precision    recall  f1-score   support\n",
            "\n",
            "           0       0.83      0.71      0.77       267\n",
            "           1       0.66      0.72      0.69       269\n",
            "           2       0.70      0.81      0.75       294\n",
            "           3       0.65      0.73      0.68       299\n",
            "           4       0.82      0.80      0.81       267\n",
            "           5       0.83      0.72      0.77       309\n",
            "           6       0.78      0.84      0.81       275\n",
            "           7       0.86      0.80      0.83       299\n",
            "           8       0.91      0.86      0.88       293\n",
            "           9       0.88      0.86      0.87       313\n",
            "          10       0.94      0.88      0.91       295\n",
            "          11       0.95      0.88      0.91       301\n",
            "          12       0.56      0.69      0.62       302\n",
            "          13       0.86      0.86      0.86       288\n",
            "          14       0.86      0.85      0.85       300\n",
            "          15       0.75      0.88      0.81       302\n",
            "          16       0.80      0.80      0.80       282\n",
            "          17       0.97      0.90      0.93       310\n",
            "          18       0.74      0.72      0.73       196\n",
            "          19       0.68      0.53      0.60       193\n",
            "\n",
            "    accuracy                           0.80      5654\n",
            "   macro avg       0.80      0.79      0.79      5654\n",
            "weighted avg       0.81      0.80      0.80      5654\n",
            "\n",
            "CPU times: user 3min 50s, sys: 95 ms, total: 3min 50s\n",
            "Wall time: 3min 51s\n"
          ],
          "name": "stdout"
        }
      ]
    },
    {
      "cell_type": "markdown",
      "metadata": {
        "id": "nrp0Z9lTlmbo",
        "colab_type": "text"
      },
      "source": [
        "**4.7 XGBOOST con TF-IDF + Stemming (Snowball)**\n",
        "\n"
      ]
    },
    {
      "cell_type": "markdown",
      "metadata": {
        "id": "PDCyxoKPlrif",
        "colab_type": "text"
      },
      "source": [
        "Cross Validation (train set)"
      ]
    },
    {
      "cell_type": "code",
      "metadata": {
        "id": "p_LBNP7Ylr0Y",
        "colab_type": "code",
        "colab": {
          "base_uri": "https://localhost:8080/",
          "height": 51
        },
        "outputId": "b4156775-6285-4209-90e5-60433b384086"
      },
      "source": [
        "%%time\n",
        "score = cross_val_score(clf, tfidf_train_stem_snowball_x, train_stem_snowball_y, cv=3)"
      ],
      "execution_count": 225,
      "outputs": [
        {
          "output_type": "stream",
          "text": [
            "CPU times: user 8min 3s, sys: 183 ms, total: 8min 3s\n",
            "Wall time: 8min 3s\n"
          ],
          "name": "stdout"
        }
      ]
    },
    {
      "cell_type": "code",
      "metadata": {
        "id": "oB2y-nRTlr9J",
        "colab_type": "code",
        "colab": {
          "base_uri": "https://localhost:8080/",
          "height": 51
        },
        "outputId": "fa1f23bf-c5b6-4f72-b1d4-fa0000c51e61"
      },
      "source": [
        "print(score)\n",
        "print(score.mean())"
      ],
      "execution_count": 226,
      "outputs": [
        {
          "output_type": "stream",
          "text": [
            "[0.7899045 0.790539  0.790539 ]\n",
            "0.7903275032596432\n"
          ],
          "name": "stdout"
        }
      ]
    },
    {
      "cell_type": "markdown",
      "metadata": {
        "id": "D60iZKS0lz5_",
        "colab_type": "text"
      },
      "source": [
        "Previsione su dati mai visti (test set)"
      ]
    },
    {
      "cell_type": "code",
      "metadata": {
        "id": "PEku4XaOl29d",
        "colab_type": "code",
        "colab": {
          "base_uri": "https://localhost:8080/",
          "height": 510
        },
        "outputId": "e93be0da-c7fb-4822-a1a2-20d9735e48ed"
      },
      "source": [
        "%%time\n",
        "clf.fit(tfidf_train_stem_snowball_x, train_stem_snowball_y)\n",
        "predicted = clf.predict(tfidf_test_stem_snowball_x)\n",
        "print(classification_report(test_stem_snowball_y, predicted))"
      ],
      "execution_count": 227,
      "outputs": [
        {
          "output_type": "stream",
          "text": [
            "              precision    recall  f1-score   support\n",
            "\n",
            "           0       0.85      0.72      0.77       267\n",
            "           1       0.66      0.74      0.69       269\n",
            "           2       0.69      0.79      0.74       294\n",
            "           3       0.64      0.73      0.68       299\n",
            "           4       0.83      0.80      0.81       267\n",
            "           5       0.82      0.72      0.76       309\n",
            "           6       0.77      0.83      0.80       275\n",
            "           7       0.87      0.80      0.83       299\n",
            "           8       0.91      0.86      0.88       293\n",
            "           9       0.88      0.86      0.87       313\n",
            "          10       0.95      0.87      0.91       295\n",
            "          11       0.95      0.88      0.92       301\n",
            "          12       0.55      0.68      0.61       302\n",
            "          13       0.86      0.85      0.86       288\n",
            "          14       0.86      0.85      0.86       300\n",
            "          15       0.76      0.88      0.81       302\n",
            "          16       0.79      0.80      0.80       282\n",
            "          17       0.97      0.88      0.93       310\n",
            "          18       0.75      0.73      0.74       196\n",
            "          19       0.71      0.53      0.61       193\n",
            "\n",
            "    accuracy                           0.80      5654\n",
            "   macro avg       0.80      0.79      0.79      5654\n",
            "weighted avg       0.81      0.80      0.80      5654\n",
            "\n",
            "CPU times: user 3min 51s, sys: 79 ms, total: 3min 51s\n",
            "Wall time: 3min 51s\n"
          ],
          "name": "stdout"
        }
      ]
    },
    {
      "cell_type": "markdown",
      "metadata": {
        "id": "tCUxLp_Tl-Ds",
        "colab_type": "text"
      },
      "source": [
        "**4.8 XGBOOST con TF-IDF + Stemming (Lancaster)**"
      ]
    },
    {
      "cell_type": "markdown",
      "metadata": {
        "id": "OSFJDc7ImCLO",
        "colab_type": "text"
      },
      "source": [
        "Cross Validation (train set)"
      ]
    },
    {
      "cell_type": "code",
      "metadata": {
        "id": "fURniIFXmCby",
        "colab_type": "code",
        "colab": {
          "base_uri": "https://localhost:8080/",
          "height": 51
        },
        "outputId": "ab80b867-edf5-408c-e05c-e86a93b2f05b"
      },
      "source": [
        "%%time\n",
        "score = cross_val_score(clf, tfidf_train_stem_lancaster_x, train_stem_lancaster_y, cv=3)"
      ],
      "execution_count": 228,
      "outputs": [
        {
          "output_type": "stream",
          "text": [
            "CPU times: user 8min 10s, sys: 209 ms, total: 8min 10s\n",
            "Wall time: 8min 10s\n"
          ],
          "name": "stdout"
        }
      ]
    },
    {
      "cell_type": "code",
      "metadata": {
        "id": "YDdzYypzmCod",
        "colab_type": "code",
        "colab": {
          "base_uri": "https://localhost:8080/",
          "height": 51
        },
        "outputId": "a1f40fe5-d592-4cc5-a1b5-ca31bb3138cf"
      },
      "source": [
        "print(score)\n",
        "print(score.mean())"
      ],
      "execution_count": 229,
      "outputs": [
        {
          "output_type": "stream",
          "text": [
            "[0.78171896 0.78053218 0.78030475]\n",
            "0.7808519658128145\n"
          ],
          "name": "stdout"
        }
      ]
    },
    {
      "cell_type": "markdown",
      "metadata": {
        "id": "hoxsiIOsmOkf",
        "colab_type": "text"
      },
      "source": [
        "Previsione su dati mai visti (test set)"
      ]
    },
    {
      "cell_type": "code",
      "metadata": {
        "id": "bI7xpiQOmSHv",
        "colab_type": "code",
        "colab": {
          "base_uri": "https://localhost:8080/",
          "height": 510
        },
        "outputId": "b6220560-7eb9-4f02-cb54-eb9cf87c950d"
      },
      "source": [
        "%%time\n",
        "clf.fit(tfidf_train_stem_lancaster_x, train_stem_lancaster_y)\n",
        "predicted = clf.predict(tfidf_test_stem_lancaster_x)\n",
        "print(classification_report(test_stem_lancaster_y, predicted))"
      ],
      "execution_count": 230,
      "outputs": [
        {
          "output_type": "stream",
          "text": [
            "              precision    recall  f1-score   support\n",
            "\n",
            "           0       0.83      0.70      0.76       267\n",
            "           1       0.66      0.73      0.70       269\n",
            "           2       0.70      0.79      0.74       294\n",
            "           3       0.65      0.72      0.68       299\n",
            "           4       0.80      0.78      0.79       267\n",
            "           5       0.79      0.70      0.74       309\n",
            "           6       0.75      0.83      0.79       275\n",
            "           7       0.82      0.78      0.80       299\n",
            "           8       0.89      0.87      0.88       293\n",
            "           9       0.86      0.86      0.86       313\n",
            "          10       0.95      0.88      0.92       295\n",
            "          11       0.94      0.90      0.92       301\n",
            "          12       0.59      0.69      0.63       302\n",
            "          13       0.82      0.84      0.83       288\n",
            "          14       0.88      0.85      0.86       300\n",
            "          15       0.76      0.87      0.81       302\n",
            "          16       0.79      0.80      0.79       282\n",
            "          17       0.96      0.88      0.92       310\n",
            "          18       0.74      0.70      0.72       196\n",
            "          19       0.70      0.53      0.60       193\n",
            "\n",
            "    accuracy                           0.79      5654\n",
            "   macro avg       0.79      0.78      0.79      5654\n",
            "weighted avg       0.80      0.79      0.79      5654\n",
            "\n",
            "CPU times: user 3min 58s, sys: 123 ms, total: 3min 58s\n",
            "Wall time: 3min 59s\n"
          ],
          "name": "stdout"
        }
      ]
    },
    {
      "cell_type": "markdown",
      "metadata": {
        "id": "KOkvwgEr_WBN",
        "colab_type": "text"
      },
      "source": [
        "**4.9 XGBOOST con Bigram + Lemmatization**"
      ]
    },
    {
      "cell_type": "markdown",
      "metadata": {
        "id": "dQlIX3Ov79DV",
        "colab_type": "text"
      },
      "source": [
        "Cross Validation (train set)"
      ]
    },
    {
      "cell_type": "code",
      "metadata": {
        "id": "gPc--TGS79Mk",
        "colab_type": "code",
        "colab": {
          "base_uri": "https://localhost:8080/",
          "height": 51
        },
        "outputId": "765ae226-0c3d-4258-93a8-8145d08c84c8"
      },
      "source": [
        "%%time\n",
        "score = cross_val_score(clf, bi_train_lem_x, train_lem_y, cv=3)"
      ],
      "execution_count": 231,
      "outputs": [
        {
          "output_type": "stream",
          "text": [
            "CPU times: user 9min 4s, sys: 250 ms, total: 9min 4s\n",
            "Wall time: 9min 5s\n"
          ],
          "name": "stdout"
        }
      ]
    },
    {
      "cell_type": "code",
      "metadata": {
        "id": "FmdYumGc79Ve",
        "colab_type": "code",
        "colab": {
          "base_uri": "https://localhost:8080/",
          "height": 51
        },
        "outputId": "bac89e48-54de-4c71-e3a3-969910416234"
      },
      "source": [
        "print(score)\n",
        "print(score.mean())"
      ],
      "execution_count": 232,
      "outputs": [
        {
          "output_type": "stream",
          "text": [
            "[0.79263302 0.79440528 0.79758927]\n",
            "0.794875852246607\n"
          ],
          "name": "stdout"
        }
      ]
    },
    {
      "cell_type": "markdown",
      "metadata": {
        "id": "PebXf0sm79eG",
        "colab_type": "text"
      },
      "source": [
        "Previsione su dati mai visti (test set)"
      ]
    },
    {
      "cell_type": "code",
      "metadata": {
        "id": "yeHXDsj0_bNi",
        "colab_type": "code",
        "colab": {
          "base_uri": "https://localhost:8080/",
          "height": 510
        },
        "outputId": "631c68a5-ee61-4644-ba68-93a3099fc1ec"
      },
      "source": [
        "%%time\n",
        "clf.fit(bi_train_lem_x, train_lem_y)\n",
        "predicted = clf.predict(bi_test_lem_x)\n",
        "print(classification_report(test_lem_y, predicted))"
      ],
      "execution_count": 233,
      "outputs": [
        {
          "output_type": "stream",
          "text": [
            "              precision    recall  f1-score   support\n",
            "\n",
            "           0       0.86      0.73      0.79       267\n",
            "           1       0.67      0.74      0.71       269\n",
            "           2       0.72      0.80      0.75       294\n",
            "           3       0.65      0.74      0.69       299\n",
            "           4       0.83      0.79      0.81       267\n",
            "           5       0.84      0.76      0.80       309\n",
            "           6       0.80      0.85      0.82       275\n",
            "           7       0.89      0.80      0.84       299\n",
            "           8       0.92      0.86      0.89       293\n",
            "           9       0.88      0.87      0.87       313\n",
            "          10       0.96      0.88      0.92       295\n",
            "          11       0.94      0.88      0.91       301\n",
            "          12       0.57      0.72      0.64       302\n",
            "          13       0.87      0.87      0.87       288\n",
            "          14       0.86      0.86      0.86       300\n",
            "          15       0.79      0.90      0.84       302\n",
            "          16       0.80      0.82      0.81       282\n",
            "          17       0.97      0.90      0.93       310\n",
            "          18       0.78      0.72      0.75       196\n",
            "          19       0.74      0.60      0.66       193\n",
            "\n",
            "    accuracy                           0.81      5654\n",
            "   macro avg       0.82      0.80      0.81      5654\n",
            "weighted avg       0.82      0.81      0.81      5654\n",
            "\n",
            "CPU times: user 4min 24s, sys: 132 ms, total: 4min 24s\n",
            "Wall time: 4min 25s\n"
          ],
          "name": "stdout"
        }
      ]
    },
    {
      "cell_type": "markdown",
      "metadata": {
        "id": "8FM4Bpge_pQh",
        "colab_type": "text"
      },
      "source": [
        "**4.10 XGBOOST con Bigram + Stemming (Porter)**"
      ]
    },
    {
      "cell_type": "markdown",
      "metadata": {
        "id": "5wSeFrGa8r0q",
        "colab_type": "text"
      },
      "source": [
        "Cross Validation (train set)"
      ]
    },
    {
      "cell_type": "code",
      "metadata": {
        "id": "dUNSbsuq8sB9",
        "colab_type": "code",
        "colab": {
          "base_uri": "https://localhost:8080/",
          "height": 51
        },
        "outputId": "dea5f447-51e6-4ae8-91a0-8d4608640c38"
      },
      "source": [
        "%%time\n",
        "score = cross_val_score(clf, bi_train_stem_porter_x, train_stem_porter_y, cv=3)"
      ],
      "execution_count": 234,
      "outputs": [
        {
          "output_type": "stream",
          "text": [
            "CPU times: user 9min 17s, sys: 288 ms, total: 9min 17s\n",
            "Wall time: 9min 18s\n"
          ],
          "name": "stdout"
        }
      ]
    },
    {
      "cell_type": "code",
      "metadata": {
        "id": "xpj-_76N8sJ4",
        "colab_type": "code",
        "colab": {
          "base_uri": "https://localhost:8080/",
          "height": 51
        },
        "outputId": "856c9e74-ab67-4911-f955-6cebaa277061"
      },
      "source": [
        "print(score)\n",
        "print(score.mean())"
      ],
      "execution_count": 235,
      "outputs": [
        {
          "output_type": "stream",
          "text": [
            "[0.79263302 0.79781669 0.79690698]\n",
            "0.7957855634133115\n"
          ],
          "name": "stdout"
        }
      ]
    },
    {
      "cell_type": "markdown",
      "metadata": {
        "id": "EMQsiECp8sTc",
        "colab_type": "text"
      },
      "source": [
        "Previsione su dati mai visti (test set)"
      ]
    },
    {
      "cell_type": "code",
      "metadata": {
        "id": "hJqzsu3N_uwL",
        "colab_type": "code",
        "colab": {
          "base_uri": "https://localhost:8080/",
          "height": 510
        },
        "outputId": "99abb8f5-1a52-410c-b236-d731b07d1dc3"
      },
      "source": [
        "%%time\n",
        "clf.fit(bi_train_stem_porter_x, train_stem_porter_y)\n",
        "predicted = clf.predict(bi_test_stem_porter_x)\n",
        "print(classification_report(test_stem_porter_y, predicted))"
      ],
      "execution_count": 236,
      "outputs": [
        {
          "output_type": "stream",
          "text": [
            "              precision    recall  f1-score   support\n",
            "\n",
            "           0       0.85      0.74      0.79       267\n",
            "           1       0.66      0.75      0.70       269\n",
            "           2       0.70      0.81      0.75       294\n",
            "           3       0.65      0.73      0.69       299\n",
            "           4       0.84      0.80      0.82       267\n",
            "           5       0.85      0.75      0.80       309\n",
            "           6       0.79      0.84      0.81       275\n",
            "           7       0.88      0.80      0.84       299\n",
            "           8       0.91      0.87      0.89       293\n",
            "           9       0.89      0.87      0.88       313\n",
            "          10       0.92      0.88      0.90       295\n",
            "          11       0.95      0.88      0.91       301\n",
            "          12       0.57      0.71      0.64       302\n",
            "          13       0.87      0.87      0.87       288\n",
            "          14       0.85      0.86      0.85       300\n",
            "          15       0.81      0.89      0.85       302\n",
            "          16       0.80      0.82      0.81       282\n",
            "          17       0.97      0.90      0.93       310\n",
            "          18       0.78      0.73      0.75       196\n",
            "          19       0.73      0.59      0.65       193\n",
            "\n",
            "    accuracy                           0.81      5654\n",
            "   macro avg       0.81      0.80      0.81      5654\n",
            "weighted avg       0.82      0.81      0.81      5654\n",
            "\n",
            "CPU times: user 4min 30s, sys: 114 ms, total: 4min 30s\n",
            "Wall time: 4min 30s\n"
          ],
          "name": "stdout"
        }
      ]
    },
    {
      "cell_type": "markdown",
      "metadata": {
        "id": "Pu2vnsUBmkOL",
        "colab_type": "text"
      },
      "source": [
        "**4.11 XGBOOST con Bigram + Stemming (Snowball)**"
      ]
    },
    {
      "cell_type": "markdown",
      "metadata": {
        "id": "XIr0T2rEmqjq",
        "colab_type": "text"
      },
      "source": [
        "Cross Validation (train set)"
      ]
    },
    {
      "cell_type": "code",
      "metadata": {
        "id": "4LaC9yp2ms9A",
        "colab_type": "code",
        "colab": {
          "base_uri": "https://localhost:8080/",
          "height": 51
        },
        "outputId": "446a7e71-5de9-4509-f1cc-e8962967fd91"
      },
      "source": [
        "%%time\n",
        "score = cross_val_score(clf, bi_train_stem_snowball_x, train_stem_snowball_y, cv=3)"
      ],
      "execution_count": 237,
      "outputs": [
        {
          "output_type": "stream",
          "text": [
            "CPU times: user 9min 21s, sys: 283 ms, total: 9min 22s\n",
            "Wall time: 9min 22s\n"
          ],
          "name": "stdout"
        }
      ]
    },
    {
      "cell_type": "code",
      "metadata": {
        "id": "-6UWALIvmxqk",
        "colab_type": "code",
        "colab": {
          "base_uri": "https://localhost:8080/",
          "height": 51
        },
        "outputId": "b4ffd780-c967-44af-93ac-824d11c95408"
      },
      "source": [
        "print(score)\n",
        "print(score.mean())"
      ],
      "execution_count": 238,
      "outputs": [
        {
          "output_type": "stream",
          "text": [
            "[0.79308777 0.79599727 0.79736184]\n",
            "0.7954822918833169\n"
          ],
          "name": "stdout"
        }
      ]
    },
    {
      "cell_type": "markdown",
      "metadata": {
        "id": "5TIMFfFImztV",
        "colab_type": "text"
      },
      "source": [
        "Previsione su dati mai visti (test set)"
      ]
    },
    {
      "cell_type": "code",
      "metadata": {
        "id": "etf0K0Sym6Zs",
        "colab_type": "code",
        "colab": {
          "base_uri": "https://localhost:8080/",
          "height": 510
        },
        "outputId": "995d1c24-89f2-41f4-fed5-660e47001d72"
      },
      "source": [
        "%%time\n",
        "clf.fit(bi_train_stem_snowball_x, train_stem_snowball_y)\n",
        "predicted = clf.predict(bi_test_stem_snowball_x)\n",
        "print(classification_report(test_stem_snowball_y, predicted))"
      ],
      "execution_count": 239,
      "outputs": [
        {
          "output_type": "stream",
          "text": [
            "              precision    recall  f1-score   support\n",
            "\n",
            "           0       0.87      0.74      0.80       267\n",
            "           1       0.66      0.74      0.70       269\n",
            "           2       0.71      0.81      0.76       294\n",
            "           3       0.66      0.74      0.70       299\n",
            "           4       0.85      0.81      0.83       267\n",
            "           5       0.86      0.77      0.81       309\n",
            "           6       0.80      0.84      0.82       275\n",
            "           7       0.88      0.80      0.84       299\n",
            "           8       0.91      0.87      0.89       293\n",
            "           9       0.89      0.87      0.88       313\n",
            "          10       0.94      0.89      0.92       295\n",
            "          11       0.95      0.88      0.92       301\n",
            "          12       0.58      0.72      0.64       302\n",
            "          13       0.87      0.86      0.87       288\n",
            "          14       0.86      0.86      0.86       300\n",
            "          15       0.81      0.89      0.85       302\n",
            "          16       0.80      0.82      0.81       282\n",
            "          17       0.96      0.89      0.92       310\n",
            "          18       0.76      0.73      0.75       196\n",
            "          19       0.73      0.61      0.66       193\n",
            "\n",
            "    accuracy                           0.81      5654\n",
            "   macro avg       0.82      0.81      0.81      5654\n",
            "weighted avg       0.82      0.81      0.81      5654\n",
            "\n",
            "CPU times: user 4min 34s, sys: 119 ms, total: 4min 34s\n",
            "Wall time: 4min 34s\n"
          ],
          "name": "stdout"
        }
      ]
    },
    {
      "cell_type": "markdown",
      "metadata": {
        "id": "Z_7aLs6InEd0",
        "colab_type": "text"
      },
      "source": [
        "**4.12 XGBOOST con Bigram + Stemming (Lancaster)**"
      ]
    },
    {
      "cell_type": "markdown",
      "metadata": {
        "id": "Yr7DXgOMnJLQ",
        "colab_type": "text"
      },
      "source": [
        "Cross Validation (train set)"
      ]
    },
    {
      "cell_type": "code",
      "metadata": {
        "id": "jQl_VW3UnMhP",
        "colab_type": "code",
        "colab": {
          "base_uri": "https://localhost:8080/",
          "height": 51
        },
        "outputId": "19a57400-a245-412e-8db2-710d87db8a72"
      },
      "source": [
        "%%time\n",
        "score = cross_val_score(clf, bi_train_stem_lancaster_x, train_stem_lancaster_y, cv=3)"
      ],
      "execution_count": 240,
      "outputs": [
        {
          "output_type": "stream",
          "text": [
            "CPU times: user 9min 34s, sys: 274 ms, total: 9min 34s\n",
            "Wall time: 9min 34s\n"
          ],
          "name": "stdout"
        }
      ]
    },
    {
      "cell_type": "code",
      "metadata": {
        "id": "PLrgSUfsnRBz",
        "colab_type": "code",
        "colab": {
          "base_uri": "https://localhost:8080/",
          "height": 51
        },
        "outputId": "43b49244-73c0-4f0e-be11-21c5607911ed"
      },
      "source": [
        "print(score)\n",
        "print(score.mean())"
      ],
      "execution_count": 241,
      "outputs": [
        {
          "output_type": "stream",
          "text": [
            "[0.78535698 0.79031158 0.78871958]\n",
            "0.788129379351039\n"
          ],
          "name": "stdout"
        }
      ]
    },
    {
      "cell_type": "markdown",
      "metadata": {
        "id": "hh4685n4nS9C",
        "colab_type": "text"
      },
      "source": [
        "Previsione su dati mai visti (test set)"
      ]
    },
    {
      "cell_type": "code",
      "metadata": {
        "id": "jKoYitgEnMs9",
        "colab_type": "code",
        "colab": {
          "base_uri": "https://localhost:8080/",
          "height": 510
        },
        "outputId": "4f0f1738-c436-4de2-bcba-600e48fac33a"
      },
      "source": [
        "%%time\n",
        "clf.fit(bi_train_stem_lancaster_x, train_stem_lancaster_y)\n",
        "predicted = clf.predict(bi_test_stem_lancaster_x)\n",
        "print(classification_report(test_stem_lancaster_y, predicted))"
      ],
      "execution_count": 242,
      "outputs": [
        {
          "output_type": "stream",
          "text": [
            "              precision    recall  f1-score   support\n",
            "\n",
            "           0       0.83      0.74      0.78       267\n",
            "           1       0.69      0.73      0.71       269\n",
            "           2       0.69      0.79      0.73       294\n",
            "           3       0.64      0.72      0.67       299\n",
            "           4       0.80      0.78      0.79       267\n",
            "           5       0.83      0.74      0.78       309\n",
            "           6       0.77      0.83      0.80       275\n",
            "           7       0.84      0.78      0.81       299\n",
            "           8       0.89      0.87      0.88       293\n",
            "           9       0.87      0.84      0.86       313\n",
            "          10       0.92      0.90      0.91       295\n",
            "          11       0.94      0.90      0.92       301\n",
            "          12       0.63      0.71      0.67       302\n",
            "          13       0.84      0.85      0.85       288\n",
            "          14       0.88      0.86      0.87       300\n",
            "          15       0.78      0.87      0.82       302\n",
            "          16       0.81      0.81      0.81       282\n",
            "          17       0.96      0.89      0.92       310\n",
            "          18       0.74      0.72      0.73       196\n",
            "          19       0.73      0.58      0.64       193\n",
            "\n",
            "    accuracy                           0.80      5654\n",
            "   macro avg       0.80      0.80      0.80      5654\n",
            "weighted avg       0.81      0.80      0.80      5654\n",
            "\n",
            "CPU times: user 4min 38s, sys: 120 ms, total: 4min 38s\n",
            "Wall time: 4min 38s\n"
          ],
          "name": "stdout"
        }
      ]
    },
    {
      "cell_type": "markdown",
      "metadata": {
        "id": "GsmndZPaIPoz",
        "colab_type": "text"
      },
      "source": [
        "## **Analisi dei risultati**"
      ]
    },
    {
      "cell_type": "markdown",
      "metadata": {
        "id": "8YSzavjAZRzP",
        "colab_type": "text"
      },
      "source": [
        "**Confusion matrix**"
      ]
    },
    {
      "cell_type": "markdown",
      "metadata": {
        "id": "sn5AdJhdIEVn",
        "colab_type": "text"
      },
      "source": [
        "La facciamo solo per il modello migliore in modo che possiamo analizzare le classi che vengono classificate meglio e quelle che vengono classificate peggio"
      ]
    },
    {
      "cell_type": "code",
      "metadata": {
        "id": "hkH2fEPQIjMz",
        "colab_type": "code",
        "colab": {}
      },
      "source": [
        "from sklearn.metrics import plot_confusion_matrix\n",
        "import matplotlib.pyplot as plt\n",
        "import numpy as np"
      ],
      "execution_count": 0,
      "outputs": []
    },
    {
      "cell_type": "code",
      "metadata": {
        "id": "qU5ICoLVIDgB",
        "colab_type": "code",
        "colab": {}
      },
      "source": [
        "conf_mat = confusion_matrix(test_lem_y, predicted)"
      ],
      "execution_count": 0,
      "outputs": []
    },
    {
      "cell_type": "code",
      "metadata": {
        "id": "UYWL1xk4IwQg",
        "colab_type": "code",
        "colab": {}
      },
      "source": [
        "conf_m = numpy.ndarray.tolist(conf_mat)"
      ],
      "execution_count": 0,
      "outputs": []
    },
    {
      "cell_type": "code",
      "metadata": {
        "id": "9EJgK3TUI7vk",
        "colab_type": "code",
        "colab": {}
      },
      "source": [
        "c_matrix = np.asarray(conf_m)"
      ],
      "execution_count": 0,
      "outputs": []
    },
    {
      "cell_type": "code",
      "metadata": {
        "id": "mPuYS5M5JO3z",
        "colab_type": "code",
        "colab": {}
      },
      "source": [
        "fig, ax = plot_confusion_matrix(conf_mat=prova3,\n",
        "                                colorbar=True,\n",
        "                                show_absolute=False,\n",
        "                                show_normed=True,\n",
        "                                figsize = (20,10))\n",
        "#plt.savefig('cf.png')\n",
        "plt.show()"
      ],
      "execution_count": 0,
      "outputs": []
    },
    {
      "cell_type": "markdown",
      "metadata": {
        "id": "6lFFmga4JXi4",
        "colab_type": "text"
      },
      "source": [
        "**WordCloud**"
      ]
    },
    {
      "cell_type": "code",
      "metadata": {
        "id": "pyMrdMT6LUC7",
        "colab_type": "code",
        "colab": {}
      },
      "source": [
        "import pandas as pd\n",
        "import numpy as np\n",
        "import re\n",
        "from wordcloud import WordCloud\n",
        "import matplotlib.pyplot as plt\n",
        "from matplotlib import rcParams"
      ],
      "execution_count": 0,
      "outputs": []
    },
    {
      "cell_type": "markdown",
      "metadata": {
        "id": "Uqp1CuIAJaiz",
        "colab_type": "text"
      },
      "source": [
        "Anche i word cloud li facciamo solo per la categoria migliore e quella peggiore per dimostrare che i risultati della classificazione (con l'algoritmo migliore)"
      ]
    },
    {
      "cell_type": "markdown",
      "metadata": {
        "id": "rcg2ygUzKcSr",
        "colab_type": "text"
      },
      "source": [
        "Seleziono solo il testo della categoria che viene classificata in modo migliore (es. la 9):"
      ]
    },
    {
      "cell_type": "code",
      "metadata": {
        "id": "lAWyLedqKpME",
        "colab_type": "code",
        "colab": {}
      },
      "source": [
        "prova = df[df.target == 9]"
      ],
      "execution_count": 0,
      "outputs": []
    },
    {
      "cell_type": "code",
      "metadata": {
        "id": "jCDH1S_BN_Yn",
        "colab_type": "code",
        "colab": {}
      },
      "source": [
        "text = prova.text_processed"
      ],
      "execution_count": 0,
      "outputs": []
    },
    {
      "cell_type": "code",
      "metadata": {
        "id": "iJ1CcKAmQDnl",
        "colab_type": "code",
        "colab": {}
      },
      "source": [
        "from wordcloud import WordCloud, STOPWORDS\n",
        "import matplotlib.pyplot as plt\n",
        "text = prova.text_processed.values\n",
        "wordcloud = WordCloud(\n",
        "    width = 3000,\n",
        "    height = 2000, \n",
        "    background_color = 'white', \n",
        "    stopwords = STOPWORDS).generate(str(text))\n",
        "fig = plt.figure(\n",
        "    figsize = (10, 20))\n",
        "    #facecolor = 'k')\n",
        "    #edgecolor = 'k')\n",
        "\n",
        "plt.imshow(wordcloud, interpolation = 'bilinear')\n",
        "plt.axis('off')\n",
        "plt.tight_layout(pad=0)\n",
        "plt.show()"
      ],
      "execution_count": 0,
      "outputs": []
    }
  ]
}